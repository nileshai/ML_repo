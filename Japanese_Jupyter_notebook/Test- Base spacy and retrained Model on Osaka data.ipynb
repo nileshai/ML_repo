{
 "cells": [
  {
   "cell_type": "markdown",
   "metadata": {},
   "source": [
    "## Test on Baseline Spacy"
   ]
  },
  {
   "cell_type": "code",
   "execution_count": 27,
   "metadata": {},
   "outputs": [],
   "source": [
    "import spacy\n",
    "\n",
    "nlp = spacy.load('ja_core_news_lg')"
   ]
  },
  {
   "cell_type": "code",
   "execution_count": 128,
   "metadata": {},
   "outputs": [],
   "source": [
    "import spacy\n",
    "from spacy.gold import GoldParse\n",
    "from spacy.scorer import Scorer\n",
    "\n",
    "def evaluate(nlp, examples):\n",
    "    scorer = Scorer()\n",
    "    for input_, annot in examples:\n",
    "        doc_gold_text = nlp.make_doc(input_)\n",
    "        gold = GoldParse(doc_gold_text, entities=annot)\n",
    "        pred_value = nlp(input_)\n",
    "        scorer.score(pred_value, gold)\n",
    "    return scorer.scores"
   ]
  },
  {
   "cell_type": "code",
   "execution_count": 131,
   "metadata": {},
   "outputs": [
    {
     "data": {
      "text/plain": [
       "list"
      ]
     },
     "execution_count": 131,
     "metadata": {},
     "output_type": "execute_result"
    }
   ],
   "source": [
    "f = open(\"/home/kritika/Downloads/Uniphore/Test_set/evaluate_test_format.txt\")\n",
    "examples = eval(f.read())\n",
    "type(examples)"
   ]
  },
  {
   "cell_type": "code",
   "execution_count": null,
   "metadata": {},
   "outputs": [],
   "source": [
    "results = evaluate(nlp, examples)"
   ]
  },
  {
   "cell_type": "code",
   "execution_count": 133,
   "metadata": {},
   "outputs": [
    {
     "data": {
      "text/plain": [
       "{'uas': 0.0,\n",
       " 'las': 0.0,\n",
       " 'las_per_type': {'compound': {'p': 0.0, 'r': 0.0, 'f': 0.0},\n",
       "  'nmod': {'p': 0.0, 'r': 0.0, 'f': 0.0},\n",
       "  'aux': {'p': 0.0, 'r': 0.0, 'f': 0.0},\n",
       "  'mark': {'p': 0.0, 'r': 0.0, 'f': 0.0},\n",
       "  'case': {'p': 0.0, 'r': 0.0, 'f': 0.0},\n",
       "  'obl': {'p': 0.0, 'r': 0.0, 'f': 0.0},\n",
       "  'nsubj': {'p': 0.0, 'r': 0.0, 'f': 0.0},\n",
       "  'advcl': {'p': 0.0, 'r': 0.0, 'f': 0.0},\n",
       "  'acl': {'p': 0.0, 'r': 0.0, 'f': 0.0},\n",
       "  'cop': {'p': 0.0, 'r': 0.0, 'f': 0.0},\n",
       "  'root': {'p': 0.0, 'r': 0.0, 'f': 0.0},\n",
       "  'nummod': {'p': 0.0, 'r': 0.0, 'f': 0.0},\n",
       "  'dep': {'p': 0.0, 'r': 0.0, 'f': 0.0},\n",
       "  'advmod': {'p': 0.0, 'r': 0.0, 'f': 0.0},\n",
       "  'ccomp': {'p': 0.0, 'r': 0.0, 'f': 0.0},\n",
       "  'obj': {'p': 0.0, 'r': 0.0, 'f': 0.0},\n",
       "  'fixed': {'p': 0.0, 'r': 0.0, 'f': 0.0},\n",
       "  'det': {'p': 0.0, 'r': 0.0, 'f': 0.0},\n",
       "  'dislocated': {'p': 0.0, 'r': 0.0, 'f': 0.0},\n",
       "  'cc': {'p': 0.0, 'r': 0.0, 'f': 0.0},\n",
       "  'csubj': {'p': 0.0, 'r': 0.0, 'f': 0.0},\n",
       "  'amod': {'p': 0.0, 'r': 0.0, 'f': 0.0}},\n",
       " 'ents_p': 26.161081716637273,\n",
       " 'ents_r': 72.12317666126418,\n",
       " 'ents_f': 38.39516824849008,\n",
       " 'ents_per_type': {'GPE': {'p': 71.5909090909091,\n",
       "   'r': 68.47826086956522,\n",
       "   'f': 70.0},\n",
       "  'ORDINAL': {'p': 0.0, 'r': 0.0, 'f': 0.0},\n",
       "  'FAC': {'p': 0.0, 'r': 0.0, 'f': 0.0},\n",
       "  'EVENT': {'p': 0.0, 'r': 0.0, 'f': 0.0},\n",
       "  'QUANTITY': {'p': 0.0, 'r': 0.0, 'f': 0.0},\n",
       "  'PRODUCT': {'p': 0.0, 'r': 0.0, 'f': 0.0},\n",
       "  'PERSON': {'p': 53.316326530612244,\n",
       "   'r': 77.4074074074074,\n",
       "   'f': 63.141993957703924},\n",
       "  'ORG': {'p': 46.61016949152542,\n",
       "   'r': 73.33333333333333,\n",
       "   'f': 56.99481865284973},\n",
       "  '3': {'p': 0.0, 'r': 0.0, 'f': 0.0},\n",
       "  'MONEY': {'p': 0.0, 'r': 0.0, 'f': 0.0},\n",
       "  'TIME': {'p': 0.0, 'r': 0.0, 'f': 0.0},\n",
       "  'PERCENT': {'p': 0.0, 'r': 0.0, 'f': 0.0},\n",
       "  'DATE': {'p': 0.0, 'r': 0.0, 'f': 0.0},\n",
       "  'NORP': {'p': 0.0, 'r': 0.0, 'f': 0.0},\n",
       "  'CARDINAL': {'p': 0.0, 'r': 0.0, 'f': 0.0},\n",
       "  'TITLE_AFFIX': {'p': 0.0, 'r': 0.0, 'f': 0.0},\n",
       "  'LOC': {'p': 0.0, 'r': 0.0, 'f': 0.0},\n",
       "  'ACN': {'p': 0.0, 'r': 0.0, 'f': 0.0},\n",
       "  '303': {'p': 0.0, 'r': 0.0, 'f': 0.0},\n",
       "  '2、11月のようにN、チャーリーのようにC、': {'p': 0.0, 'r': 0.0, 'f': 0.0},\n",
       "  '8': {'p': 0.0, 'r': 0.0, 'f': 0.0},\n",
       "  'ッキー、ダイアン、ダ': {'p': 0.0, 'r': 0.0, 'f': 0.0},\n",
       "  'ッカ': {'p': 0.0, 'r': 0.0, 'f': 0.0},\n",
       "  'ル': {'p': 0.0, 'r': 0.0, 'f': 0.0},\n",
       "  '.LOC': {'p': 0.0, 'r': 0.0, 'f': 0.0}},\n",
       " 'tags_acc': 0.0,\n",
       " 'token_acc': 100.0,\n",
       " 'textcat_score': 0.0,\n",
       " 'textcats_per_cat': {}}"
      ]
     },
     "execution_count": 133,
     "metadata": {},
     "output_type": "execute_result"
    }
   ],
   "source": [
    "results   "
   ]
  },
  {
   "cell_type": "markdown",
   "metadata": {},
   "source": [
    "## Test on retrained Spacy model"
   ]
  },
  {
   "cell_type": "code",
   "execution_count": 134,
   "metadata": {},
   "outputs": [
    {
     "name": "stdout",
     "output_type": "stream",
     "text": [
      "Loading from /home/kritika/Downloads/Uniphore/jpn-ner-spacy-master/exp-10232020/model\n"
     ]
    }
   ],
   "source": [
    "import json\n",
    "import spacy\n",
    "import numpy as np\n",
    "\n",
    "output_dir = r'/home/kritika/Downloads/Uniphore/jpn-ner-spacy-master/exp-10232020/model'\n",
    "print(\"Loading from\", output_dir)\n",
    "nlp2 = spacy.load(output_dir)"
   ]
  },
  {
   "cell_type": "code",
   "execution_count": null,
   "metadata": {},
   "outputs": [],
   "source": [
    "f = open(\"/home/kritika/Downloads/Uniphore/Test_set/evaluate_test_format.txt\")\n",
    "examples = eval(f.read())\n",
    "type(examples)\n",
    "results_retrained = evaluate(nlp2, examples)"
   ]
  },
  {
   "cell_type": "code",
   "execution_count": 136,
   "metadata": {},
   "outputs": [
    {
     "name": "stdout",
     "output_type": "stream",
     "text": [
      "{'uas': 0.0, 'las': 0.0, 'las_per_type': {'compound': {'p': 0.0, 'r': 0.0, 'f': 0.0}, 'nmod': {'p': 0.0, 'r': 0.0, 'f': 0.0}, 'aux': {'p': 0.0, 'r': 0.0, 'f': 0.0}, 'mark': {'p': 0.0, 'r': 0.0, 'f': 0.0}, 'case': {'p': 0.0, 'r': 0.0, 'f': 0.0}, 'obl': {'p': 0.0, 'r': 0.0, 'f': 0.0}, 'nsubj': {'p': 0.0, 'r': 0.0, 'f': 0.0}, 'advcl': {'p': 0.0, 'r': 0.0, 'f': 0.0}, 'acl': {'p': 0.0, 'r': 0.0, 'f': 0.0}, 'cop': {'p': 0.0, 'r': 0.0, 'f': 0.0}, 'root': {'p': 0.0, 'r': 0.0, 'f': 0.0}, 'nummod': {'p': 0.0, 'r': 0.0, 'f': 0.0}, 'dep': {'p': 0.0, 'r': 0.0, 'f': 0.0}, 'advmod': {'p': 0.0, 'r': 0.0, 'f': 0.0}, 'ccomp': {'p': 0.0, 'r': 0.0, 'f': 0.0}, 'obj': {'p': 0.0, 'r': 0.0, 'f': 0.0}, 'fixed': {'p': 0.0, 'r': 0.0, 'f': 0.0}, 'det': {'p': 0.0, 'r': 0.0, 'f': 0.0}, 'dislocated': {'p': 0.0, 'r': 0.0, 'f': 0.0}, 'cc': {'p': 0.0, 'r': 0.0, 'f': 0.0}, 'csubj': {'p': 0.0, 'r': 0.0, 'f': 0.0}, 'amod': {'p': 0.0, 'r': 0.0, 'f': 0.0}}, 'ents_p': 45.54079696394687, 'ents_r': 77.79578606158833, 'ents_f': 57.45062836624775, 'ents_per_type': {'GPE': {'p': 55.64853556485355, 'r': 72.28260869565217, 'f': 62.884160756501174}, 'ORG': {'p': 46.7479674796748, 'r': 76.66666666666667, 'f': 58.08080808080809}, 'FAC': {'p': 0.0, 'r': 0.0, 'f': 0.0}, 'PERSON': {'p': 43.12267657992565, 'r': 85.92592592592592, 'f': 57.425742574257434}, '3': {'p': 0.0, 'r': 0.0, 'f': 0.0}, 'QUANTITY': {'p': 0.0, 'r': 0.0, 'f': 0.0}, 'MONEY': {'p': 0.0, 'r': 0.0, 'f': 0.0}, 'ACN': {'p': 0.0, 'r': 0.0, 'f': 0.0}, '303': {'p': 0.0, 'r': 0.0, 'f': 0.0}, 'ORDINAL': {'p': 0.0, 'r': 0.0, 'f': 0.0}, '2、11月のようにN、チャーリーのようにC、': {'p': 0.0, 'r': 0.0, 'f': 0.0}, '8': {'p': 0.0, 'r': 0.0, 'f': 0.0}, 'ッキー、ダイアン、ダ': {'p': 0.0, 'r': 0.0, 'f': 0.0}, 'ッカ': {'p': 0.0, 'r': 0.0, 'f': 0.0}, 'ル': {'p': 0.0, 'r': 0.0, 'f': 0.0}, '.LOC': {'p': 0.0, 'r': 0.0, 'f': 0.0}}, 'tags_acc': 0.0, 'token_acc': 100.0, 'textcat_score': 0.0, 'textcats_per_cat': {}}\n"
     ]
    }
   ],
   "source": [
    "print(results_retrained)"
   ]
  },
  {
   "cell_type": "code",
   "execution_count": null,
   "metadata": {},
   "outputs": [],
   "source": []
  }
 ],
 "metadata": {
  "kernelspec": {
   "display_name": "Python 3",
   "language": "python",
   "name": "python3"
  },
  "language_info": {
   "codemirror_mode": {
    "name": "ipython",
    "version": 3
   },
   "file_extension": ".py",
   "mimetype": "text/x-python",
   "name": "python",
   "nbconvert_exporter": "python",
   "pygments_lexer": "ipython3",
   "version": "3.7.7"
  }
 },
 "nbformat": 4,
 "nbformat_minor": 4
}
