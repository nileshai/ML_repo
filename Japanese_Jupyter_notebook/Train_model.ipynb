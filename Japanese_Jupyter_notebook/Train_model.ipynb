{
 "cells": [
  {
   "cell_type": "markdown",
   "metadata": {},
   "source": [
    "## Retrain with 3 entities - PERSON, ORG, GPE"
   ]
  },
  {
   "cell_type": "code",
   "execution_count": 1,
   "metadata": {},
   "outputs": [],
   "source": [
    "import json\n",
    "import spacy\n",
    "import numpy as np\n",
    "nlp = spacy.load('ja_core_news_lg')"
   ]
  },
  {
   "cell_type": "code",
   "execution_count": null,
   "metadata": {},
   "outputs": [],
   "source": [
    "def spacy_retrain(train_data_file, new_model_location):\n",
    "    with open(train_data_file, mode='r', encoding='utf8') as train_file:\n",
    "        train_json = json.load(train_file)\n",
    "    train_data = train_json[\"train_data\"]\n",
    "\n",
    "    # For reproducing same results during multiple run\n",
    "    s = 999\n",
    "    np.random.seed(s)\n",
    "    spacy.util.fix_random_seed(s)\n",
    "\n",
    "    other_pipes = [pipe for pipe in nlp.pipe_names if pipe != \"ner\"]\n",
    "    print(f'[OtherPipes] = {other_pipes} will be disabled')\n",
    "\n",
    "    X = []\n",
    "    y = []\n",
    "    for text, annotations in train_data:\n",
    "        X.append(text)\n",
    "        y.append(annotations)\n",
    "\n",
    "    model = nlp\n",
    "    n_iter = 50\n",
    "    with nlp.disable_pipes(*other_pipes):  # only train ner\n",
    "        if model is None:\n",
    "            optimizer = nlp.begin_training()\n",
    "        else:\n",
    "            optimizer = nlp.resume_training()\n",
    "        for i in range(n_iter):\n",
    "            losses = {}\n",
    "            nlp.update(X, y, sgd=optimizer, drop=0.5, losses=losses)\n",
    "            # nlp.entity.update(d, g)\n",
    "            print(\"Losses\", losses)\n",
    "\n",
    "    nlp.to_disk(new_model_location)  \n",
    "\n",
    "\n",
    "train_file = r'/home/kritika/Downloads/Uniphore/Training_set/FA_train_spacy3e_format.json'\n",
    "new_model_loc = r'./model'\n",
    "spacy_retrain(train_file, new_model_loc)"
   ]
  },
  {
   "cell_type": "code",
   "execution_count": null,
   "metadata": {},
   "outputs": [],
   "source": []
  },
  {
   "cell_type": "markdown",
   "metadata": {},
   "source": [
    "## Retrain with 10 entities (2 new - \"EMAIL\", \"URL\")"
   ]
  },
  {
   "cell_type": "code",
   "execution_count": null,
   "metadata": {},
   "outputs": [],
   "source": [
    "import json\n",
    "import spacy\n",
    "import numpy as np\n",
    "nlp = spacy.load('ja_core_news_lg')"
   ]
  },
  {
   "cell_type": "code",
   "execution_count": null,
   "metadata": {},
   "outputs": [
    {
     "name": "stdout",
     "output_type": "stream",
     "text": [
      "[OtherPipes] = ['parser'] will be disabled\n"
     ]
    }
   ],
   "source": [
    "def spacy_retrain(train_data_file, new_model_location):\n",
    "    with open(train_data_file, mode='r', encoding='utf8') as train_file:\n",
    "        train_json = json.load(train_file)\n",
    "    train_data = train_json[\"train_data\"]\n",
    "\n",
    "    # For reproducing same results during multiple run\n",
    "    s = 999\n",
    "    np.random.seed(s)\n",
    "    spacy.util.fix_random_seed(s)\n",
    "    \n",
    "    \n",
    "    ner = nlp.get_pipe('ner')\n",
    "    for _, annotations in train_data:\n",
    "        for ent in annotations.get(\"entities\"):\n",
    "            ner.add_label(ent[2])\n",
    "    \n",
    "    other_pipes = [pipe for pipe in nlp.pipe_names if pipe != \"ner\"]\n",
    "    print(f'[OtherPipes] = {other_pipes} will be disabled')\n",
    "\n",
    "    X = []\n",
    "    y = []\n",
    "    for text, annotations in train_data:\n",
    "        X.append(text)\n",
    "        y.append(annotations)\n",
    "\n",
    "    model = nlp\n",
    "    n_iter = 50\n",
    "    with nlp.disable_pipes(*other_pipes):  # only train ner\n",
    "        if model is None:\n",
    "            optimizer = nlp.begin_training()\n",
    "        else:\n",
    "            optimizer = nlp.resume_training()\n",
    "        for i in range(n_iter):\n",
    "            losses = {}\n",
    "            nlp.update(X, y, sgd=optimizer, drop=0.5, losses=losses)\n",
    "            # nlp.entity.update(d, g)\n",
    "            print(\"Losses\", losses)\n",
    "\n",
    "    nlp.to_disk(new_model_location)  \n",
    "\n",
    "\n",
    "train_file = r'/home/kritika/Downloads/Uniphore/Training_set/FA_train_spacy10e_format.json'\n",
    "new_model_loc = r'./model'\n",
    "spacy_retrain(train_file, new_model_loc)"
   ]
  },
  {
   "cell_type": "code",
   "execution_count": 1,
   "metadata": {},
   "outputs": [
    {
     "name": "stdout",
     "output_type": "stream",
     "text": [
      "Loading from /home/kritika/Downloads/Uniphore/model\n"
     ]
    }
   ],
   "source": [
    "import json\n",
    "import spacy\n",
    "import numpy as np\n",
    "\n",
    "output_dir = r'/home/kritika/Downloads/Uniphore/Training_set/model'\n",
    "print(\"Loading from\", output_dir)\n",
    "nlp2 = spacy.load(output_dir)"
   ]
  },
  {
   "cell_type": "code",
   "execution_count": 14,
   "metadata": {},
   "outputs": [
    {
     "name": "stdout",
     "output_type": "stream",
     "text": [
      "PERSON しん\n",
      "GPE 出雲大社\n",
      "PERSON 豊田喜一郎\n"
     ]
    }
   ],
   "source": [
    "test_text = \"しんちゃん, 出雲大社, 豊田喜一郎\"    # Shinchan, building name, kiichiro toyoda\n",
    "doc2 = nlp2(test_text)\n",
    "for ent in doc2.ents:\n",
    "    print(ent.label_, ent.text)"
   ]
  },
  {
   "cell_type": "code",
   "execution_count": 11,
   "metadata": {},
   "outputs": [
    {
     "name": "stdout",
     "output_type": "stream",
     "text": [
      "PERSON キョウトフ\n",
      "GPE キョウタンゴシ\n",
      "GPE タンゴチョウイエノタニ\n"
     ]
    }
   ],
   "source": [
    "test_text = \"キョウトフ, キョウタンゴシ, タンゴチョウイエノタニ, 248-1005\"   # address- 248-1005, Tangocho Ienotani, Kyotango-shi, Kyoto\n",
    "doc2 = nlp2(test_text)\n",
    "for ent in doc2.ents:\n",
    "    print(ent.label_, ent.text)    # Predicted kyoto as a name"
   ]
  },
  {
   "cell_type": "code",
   "execution_count": 4,
   "metadata": {},
   "outputs": [
    {
     "name": "stdout",
     "output_type": "stream",
     "text": [
      "3\n",
      "10\n"
     ]
    }
   ],
   "source": [
    "a = \"はい。AE-1-V-6-C。\"\n",
    "print(a.find(\"AE-1-V-6-C\"))\n",
    "print(len(\"AE-1-V-6-C\"))"
   ]
  },
  {
   "cell_type": "code",
   "execution_count": null,
   "metadata": {},
   "outputs": [],
   "source": []
  }
 ],
 "metadata": {
  "kernelspec": {
   "display_name": "Python 3",
   "language": "python",
   "name": "python3"
  },
  "language_info": {
   "codemirror_mode": {
    "name": "ipython",
    "version": 3
   },
   "file_extension": ".py",
   "mimetype": "text/x-python",
   "name": "python",
   "nbconvert_exporter": "python",
   "pygments_lexer": "ipython3",
   "version": "3.7.7"
  }
 },
 "nbformat": 4,
 "nbformat_minor": 4
}
