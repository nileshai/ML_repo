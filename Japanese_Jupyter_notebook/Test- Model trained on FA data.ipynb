{
 "cells": [
  {
   "cell_type": "markdown",
   "metadata": {},
   "source": [
    "## Test - model trained on FA data 10 iter"
   ]
  },
  {
   "cell_type": "code",
   "execution_count": 3,
   "metadata": {},
   "outputs": [
    {
     "name": "stdout",
     "output_type": "stream",
     "text": [
      "Loading from /home/kritika/Downloads/Uniphore/Training_set/Model/model\n"
     ]
    }
   ],
   "source": [
    "import json\n",
    "import spacy\n",
    "import numpy as np\n",
    "\n",
    "output_dir = r'/home/kritika/Downloads/Uniphore/Training_set/Model/model_10iter'\n",
    "print(\"Loading from\", output_dir)\n",
    "nlp3 = spacy.load(output_dir)"
   ]
  },
  {
   "cell_type": "code",
   "execution_count": 4,
   "metadata": {},
   "outputs": [],
   "source": [
    "import spacy\n",
    "from spacy.gold import GoldParse\n",
    "from spacy.scorer import Scorer\n",
    "\n",
    "def evaluate(nlp, examples):\n",
    "    scorer = Scorer()\n",
    "    for input_, annot in examples:\n",
    "        doc_gold_text = nlp.make_doc(input_)\n",
    "        gold = GoldParse(doc_gold_text, entities=annot)\n",
    "        pred_value = nlp(input_)\n",
    "        scorer.score(pred_value, gold)\n",
    "    return scorer.scores"
   ]
  },
  {
   "cell_type": "code",
   "execution_count": null,
   "metadata": {},
   "outputs": [],
   "source": [
    "f = open(\"/home/kritika/Downloads/Uniphore/Test_set/evaluate_test_format.txt\")\n",
    "examples = eval(f.read())\n",
    "results_retrained = evaluate(nlp3, examples)"
   ]
  },
  {
   "cell_type": "code",
   "execution_count": 6,
   "metadata": {},
   "outputs": [
    {
     "name": "stdout",
     "output_type": "stream",
     "text": [
      "{'uas': 0.0, 'las': 0.0, 'las_per_type': {'compound': {'p': 0.0, 'r': 0.0, 'f': 0.0}, 'nmod': {'p': 0.0, 'r': 0.0, 'f': 0.0}, 'aux': {'p': 0.0, 'r': 0.0, 'f': 0.0}, 'mark': {'p': 0.0, 'r': 0.0, 'f': 0.0}, 'case': {'p': 0.0, 'r': 0.0, 'f': 0.0}, 'obl': {'p': 0.0, 'r': 0.0, 'f': 0.0}, 'nsubj': {'p': 0.0, 'r': 0.0, 'f': 0.0}, 'advcl': {'p': 0.0, 'r': 0.0, 'f': 0.0}, 'acl': {'p': 0.0, 'r': 0.0, 'f': 0.0}, 'cop': {'p': 0.0, 'r': 0.0, 'f': 0.0}, 'root': {'p': 0.0, 'r': 0.0, 'f': 0.0}, 'nummod': {'p': 0.0, 'r': 0.0, 'f': 0.0}, 'dep': {'p': 0.0, 'r': 0.0, 'f': 0.0}, 'advmod': {'p': 0.0, 'r': 0.0, 'f': 0.0}, 'ccomp': {'p': 0.0, 'r': 0.0, 'f': 0.0}, 'obj': {'p': 0.0, 'r': 0.0, 'f': 0.0}, 'fixed': {'p': 0.0, 'r': 0.0, 'f': 0.0}, 'det': {'p': 0.0, 'r': 0.0, 'f': 0.0}, 'dislocated': {'p': 0.0, 'r': 0.0, 'f': 0.0}, 'cc': {'p': 0.0, 'r': 0.0, 'f': 0.0}, 'csubj': {'p': 0.0, 'r': 0.0, 'f': 0.0}, 'amod': {'p': 0.0, 'r': 0.0, 'f': 0.0}}, 'ents_p': 67.89115646258503, 'ents_r': 80.87520259319288, 'ents_f': 73.81656804733728, 'ents_per_type': {'GPE': {'p': 78.19148936170212, 'r': 79.8913043478261, 'f': 79.03225806451614}, 'ORG': {'p': 75.9493670886076, 'r': 80.0, 'f': 77.92207792207793}, 'FAC': {'p': 0.0, 'r': 0.0, 'f': 0.0}, 'PERSON': {'p': 60.259740259740255, 'r': 85.92592592592592, 'f': 70.83969465648855}, '3': {'p': 0.0, 'r': 0.0, 'f': 0.0}, 'TITLE_AFFIX': {'p': 0.0, 'r': 0.0, 'f': 0.0}, 'ACN': {'p': 0.0, 'r': 0.0, 'f': 0.0}, '303': {'p': 0.0, 'r': 0.0, 'f': 0.0}, '2、11月のようにN、チャーリーのようにC、': {'p': 0.0, 'r': 0.0, 'f': 0.0}, '8': {'p': 0.0, 'r': 0.0, 'f': 0.0}, 'ッキー、ダイアン、ダ': {'p': 0.0, 'r': 0.0, 'f': 0.0}, 'ッカ': {'p': 0.0, 'r': 0.0, 'f': 0.0}, 'ル': {'p': 0.0, 'r': 0.0, 'f': 0.0}, '.LOC': {'p': 0.0, 'r': 0.0, 'f': 0.0}}, 'tags_acc': 0.0, 'token_acc': 100.0, 'textcat_score': 0.0, 'textcats_per_cat': {}}\n"
     ]
    }
   ],
   "source": [
    "print(results_retrained)"
   ]
  },
  {
   "cell_type": "markdown",
   "metadata": {},
   "source": [
    "## Test - model trained on FA data 30 iter"
   ]
  },
  {
   "cell_type": "code",
   "execution_count": 2,
   "metadata": {},
   "outputs": [
    {
     "name": "stdout",
     "output_type": "stream",
     "text": [
      "Loading from /home/kritika/Downloads/Uniphore/Training_set/Model/model_30iter\n"
     ]
    }
   ],
   "source": [
    "import json\n",
    "import spacy\n",
    "import numpy as np\n",
    "\n",
    "output_dir = r'/home/kritika/Downloads/Uniphore/Training_set/Model/model_30iter'\n",
    "print(\"Loading from\", output_dir)\n",
    "nlp4 = spacy.load(output_dir)"
   ]
  },
  {
   "cell_type": "code",
   "execution_count": null,
   "metadata": {},
   "outputs": [],
   "source": [
    "f = open(\"/home/kritika/Downloads/Uniphore/Test_set/evaluate_test_format.txt\")\n",
    "examples = eval(f.read())\n",
    "results_30iter = evaluate(nlp4, examples)"
   ]
  },
  {
   "cell_type": "code",
   "execution_count": 6,
   "metadata": {},
   "outputs": [
    {
     "name": "stdout",
     "output_type": "stream",
     "text": [
      "{'uas': 0.0, 'las': 0.0, 'las_per_type': {'compound': {'p': 0.0, 'r': 0.0, 'f': 0.0}, 'nmod': {'p': 0.0, 'r': 0.0, 'f': 0.0}, 'aux': {'p': 0.0, 'r': 0.0, 'f': 0.0}, 'mark': {'p': 0.0, 'r': 0.0, 'f': 0.0}, 'case': {'p': 0.0, 'r': 0.0, 'f': 0.0}, 'obl': {'p': 0.0, 'r': 0.0, 'f': 0.0}, 'nsubj': {'p': 0.0, 'r': 0.0, 'f': 0.0}, 'advcl': {'p': 0.0, 'r': 0.0, 'f': 0.0}, 'acl': {'p': 0.0, 'r': 0.0, 'f': 0.0}, 'cop': {'p': 0.0, 'r': 0.0, 'f': 0.0}, 'root': {'p': 0.0, 'r': 0.0, 'f': 0.0}, 'nummod': {'p': 0.0, 'r': 0.0, 'f': 0.0}, 'dep': {'p': 0.0, 'r': 0.0, 'f': 0.0}, 'advmod': {'p': 0.0, 'r': 0.0, 'f': 0.0}, 'ccomp': {'p': 0.0, 'r': 0.0, 'f': 0.0}, 'obj': {'p': 0.0, 'r': 0.0, 'f': 0.0}, 'fixed': {'p': 0.0, 'r': 0.0, 'f': 0.0}, 'det': {'p': 0.0, 'r': 0.0, 'f': 0.0}, 'dislocated': {'p': 0.0, 'r': 0.0, 'f': 0.0}, 'cc': {'p': 0.0, 'r': 0.0, 'f': 0.0}, 'csubj': {'p': 0.0, 'r': 0.0, 'f': 0.0}, 'amod': {'p': 0.0, 'r': 0.0, 'f': 0.0}}, 'ents_p': 81.67456556082149, 'ents_r': 83.79254457050244, 'ents_f': 82.72, 'ents_per_type': {'GPE': {'p': 80.52631578947368, 'r': 83.15217391304348, 'f': 81.81818181818183}, 'ORG': {'p': 84.61538461538461, 'r': 80.66666666666666, 'f': 82.59385665529008}, 'PERSON': {'p': 81.0, 'r': 90.0, 'f': 85.26315789473685}, '3': {'p': 0.0, 'r': 0.0, 'f': 0.0}, 'ACN': {'p': 0.0, 'r': 0.0, 'f': 0.0}, '303': {'p': 0.0, 'r': 0.0, 'f': 0.0}, '2、11月のようにN、チャーリーのようにC、': {'p': 0.0, 'r': 0.0, 'f': 0.0}, '8': {'p': 0.0, 'r': 0.0, 'f': 0.0}, 'ッキー、ダイアン、ダ': {'p': 0.0, 'r': 0.0, 'f': 0.0}, 'ッカ': {'p': 0.0, 'r': 0.0, 'f': 0.0}, 'ル': {'p': 0.0, 'r': 0.0, 'f': 0.0}, '.LOC': {'p': 0.0, 'r': 0.0, 'f': 0.0}}, 'tags_acc': 0.0, 'token_acc': 100.0, 'textcat_score': 0.0, 'textcats_per_cat': {}}\n"
     ]
    }
   ],
   "source": [
    "print(results_30iter)"
   ]
  },
  {
   "cell_type": "code",
   "execution_count": null,
   "metadata": {},
   "outputs": [],
   "source": []
  }
 ],
 "metadata": {
  "kernelspec": {
   "display_name": "Python 3",
   "language": "python",
   "name": "python3"
  },
  "language_info": {
   "codemirror_mode": {
    "name": "ipython",
    "version": 3
   },
   "file_extension": ".py",
   "mimetype": "text/x-python",
   "name": "python",
   "nbconvert_exporter": "python",
   "pygments_lexer": "ipython3",
   "version": "3.7.7"
  }
 },
 "nbformat": 4,
 "nbformat_minor": 4
}
