{
 "cells": [
  {
   "cell_type": "code",
   "execution_count": null,
   "metadata": {},
   "outputs": [],
   "source": [
    "train_data_file = r'/home/kritika/Downloads/Uniphore/Test_set/Test_set_entire_tsv.txt'"
   ]
  },
  {
   "cell_type": "code",
   "execution_count": null,
   "metadata": {},
   "outputs": [],
   "source": [
    "if train_data_file.endswith('.txt'):\n",
    "    with open(train_data_file, 'r', encoding=\"utf8\", newline=\"\") as f:\n",
    "        line_list = f.readlines()\n",
    "    train_data_list = []\n",
    "    for line in line_list:\n",
    "        line_split_list = line.split(SENTENCE_SEP)\n",
    "        train_sentence = line_split_list.pop(0).strip()\n",
    "        train_sentence = tokenize(train_sentence, \"B\")\n",
    "        entities = []   \n",
    "        nex = 0\n",
    "        for entity in line_split_list:\n",
    "            value = entity.split(ENTITY_SEP)[0].strip()\n",
    "            value = tokenize(value, \"B\")\n",
    "            entity_name = entity.split(ENTITY_SEP)[1].strip()    \n",
    "            search = train_sentence.find(value, nex)\n",
    "            \n",
    "            if search!= -1:\n",
    "                entity_tuple = (search, search + len(value), entity_name)\n",
    "                entities.append(entity_tuple)\n",
    "                \n",
    "                nex = search + len(value)\n",
    "                #print(\"next:\", nex)\n",
    "                \n",
    "        temp = (train_sentence,entities)\n",
    "        #print(temp)\n",
    "        train_data_list.append(temp)\n",
    "    print(train_data_list)"
   ]
  },
  {
   "cell_type": "code",
   "execution_count": null,
   "metadata": {},
   "outputs": [],
   "source": []
  }
 ],
 "metadata": {
  "kernelspec": {
   "display_name": "Python 3",
   "language": "python",
   "name": "python3"
  },
  "language_info": {
   "codemirror_mode": {
    "name": "ipython",
    "version": 3
   },
   "file_extension": ".py",
   "mimetype": "text/x-python",
   "name": "python",
   "nbconvert_exporter": "python",
   "pygments_lexer": "ipython3",
   "version": "3.7.7"
  }
 },
 "nbformat": 4,
 "nbformat_minor": 4
}
