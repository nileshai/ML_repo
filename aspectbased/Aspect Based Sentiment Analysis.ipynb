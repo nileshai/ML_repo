{
 "cells": [
  {
   "cell_type": "code",
   "execution_count": null,
   "metadata": {},
   "outputs": [],
   "source": []
  },
  {
   "cell_type": "code",
   "execution_count": 12,
   "metadata": {},
   "outputs": [],
   "source": [
    "import aspect_based_sentiment_analysis as absa"
   ]
  },
  {
   "cell_type": "code",
   "execution_count": 13,
   "metadata": {},
   "outputs": [],
   "source": [
    "nlp = absa.load()"
   ]
  },
  {
   "cell_type": "code",
   "execution_count": 14,
   "metadata": {},
   "outputs": [],
   "source": [
    "text = (\"We are great fans of Slack, but we wish the subscriptions \"\n",
    "        \"were more accessible to small startups.\")\n",
    "\n",
    "slack, price = nlp(text, aspects=['slack', 'price'])\n",
    "assert price.sentiment == absa.Sentiment.negative\n",
    "assert slack.sentiment == absa.Sentiment.positive"
   ]
  },
  {
   "cell_type": "code",
   "execution_count": 15,
   "metadata": {},
   "outputs": [
    {
     "name": "stdout",
     "output_type": "stream",
     "text": [
      "Sentiment.negative\n",
      "Sentiment.positive\n"
     ]
    }
   ],
   "source": [
    "print(price.sentiment)\n",
    "print(slack.sentiment)"
   ]
  },
  {
   "cell_type": "code",
   "execution_count": 16,
   "metadata": {},
   "outputs": [],
   "source": [
    "slack1 = nlp(text, aspects=['slack'])"
   ]
  },
  {
   "cell_type": "code",
   "execution_count": null,
   "metadata": {},
   "outputs": [],
   "source": []
  },
  {
   "cell_type": "code",
   "execution_count": null,
   "metadata": {},
   "outputs": [],
   "source": []
  },
  {
   "cell_type": "code",
   "execution_count": null,
   "metadata": {},
   "outputs": [],
   "source": []
  },
  {
   "cell_type": "code",
   "execution_count": null,
   "metadata": {},
   "outputs": [],
   "source": []
  },
  {
   "cell_type": "code",
   "execution_count": null,
   "metadata": {},
   "outputs": [],
   "source": []
  },
  {
   "cell_type": "code",
   "execution_count": 13,
   "metadata": {},
   "outputs": [],
   "source": [
    "import aspect_based_sentiment_analysis as absa\n",
    "\n",
    "recognizer = absa.aux_models.BasicPatternRecognizer()\n",
    "nlp = absa.load(pattern_recognizer=recognizer)"
   ]
  },
  {
   "cell_type": "code",
   "execution_count": 14,
   "metadata": {},
   "outputs": [],
   "source": [
    "text = (\"Customer: I believe got piled in manner and I if his insurance was screwing around kept declining or whatever but guys had put reservation surgery\")"
   ]
  },
  {
   "cell_type": "code",
   "execution_count": 37,
   "metadata": {},
   "outputs": [],
   "source": [
    "completed_task = nlp(text, aspects=['insurance', 'payout', 'tomorrow', 'TVs', 'accommodations', 'chocolate chip cookies', 'donation'])\n",
    "slack, price, service, security, bank, piggy, market = completed_task.examples"
   ]
  },
  {
   "cell_type": "code",
   "execution_count": 41,
   "metadata": {},
   "outputs": [
    {
     "name": "stdout",
     "output_type": "stream",
     "text": [
      "Sentiment.neutral for \"insurance\"\n",
      "Scores (neutral/negative/positive): [0.806 0.146 0.047]\n"
     ]
    }
   ],
   "source": [
    "import re\n",
    "absa.summary(slack)"
   ]
  },
  {
   "cell_type": "code",
   "execution_count": 251,
   "metadata": {},
   "outputs": [
    {
     "name": "stdout",
     "output_type": "stream",
     "text": [
      "Sentiment.negative for \"payout\"\n",
      "Scores (neutral/negative/positive): [0.457 0.494 0.049]\n"
     ]
    },
    {
     "data": {
      "text/html": [
       "<span style=\"background-color:rgba(180,180,180,1.1111111111111112);\">Importance 1.00</span> <span style=\"background-color:rgba(135,206,250,0.0375);\">megan</span> <span style=\"background-color:rgba(135,206,250,0.0375);\">:</span> <span style=\"background-color:rgba(135,206,250,0.024999999999999998);\">okay</span> <span style=\"background-color:rgba(135,206,250,0.024999999999999998);\">,</span> <span style=\"background-color:rgba(135,206,250,0.0625);\">lise</span> <span style=\"background-color:rgba(135,206,250,0.024999999999999998);\">,</span> <span style=\"background-color:rgba(135,206,250,0.0375);\">upon</span> <span style=\"background-color:rgba(135,206,250,0.075);\">checking</span> <span style=\"background-color:rgba(135,206,250,0.0375);\">here</span> <span style=\"background-color:rgba(135,206,250,0.024999999999999998);\">your</span> <span style=\"background-color:rgba(135,206,250,0.125);\">account</span> <span style=\"background-color:rgba(135,206,250,0.024999999999999998);\">i</span> <span style=\"background-color:rgba(135,206,250,0.012499999999999999);\">can</span> <span style=\"background-color:rgba(135,206,250,0.0375);\">see</span> <span style=\"background-color:rgba(135,206,250,0.0375);\">there</span> <span style=\"background-color:rgba(135,206,250,0.049999999999999996);\">is</span> <span style=\"background-color:rgba(135,206,250,0.11249999999999999);\">unexpected</span> <span style=\"background-color:rgba(135,206,250,0.25);\">error</span> <span style=\"background-color:rgba(135,206,250,0.0375);\">in</span> <span style=\"background-color:rgba(135,206,250,0.0375);\">your</span> <span style=\"background-color:rgba(135,206,250,0.2375);\">bank</span> <span style=\"background-color:rgba(135,206,250,0.049999999999999996);\">,</span> <span style=\"background-color:rgba(135,206,250,0.0625);\">and</span> <span style=\"background-color:rgba(135,206,250,0.0375);\">that</span> <span style=\"background-color:rgba(135,206,250,0.012499999999999999);\">&#x27;</span> <span style=\"background-color:rgba(135,206,250,0.024999999999999998);\">s</span> <span style=\"background-color:rgba(135,206,250,0.049999999999999996);\">the</span> <span style=\"background-color:rgba(135,206,250,0.19999999999999998);\">reason</span> <span style=\"background-color:rgba(135,206,250,0.15);\">why</span> <span style=\"background-color:rgba(135,206,250,0.19999999999999998);\">we</span> <span style=\"background-color:rgba(135,206,250,0.7625);\">cannot</span> <span style=\"background-color:rgba(135,206,250,1.25);\">release</span> <span style=\"background-color:rgba(135,206,250,0.39999999999999997);\">your</span> <span style=\"background-color:rgba(135,206,250,1.25);\">payout</span> <span style=\"background-color:rgba(135,206,250,0.18749999999999997);\">.</span><br> <span style=\"background-color:rgba(180,180,180,0.5111111111111111);\">Importance 0.46</span> <span style=\"background-color:rgba(135,206,250,0.024999999999999998);\">megan</span> <span style=\"background-color:rgba(135,206,250,0.024999999999999998);\">:</span> <span style=\"background-color:rgba(135,206,250,0.012499999999999999);\">okay</span> <span style=\"background-color:rgba(135,206,250,0.024999999999999998);\">,</span> <span style=\"background-color:rgba(135,206,250,0.0625);\">lise</span> <span style=\"background-color:rgba(135,206,250,0.012499999999999999);\">,</span> <span style=\"background-color:rgba(135,206,250,0.012499999999999999);\">upon</span> <span style=\"background-color:rgba(135,206,250,0.0375);\">checking</span> <span style=\"background-color:rgba(135,206,250,0.012499999999999999);\">here</span> <span style=\"background-color:rgba(135,206,250,0.012499999999999999);\">your</span> <span style=\"background-color:rgba(135,206,250,0.09999999999999999);\">account</span> <span style=\"background-color:rgba(135,206,250,0.012499999999999999);\">i</span> <span style=\"background-color:rgba(135,206,250,0.012499999999999999);\">can</span> <span style=\"background-color:rgba(135,206,250,0.012499999999999999);\">see</span> <span style=\"background-color:rgba(135,206,250,0.012499999999999999);\">there</span> <span style=\"background-color:rgba(135,206,250,0.012499999999999999);\">is</span> <span style=\"background-color:rgba(135,206,250,0.049999999999999996);\">unexpected</span> <span style=\"background-color:rgba(135,206,250,0.09999999999999999);\">error</span> <span style=\"background-color:rgba(135,206,250,0.024999999999999998);\">in</span> <span style=\"background-color:rgba(135,206,250,0.012499999999999999);\">your</span> <span style=\"background-color:rgba(135,206,250,0.09999999999999999);\">bank</span> <span style=\"background-color:rgba(135,206,250,0.024999999999999998);\">,</span> <span style=\"background-color:rgba(135,206,250,0.024999999999999998);\">and</span> <span style=\"background-color:rgba(135,206,250,0.012499999999999999);\">that</span> <span style=\"background-color:rgba(135,206,250,0.012499999999999999);\">&#x27;</span> <span style=\"background-color:rgba(135,206,250,0.024999999999999998);\">s</span> <span style=\"background-color:rgba(135,206,250,0.0375);\">the</span> <span style=\"background-color:rgba(135,206,250,0.049999999999999996);\">reason</span> <span style=\"background-color:rgba(135,206,250,0.0625);\">why</span> <span style=\"background-color:rgba(135,206,250,0.0625);\">we</span> <span style=\"background-color:rgba(135,206,250,0.125);\">cannot</span> <span style=\"background-color:rgba(135,206,250,0.5);\">release</span> <span style=\"background-color:rgba(135,206,250,0.2125);\">your</span> <span style=\"background-color:rgba(135,206,250,0.575);\">payout</span> <span style=\"background-color:rgba(135,206,250,0.1625);\">.</span><br> <span style=\"background-color:rgba(180,180,180,0.3333333333333333);\">Importance 0.30</span> <span style=\"background-color:rgba(135,206,250,0.024999999999999998);\">megan</span> <span style=\"background-color:rgba(135,206,250,0.049999999999999996);\">:</span> <span style=\"background-color:rgba(135,206,250,0.024999999999999998);\">okay</span> <span style=\"background-color:rgba(135,206,250,0.024999999999999998);\">,</span> <span style=\"background-color:rgba(135,206,250,0.024999999999999998);\">lise</span> <span style=\"background-color:rgba(135,206,250,0.012499999999999999);\">,</span> <span style=\"background-color:rgba(135,206,250,0.012499999999999999);\">upon</span> <span style=\"background-color:rgba(135,206,250,0.024999999999999998);\">checking</span> <span style=\"background-color:rgba(135,206,250,0.0375);\">here</span> <span style=\"background-color:rgba(135,206,250,0.0625);\">your</span> <span style=\"background-color:rgba(135,206,250,0.0375);\">account</span> <span style=\"background-color:rgba(135,206,250,0.024999999999999998);\">i</span> <span style=\"background-color:rgba(135,206,250,0.012499999999999999);\">can</span> <span style=\"background-color:rgba(135,206,250,0.024999999999999998);\">see</span> <span style=\"background-color:rgba(135,206,250,0.024999999999999998);\">there</span> <span style=\"background-color:rgba(135,206,250,0.024999999999999998);\">is</span> <span style=\"background-color:rgba(135,206,250,0.049999999999999996);\">unexpected</span> <span style=\"background-color:rgba(135,206,250,0.0625);\">error</span> <span style=\"background-color:rgba(135,206,250,0.012499999999999999);\">in</span> <span style=\"background-color:rgba(135,206,250,0.11249999999999999);\">your</span> <span style=\"background-color:rgba(135,206,250,0.0375);\">bank</span> <span style=\"background-color:rgba(135,206,250,0.024999999999999998);\">,</span> <span style=\"background-color:rgba(135,206,250,0.024999999999999998);\">and</span> <span style=\"background-color:rgba(135,206,250,0.024999999999999998);\">that</span> <span style=\"background-color:rgba(135,206,250,0.012499999999999999);\">&#x27;</span> <span style=\"background-color:rgba(135,206,250,0.024999999999999998);\">s</span> <span style=\"background-color:rgba(135,206,250,0.024999999999999998);\">the</span> <span style=\"background-color:rgba(135,206,250,0.0625);\">reason</span> <span style=\"background-color:rgba(135,206,250,0.075);\">why</span> <span style=\"background-color:rgba(135,206,250,0.2375);\">we</span> <span style=\"background-color:rgba(135,206,250,0.17500000000000002);\">cannot</span> <span style=\"background-color:rgba(135,206,250,0.18749999999999997);\">release</span> <span style=\"background-color:rgba(135,206,250,0.37499999999999994);\">your</span> <span style=\"background-color:rgba(135,206,250,0.37499999999999994);\">payout</span> <span style=\"background-color:rgba(135,206,250,0.08750000000000001);\">.</span><br> <span style=\"background-color:rgba(180,180,180,0.2111111111111111);\">Importance 0.19</span> <span style=\"background-color:rgba(135,206,250,0.012499999999999999);\">megan</span> <span style=\"background-color:rgba(135,206,250,0.024999999999999998);\">:</span> <span style=\"background-color:rgba(135,206,250,0.024999999999999998);\">okay</span> <span style=\"background-color:rgba(135,206,250,0.012499999999999999);\">,</span> <span style=\"background-color:rgba(135,206,250,0.024999999999999998);\">lise</span> <span style=\"background-color:rgba(135,206,250,0.012499999999999999);\">,</span> <span style=\"background-color:rgba(135,206,250,0.024999999999999998);\">upon</span> <span style=\"background-color:rgba(135,206,250,0.012499999999999999);\">checking</span> <span style=\"background-color:rgba(135,206,250,0.012499999999999999);\">here</span> <span style=\"background-color:rgba(135,206,250,0.024999999999999998);\">your</span> <span style=\"background-color:rgba(135,206,250,0.012499999999999999);\">account</span> <span style=\"background-color:rgba(135,206,250,0.012499999999999999);\">i</span> <span style=\"background-color:rgba(135,206,250,0.0375);\">can</span> <span style=\"background-color:rgba(135,206,250,0.024999999999999998);\">see</span> <span style=\"background-color:rgba(135,206,250,0.024999999999999998);\">there</span> <span style=\"background-color:rgba(135,206,250,0.0375);\">is</span> <span style=\"background-color:rgba(135,206,250,0.0625);\">unexpected</span> <span style=\"background-color:rgba(135,206,250,0.125);\">error</span> <span style=\"background-color:rgba(135,206,250,0.024999999999999998);\">in</span> <span style=\"background-color:rgba(135,206,250,0.0375);\">your</span> <span style=\"background-color:rgba(135,206,250,0.024999999999999998);\">bank</span> <span style=\"background-color:rgba(135,206,250,0.024999999999999998);\">,</span> <span style=\"background-color:rgba(135,206,250,0.024999999999999998);\">and</span> <span style=\"background-color:rgba(135,206,250,0.024999999999999998);\">that</span> <span style=\"background-color:rgba(135,206,250,0.024999999999999998);\">&#x27;</span> <span style=\"background-color:rgba(135,206,250,0.0375);\">s</span> <span style=\"background-color:rgba(135,206,250,0.0375);\">the</span> <span style=\"background-color:rgba(135,206,250,0.1625);\">reason</span> <span style=\"background-color:rgba(135,206,250,0.2375);\">why</span> <span style=\"background-color:rgba(135,206,250,0.2375);\">we</span> <span style=\"background-color:rgba(135,206,250,0.2375);\">cannot</span> <span style=\"background-color:rgba(135,206,250,0.2125);\">release</span> <span style=\"background-color:rgba(135,206,250,0.09999999999999999);\">your</span> <span style=\"background-color:rgba(135,206,250,0.17500000000000002);\">payout</span> <span style=\"background-color:rgba(135,206,250,0.0625);\">.</span><br> <span style=\"background-color:rgba(180,180,180,0.2111111111111111);\">Importance 0.19</span> <span style=\"background-color:rgba(135,206,250,0.024999999999999998);\">megan</span> <span style=\"background-color:rgba(135,206,250,0.024999999999999998);\">:</span> <span style=\"background-color:rgba(135,206,250,0.012499999999999999);\">okay</span> <span style=\"background-color:rgba(135,206,250,0.012499999999999999);\">,</span> <span style=\"background-color:rgba(135,206,250,0.024999999999999998);\">lise</span> <span style=\"background-color:rgba(135,206,250,0.012499999999999999);\">,</span> <span style=\"background-color:rgba(135,206,250,0.012499999999999999);\">upon</span> <span style=\"background-color:rgba(135,206,250,0.012499999999999999);\">checking</span> <span style=\"background-color:rgba(135,206,250,0.012499999999999999);\">here</span> <span style=\"background-color:rgba(135,206,250,0.012499999999999999);\">your</span> <span style=\"background-color:rgba(135,206,250,0.012499999999999999);\">account</span> <span style=\"background-color:rgba(135,206,250,0.012499999999999999);\">i</span> <span style=\"background-color:rgba(135,206,250,0.012499999999999999);\">can</span> <span style=\"background-color:rgba(135,206,250,0.024999999999999998);\">see</span> <span style=\"background-color:rgba(135,206,250,0.024999999999999998);\">there</span> <span style=\"background-color:rgba(135,206,250,0.0375);\">is</span> <span style=\"background-color:rgba(135,206,250,0.09999999999999999);\">unexpected</span> <span style=\"background-color:rgba(135,206,250,0.125);\">error</span> <span style=\"background-color:rgba(135,206,250,0.024999999999999998);\">in</span> <span style=\"background-color:rgba(135,206,250,0.012499999999999999);\">your</span> <span style=\"background-color:rgba(135,206,250,0.0375);\">bank</span> <span style=\"background-color:rgba(135,206,250,0.0375);\">,</span> <span style=\"background-color:rgba(135,206,250,0.08750000000000001);\">and</span> <span style=\"background-color:rgba(135,206,250,0.09999999999999999);\">that</span> <span style=\"background-color:rgba(135,206,250,0.012499999999999999);\">&#x27;</span> <span style=\"background-color:rgba(135,206,250,0.08750000000000001);\">s</span> <span style=\"background-color:rgba(135,206,250,0.075);\">the</span> <span style=\"background-color:rgba(135,206,250,0.22499999999999998);\">reason</span> <span style=\"background-color:rgba(135,206,250,0.2375);\">why</span> <span style=\"background-color:rgba(135,206,250,0.09999999999999999);\">we</span> <span style=\"background-color:rgba(135,206,250,0.2375);\">cannot</span> <span style=\"background-color:rgba(135,206,250,0.075);\">release</span> <span style=\"background-color:rgba(135,206,250,0.0625);\">your</span> <span style=\"background-color:rgba(135,206,250,0.22499999999999998);\">payout</span> <span style=\"background-color:rgba(135,206,250,0.0625);\">.</span><br>"
      ],
      "text/plain": [
       "<IPython.core.display.HTML object>"
      ]
     },
     "metadata": {},
     "output_type": "display_data"
    }
   ],
   "source": [
    "absa.summary(price)\n",
    "absa.display(price.review)"
   ]
  },
  {
   "cell_type": "code",
   "execution_count": 50,
   "metadata": {},
   "outputs": [
    {
     "name": "stdout",
     "output_type": "stream",
     "text": [
      "Sentiment.neutral for \"tomorrow\"\n",
      "Scores (neutral/negative/positive): [0.915 0.072 0.013]\n"
     ]
    },
    {
     "data": {
      "text/html": [
       "<span style=\"background-color:rgba(180,180,180,1.1111111111111112);\">Importance 1.00</span> <span style=\"background-color:rgba(135,206,250,0.13749999999999998);\">donna</span> <span style=\"background-color:rgba(135,206,250,0.125);\">kersey</span> <span style=\"background-color:rgba(135,206,250,0.38749999999999996);\">:</span> <span style=\"background-color:rgba(135,206,250,0.049999999999999996);\">can</span> <span style=\"background-color:rgba(135,206,250,0.024999999999999998);\">&#x27;</span> <span style=\"background-color:rgba(135,206,250,0.0375);\">t</span> <span style=\"background-color:rgba(135,206,250,0.0375);\">she</span> <span style=\"background-color:rgba(135,206,250,0.0375);\">just</span> <span style=\"background-color:rgba(135,206,250,0.024999999999999998);\">give</span> <span style=\"background-color:rgba(135,206,250,0.0375);\">you</span> <span style=\"background-color:rgba(135,206,250,0.049999999999999996);\">the</span> <span style=\"background-color:rgba(135,206,250,0.049999999999999996);\">confirmation</span> <span style=\"background-color:rgba(135,206,250,0.22499999999999998);\">?</span> <span style=\"background-color:rgba(135,206,250,0.024999999999999998);\">i</span> <span style=\"background-color:rgba(135,206,250,0.0625);\">am</span> <span style=\"background-color:rgba(135,206,250,0.125);\">telling</span> <span style=\"background-color:rgba(135,206,250,0.0625);\">you</span> <span style=\"background-color:rgba(135,206,250,0.15);\">,</span> <span style=\"background-color:rgba(135,206,250,0.13749999999999998);\">why</span> <span style=\"background-color:rgba(135,206,250,0.075);\">can</span> <span style=\"background-color:rgba(135,206,250,0.0375);\">&#x27;</span> <span style=\"background-color:rgba(135,206,250,0.049999999999999996);\">t</span> <span style=\"background-color:rgba(135,206,250,0.08750000000000001);\">nobody</span> <span style=\"background-color:rgba(135,206,250,0.049999999999999996);\">just</span> <span style=\"background-color:rgba(135,206,250,0.0375);\">give</span> <span style=\"background-color:rgba(135,206,250,0.024999999999999998);\">me</span> <span style=\"background-color:rgba(135,206,250,0.049999999999999996);\">the</span> <span style=\"background-color:rgba(135,206,250,0.15);\">fucking</span> <span style=\"background-color:rgba(135,206,250,0.0625);\">combination</span> <span style=\"background-color:rgba(135,206,250,0.075);\">so</span> <span style=\"background-color:rgba(135,206,250,0.0375);\">i</span> <span style=\"background-color:rgba(135,206,250,0.0625);\">can</span> <span style=\"background-color:rgba(135,206,250,0.024999999999999998);\">get</span> <span style=\"background-color:rgba(135,206,250,0.024999999999999998);\">on</span> <span style=\"background-color:rgba(135,206,250,0.0375);\">a</span> <span style=\"background-color:rgba(135,206,250,0.08750000000000001);\">plane</span> <span style=\"background-color:rgba(135,206,250,0.11249999999999999);\">and</span> <span style=\"background-color:rgba(135,206,250,0.049999999999999996);\">get</span> <span style=\"background-color:rgba(135,206,250,0.049999999999999996);\">the</span> <span style=\"background-color:rgba(135,206,250,0.11249999999999999);\">hell</span> <span style=\"background-color:rgba(135,206,250,0.0375);\">out</span> <span style=\"background-color:rgba(135,206,250,0.0625);\">of</span> <span style=\"background-color:rgba(135,206,250,0.11249999999999999);\">here</span> <span style=\"background-color:rgba(135,206,250,0.7499999999999999);\">?</span> <span style=\"background-color:rgba(135,206,250,0.3125);\">this</span> <span style=\"background-color:rgba(135,206,250,1.25);\">is</span> <span style=\"background-color:rgba(135,206,250,1.25);\">.</span><br> <span style=\"background-color:rgba(180,180,180,0.9);\">Importance 0.81</span> <span style=\"background-color:rgba(135,206,250,0.049999999999999996);\">donna</span> <span style=\"background-color:rgba(135,206,250,0.049999999999999996);\">kersey</span> <span style=\"background-color:rgba(135,206,250,0.0625);\">:</span> <span style=\"background-color:rgba(135,206,250,0.049999999999999996);\">can</span> <span style=\"background-color:rgba(135,206,250,0.012499999999999999);\">&#x27;</span> <span style=\"background-color:rgba(135,206,250,0.024999999999999998);\">t</span> <span style=\"background-color:rgba(135,206,250,0.024999999999999998);\">she</span> <span style=\"background-color:rgba(135,206,250,0.024999999999999998);\">just</span> <span style=\"background-color:rgba(135,206,250,0.012499999999999999);\">give</span> <span style=\"background-color:rgba(135,206,250,0.024999999999999998);\">you</span> <span style=\"background-color:rgba(135,206,250,0.012499999999999999);\">the</span> <span style=\"background-color:rgba(135,206,250,0.0625);\">confirmation</span> <span style=\"background-color:rgba(135,206,250,0.0375);\">?</span> <span style=\"background-color:rgba(135,206,250,0.024999999999999998);\">i</span> <span style=\"background-color:rgba(135,206,250,0.075);\">am</span> <span style=\"background-color:rgba(135,206,250,0.0375);\">telling</span> <span style=\"background-color:rgba(135,206,250,0.0625);\">you</span> <span style=\"background-color:rgba(135,206,250,0.0625);\">,</span> <span style=\"background-color:rgba(135,206,250,0.3);\">why</span> <span style=\"background-color:rgba(135,206,250,0.0625);\">can</span> <span style=\"background-color:rgba(135,206,250,0.024999999999999998);\">&#x27;</span> <span style=\"background-color:rgba(135,206,250,0.0375);\">t</span> <span style=\"background-color:rgba(135,206,250,0.075);\">nobody</span> <span style=\"background-color:rgba(135,206,250,0.0375);\">just</span> <span style=\"background-color:rgba(135,206,250,0.024999999999999998);\">give</span> <span style=\"background-color:rgba(135,206,250,0.024999999999999998);\">me</span> <span style=\"background-color:rgba(135,206,250,0.024999999999999998);\">the</span> <span style=\"background-color:rgba(135,206,250,0.08750000000000001);\">fucking</span> <span style=\"background-color:rgba(135,206,250,0.0625);\">combination</span> <span style=\"background-color:rgba(135,206,250,0.0375);\">so</span> <span style=\"background-color:rgba(135,206,250,0.024999999999999998);\">i</span> <span style=\"background-color:rgba(135,206,250,0.049999999999999996);\">can</span> <span style=\"background-color:rgba(135,206,250,0.024999999999999998);\">get</span> <span style=\"background-color:rgba(135,206,250,0.012499999999999999);\">on</span> <span style=\"background-color:rgba(135,206,250,0.012499999999999999);\">a</span> <span style=\"background-color:rgba(135,206,250,0.0375);\">plane</span> <span style=\"background-color:rgba(135,206,250,0.024999999999999998);\">and</span> <span style=\"background-color:rgba(135,206,250,0.049999999999999996);\">get</span> <span style=\"background-color:rgba(135,206,250,0.012499999999999999);\">the</span> <span style=\"background-color:rgba(135,206,250,0.09999999999999999);\">hell</span> <span style=\"background-color:rgba(135,206,250,0.024999999999999998);\">out</span> <span style=\"background-color:rgba(135,206,250,0.024999999999999998);\">of</span> <span style=\"background-color:rgba(135,206,250,0.075);\">here</span> <span style=\"background-color:rgba(135,206,250,0.475);\">?</span> <span style=\"background-color:rgba(135,206,250,1.0125);\">this</span> <span style=\"background-color:rgba(135,206,250,1.0125);\">is</span> <span style=\"background-color:rgba(135,206,250,0.6875);\">.</span><br> <span style=\"background-color:rgba(180,180,180,0.6777777777777777);\">Importance 0.61</span> <span style=\"background-color:rgba(135,206,250,0.08750000000000001);\">donna</span> <span style=\"background-color:rgba(135,206,250,0.049999999999999996);\">kersey</span> <span style=\"background-color:rgba(135,206,250,0.08750000000000001);\">:</span> <span style=\"background-color:rgba(135,206,250,0.0375);\">can</span> <span style=\"background-color:rgba(135,206,250,0.012499999999999999);\">&#x27;</span> <span style=\"background-color:rgba(135,206,250,0.024999999999999998);\">t</span> <span style=\"background-color:rgba(135,206,250,0.125);\">she</span> <span style=\"background-color:rgba(135,206,250,0.049999999999999996);\">just</span> <span style=\"background-color:rgba(135,206,250,0.024999999999999998);\">give</span> <span style=\"background-color:rgba(135,206,250,0.11249999999999999);\">you</span> <span style=\"background-color:rgba(135,206,250,0.0375);\">the</span> <span style=\"background-color:rgba(135,206,250,0.11249999999999999);\">confirmation</span> <span style=\"background-color:rgba(135,206,250,0.024999999999999998);\">?</span> <span style=\"background-color:rgba(135,206,250,0.075);\">i</span> <span style=\"background-color:rgba(135,206,250,0.024999999999999998);\">am</span> <span style=\"background-color:rgba(135,206,250,0.08750000000000001);\">telling</span> <span style=\"background-color:rgba(135,206,250,0.09999999999999999);\">you</span> <span style=\"background-color:rgba(135,206,250,0.36249999999999993);\">,</span> <span style=\"background-color:rgba(135,206,250,0.2375);\">why</span> <span style=\"background-color:rgba(135,206,250,0.19999999999999998);\">can</span> <span style=\"background-color:rgba(135,206,250,0.024999999999999998);\">&#x27;</span> <span style=\"background-color:rgba(135,206,250,0.09999999999999999);\">t</span> <span style=\"background-color:rgba(135,206,250,0.5125);\">nobody</span> <span style=\"background-color:rgba(135,206,250,0.2125);\">just</span> <span style=\"background-color:rgba(135,206,250,0.11249999999999999);\">give</span> <span style=\"background-color:rgba(135,206,250,0.7625);\">me</span> <span style=\"background-color:rgba(135,206,250,0.13749999999999998);\">the</span> <span style=\"background-color:rgba(135,206,250,0.2375);\">fucking</span> <span style=\"background-color:rgba(135,206,250,0.35000000000000003);\">combination</span> <span style=\"background-color:rgba(135,206,250,0.575);\">so</span> <span style=\"background-color:rgba(135,206,250,0.7625);\">i</span> <span style=\"background-color:rgba(135,206,250,0.6875);\">can</span> <span style=\"background-color:rgba(135,206,250,0.18749999999999997);\">get</span> <span style=\"background-color:rgba(135,206,250,0.11249999999999999);\">on</span> <span style=\"background-color:rgba(135,206,250,0.11249999999999999);\">a</span> <span style=\"background-color:rgba(135,206,250,0.18749999999999997);\">plane</span> <span style=\"background-color:rgba(135,206,250,0.15);\">and</span> <span style=\"background-color:rgba(135,206,250,0.1625);\">get</span> <span style=\"background-color:rgba(135,206,250,0.0375);\">the</span> <span style=\"background-color:rgba(135,206,250,0.11249999999999999);\">hell</span> <span style=\"background-color:rgba(135,206,250,0.09999999999999999);\">out</span> <span style=\"background-color:rgba(135,206,250,0.11249999999999999);\">of</span> <span style=\"background-color:rgba(135,206,250,0.11249999999999999);\">here</span> <span style=\"background-color:rgba(135,206,250,0.22499999999999998);\">?</span> <span style=\"background-color:rgba(135,206,250,0.1625);\">this</span> <span style=\"background-color:rgba(135,206,250,0.2125);\">is</span> <span style=\"background-color:rgba(135,206,250,0.26249999999999996);\">.</span><br> <span style=\"background-color:rgba(180,180,180,0.6666666666666666);\">Importance 0.60</span> <span style=\"background-color:rgba(135,206,250,0.049999999999999996);\">donna</span> <span style=\"background-color:rgba(135,206,250,0.08750000000000001);\">kersey</span> <span style=\"background-color:rgba(135,206,250,0.09999999999999999);\">:</span> <span style=\"background-color:rgba(135,206,250,0.075);\">can</span> <span style=\"background-color:rgba(135,206,250,0.024999999999999998);\">&#x27;</span> <span style=\"background-color:rgba(135,206,250,0.049999999999999996);\">t</span> <span style=\"background-color:rgba(135,206,250,0.049999999999999996);\">she</span> <span style=\"background-color:rgba(135,206,250,0.0375);\">just</span> <span style=\"background-color:rgba(135,206,250,0.0375);\">give</span> <span style=\"background-color:rgba(135,206,250,0.024999999999999998);\">you</span> <span style=\"background-color:rgba(135,206,250,0.024999999999999998);\">the</span> <span style=\"background-color:rgba(135,206,250,0.0625);\">confirmation</span> <span style=\"background-color:rgba(135,206,250,0.09999999999999999);\">?</span> <span style=\"background-color:rgba(135,206,250,0.0625);\">i</span> <span style=\"background-color:rgba(135,206,250,0.08750000000000001);\">am</span> <span style=\"background-color:rgba(135,206,250,0.3125);\">telling</span> <span style=\"background-color:rgba(135,206,250,0.17500000000000002);\">you</span> <span style=\"background-color:rgba(135,206,250,0.46249999999999997);\">,</span> <span style=\"background-color:rgba(135,206,250,0.7499999999999999);\">why</span> <span style=\"background-color:rgba(135,206,250,0.6);\">can</span> <span style=\"background-color:rgba(135,206,250,0.09999999999999999);\">&#x27;</span> <span style=\"background-color:rgba(135,206,250,0.36249999999999993);\">t</span> <span style=\"background-color:rgba(135,206,250,0.7499999999999999);\">nobody</span> <span style=\"background-color:rgba(135,206,250,0.18749999999999997);\">just</span> <span style=\"background-color:rgba(135,206,250,0.09999999999999999);\">give</span> <span style=\"background-color:rgba(135,206,250,0.0625);\">me</span> <span style=\"background-color:rgba(135,206,250,0.0625);\">the</span> <span style=\"background-color:rgba(135,206,250,0.1625);\">fucking</span> <span style=\"background-color:rgba(135,206,250,0.09999999999999999);\">combination</span> <span style=\"background-color:rgba(135,206,250,0.13749999999999998);\">so</span> <span style=\"background-color:rgba(135,206,250,0.049999999999999996);\">i</span> <span style=\"background-color:rgba(135,206,250,0.0625);\">can</span> <span style=\"background-color:rgba(135,206,250,0.0375);\">get</span> <span style=\"background-color:rgba(135,206,250,0.024999999999999998);\">on</span> <span style=\"background-color:rgba(135,206,250,0.024999999999999998);\">a</span> <span style=\"background-color:rgba(135,206,250,0.024999999999999998);\">plane</span> <span style=\"background-color:rgba(135,206,250,0.0375);\">and</span> <span style=\"background-color:rgba(135,206,250,0.0375);\">get</span> <span style=\"background-color:rgba(135,206,250,0.024999999999999998);\">the</span> <span style=\"background-color:rgba(135,206,250,0.0375);\">hell</span> <span style=\"background-color:rgba(135,206,250,0.024999999999999998);\">out</span> <span style=\"background-color:rgba(135,206,250,0.0375);\">of</span> <span style=\"background-color:rgba(135,206,250,0.049999999999999996);\">here</span> <span style=\"background-color:rgba(135,206,250,0.3125);\">?</span> <span style=\"background-color:rgba(135,206,250,0.2875);\">this</span> <span style=\"background-color:rgba(135,206,250,0.25);\">is</span> <span style=\"background-color:rgba(135,206,250,0.22499999999999998);\">.</span><br> <span style=\"background-color:rgba(180,180,180,0.39999999999999997);\">Importance 0.36</span> <span style=\"background-color:rgba(135,206,250,0.125);\">donna</span> <span style=\"background-color:rgba(135,206,250,0.18749999999999997);\">kersey</span> <span style=\"background-color:rgba(135,206,250,0.125);\">:</span> <span style=\"background-color:rgba(135,206,250,0.024999999999999998);\">can</span> <span style=\"background-color:rgba(135,206,250,0.024999999999999998);\">&#x27;</span> <span style=\"background-color:rgba(135,206,250,0.024999999999999998);\">t</span> <span style=\"background-color:rgba(135,206,250,0.049999999999999996);\">she</span> <span style=\"background-color:rgba(135,206,250,0.0375);\">just</span> <span style=\"background-color:rgba(135,206,250,0.024999999999999998);\">give</span> <span style=\"background-color:rgba(135,206,250,0.024999999999999998);\">you</span> <span style=\"background-color:rgba(135,206,250,0.049999999999999996);\">the</span> <span style=\"background-color:rgba(135,206,250,0.08750000000000001);\">confirmation</span> <span style=\"background-color:rgba(135,206,250,0.0625);\">?</span> <span style=\"background-color:rgba(135,206,250,0.024999999999999998);\">i</span> <span style=\"background-color:rgba(135,206,250,0.075);\">am</span> <span style=\"background-color:rgba(135,206,250,0.075);\">telling</span> <span style=\"background-color:rgba(135,206,250,0.0625);\">you</span> <span style=\"background-color:rgba(135,206,250,0.18749999999999997);\">,</span> <span style=\"background-color:rgba(135,206,250,0.11249999999999999);\">why</span> <span style=\"background-color:rgba(135,206,250,0.0625);\">can</span> <span style=\"background-color:rgba(135,206,250,0.049999999999999996);\">&#x27;</span> <span style=\"background-color:rgba(135,206,250,0.0625);\">t</span> <span style=\"background-color:rgba(135,206,250,0.18749999999999997);\">nobody</span> <span style=\"background-color:rgba(135,206,250,0.13749999999999998);\">just</span> <span style=\"background-color:rgba(135,206,250,0.15);\">give</span> <span style=\"background-color:rgba(135,206,250,0.15);\">me</span> <span style=\"background-color:rgba(135,206,250,0.26249999999999996);\">the</span> <span style=\"background-color:rgba(135,206,250,0.44999999999999996);\">fucking</span> <span style=\"background-color:rgba(135,206,250,0.36249999999999993);\">combination</span> <span style=\"background-color:rgba(135,206,250,0.1625);\">so</span> <span style=\"background-color:rgba(135,206,250,0.0625);\">i</span> <span style=\"background-color:rgba(135,206,250,0.0625);\">can</span> <span style=\"background-color:rgba(135,206,250,0.049999999999999996);\">get</span> <span style=\"background-color:rgba(135,206,250,0.0375);\">on</span> <span style=\"background-color:rgba(135,206,250,0.049999999999999996);\">a</span> <span style=\"background-color:rgba(135,206,250,0.125);\">plane</span> <span style=\"background-color:rgba(135,206,250,0.049999999999999996);\">and</span> <span style=\"background-color:rgba(135,206,250,0.0375);\">get</span> <span style=\"background-color:rgba(135,206,250,0.0375);\">the</span> <span style=\"background-color:rgba(135,206,250,0.09999999999999999);\">hell</span> <span style=\"background-color:rgba(135,206,250,0.049999999999999996);\">out</span> <span style=\"background-color:rgba(135,206,250,0.049999999999999996);\">of</span> <span style=\"background-color:rgba(135,206,250,0.075);\">here</span> <span style=\"background-color:rgba(135,206,250,0.125);\">?</span> <span style=\"background-color:rgba(135,206,250,0.049999999999999996);\">this</span> <span style=\"background-color:rgba(135,206,250,0.0625);\">is</span> <span style=\"background-color:rgba(135,206,250,0.125);\">.</span><br>"
      ],
      "text/plain": [
       "<IPython.core.display.HTML object>"
      ]
     },
     "metadata": {},
     "output_type": "display_data"
    }
   ],
   "source": [
    "absa.summary(service)\n",
    "absa.display(service.review)"
   ]
  },
  {
   "cell_type": "code",
   "execution_count": 12,
   "metadata": {},
   "outputs": [
    {
     "name": "stdout",
     "output_type": "stream",
     "text": [
      "Sentiment.positive for \"TVs\"\n",
      "Scores (neutral/negative/positive): [0.002 0.023 0.975]\n"
     ]
    },
    {
     "data": {
      "text/html": [
       "<span style=\"background-color:rgba(180,180,180,1.1111111111111112);\">Importance 1.00</span> <span style=\"background-color:rgba(135,206,250,0.3);\">texas</span> <span style=\"background-color:rgba(135,206,250,0.2875);\">oh</span> <span style=\"background-color:rgba(135,206,250,0.25);\">that</span> <span style=\"background-color:rgba(135,206,250,0.075);\">&#x27;</span> <span style=\"background-color:rgba(135,206,250,0.22499999999999998);\">s</span> <span style=\"background-color:rgba(135,206,250,0.2375);\">a</span> <span style=\"background-color:rgba(135,206,250,1.25);\">beautiful</span> <span style=\"background-color:rgba(135,206,250,1.25);\">place</span><br> <span style=\"background-color:rgba(180,180,180,0.7666666666666666);\">Importance 0.69</span> <span style=\"background-color:rgba(135,206,250,0.2125);\">texas</span> <span style=\"background-color:rgba(135,206,250,0.15);\">oh</span> <span style=\"background-color:rgba(135,206,250,0.17500000000000002);\">that</span> <span style=\"background-color:rgba(135,206,250,0.049999999999999996);\">&#x27;</span> <span style=\"background-color:rgba(135,206,250,0.08750000000000001);\">s</span> <span style=\"background-color:rgba(135,206,250,0.2875);\">a</span> <span style=\"background-color:rgba(135,206,250,0.8624999999999999);\">beautiful</span> <span style=\"background-color:rgba(135,206,250,0.8624999999999999);\">place</span><br> <span style=\"background-color:rgba(180,180,180,0.4222222222222222);\">Importance 0.38</span> <span style=\"background-color:rgba(135,206,250,0.475);\">texas</span> <span style=\"background-color:rgba(135,206,250,0.475);\">oh</span> <span style=\"background-color:rgba(135,206,250,0.19999999999999998);\">that</span> <span style=\"background-color:rgba(135,206,250,0.0625);\">&#x27;</span> <span style=\"background-color:rgba(135,206,250,0.075);\">s</span> <span style=\"background-color:rgba(135,206,250,0.08750000000000001);\">a</span> <span style=\"background-color:rgba(135,206,250,0.2125);\">beautiful</span> <span style=\"background-color:rgba(135,206,250,0.2125);\">place</span><br> <span style=\"background-color:rgba(180,180,180,0.3);\">Importance 0.27</span> <span style=\"background-color:rgba(135,206,250,0.3375);\">texas</span> <span style=\"background-color:rgba(135,206,250,0.3375);\">oh</span> <span style=\"background-color:rgba(135,206,250,0.27499999999999997);\">that</span> <span style=\"background-color:rgba(135,206,250,0.049999999999999996);\">&#x27;</span> <span style=\"background-color:rgba(135,206,250,0.075);\">s</span> <span style=\"background-color:rgba(135,206,250,0.0375);\">a</span> <span style=\"background-color:rgba(135,206,250,0.125);\">beautiful</span> <span style=\"background-color:rgba(135,206,250,0.125);\">place</span><br> <span style=\"background-color:rgba(180,180,180,0.26666666666666666);\">Importance 0.24</span> <span style=\"background-color:rgba(135,206,250,0.049999999999999996);\">texas</span> <span style=\"background-color:rgba(135,206,250,0.08750000000000001);\">oh</span> <span style=\"background-color:rgba(135,206,250,0.09999999999999999);\">that</span> <span style=\"background-color:rgba(135,206,250,0.0375);\">&#x27;</span> <span style=\"background-color:rgba(135,206,250,0.08750000000000001);\">s</span> <span style=\"background-color:rgba(135,206,250,0.3);\">a</span> <span style=\"background-color:rgba(135,206,250,0.3);\">beautiful</span> <span style=\"background-color:rgba(135,206,250,0.27499999999999997);\">place</span><br>"
      ],
      "text/plain": [
       "<IPython.core.display.HTML object>"
      ]
     },
     "metadata": {},
     "output_type": "display_data"
    }
   ],
   "source": [
    "absa.summary(security)\n",
    "absa.display(security.review)"
   ]
  },
  {
   "cell_type": "code",
   "execution_count": 13,
   "metadata": {},
   "outputs": [
    {
     "name": "stdout",
     "output_type": "stream",
     "text": [
      "Sentiment.positive for \"accommodations\"\n",
      "Scores (neutral/negative/positive): [0.001 0.011 0.988]\n"
     ]
    },
    {
     "data": {
      "text/html": [
       "<span style=\"background-color:rgba(180,180,180,1.1111111111111112);\">Importance 1.00</span> <span style=\"background-color:rgba(135,206,250,0.27499999999999997);\">texas</span> <span style=\"background-color:rgba(135,206,250,0.18749999999999997);\">oh</span> <span style=\"background-color:rgba(135,206,250,0.26249999999999996);\">that</span> <span style=\"background-color:rgba(135,206,250,0.075);\">&#x27;</span> <span style=\"background-color:rgba(135,206,250,0.11249999999999999);\">s</span> <span style=\"background-color:rgba(135,206,250,0.2875);\">a</span> <span style=\"background-color:rgba(135,206,250,1.25);\">beautiful</span> <span style=\"background-color:rgba(135,206,250,0.975);\">place</span><br> <span style=\"background-color:rgba(180,180,180,0.8111111111111111);\">Importance 0.73</span> <span style=\"background-color:rgba(135,206,250,0.26249999999999996);\">texas</span> <span style=\"background-color:rgba(135,206,250,0.22499999999999998);\">oh</span> <span style=\"background-color:rgba(135,206,250,0.1625);\">that</span> <span style=\"background-color:rgba(135,206,250,0.0625);\">&#x27;</span> <span style=\"background-color:rgba(135,206,250,0.1625);\">s</span> <span style=\"background-color:rgba(135,206,250,0.18749999999999997);\">a</span> <span style=\"background-color:rgba(135,206,250,0.9125);\">beautiful</span> <span style=\"background-color:rgba(135,206,250,0.9125);\">place</span><br> <span style=\"background-color:rgba(180,180,180,0.37777777777777777);\">Importance 0.34</span> <span style=\"background-color:rgba(135,206,250,0.425);\">texas</span> <span style=\"background-color:rgba(135,206,250,0.425);\">oh</span> <span style=\"background-color:rgba(135,206,250,0.2125);\">that</span> <span style=\"background-color:rgba(135,206,250,0.075);\">&#x27;</span> <span style=\"background-color:rgba(135,206,250,0.075);\">s</span> <span style=\"background-color:rgba(135,206,250,0.09999999999999999);\">a</span> <span style=\"background-color:rgba(135,206,250,0.25);\">beautiful</span> <span style=\"background-color:rgba(135,206,250,0.19999999999999998);\">place</span><br> <span style=\"background-color:rgba(180,180,180,0.26666666666666666);\">Importance 0.24</span> <span style=\"background-color:rgba(135,206,250,0.3);\">texas</span> <span style=\"background-color:rgba(135,206,250,0.3);\">oh</span> <span style=\"background-color:rgba(135,206,250,0.2125);\">that</span> <span style=\"background-color:rgba(135,206,250,0.024999999999999998);\">&#x27;</span> <span style=\"background-color:rgba(135,206,250,0.049999999999999996);\">s</span> <span style=\"background-color:rgba(135,206,250,0.024999999999999998);\">a</span> <span style=\"background-color:rgba(135,206,250,0.075);\">beautiful</span> <span style=\"background-color:rgba(135,206,250,0.0625);\">place</span><br> <span style=\"background-color:rgba(180,180,180,0.19999999999999998);\">Importance 0.18</span> <span style=\"background-color:rgba(135,206,250,0.0625);\">texas</span> <span style=\"background-color:rgba(135,206,250,0.049999999999999996);\">oh</span> <span style=\"background-color:rgba(135,206,250,0.08750000000000001);\">that</span> <span style=\"background-color:rgba(135,206,250,0.024999999999999998);\">&#x27;</span> <span style=\"background-color:rgba(135,206,250,0.075);\">s</span> <span style=\"background-color:rgba(135,206,250,0.22499999999999998);\">a</span> <span style=\"background-color:rgba(135,206,250,0.22499999999999998);\">beautiful</span> <span style=\"background-color:rgba(135,206,250,0.2125);\">place</span><br>"
      ],
      "text/plain": [
       "<IPython.core.display.HTML object>"
      ]
     },
     "metadata": {},
     "output_type": "display_data"
    }
   ],
   "source": [
    "absa.summary(bank)\n",
    "absa.display(bank.review)"
   ]
  },
  {
   "cell_type": "code",
   "execution_count": 14,
   "metadata": {},
   "outputs": [
    {
     "name": "stdout",
     "output_type": "stream",
     "text": [
      "Sentiment.positive for \"chocolate chip cookies\"\n",
      "Scores (neutral/negative/positive): [0.001 0.021 0.978]\n"
     ]
    },
    {
     "data": {
      "text/html": [
       "<span style=\"background-color:rgba(180,180,180,1.1111111111111112);\">Importance 1.00</span> <span style=\"background-color:rgba(135,206,250,0.27499999999999997);\">texas</span> <span style=\"background-color:rgba(135,206,250,0.2875);\">oh</span> <span style=\"background-color:rgba(135,206,250,0.25);\">that</span> <span style=\"background-color:rgba(135,206,250,0.08750000000000001);\">&#x27;</span> <span style=\"background-color:rgba(135,206,250,0.2125);\">s</span> <span style=\"background-color:rgba(135,206,250,0.25);\">a</span> <span style=\"background-color:rgba(135,206,250,1.1874999999999998);\">beautiful</span> <span style=\"background-color:rgba(135,206,250,1.25);\">place</span><br> <span style=\"background-color:rgba(180,180,180,0.7555555555555555);\">Importance 0.68</span> <span style=\"background-color:rgba(135,206,250,0.17500000000000002);\">texas</span> <span style=\"background-color:rgba(135,206,250,0.13749999999999998);\">oh</span> <span style=\"background-color:rgba(135,206,250,0.13749999999999998);\">that</span> <span style=\"background-color:rgba(135,206,250,0.0625);\">&#x27;</span> <span style=\"background-color:rgba(135,206,250,0.08750000000000001);\">s</span> <span style=\"background-color:rgba(135,206,250,0.25);\">a</span> <span style=\"background-color:rgba(135,206,250,0.85);\">beautiful</span> <span style=\"background-color:rgba(135,206,250,0.85);\">place</span><br> <span style=\"background-color:rgba(180,180,180,0.2777777777777778);\">Importance 0.25</span> <span style=\"background-color:rgba(135,206,250,0.3125);\">texas</span> <span style=\"background-color:rgba(135,206,250,0.3125);\">oh</span> <span style=\"background-color:rgba(135,206,250,0.13749999999999998);\">that</span> <span style=\"background-color:rgba(135,206,250,0.0375);\">&#x27;</span> <span style=\"background-color:rgba(135,206,250,0.0375);\">s</span> <span style=\"background-color:rgba(135,206,250,0.049999999999999996);\">a</span> <span style=\"background-color:rgba(135,206,250,0.15);\">beautiful</span> <span style=\"background-color:rgba(135,206,250,0.125);\">place</span><br> <span style=\"background-color:rgba(180,180,180,0.24444444444444444);\">Importance 0.22</span> <span style=\"background-color:rgba(135,206,250,0.27499999999999997);\">texas</span> <span style=\"background-color:rgba(135,206,250,0.27499999999999997);\">oh</span> <span style=\"background-color:rgba(135,206,250,0.2375);\">that</span> <span style=\"background-color:rgba(135,206,250,0.0375);\">&#x27;</span> <span style=\"background-color:rgba(135,206,250,0.049999999999999996);\">s</span> <span style=\"background-color:rgba(135,206,250,0.0375);\">a</span> <span style=\"background-color:rgba(135,206,250,0.09999999999999999);\">beautiful</span> <span style=\"background-color:rgba(135,206,250,0.125);\">place</span><br> <span style=\"background-color:rgba(180,180,180,0.2111111111111111);\">Importance 0.19</span> <span style=\"background-color:rgba(135,206,250,0.0375);\">texas</span> <span style=\"background-color:rgba(135,206,250,0.075);\">oh</span> <span style=\"background-color:rgba(135,206,250,0.08750000000000001);\">that</span> <span style=\"background-color:rgba(135,206,250,0.0375);\">&#x27;</span> <span style=\"background-color:rgba(135,206,250,0.075);\">s</span> <span style=\"background-color:rgba(135,206,250,0.2375);\">a</span> <span style=\"background-color:rgba(135,206,250,0.2375);\">beautiful</span> <span style=\"background-color:rgba(135,206,250,0.22499999999999998);\">place</span><br>"
      ],
      "text/plain": [
       "<IPython.core.display.HTML object>"
      ]
     },
     "metadata": {},
     "output_type": "display_data"
    }
   ],
   "source": [
    "absa.summary(piggy)\n",
    "absa.display(piggy.review)"
   ]
  },
  {
   "cell_type": "code",
   "execution_count": 15,
   "metadata": {},
   "outputs": [
    {
     "name": "stdout",
     "output_type": "stream",
     "text": [
      "Sentiment.positive for \"donation\"\n",
      "Scores (neutral/negative/positive): [0.005 0.186 0.809]\n"
     ]
    },
    {
     "data": {
      "text/html": [
       "<span style=\"background-color:rgba(180,180,180,1.1111111111111112);\">Importance 1.00</span> <span style=\"background-color:rgba(135,206,250,0.26249999999999996);\">texas</span> <span style=\"background-color:rgba(135,206,250,0.25);\">oh</span> <span style=\"background-color:rgba(135,206,250,0.25);\">that</span> <span style=\"background-color:rgba(135,206,250,0.075);\">&#x27;</span> <span style=\"background-color:rgba(135,206,250,0.19999999999999998);\">s</span> <span style=\"background-color:rgba(135,206,250,0.25);\">a</span> <span style=\"background-color:rgba(135,206,250,1.25);\">beautiful</span> <span style=\"background-color:rgba(135,206,250,1.25);\">place</span><br> <span style=\"background-color:rgba(180,180,180,0.35555555555555557);\">Importance 0.32</span> <span style=\"background-color:rgba(135,206,250,0.11249999999999999);\">texas</span> <span style=\"background-color:rgba(135,206,250,0.075);\">oh</span> <span style=\"background-color:rgba(135,206,250,0.075);\">that</span> <span style=\"background-color:rgba(135,206,250,0.0375);\">&#x27;</span> <span style=\"background-color:rgba(135,206,250,0.049999999999999996);\">s</span> <span style=\"background-color:rgba(135,206,250,0.125);\">a</span> <span style=\"background-color:rgba(135,206,250,0.39999999999999997);\">beautiful</span> <span style=\"background-color:rgba(135,206,250,0.39999999999999997);\">place</span><br> <span style=\"background-color:rgba(180,180,180,0.18888888888888888);\">Importance 0.17</span> <span style=\"background-color:rgba(135,206,250,0.2125);\">texas</span> <span style=\"background-color:rgba(135,206,250,0.2125);\">oh</span> <span style=\"background-color:rgba(135,206,250,0.08750000000000001);\">that</span> <span style=\"background-color:rgba(135,206,250,0.012499999999999999);\">&#x27;</span> <span style=\"background-color:rgba(135,206,250,0.024999999999999998);\">s</span> <span style=\"background-color:rgba(135,206,250,0.024999999999999998);\">a</span> <span style=\"background-color:rgba(135,206,250,0.075);\">beautiful</span> <span style=\"background-color:rgba(135,206,250,0.0625);\">place</span><br> <span style=\"background-color:rgba(180,180,180,0.16666666666666666);\">Importance 0.15</span> <span style=\"background-color:rgba(135,206,250,0.024999999999999998);\">texas</span> <span style=\"background-color:rgba(135,206,250,0.049999999999999996);\">oh</span> <span style=\"background-color:rgba(135,206,250,0.0625);\">that</span> <span style=\"background-color:rgba(135,206,250,0.024999999999999998);\">&#x27;</span> <span style=\"background-color:rgba(135,206,250,0.049999999999999996);\">s</span> <span style=\"background-color:rgba(135,206,250,0.18749999999999997);\">a</span> <span style=\"background-color:rgba(135,206,250,0.18749999999999997);\">beautiful</span> <span style=\"background-color:rgba(135,206,250,0.11249999999999999);\">place</span><br> <span style=\"background-color:rgba(180,180,180,0.14444444444444446);\">Importance 0.13</span> <span style=\"background-color:rgba(135,206,250,0.11249999999999999);\">texas</span> <span style=\"background-color:rgba(135,206,250,0.1625);\">oh</span> <span style=\"background-color:rgba(135,206,250,0.1625);\">that</span> <span style=\"background-color:rgba(135,206,250,0.024999999999999998);\">&#x27;</span> <span style=\"background-color:rgba(135,206,250,0.024999999999999998);\">s</span> <span style=\"background-color:rgba(135,206,250,0.024999999999999998);\">a</span> <span style=\"background-color:rgba(135,206,250,0.049999999999999996);\">beautiful</span> <span style=\"background-color:rgba(135,206,250,0.0375);\">place</span><br>"
      ],
      "text/plain": [
       "<IPython.core.display.HTML object>"
      ]
     },
     "metadata": {},
     "output_type": "display_data"
    }
   ],
   "source": [
    "absa.summary(market)\n",
    "absa.display(market.review)"
   ]
  },
  {
   "cell_type": "code",
   "execution_count": null,
   "metadata": {},
   "outputs": [],
   "source": []
  },
  {
   "cell_type": "code",
   "execution_count": 16,
   "metadata": {},
   "outputs": [],
   "source": [
    "text = (\"the bank bank charge me <num> pound for each direct debit that i've got a problem with\")"
   ]
  },
  {
   "cell_type": "code",
   "execution_count": 17,
   "metadata": {},
   "outputs": [],
   "source": [
    "completed_task = nlp(text, aspects=['direct debit', 'bank'])\n",
    "slack, price = completed_task.examples"
   ]
  },
  {
   "cell_type": "code",
   "execution_count": 18,
   "metadata": {},
   "outputs": [
    {
     "name": "stdout",
     "output_type": "stream",
     "text": [
      "Sentiment.neutral for \"direct debit\"\n",
      "Scores (neutral/negative/positive): [0.655 0.328 0.016]\n"
     ]
    },
    {
     "data": {
      "text/html": [
       "<span style=\"background-color:rgba(180,180,180,1.1111111111111112);\">Importance 1.00</span> <span style=\"background-color:rgba(135,206,250,0.125);\">the</span> <span style=\"background-color:rgba(135,206,250,0.15);\">bank</span> <span style=\"background-color:rgba(135,206,250,0.1625);\">bank</span> <span style=\"background-color:rgba(135,206,250,0.43749999999999994);\">charge</span> <span style=\"background-color:rgba(135,206,250,0.09999999999999999);\">me</span> <span style=\"background-color:rgba(135,206,250,0.18749999999999997);\">&lt;</span> <span style=\"background-color:rgba(135,206,250,0.125);\">num</span> <span style=\"background-color:rgba(135,206,250,0.125);\">&gt;</span> <span style=\"background-color:rgba(135,206,250,0.15);\">pound</span> <span style=\"background-color:rgba(135,206,250,0.15);\">for</span> <span style=\"background-color:rgba(135,206,250,0.26249999999999996);\">each</span> <span style=\"background-color:rgba(135,206,250,0.19999999999999998);\">direct</span> <span style=\"background-color:rgba(135,206,250,0.35000000000000003);\">debit</span> <span style=\"background-color:rgba(135,206,250,0.6);\">that</span> <span style=\"background-color:rgba(135,206,250,0.3375);\">i</span> <span style=\"background-color:rgba(135,206,250,0.11249999999999999);\">&#x27;</span> <span style=\"background-color:rgba(135,206,250,0.46249999999999997);\">ve</span> <span style=\"background-color:rgba(135,206,250,1.25);\">got</span> <span style=\"background-color:rgba(135,206,250,0.7124999999999999);\">a</span> <span style=\"background-color:rgba(135,206,250,1.25);\">problem</span> <span style=\"background-color:rgba(135,206,250,1.0374999999999999);\">with</span><br> <span style=\"background-color:rgba(180,180,180,0.5888888888888889);\">Importance 0.53</span> <span style=\"background-color:rgba(135,206,250,0.0625);\">the</span> <span style=\"background-color:rgba(135,206,250,0.075);\">bank</span> <span style=\"background-color:rgba(135,206,250,0.075);\">bank</span> <span style=\"background-color:rgba(135,206,250,0.35000000000000003);\">charge</span> <span style=\"background-color:rgba(135,206,250,0.15);\">me</span> <span style=\"background-color:rgba(135,206,250,0.08750000000000001);\">&lt;</span> <span style=\"background-color:rgba(135,206,250,0.08750000000000001);\">num</span> <span style=\"background-color:rgba(135,206,250,0.075);\">&gt;</span> <span style=\"background-color:rgba(135,206,250,0.26249999999999996);\">pound</span> <span style=\"background-color:rgba(135,206,250,0.38749999999999996);\">for</span> <span style=\"background-color:rgba(135,206,250,0.6625);\">each</span> <span style=\"background-color:rgba(135,206,250,0.6625);\">direct</span> <span style=\"background-color:rgba(135,206,250,0.425);\">debit</span> <span style=\"background-color:rgba(135,206,250,0.17500000000000002);\">that</span> <span style=\"background-color:rgba(135,206,250,0.049999999999999996);\">i</span> <span style=\"background-color:rgba(135,206,250,0.024999999999999998);\">&#x27;</span> <span style=\"background-color:rgba(135,206,250,0.0375);\">ve</span> <span style=\"background-color:rgba(135,206,250,0.0375);\">got</span> <span style=\"background-color:rgba(135,206,250,0.049999999999999996);\">a</span> <span style=\"background-color:rgba(135,206,250,0.18749999999999997);\">problem</span> <span style=\"background-color:rgba(135,206,250,0.049999999999999996);\">with</span><br> <span style=\"background-color:rgba(180,180,180,0.3666666666666667);\">Importance 0.33</span> <span style=\"background-color:rgba(135,206,250,0.0375);\">the</span> <span style=\"background-color:rgba(135,206,250,0.0625);\">bank</span> <span style=\"background-color:rgba(135,206,250,0.0625);\">bank</span> <span style=\"background-color:rgba(135,206,250,0.09999999999999999);\">charge</span> <span style=\"background-color:rgba(135,206,250,0.024999999999999998);\">me</span> <span style=\"background-color:rgba(135,206,250,0.0375);\">&lt;</span> <span style=\"background-color:rgba(135,206,250,0.0375);\">num</span> <span style=\"background-color:rgba(135,206,250,0.0375);\">&gt;</span> <span style=\"background-color:rgba(135,206,250,0.075);\">pound</span> <span style=\"background-color:rgba(135,206,250,0.125);\">for</span> <span style=\"background-color:rgba(135,206,250,0.26249999999999996);\">each</span> <span style=\"background-color:rgba(135,206,250,0.4125);\">direct</span> <span style=\"background-color:rgba(135,206,250,0.4125);\">debit</span> <span style=\"background-color:rgba(135,206,250,0.08750000000000001);\">that</span> <span style=\"background-color:rgba(135,206,250,0.024999999999999998);\">i</span> <span style=\"background-color:rgba(135,206,250,0.012499999999999999);\">&#x27;</span> <span style=\"background-color:rgba(135,206,250,0.012499999999999999);\">ve</span> <span style=\"background-color:rgba(135,206,250,0.024999999999999998);\">got</span> <span style=\"background-color:rgba(135,206,250,0.024999999999999998);\">a</span> <span style=\"background-color:rgba(135,206,250,0.049999999999999996);\">problem</span> <span style=\"background-color:rgba(135,206,250,0.049999999999999996);\">with</span><br> <span style=\"background-color:rgba(180,180,180,0.26666666666666666);\">Importance 0.24</span> <span style=\"background-color:rgba(135,206,250,0.024999999999999998);\">the</span> <span style=\"background-color:rgba(135,206,250,0.024999999999999998);\">bank</span> <span style=\"background-color:rgba(135,206,250,0.024999999999999998);\">bank</span> <span style=\"background-color:rgba(135,206,250,0.049999999999999996);\">charge</span> <span style=\"background-color:rgba(135,206,250,0.012499999999999999);\">me</span> <span style=\"background-color:rgba(135,206,250,0.024999999999999998);\">&lt;</span> <span style=\"background-color:rgba(135,206,250,0.012499999999999999);\">num</span> <span style=\"background-color:rgba(135,206,250,0.012499999999999999);\">&gt;</span> <span style=\"background-color:rgba(135,206,250,0.012499999999999999);\">pound</span> <span style=\"background-color:rgba(135,206,250,0.012499999999999999);\">for</span> <span style=\"background-color:rgba(135,206,250,0.0375);\">each</span> <span style=\"background-color:rgba(135,206,250,0.024999999999999998);\">direct</span> <span style=\"background-color:rgba(135,206,250,0.024999999999999998);\">debit</span> <span style=\"background-color:rgba(135,206,250,0.11249999999999999);\">that</span> <span style=\"background-color:rgba(135,206,250,0.0375);\">i</span> <span style=\"background-color:rgba(135,206,250,0.012499999999999999);\">&#x27;</span> <span style=\"background-color:rgba(135,206,250,0.024999999999999998);\">ve</span> <span style=\"background-color:rgba(135,206,250,0.0375);\">got</span> <span style=\"background-color:rgba(135,206,250,0.0375);\">a</span> <span style=\"background-color:rgba(135,206,250,0.3);\">problem</span> <span style=\"background-color:rgba(135,206,250,0.3);\">with</span><br> <span style=\"background-color:rgba(180,180,180,0.22222222222222224);\">Importance 0.20</span> <span style=\"background-color:rgba(135,206,250,0.13749999999999998);\">the</span> <span style=\"background-color:rgba(135,206,250,0.09999999999999999);\">bank</span> <span style=\"background-color:rgba(135,206,250,0.15);\">bank</span> <span style=\"background-color:rgba(135,206,250,0.25);\">charge</span> <span style=\"background-color:rgba(135,206,250,0.18749999999999997);\">me</span> <span style=\"background-color:rgba(135,206,250,0.11249999999999999);\">&lt;</span> <span style=\"background-color:rgba(135,206,250,0.09999999999999999);\">num</span> <span style=\"background-color:rgba(135,206,250,0.049999999999999996);\">&gt;</span> <span style=\"background-color:rgba(135,206,250,0.09999999999999999);\">pound</span> <span style=\"background-color:rgba(135,206,250,0.15);\">for</span> <span style=\"background-color:rgba(135,206,250,0.075);\">each</span> <span style=\"background-color:rgba(135,206,250,0.049999999999999996);\">direct</span> <span style=\"background-color:rgba(135,206,250,0.075);\">debit</span> <span style=\"background-color:rgba(135,206,250,0.075);\">that</span> <span style=\"background-color:rgba(135,206,250,0.024999999999999998);\">i</span> <span style=\"background-color:rgba(135,206,250,0.012499999999999999);\">&#x27;</span> <span style=\"background-color:rgba(135,206,250,0.0375);\">ve</span> <span style=\"background-color:rgba(135,206,250,0.024999999999999998);\">got</span> <span style=\"background-color:rgba(135,206,250,0.024999999999999998);\">a</span> <span style=\"background-color:rgba(135,206,250,0.049999999999999996);\">problem</span> <span style=\"background-color:rgba(135,206,250,0.049999999999999996);\">with</span><br>"
      ],
      "text/plain": [
       "<IPython.core.display.HTML object>"
      ]
     },
     "metadata": {},
     "output_type": "display_data"
    }
   ],
   "source": [
    "absa.summary(slack)\n",
    "absa.display(slack.review)"
   ]
  },
  {
   "cell_type": "code",
   "execution_count": 19,
   "metadata": {},
   "outputs": [
    {
     "name": "stdout",
     "output_type": "stream",
     "text": [
      "Sentiment.negative for \"bank\"\n",
      "Scores (neutral/negative/positive): [0.023 0.963 0.014]\n"
     ]
    },
    {
     "data": {
      "text/html": [
       "<span style=\"background-color:rgba(180,180,180,1.1111111111111112);\">Importance 1.00</span> <span style=\"background-color:rgba(135,206,250,1.25);\">the</span> <span style=\"background-color:rgba(135,206,250,1.0625);\">bank</span> <span style=\"background-color:rgba(135,206,250,0.675);\">bank</span> <span style=\"background-color:rgba(135,206,250,1.25);\">charge</span> <span style=\"background-color:rgba(135,206,250,0.4875);\">me</span> <span style=\"background-color:rgba(135,206,250,0.27499999999999997);\">&lt;</span> <span style=\"background-color:rgba(135,206,250,0.11249999999999999);\">num</span> <span style=\"background-color:rgba(135,206,250,0.075);\">&gt;</span> <span style=\"background-color:rgba(135,206,250,0.08750000000000001);\">pound</span> <span style=\"background-color:rgba(135,206,250,0.075);\">for</span> <span style=\"background-color:rgba(135,206,250,0.125);\">each</span> <span style=\"background-color:rgba(135,206,250,0.049999999999999996);\">direct</span> <span style=\"background-color:rgba(135,206,250,0.09999999999999999);\">debit</span> <span style=\"background-color:rgba(135,206,250,0.35000000000000003);\">that</span> <span style=\"background-color:rgba(135,206,250,0.125);\">i</span> <span style=\"background-color:rgba(135,206,250,0.0375);\">&#x27;</span> <span style=\"background-color:rgba(135,206,250,0.18749999999999997);\">ve</span> <span style=\"background-color:rgba(135,206,250,0.22499999999999998);\">got</span> <span style=\"background-color:rgba(135,206,250,0.08750000000000001);\">a</span> <span style=\"background-color:rgba(135,206,250,0.2375);\">problem</span> <span style=\"background-color:rgba(135,206,250,0.11249999999999999);\">with</span><br> <span style=\"background-color:rgba(180,180,180,0.5888888888888889);\">Importance 0.53</span> <span style=\"background-color:rgba(135,206,250,0.09999999999999999);\">the</span> <span style=\"background-color:rgba(135,206,250,0.11249999999999999);\">bank</span> <span style=\"background-color:rgba(135,206,250,0.125);\">bank</span> <span style=\"background-color:rgba(135,206,250,0.25);\">charge</span> <span style=\"background-color:rgba(135,206,250,0.0625);\">me</span> <span style=\"background-color:rgba(135,206,250,0.125);\">&lt;</span> <span style=\"background-color:rgba(135,206,250,0.075);\">num</span> <span style=\"background-color:rgba(135,206,250,0.075);\">&gt;</span> <span style=\"background-color:rgba(135,206,250,0.08750000000000001);\">pound</span> <span style=\"background-color:rgba(135,206,250,0.08750000000000001);\">for</span> <span style=\"background-color:rgba(135,206,250,0.125);\">each</span> <span style=\"background-color:rgba(135,206,250,0.08750000000000001);\">direct</span> <span style=\"background-color:rgba(135,206,250,0.3);\">debit</span> <span style=\"background-color:rgba(135,206,250,0.3375);\">that</span> <span style=\"background-color:rgba(135,206,250,0.1625);\">i</span> <span style=\"background-color:rgba(135,206,250,0.0625);\">&#x27;</span> <span style=\"background-color:rgba(135,206,250,0.3);\">ve</span> <span style=\"background-color:rgba(135,206,250,0.6625);\">got</span> <span style=\"background-color:rgba(135,206,250,0.46249999999999997);\">a</span> <span style=\"background-color:rgba(135,206,250,0.6625);\">problem</span> <span style=\"background-color:rgba(135,206,250,0.4875);\">with</span><br> <span style=\"background-color:rgba(180,180,180,0.4555555555555555);\">Importance 0.41</span> <span style=\"background-color:rgba(135,206,250,0.39999999999999997);\">the</span> <span style=\"background-color:rgba(135,206,250,0.2125);\">bank</span> <span style=\"background-color:rgba(135,206,250,0.3375);\">bank</span> <span style=\"background-color:rgba(135,206,250,0.5125);\">charge</span> <span style=\"background-color:rgba(135,206,250,0.35000000000000003);\">me</span> <span style=\"background-color:rgba(135,206,250,0.2375);\">&lt;</span> <span style=\"background-color:rgba(135,206,250,0.15);\">num</span> <span style=\"background-color:rgba(135,206,250,0.11249999999999999);\">&gt;</span> <span style=\"background-color:rgba(135,206,250,0.26249999999999996);\">pound</span> <span style=\"background-color:rgba(135,206,250,0.2125);\">for</span> <span style=\"background-color:rgba(135,206,250,0.15);\">each</span> <span style=\"background-color:rgba(135,206,250,0.0625);\">direct</span> <span style=\"background-color:rgba(135,206,250,0.125);\">debit</span> <span style=\"background-color:rgba(135,206,250,0.13749999999999998);\">that</span> <span style=\"background-color:rgba(135,206,250,0.075);\">i</span> <span style=\"background-color:rgba(135,206,250,0.024999999999999998);\">&#x27;</span> <span style=\"background-color:rgba(135,206,250,0.0625);\">ve</span> <span style=\"background-color:rgba(135,206,250,0.075);\">got</span> <span style=\"background-color:rgba(135,206,250,0.0375);\">a</span> <span style=\"background-color:rgba(135,206,250,0.125);\">problem</span> <span style=\"background-color:rgba(135,206,250,0.0625);\">with</span><br> <span style=\"background-color:rgba(180,180,180,0.2777777777777778);\">Importance 0.25</span> <span style=\"background-color:rgba(135,206,250,0.049999999999999996);\">the</span> <span style=\"background-color:rgba(135,206,250,0.0375);\">bank</span> <span style=\"background-color:rgba(135,206,250,0.0375);\">bank</span> <span style=\"background-color:rgba(135,206,250,0.075);\">charge</span> <span style=\"background-color:rgba(135,206,250,0.024999999999999998);\">me</span> <span style=\"background-color:rgba(135,206,250,0.0375);\">&lt;</span> <span style=\"background-color:rgba(135,206,250,0.024999999999999998);\">num</span> <span style=\"background-color:rgba(135,206,250,0.024999999999999998);\">&gt;</span> <span style=\"background-color:rgba(135,206,250,0.024999999999999998);\">pound</span> <span style=\"background-color:rgba(135,206,250,0.024999999999999998);\">for</span> <span style=\"background-color:rgba(135,206,250,0.0375);\">each</span> <span style=\"background-color:rgba(135,206,250,0.024999999999999998);\">direct</span> <span style=\"background-color:rgba(135,206,250,0.0375);\">debit</span> <span style=\"background-color:rgba(135,206,250,0.125);\">that</span> <span style=\"background-color:rgba(135,206,250,0.0625);\">i</span> <span style=\"background-color:rgba(135,206,250,0.012499999999999999);\">&#x27;</span> <span style=\"background-color:rgba(135,206,250,0.049999999999999996);\">ve</span> <span style=\"background-color:rgba(135,206,250,0.075);\">got</span> <span style=\"background-color:rgba(135,206,250,0.075);\">a</span> <span style=\"background-color:rgba(135,206,250,0.3125);\">problem</span> <span style=\"background-color:rgba(135,206,250,0.3125);\">with</span><br> <span style=\"background-color:rgba(180,180,180,0.2777777777777778);\">Importance 0.25</span> <span style=\"background-color:rgba(135,206,250,0.1625);\">the</span> <span style=\"background-color:rgba(135,206,250,0.3125);\">bank</span> <span style=\"background-color:rgba(135,206,250,0.3125);\">bank</span> <span style=\"background-color:rgba(135,206,250,0.25);\">charge</span> <span style=\"background-color:rgba(135,206,250,0.049999999999999996);\">me</span> <span style=\"background-color:rgba(135,206,250,0.049999999999999996);\">&lt;</span> <span style=\"background-color:rgba(135,206,250,0.0375);\">num</span> <span style=\"background-color:rgba(135,206,250,0.024999999999999998);\">&gt;</span> <span style=\"background-color:rgba(135,206,250,0.049999999999999996);\">pound</span> <span style=\"background-color:rgba(135,206,250,0.024999999999999998);\">for</span> <span style=\"background-color:rgba(135,206,250,0.0375);\">each</span> <span style=\"background-color:rgba(135,206,250,0.024999999999999998);\">direct</span> <span style=\"background-color:rgba(135,206,250,0.075);\">debit</span> <span style=\"background-color:rgba(135,206,250,0.024999999999999998);\">that</span> <span style=\"background-color:rgba(135,206,250,0.012499999999999999);\">i</span> <span style=\"background-color:rgba(135,206,250,0.012499999999999999);\">&#x27;</span> <span style=\"background-color:rgba(135,206,250,0.012499999999999999);\">ve</span> <span style=\"background-color:rgba(135,206,250,0.012499999999999999);\">got</span> <span style=\"background-color:rgba(135,206,250,0.012499999999999999);\">a</span> <span style=\"background-color:rgba(135,206,250,0.024999999999999998);\">problem</span> <span style=\"background-color:rgba(135,206,250,0.024999999999999998);\">with</span><br>"
      ],
      "text/plain": [
       "<IPython.core.display.HTML object>"
      ]
     },
     "metadata": {},
     "output_type": "display_data"
    }
   ],
   "source": [
    "absa.summary(price)\n",
    "absa.display(price.review)"
   ]
  },
  {
   "cell_type": "code",
   "execution_count": 2,
   "metadata": {},
   "outputs": [],
   "source": [
    "import aspect_based_sentiment_analysis as absa\n",
    "from transformers import BertTokenizer\n",
    "import en_core_web_sm\n",
    "\n",
    "\n",
    "name = 'absa/classifier-rest-0.2'\n",
    "\n",
    "model = absa.BertABSClassifier.from_pretrained(name)"
   ]
  },
  {
   "cell_type": "code",
   "execution_count": 6,
   "metadata": {},
   "outputs": [],
   "source": [
    "tokenizer = BertTokenizer.from_pretrained(name)\n",
    "professor = absa.Professor()   \n",
    "text_splitter = absa.sentencizer()  # The English CNN model from SpaCy."
   ]
  },
  {
   "cell_type": "code",
   "execution_count": 7,
   "metadata": {},
   "outputs": [],
   "source": [
    "nlp = absa.Pipeline(model, tokenizer, professor, text_splitter)\n"
   ]
  },
  {
   "cell_type": "code",
   "execution_count": 8,
   "metadata": {},
   "outputs": [],
   "source": [
    "# Break down the pipeline `call` method.\n",
    "task = nlp.preprocess(text=\"I love chocolates\", aspects=\"chocolates\")\n",
    "tokenized_examples = nlp.tokenize(task.examples)\n",
    "input_batch = nlp.encode(tokenized_examples)"
   ]
  },
  {
   "cell_type": "code",
   "execution_count": 9,
   "metadata": {},
   "outputs": [],
   "source": [
    "output_batch = nlp.predict(input_batch)"
   ]
  },
  {
   "cell_type": "code",
   "execution_count": 10,
   "metadata": {},
   "outputs": [],
   "source": [
    "predictions = nlp.review(tokenized_examples, output_batch)"
   ]
  },
  {
   "cell_type": "code",
   "execution_count": 11,
   "metadata": {},
   "outputs": [],
   "source": [
    "completed_task = nlp.postprocess(task, predictions)"
   ]
  },
  {
   "cell_type": "code",
   "execution_count": null,
   "metadata": {},
   "outputs": [],
   "source": []
  }
 ],
 "metadata": {
  "kernelspec": {
   "display_name": "tf-gpu1",
   "language": "python",
   "name": "tf-gpu1"
  },
  "language_info": {
   "codemirror_mode": {
    "name": "ipython",
    "version": 3
   },
   "file_extension": ".py",
   "mimetype": "text/x-python",
   "name": "python",
   "nbconvert_exporter": "python",
   "pygments_lexer": "ipython3",
   "version": "3.8.8"
  }
 },
 "nbformat": 4,
 "nbformat_minor": 4
}
