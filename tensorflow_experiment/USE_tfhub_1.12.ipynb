{
 "cells": [
  {
   "cell_type": "code",
   "execution_count": 1,
   "metadata": {},
   "outputs": [],
   "source": [
    "import tensorflow as tf\n",
    "import tensorflow_hub as hub\n",
    "\n",
    "import os\n"
   ]
  },
  {
   "cell_type": "code",
   "execution_count": 2,
   "metadata": {},
   "outputs": [
    {
     "data": {
      "text/plain": [
       "'1.12.0'"
      ]
     },
     "execution_count": 2,
     "metadata": {},
     "output_type": "execute_result"
    }
   ],
   "source": [
    "tf.__version__"
   ]
  },
  {
   "cell_type": "code",
   "execution_count": 3,
   "metadata": {},
   "outputs": [],
   "source": [
    "os.environ[\"TFHUB_CACHE_DIR\"] = '/space/engineering/tfhub_modules'"
   ]
  },
  {
   "cell_type": "code",
   "execution_count": 4,
   "metadata": {},
   "outputs": [],
   "source": [
    "os.environ[\"CUDA_VISIBLE_DEVICES\"] = \"-1\""
   ]
  },
  {
   "cell_type": "code",
   "execution_count": 5,
   "metadata": {},
   "outputs": [],
   "source": [
    "config = tf.ConfigProto(gpu_options=tf.GPUOptions(allow_growth=True,visible_device_list = ''))\n",
    "\n",
    "sess = tf.Session(config = config)"
   ]
  },
  {
   "cell_type": "code",
   "execution_count": 6,
   "metadata": {},
   "outputs": [
    {
     "name": "stdout",
     "output_type": "stream",
     "text": [
      "/var/extra/users/jgeorge/tf2.0\n"
     ]
    }
   ],
   "source": [
    "!pwd\n"
   ]
  },
  {
   "cell_type": "code",
   "execution_count": 6,
   "metadata": {},
   "outputs": [],
   "source": [
    "OUTPUT_PATH=\"/var/extra/users/jgeorge/tf2.0/USE_1.12\""
   ]
  },
  {
   "cell_type": "code",
   "execution_count": 7,
   "metadata": {},
   "outputs": [
    {
     "name": "stdout",
     "output_type": "stream",
     "text": [
      "INFO:tensorflow:Using /space/engineering/tfhub_modules to cache modules.\n"
     ]
    }
   ],
   "source": [
    "module = hub.Module(\"https://tfhub.dev/google/universal-sentence-encoder/2\")"
   ]
  },
  {
   "cell_type": "code",
   "execution_count": 8,
   "metadata": {},
   "outputs": [
    {
     "name": "stdout",
     "output_type": "stream",
     "text": [
      "INFO:tensorflow:Saver not created because there are no variables in the graph to restore\n"
     ]
    }
   ],
   "source": [
    "text = tf.placeholder(tf.string, [None])\n",
    "embedding = module(text)"
   ]
  },
  {
   "cell_type": "raw",
   "metadata": {},
   "source": [
    "embeddings = module([\n",
    "    \"The quick brown fox jumps over the lazy dog.\",\n",
    "    \"I am a sentence for which I would like to get its embedding\"])\n"
   ]
  },
  {
   "cell_type": "code",
   "execution_count": 13,
   "metadata": {},
   "outputs": [
    {
     "data": {
      "text/plain": [
       "<tf.Tensor 'module_apply_default/Encoder_en/hidden_layers/l2_normalize:0' shape=(?, 512) dtype=float32>"
      ]
     },
     "execution_count": 13,
     "metadata": {},
     "output_type": "execute_result"
    }
   ],
   "source": [
    "embedding"
   ]
  },
  {
   "cell_type": "code",
   "execution_count": 9,
   "metadata": {},
   "outputs": [
    {
     "name": "stdout",
     "output_type": "stream",
     "text": [
      "INFO:tensorflow:Saver not created because there are no variables in the graph to restore\n"
     ]
    }
   ],
   "source": [
    "text1 = tf.placeholder(tf.string,None)\n",
    "embedding1 = module(text1)"
   ]
  },
  {
   "cell_type": "code",
   "execution_count": 10,
   "metadata": {},
   "outputs": [
    {
     "name": "stdout",
     "output_type": "stream",
     "text": [
      "INFO:tensorflow:Saver not created because there are no variables in the graph to restore\n"
     ]
    }
   ],
   "source": [
    "text2 = tf.placeholder(tf.string,None)\n",
    "embedding2 = module(text2)"
   ]
  },
  {
   "cell_type": "code",
   "execution_count": 11,
   "metadata": {},
   "outputs": [],
   "source": [
    "normalize_t1 = tf.nn.l2_normalize(embedding1,1) \n",
    "normalize_t2 = tf.nn.l2_normalize(embedding2,1) "
   ]
  },
  {
   "cell_type": "code",
   "execution_count": 12,
   "metadata": {},
   "outputs": [],
   "source": [
    "similarity = tf.reduce_sum(tf.multiply(normalize_t1,normalize_t2))"
   ]
  },
  {
   "cell_type": "code",
   "execution_count": 17,
   "metadata": {},
   "outputs": [],
   "source": [
    "init_op = tf.group([tf.global_variables_initializer(), \n",
    "tf.tables_initializer()])"
   ]
  },
  {
   "cell_type": "raw",
   "metadata": {},
   "source": [
    "init_op = tf.group([ \n",
    "tf.tables_initializer()])"
   ]
  },
  {
   "cell_type": "code",
   "execution_count": 18,
   "metadata": {},
   "outputs": [
    {
     "ename": "FailedPreconditionError",
     "evalue": "Table already initialized.\n\t [[node module/string_to_index_1/hash_table/table_init (defined at /opt/custom/python/anaconda3/lib/python3.6/site-packages/tensorflow_hub/native_module.py:446)  = InitializeTableV2[Tkey=DT_STRING, Tval=DT_INT64, _device=\"/job:localhost/replica:0/task:0/device:CPU:0\"](module/string_to_index_1/hash_table, module/Embeddings_en_words, module/string_to_index/ToInt64)]]\n\nCaused by op 'module/string_to_index_1/hash_table/table_init', defined at:\n  File \"/opt/custom/python/anaconda3/lib/python3.6/runpy.py\", line 193, in _run_module_as_main\n    \"__main__\", mod_spec)\n  File \"/opt/custom/python/anaconda3/lib/python3.6/runpy.py\", line 85, in _run_code\n    exec(code, run_globals)\n  File \"/opt/custom/python/anaconda3/lib/python3.6/site-packages/ipykernel_launcher.py\", line 16, in <module>\n    app.launch_new_instance()\n  File \"/opt/custom/python/anaconda3/lib/python3.6/site-packages/traitlets/config/application.py\", line 658, in launch_instance\n    app.start()\n  File \"/opt/custom/python/anaconda3/lib/python3.6/site-packages/ipykernel/kernelapp.py\", line 505, in start\n    self.io_loop.start()\n  File \"/opt/custom/python/anaconda3/lib/python3.6/site-packages/tornado/platform/asyncio.py\", line 148, in start\n    self.asyncio_loop.run_forever()\n  File \"/opt/custom/python/anaconda3/lib/python3.6/asyncio/base_events.py\", line 438, in run_forever\n    self._run_once()\n  File \"/opt/custom/python/anaconda3/lib/python3.6/asyncio/base_events.py\", line 1451, in _run_once\n    handle._run()\n  File \"/opt/custom/python/anaconda3/lib/python3.6/asyncio/events.py\", line 145, in _run\n    self._callback(*self._args)\n  File \"/opt/custom/python/anaconda3/lib/python3.6/site-packages/tornado/ioloop.py\", line 690, in <lambda>\n    lambda f: self._run_callback(functools.partial(callback, future))\n  File \"/opt/custom/python/anaconda3/lib/python3.6/site-packages/tornado/ioloop.py\", line 743, in _run_callback\n    ret = callback()\n  File \"/opt/custom/python/anaconda3/lib/python3.6/site-packages/tornado/gen.py\", line 781, in inner\n    self.run()\n  File \"/opt/custom/python/anaconda3/lib/python3.6/site-packages/tornado/gen.py\", line 742, in run\n    yielded = self.gen.send(value)\n  File \"/opt/custom/python/anaconda3/lib/python3.6/site-packages/ipykernel/kernelbase.py\", line 357, in process_one\n    yield gen.maybe_future(dispatch(*args))\n  File \"/opt/custom/python/anaconda3/lib/python3.6/site-packages/tornado/gen.py\", line 209, in wrapper\n    yielded = next(result)\n  File \"/opt/custom/python/anaconda3/lib/python3.6/site-packages/ipykernel/kernelbase.py\", line 267, in dispatch_shell\n    yield gen.maybe_future(handler(stream, idents, msg))\n  File \"/opt/custom/python/anaconda3/lib/python3.6/site-packages/tornado/gen.py\", line 209, in wrapper\n    yielded = next(result)\n  File \"/opt/custom/python/anaconda3/lib/python3.6/site-packages/ipykernel/kernelbase.py\", line 534, in execute_request\n    user_expressions, allow_stdin,\n  File \"/opt/custom/python/anaconda3/lib/python3.6/site-packages/tornado/gen.py\", line 209, in wrapper\n    yielded = next(result)\n  File \"/opt/custom/python/anaconda3/lib/python3.6/site-packages/ipykernel/ipkernel.py\", line 294, in do_execute\n    res = shell.run_cell(code, store_history=store_history, silent=silent)\n  File \"/opt/custom/python/anaconda3/lib/python3.6/site-packages/ipykernel/zmqshell.py\", line 536, in run_cell\n    return super(ZMQInteractiveShell, self).run_cell(*args, **kwargs)\n  File \"/opt/custom/python/anaconda3/lib/python3.6/site-packages/IPython/core/interactiveshell.py\", line 2848, in run_cell\n    raw_cell, store_history, silent, shell_futures)\n  File \"/opt/custom/python/anaconda3/lib/python3.6/site-packages/IPython/core/interactiveshell.py\", line 2874, in _run_cell\n    return runner(coro)\n  File \"/opt/custom/python/anaconda3/lib/python3.6/site-packages/IPython/core/async_helpers.py\", line 67, in _pseudo_sync_runner\n    coro.send(None)\n  File \"/opt/custom/python/anaconda3/lib/python3.6/site-packages/IPython/core/interactiveshell.py\", line 3049, in run_cell_async\n    interactivity=interactivity, compiler=compiler, result=result)\n  File \"/opt/custom/python/anaconda3/lib/python3.6/site-packages/IPython/core/interactiveshell.py\", line 3214, in run_ast_nodes\n    if (yield from self.run_code(code, result)):\n  File \"/opt/custom/python/anaconda3/lib/python3.6/site-packages/IPython/core/interactiveshell.py\", line 3296, in run_code\n    exec(code_obj, self.user_global_ns, self.user_ns)\n  File \"<ipython-input-7-12633638a478>\", line 1, in <module>\n    module = hub.Module(\"https://tfhub.dev/google/universal-sentence-encoder/2\")\n  File \"/opt/custom/python/anaconda3/lib/python3.6/site-packages/tensorflow_hub/module.py\", line 166, in __init__\n    tags=self._tags)\n  File \"/opt/custom/python/anaconda3/lib/python3.6/site-packages/tensorflow_hub/native_module.py\", line 337, in _create_impl\n    name=name)\n  File \"/opt/custom/python/anaconda3/lib/python3.6/site-packages/tensorflow_hub/native_module.py\", line 381, in __init__\n    self._init_state(name)\n  File \"/opt/custom/python/anaconda3/lib/python3.6/site-packages/tensorflow_hub/native_module.py\", line 390, in _init_state\n    variable_tensor_map, self._state_map = self._create_state_graph(name)\n  File \"/opt/custom/python/anaconda3/lib/python3.6/site-packages/tensorflow_hub/native_module.py\", line 446, in _create_state_graph\n    import_scope=relative_scope_name)\n  File \"/opt/custom/python/anaconda3/lib/python3.6/site-packages/tensorflow/python/training/saver.py\", line 1674, in import_meta_graph\n    meta_graph_or_file, clear_devices, import_scope, **kwargs)[0]\n  File \"/opt/custom/python/anaconda3/lib/python3.6/site-packages/tensorflow/python/training/saver.py\", line 1696, in _import_meta_graph_with_return_elements\n    **kwargs))\n  File \"/opt/custom/python/anaconda3/lib/python3.6/site-packages/tensorflow/python/framework/meta_graph.py\", line 806, in import_scoped_meta_graph_with_return_elements\n    return_elements=return_elements)\n  File \"/opt/custom/python/anaconda3/lib/python3.6/site-packages/tensorflow/python/util/deprecation.py\", line 488, in new_func\n    return func(*args, **kwargs)\n  File \"/opt/custom/python/anaconda3/lib/python3.6/site-packages/tensorflow/python/framework/importer.py\", line 442, in import_graph_def\n    _ProcessNewOps(graph)\n  File \"/opt/custom/python/anaconda3/lib/python3.6/site-packages/tensorflow/python/framework/importer.py\", line 234, in _ProcessNewOps\n    for new_op in graph._add_new_tf_operations(compute_devices=False):  # pylint: disable=protected-access\n  File \"/opt/custom/python/anaconda3/lib/python3.6/site-packages/tensorflow/python/framework/ops.py\", line 3440, in _add_new_tf_operations\n    for c_op in c_api_util.new_tf_operations(self)\n  File \"/opt/custom/python/anaconda3/lib/python3.6/site-packages/tensorflow/python/framework/ops.py\", line 3440, in <listcomp>\n    for c_op in c_api_util.new_tf_operations(self)\n  File \"/opt/custom/python/anaconda3/lib/python3.6/site-packages/tensorflow/python/framework/ops.py\", line 3299, in _create_op_from_tf_operation\n    ret = Operation(c_op, self)\n  File \"/opt/custom/python/anaconda3/lib/python3.6/site-packages/tensorflow/python/framework/ops.py\", line 1770, in __init__\n    self._traceback = tf_stack.extract_stack()\n\nFailedPreconditionError (see above for traceback): Table already initialized.\n\t [[node module/string_to_index_1/hash_table/table_init (defined at /opt/custom/python/anaconda3/lib/python3.6/site-packages/tensorflow_hub/native_module.py:446)  = InitializeTableV2[Tkey=DT_STRING, Tval=DT_INT64, _device=\"/job:localhost/replica:0/task:0/device:CPU:0\"](module/string_to_index_1/hash_table, module/Embeddings_en_words, module/string_to_index/ToInt64)]]\n",
     "output_type": "error",
     "traceback": [
      "\u001b[0;31m---------------------------------------------------------------------------\u001b[0m",
      "\u001b[0;31mFailedPreconditionError\u001b[0m                   Traceback (most recent call last)",
      "\u001b[0;32m/opt/custom/python/anaconda3/lib/python3.6/site-packages/tensorflow/python/client/session.py\u001b[0m in \u001b[0;36m_do_call\u001b[0;34m(self, fn, *args)\u001b[0m\n\u001b[1;32m   1333\u001b[0m     \u001b[0;32mtry\u001b[0m\u001b[0;34m:\u001b[0m\u001b[0;34m\u001b[0m\u001b[0;34m\u001b[0m\u001b[0m\n\u001b[0;32m-> 1334\u001b[0;31m       \u001b[0;32mreturn\u001b[0m \u001b[0mfn\u001b[0m\u001b[0;34m(\u001b[0m\u001b[0;34m*\u001b[0m\u001b[0margs\u001b[0m\u001b[0;34m)\u001b[0m\u001b[0;34m\u001b[0m\u001b[0;34m\u001b[0m\u001b[0m\n\u001b[0m\u001b[1;32m   1335\u001b[0m     \u001b[0;32mexcept\u001b[0m \u001b[0merrors\u001b[0m\u001b[0;34m.\u001b[0m\u001b[0mOpError\u001b[0m \u001b[0;32mas\u001b[0m \u001b[0me\u001b[0m\u001b[0;34m:\u001b[0m\u001b[0;34m\u001b[0m\u001b[0;34m\u001b[0m\u001b[0m\n",
      "\u001b[0;32m/opt/custom/python/anaconda3/lib/python3.6/site-packages/tensorflow/python/client/session.py\u001b[0m in \u001b[0;36m_run_fn\u001b[0;34m(feed_dict, fetch_list, target_list, options, run_metadata)\u001b[0m\n\u001b[1;32m   1318\u001b[0m       return self._call_tf_sessionrun(\n\u001b[0;32m-> 1319\u001b[0;31m           options, feed_dict, fetch_list, target_list, run_metadata)\n\u001b[0m\u001b[1;32m   1320\u001b[0m \u001b[0;34m\u001b[0m\u001b[0m\n",
      "\u001b[0;32m/opt/custom/python/anaconda3/lib/python3.6/site-packages/tensorflow/python/client/session.py\u001b[0m in \u001b[0;36m_call_tf_sessionrun\u001b[0;34m(self, options, feed_dict, fetch_list, target_list, run_metadata)\u001b[0m\n\u001b[1;32m   1406\u001b[0m         \u001b[0mself\u001b[0m\u001b[0;34m.\u001b[0m\u001b[0m_session\u001b[0m\u001b[0;34m,\u001b[0m \u001b[0moptions\u001b[0m\u001b[0;34m,\u001b[0m \u001b[0mfeed_dict\u001b[0m\u001b[0;34m,\u001b[0m \u001b[0mfetch_list\u001b[0m\u001b[0;34m,\u001b[0m \u001b[0mtarget_list\u001b[0m\u001b[0;34m,\u001b[0m\u001b[0;34m\u001b[0m\u001b[0;34m\u001b[0m\u001b[0m\n\u001b[0;32m-> 1407\u001b[0;31m         run_metadata)\n\u001b[0m\u001b[1;32m   1408\u001b[0m \u001b[0;34m\u001b[0m\u001b[0m\n",
      "\u001b[0;31mFailedPreconditionError\u001b[0m: Table already initialized.\n\t [[{{node module/string_to_index_1/hash_table/table_init}} = InitializeTableV2[Tkey=DT_STRING, Tval=DT_INT64, _device=\"/job:localhost/replica:0/task:0/device:CPU:0\"](module/string_to_index_1/hash_table, module/Embeddings_en_words, module/string_to_index/ToInt64)]]",
      "\nDuring handling of the above exception, another exception occurred:\n",
      "\u001b[0;31mFailedPreconditionError\u001b[0m                   Traceback (most recent call last)",
      "\u001b[0;32m<ipython-input-18-84147a4c5079>\u001b[0m in \u001b[0;36m<module>\u001b[0;34m\u001b[0m\n\u001b[0;32m----> 1\u001b[0;31m \u001b[0msess\u001b[0m\u001b[0;34m.\u001b[0m\u001b[0mrun\u001b[0m\u001b[0;34m(\u001b[0m\u001b[0minit_op\u001b[0m\u001b[0;34m)\u001b[0m\u001b[0;34m\u001b[0m\u001b[0;34m\u001b[0m\u001b[0m\n\u001b[0m",
      "\u001b[0;32m/opt/custom/python/anaconda3/lib/python3.6/site-packages/tensorflow/python/client/session.py\u001b[0m in \u001b[0;36mrun\u001b[0;34m(self, fetches, feed_dict, options, run_metadata)\u001b[0m\n\u001b[1;32m    927\u001b[0m     \u001b[0;32mtry\u001b[0m\u001b[0;34m:\u001b[0m\u001b[0;34m\u001b[0m\u001b[0;34m\u001b[0m\u001b[0m\n\u001b[1;32m    928\u001b[0m       result = self._run(None, fetches, feed_dict, options_ptr,\n\u001b[0;32m--> 929\u001b[0;31m                          run_metadata_ptr)\n\u001b[0m\u001b[1;32m    930\u001b[0m       \u001b[0;32mif\u001b[0m \u001b[0mrun_metadata\u001b[0m\u001b[0;34m:\u001b[0m\u001b[0;34m\u001b[0m\u001b[0;34m\u001b[0m\u001b[0m\n\u001b[1;32m    931\u001b[0m         \u001b[0mproto_data\u001b[0m \u001b[0;34m=\u001b[0m \u001b[0mtf_session\u001b[0m\u001b[0;34m.\u001b[0m\u001b[0mTF_GetBuffer\u001b[0m\u001b[0;34m(\u001b[0m\u001b[0mrun_metadata_ptr\u001b[0m\u001b[0;34m)\u001b[0m\u001b[0;34m\u001b[0m\u001b[0;34m\u001b[0m\u001b[0m\n",
      "\u001b[0;32m/opt/custom/python/anaconda3/lib/python3.6/site-packages/tensorflow/python/client/session.py\u001b[0m in \u001b[0;36m_run\u001b[0;34m(self, handle, fetches, feed_dict, options, run_metadata)\u001b[0m\n\u001b[1;32m   1150\u001b[0m     \u001b[0;32mif\u001b[0m \u001b[0mfinal_fetches\u001b[0m \u001b[0;32mor\u001b[0m \u001b[0mfinal_targets\u001b[0m \u001b[0;32mor\u001b[0m \u001b[0;34m(\u001b[0m\u001b[0mhandle\u001b[0m \u001b[0;32mand\u001b[0m \u001b[0mfeed_dict_tensor\u001b[0m\u001b[0;34m)\u001b[0m\u001b[0;34m:\u001b[0m\u001b[0;34m\u001b[0m\u001b[0;34m\u001b[0m\u001b[0m\n\u001b[1;32m   1151\u001b[0m       results = self._do_run(handle, final_targets, final_fetches,\n\u001b[0;32m-> 1152\u001b[0;31m                              feed_dict_tensor, options, run_metadata)\n\u001b[0m\u001b[1;32m   1153\u001b[0m     \u001b[0;32melse\u001b[0m\u001b[0;34m:\u001b[0m\u001b[0;34m\u001b[0m\u001b[0;34m\u001b[0m\u001b[0m\n\u001b[1;32m   1154\u001b[0m       \u001b[0mresults\u001b[0m \u001b[0;34m=\u001b[0m \u001b[0;34m[\u001b[0m\u001b[0;34m]\u001b[0m\u001b[0;34m\u001b[0m\u001b[0;34m\u001b[0m\u001b[0m\n",
      "\u001b[0;32m/opt/custom/python/anaconda3/lib/python3.6/site-packages/tensorflow/python/client/session.py\u001b[0m in \u001b[0;36m_do_run\u001b[0;34m(self, handle, target_list, fetch_list, feed_dict, options, run_metadata)\u001b[0m\n\u001b[1;32m   1326\u001b[0m     \u001b[0;32mif\u001b[0m \u001b[0mhandle\u001b[0m \u001b[0;32mis\u001b[0m \u001b[0;32mNone\u001b[0m\u001b[0;34m:\u001b[0m\u001b[0;34m\u001b[0m\u001b[0;34m\u001b[0m\u001b[0m\n\u001b[1;32m   1327\u001b[0m       return self._do_call(_run_fn, feeds, fetches, targets, options,\n\u001b[0;32m-> 1328\u001b[0;31m                            run_metadata)\n\u001b[0m\u001b[1;32m   1329\u001b[0m     \u001b[0;32melse\u001b[0m\u001b[0;34m:\u001b[0m\u001b[0;34m\u001b[0m\u001b[0;34m\u001b[0m\u001b[0m\n\u001b[1;32m   1330\u001b[0m       \u001b[0;32mreturn\u001b[0m \u001b[0mself\u001b[0m\u001b[0;34m.\u001b[0m\u001b[0m_do_call\u001b[0m\u001b[0;34m(\u001b[0m\u001b[0m_prun_fn\u001b[0m\u001b[0;34m,\u001b[0m \u001b[0mhandle\u001b[0m\u001b[0;34m,\u001b[0m \u001b[0mfeeds\u001b[0m\u001b[0;34m,\u001b[0m \u001b[0mfetches\u001b[0m\u001b[0;34m)\u001b[0m\u001b[0;34m\u001b[0m\u001b[0;34m\u001b[0m\u001b[0m\n",
      "\u001b[0;32m/opt/custom/python/anaconda3/lib/python3.6/site-packages/tensorflow/python/client/session.py\u001b[0m in \u001b[0;36m_do_call\u001b[0;34m(self, fn, *args)\u001b[0m\n\u001b[1;32m   1346\u001b[0m           \u001b[0;32mpass\u001b[0m\u001b[0;34m\u001b[0m\u001b[0;34m\u001b[0m\u001b[0m\n\u001b[1;32m   1347\u001b[0m       \u001b[0mmessage\u001b[0m \u001b[0;34m=\u001b[0m \u001b[0merror_interpolation\u001b[0m\u001b[0;34m.\u001b[0m\u001b[0minterpolate\u001b[0m\u001b[0;34m(\u001b[0m\u001b[0mmessage\u001b[0m\u001b[0;34m,\u001b[0m \u001b[0mself\u001b[0m\u001b[0;34m.\u001b[0m\u001b[0m_graph\u001b[0m\u001b[0;34m)\u001b[0m\u001b[0;34m\u001b[0m\u001b[0;34m\u001b[0m\u001b[0m\n\u001b[0;32m-> 1348\u001b[0;31m       \u001b[0;32mraise\u001b[0m \u001b[0mtype\u001b[0m\u001b[0;34m(\u001b[0m\u001b[0me\u001b[0m\u001b[0;34m)\u001b[0m\u001b[0;34m(\u001b[0m\u001b[0mnode_def\u001b[0m\u001b[0;34m,\u001b[0m \u001b[0mop\u001b[0m\u001b[0;34m,\u001b[0m \u001b[0mmessage\u001b[0m\u001b[0;34m)\u001b[0m\u001b[0;34m\u001b[0m\u001b[0;34m\u001b[0m\u001b[0m\n\u001b[0m\u001b[1;32m   1349\u001b[0m \u001b[0;34m\u001b[0m\u001b[0m\n\u001b[1;32m   1350\u001b[0m   \u001b[0;32mdef\u001b[0m \u001b[0m_extend_graph\u001b[0m\u001b[0;34m(\u001b[0m\u001b[0mself\u001b[0m\u001b[0;34m)\u001b[0m\u001b[0;34m:\u001b[0m\u001b[0;34m\u001b[0m\u001b[0;34m\u001b[0m\u001b[0m\n",
      "\u001b[0;31mFailedPreconditionError\u001b[0m: Table already initialized.\n\t [[node module/string_to_index_1/hash_table/table_init (defined at /opt/custom/python/anaconda3/lib/python3.6/site-packages/tensorflow_hub/native_module.py:446)  = InitializeTableV2[Tkey=DT_STRING, Tval=DT_INT64, _device=\"/job:localhost/replica:0/task:0/device:CPU:0\"](module/string_to_index_1/hash_table, module/Embeddings_en_words, module/string_to_index/ToInt64)]]\n\nCaused by op 'module/string_to_index_1/hash_table/table_init', defined at:\n  File \"/opt/custom/python/anaconda3/lib/python3.6/runpy.py\", line 193, in _run_module_as_main\n    \"__main__\", mod_spec)\n  File \"/opt/custom/python/anaconda3/lib/python3.6/runpy.py\", line 85, in _run_code\n    exec(code, run_globals)\n  File \"/opt/custom/python/anaconda3/lib/python3.6/site-packages/ipykernel_launcher.py\", line 16, in <module>\n    app.launch_new_instance()\n  File \"/opt/custom/python/anaconda3/lib/python3.6/site-packages/traitlets/config/application.py\", line 658, in launch_instance\n    app.start()\n  File \"/opt/custom/python/anaconda3/lib/python3.6/site-packages/ipykernel/kernelapp.py\", line 505, in start\n    self.io_loop.start()\n  File \"/opt/custom/python/anaconda3/lib/python3.6/site-packages/tornado/platform/asyncio.py\", line 148, in start\n    self.asyncio_loop.run_forever()\n  File \"/opt/custom/python/anaconda3/lib/python3.6/asyncio/base_events.py\", line 438, in run_forever\n    self._run_once()\n  File \"/opt/custom/python/anaconda3/lib/python3.6/asyncio/base_events.py\", line 1451, in _run_once\n    handle._run()\n  File \"/opt/custom/python/anaconda3/lib/python3.6/asyncio/events.py\", line 145, in _run\n    self._callback(*self._args)\n  File \"/opt/custom/python/anaconda3/lib/python3.6/site-packages/tornado/ioloop.py\", line 690, in <lambda>\n    lambda f: self._run_callback(functools.partial(callback, future))\n  File \"/opt/custom/python/anaconda3/lib/python3.6/site-packages/tornado/ioloop.py\", line 743, in _run_callback\n    ret = callback()\n  File \"/opt/custom/python/anaconda3/lib/python3.6/site-packages/tornado/gen.py\", line 781, in inner\n    self.run()\n  File \"/opt/custom/python/anaconda3/lib/python3.6/site-packages/tornado/gen.py\", line 742, in run\n    yielded = self.gen.send(value)\n  File \"/opt/custom/python/anaconda3/lib/python3.6/site-packages/ipykernel/kernelbase.py\", line 357, in process_one\n    yield gen.maybe_future(dispatch(*args))\n  File \"/opt/custom/python/anaconda3/lib/python3.6/site-packages/tornado/gen.py\", line 209, in wrapper\n    yielded = next(result)\n  File \"/opt/custom/python/anaconda3/lib/python3.6/site-packages/ipykernel/kernelbase.py\", line 267, in dispatch_shell\n    yield gen.maybe_future(handler(stream, idents, msg))\n  File \"/opt/custom/python/anaconda3/lib/python3.6/site-packages/tornado/gen.py\", line 209, in wrapper\n    yielded = next(result)\n  File \"/opt/custom/python/anaconda3/lib/python3.6/site-packages/ipykernel/kernelbase.py\", line 534, in execute_request\n    user_expressions, allow_stdin,\n  File \"/opt/custom/python/anaconda3/lib/python3.6/site-packages/tornado/gen.py\", line 209, in wrapper\n    yielded = next(result)\n  File \"/opt/custom/python/anaconda3/lib/python3.6/site-packages/ipykernel/ipkernel.py\", line 294, in do_execute\n    res = shell.run_cell(code, store_history=store_history, silent=silent)\n  File \"/opt/custom/python/anaconda3/lib/python3.6/site-packages/ipykernel/zmqshell.py\", line 536, in run_cell\n    return super(ZMQInteractiveShell, self).run_cell(*args, **kwargs)\n  File \"/opt/custom/python/anaconda3/lib/python3.6/site-packages/IPython/core/interactiveshell.py\", line 2848, in run_cell\n    raw_cell, store_history, silent, shell_futures)\n  File \"/opt/custom/python/anaconda3/lib/python3.6/site-packages/IPython/core/interactiveshell.py\", line 2874, in _run_cell\n    return runner(coro)\n  File \"/opt/custom/python/anaconda3/lib/python3.6/site-packages/IPython/core/async_helpers.py\", line 67, in _pseudo_sync_runner\n    coro.send(None)\n  File \"/opt/custom/python/anaconda3/lib/python3.6/site-packages/IPython/core/interactiveshell.py\", line 3049, in run_cell_async\n    interactivity=interactivity, compiler=compiler, result=result)\n  File \"/opt/custom/python/anaconda3/lib/python3.6/site-packages/IPython/core/interactiveshell.py\", line 3214, in run_ast_nodes\n    if (yield from self.run_code(code, result)):\n  File \"/opt/custom/python/anaconda3/lib/python3.6/site-packages/IPython/core/interactiveshell.py\", line 3296, in run_code\n    exec(code_obj, self.user_global_ns, self.user_ns)\n  File \"<ipython-input-7-12633638a478>\", line 1, in <module>\n    module = hub.Module(\"https://tfhub.dev/google/universal-sentence-encoder/2\")\n  File \"/opt/custom/python/anaconda3/lib/python3.6/site-packages/tensorflow_hub/module.py\", line 166, in __init__\n    tags=self._tags)\n  File \"/opt/custom/python/anaconda3/lib/python3.6/site-packages/tensorflow_hub/native_module.py\", line 337, in _create_impl\n    name=name)\n  File \"/opt/custom/python/anaconda3/lib/python3.6/site-packages/tensorflow_hub/native_module.py\", line 381, in __init__\n    self._init_state(name)\n  File \"/opt/custom/python/anaconda3/lib/python3.6/site-packages/tensorflow_hub/native_module.py\", line 390, in _init_state\n    variable_tensor_map, self._state_map = self._create_state_graph(name)\n  File \"/opt/custom/python/anaconda3/lib/python3.6/site-packages/tensorflow_hub/native_module.py\", line 446, in _create_state_graph\n    import_scope=relative_scope_name)\n  File \"/opt/custom/python/anaconda3/lib/python3.6/site-packages/tensorflow/python/training/saver.py\", line 1674, in import_meta_graph\n    meta_graph_or_file, clear_devices, import_scope, **kwargs)[0]\n  File \"/opt/custom/python/anaconda3/lib/python3.6/site-packages/tensorflow/python/training/saver.py\", line 1696, in _import_meta_graph_with_return_elements\n    **kwargs))\n  File \"/opt/custom/python/anaconda3/lib/python3.6/site-packages/tensorflow/python/framework/meta_graph.py\", line 806, in import_scoped_meta_graph_with_return_elements\n    return_elements=return_elements)\n  File \"/opt/custom/python/anaconda3/lib/python3.6/site-packages/tensorflow/python/util/deprecation.py\", line 488, in new_func\n    return func(*args, **kwargs)\n  File \"/opt/custom/python/anaconda3/lib/python3.6/site-packages/tensorflow/python/framework/importer.py\", line 442, in import_graph_def\n    _ProcessNewOps(graph)\n  File \"/opt/custom/python/anaconda3/lib/python3.6/site-packages/tensorflow/python/framework/importer.py\", line 234, in _ProcessNewOps\n    for new_op in graph._add_new_tf_operations(compute_devices=False):  # pylint: disable=protected-access\n  File \"/opt/custom/python/anaconda3/lib/python3.6/site-packages/tensorflow/python/framework/ops.py\", line 3440, in _add_new_tf_operations\n    for c_op in c_api_util.new_tf_operations(self)\n  File \"/opt/custom/python/anaconda3/lib/python3.6/site-packages/tensorflow/python/framework/ops.py\", line 3440, in <listcomp>\n    for c_op in c_api_util.new_tf_operations(self)\n  File \"/opt/custom/python/anaconda3/lib/python3.6/site-packages/tensorflow/python/framework/ops.py\", line 3299, in _create_op_from_tf_operation\n    ret = Operation(c_op, self)\n  File \"/opt/custom/python/anaconda3/lib/python3.6/site-packages/tensorflow/python/framework/ops.py\", line 1770, in __init__\n    self._traceback = tf_stack.extract_stack()\n\nFailedPreconditionError (see above for traceback): Table already initialized.\n\t [[node module/string_to_index_1/hash_table/table_init (defined at /opt/custom/python/anaconda3/lib/python3.6/site-packages/tensorflow_hub/native_module.py:446)  = InitializeTableV2[Tkey=DT_STRING, Tval=DT_INT64, _device=\"/job:localhost/replica:0/task:0/device:CPU:0\"](module/string_to_index_1/hash_table, module/Embeddings_en_words, module/string_to_index/ToInt64)]]\n"
     ]
    }
   ],
   "source": [
    "sess.run(init_op)"
   ]
  },
  {
   "cell_type": "code",
   "execution_count": 21,
   "metadata": {},
   "outputs": [
    {
     "data": {
      "text/plain": [
       "0.9184717"
      ]
     },
     "execution_count": 21,
     "metadata": {},
     "output_type": "execute_result"
    }
   ],
   "source": [
    "sess.run(similarity,feed_dict={text1:[\"i'm happy\"],text2:[\"i'm really happy\"]})"
   ]
  },
  {
   "cell_type": "code",
   "execution_count": 12,
   "metadata": {},
   "outputs": [
    {
     "data": {
      "text/plain": [
       "array([[ 4.90403920e-02,  9.85270366e-03,  8.30927212e-03,\n",
       "        -2.22935136e-02, -1.68987736e-02,  3.72159146e-02,\n",
       "        -7.81797059e-03,  9.88469124e-02, -2.06023343e-02,\n",
       "         3.41634527e-02, -9.15605575e-03,  1.58246681e-02,\n",
       "         6.54828474e-02, -5.89680299e-03,  2.32487638e-02,\n",
       "         4.61775586e-02,  9.57203731e-02,  6.11960553e-02,\n",
       "        -6.04111925e-02, -3.92189361e-02, -7.38027170e-02,\n",
       "        -5.99389002e-02, -4.67097424e-02, -1.60931777e-02,\n",
       "        -2.34220941e-02,  2.74663661e-02, -4.72379625e-02,\n",
       "        -3.39326598e-02,  4.82878871e-02, -4.46705483e-02,\n",
       "        -5.68148308e-02, -2.54351348e-02, -5.51684275e-02,\n",
       "        -2.19610333e-02, -5.97854443e-02,  3.32201831e-02,\n",
       "        -6.70647761e-03, -4.80724834e-02,  8.16166122e-03,\n",
       "         2.03793738e-02, -5.34224696e-02, -6.00652657e-02,\n",
       "         4.14113048e-03, -5.37618110e-03, -1.42316718e-03,\n",
       "         3.67165767e-02, -1.20494841e-02, -5.77922538e-03,\n",
       "        -2.04636846e-02, -4.29873131e-02, -1.05461311e-02,\n",
       "        -5.18696681e-02,  1.39082577e-02,  8.15226361e-02,\n",
       "         5.62961251e-02, -2.51720250e-02,  5.24271466e-02,\n",
       "        -9.17561874e-02,  2.86453497e-02, -1.79523532e-03,\n",
       "         7.76517391e-03, -3.59559767e-02,  4.84307185e-02,\n",
       "        -1.12774340e-03,  2.82753687e-02, -1.02725383e-02,\n",
       "         2.70868707e-02, -6.07283204e-04,  6.95651025e-02,\n",
       "         7.07519501e-02, -5.48741454e-03, -7.10704103e-02,\n",
       "        -1.20054698e-02, -3.97415236e-02, -1.10138208e-02,\n",
       "         6.89835753e-04,  5.97433522e-02,  7.93465897e-02,\n",
       "        -1.53574562e-02, -7.13062584e-02,  9.37448293e-02,\n",
       "         2.22472530e-02, -1.38243847e-02, -5.11202253e-02,\n",
       "         5.66271581e-02,  2.87225805e-02, -4.52732705e-02,\n",
       "         5.86807467e-02,  3.21836807e-02, -6.44996464e-02,\n",
       "         7.36590773e-02, -1.25119751e-02,  4.36501717e-03,\n",
       "        -2.79537532e-02,  9.16156732e-03, -7.98670202e-02,\n",
       "        -3.68101746e-02, -6.83897510e-02,  3.88771072e-02,\n",
       "         2.40318310e-02,  2.21132860e-02, -6.02558665e-02,\n",
       "        -4.12247553e-02, -5.43193184e-02,  2.30264552e-02,\n",
       "        -2.74899602e-02, -1.35048181e-02,  2.10522601e-04,\n",
       "        -9.26563423e-03,  2.34685745e-02, -1.98613908e-02,\n",
       "         3.92408483e-02, -2.89501026e-02, -5.22328690e-02,\n",
       "        -1.38424486e-02, -2.76695862e-02, -4.66993898e-02,\n",
       "        -8.04562494e-02,  8.35567655e-04,  4.85483482e-02,\n",
       "         3.80993099e-03,  3.94453555e-02,  2.56103445e-02,\n",
       "         8.00778940e-02,  5.85275069e-02, -2.66826618e-03,\n",
       "         7.59161115e-02, -4.89341877e-02,  4.20562476e-02,\n",
       "         2.15847921e-02,  8.93556997e-02,  4.75550480e-02,\n",
       "        -8.13605189e-02, -1.53421834e-02,  5.87388910e-02,\n",
       "         2.00171992e-02,  3.44807319e-02, -9.40404832e-03,\n",
       "         3.89571413e-02, -2.90544331e-02, -2.12241653e-02,\n",
       "        -1.14737044e-03, -3.73245627e-02, -4.65422720e-02,\n",
       "        -1.43526159e-02,  7.45998397e-02, -4.62356061e-02,\n",
       "         7.05541000e-02,  8.27002525e-02, -3.30012031e-02,\n",
       "        -8.77508447e-02, -4.12271097e-02,  5.51019572e-02,\n",
       "         4.47216108e-02,  3.36618759e-02,  1.10689951e-02,\n",
       "         5.30950539e-02, -1.57697592e-02,  3.83271240e-02,\n",
       "        -6.50786757e-02, -4.85306345e-02,  1.68005358e-02,\n",
       "         5.41565530e-02, -5.65685518e-03,  4.06631939e-02,\n",
       "         7.65120005e-03, -3.00141368e-02,  2.46120471e-04,\n",
       "        -1.50751527e-02,  2.95374263e-02,  4.99602258e-02,\n",
       "        -9.27112903e-03,  3.40601690e-02,  2.88845096e-02,\n",
       "         2.08304264e-02, -2.28447912e-04, -1.27285868e-02,\n",
       "        -2.74348501e-02, -1.20222010e-02, -3.98531482e-02,\n",
       "        -9.68525000e-03,  4.11908813e-02, -4.76239994e-02,\n",
       "        -3.72392349e-02, -5.35703003e-02,  3.21344361e-02,\n",
       "        -8.80942866e-02,  2.46521388e-03, -3.84781584e-02,\n",
       "        -6.43975362e-02, -5.68063639e-04,  4.71964926e-02,\n",
       "         5.80034293e-02,  2.01247726e-02,  1.50522776e-02,\n",
       "         1.55249229e-02, -2.38950681e-02, -1.19224181e-02,\n",
       "         2.15597209e-02,  7.09098354e-02, -3.97283351e-03,\n",
       "        -5.59042022e-02,  7.14763487e-03, -4.21221033e-02,\n",
       "         1.31208785e-02, -4.63627279e-03, -6.14104420e-02,\n",
       "        -6.88708723e-02,  4.12279088e-03,  2.95368973e-02,\n",
       "         2.11914256e-02, -3.67771052e-02, -4.31502966e-04,\n",
       "        -4.08564210e-02,  7.09807128e-02,  2.76102740e-02,\n",
       "         4.72164294e-03,  7.16526294e-03,  3.28223594e-02,\n",
       "         2.83972844e-02,  9.35691148e-02, -2.55436096e-02,\n",
       "        -3.00053671e-05, -8.81825946e-03, -6.88592866e-02,\n",
       "        -6.00535087e-02,  4.48253974e-02,  6.52974024e-02,\n",
       "         7.27487653e-02, -5.95937995e-03, -2.90825833e-02,\n",
       "         9.85418074e-03, -5.32286279e-02,  3.07454877e-02,\n",
       "         2.98672542e-02, -2.48467159e-02,  7.25196451e-02,\n",
       "        -2.02574451e-02,  5.67464754e-02, -4.92687430e-03,\n",
       "        -2.87534390e-02,  4.74836789e-02,  5.82703343e-03,\n",
       "         6.42206240e-03, -3.60710872e-03, -9.89219453e-03,\n",
       "         8.28196332e-02, -1.74770635e-02, -4.20172811e-02,\n",
       "         1.84650589e-02,  2.12275907e-02, -8.83477367e-03,\n",
       "         2.64389198e-02, -7.13381618e-02,  1.75174288e-02,\n",
       "        -3.02831177e-02, -5.60981035e-03, -3.17344107e-02,\n",
       "         4.42145728e-02,  3.50966491e-02, -8.12004954e-02,\n",
       "         3.27778198e-02,  1.39559563e-02, -5.10145836e-02,\n",
       "         6.14360571e-02,  7.53296481e-04,  2.16262843e-02,\n",
       "         7.19400495e-02, -3.80624412e-03, -4.48189005e-02,\n",
       "        -8.72294679e-02,  2.21133083e-02,  2.29411013e-02,\n",
       "        -2.82337349e-02, -7.45845288e-02, -4.24495526e-02,\n",
       "         6.55822083e-02, -6.11139163e-02, -7.28332263e-04,\n",
       "         5.69855683e-02,  2.50476189e-02,  2.12494712e-02,\n",
       "        -1.82659291e-02, -5.31382747e-02, -1.09269135e-02,\n",
       "         3.79059017e-02,  5.87494224e-02, -6.37433901e-02,\n",
       "        -3.91748250e-02,  1.62105449e-02, -7.62959272e-02,\n",
       "        -2.94713192e-02, -7.08595812e-02,  2.06470843e-02,\n",
       "         2.43885033e-02, -6.72520399e-02,  1.02201803e-02,\n",
       "        -1.16054751e-02, -8.48966613e-02, -4.88621481e-02,\n",
       "        -5.36748115e-03,  4.26686481e-02, -2.03926098e-02,\n",
       "        -7.02707935e-03,  3.38591337e-02, -6.82017729e-02,\n",
       "         3.21171544e-02,  7.36077204e-02,  1.13053387e-02,\n",
       "        -4.19342108e-02,  4.68081422e-02, -4.40032175e-03,\n",
       "        -1.66779160e-02, -2.96821203e-02,  2.95766462e-02,\n",
       "        -3.77655067e-02, -2.71577835e-02,  6.52367075e-04,\n",
       "        -5.07338718e-02, -6.23562858e-02, -1.22359125e-02,\n",
       "        -5.04188240e-02, -3.57389040e-02,  2.13121157e-02,\n",
       "         3.33924666e-02,  2.45229006e-02, -4.01009172e-02,\n",
       "         2.71948054e-03, -5.31126969e-02,  4.00727019e-02,\n",
       "         9.84148961e-03,  5.49222864e-02,  1.40226586e-02,\n",
       "        -2.54176129e-02, -8.73514786e-02,  3.44231501e-02,\n",
       "         3.23317051e-02,  3.98435332e-02,  1.74264144e-02,\n",
       "        -7.36833513e-02,  8.76579247e-03, -3.85364778e-02,\n",
       "         5.78226969e-02,  9.89435464e-02, -6.04008399e-02,\n",
       "        -3.06758732e-02,  8.98924284e-03, -3.42267081e-02,\n",
       "         4.39672880e-02,  2.43684649e-02, -3.25473100e-02,\n",
       "         3.63353454e-02, -4.22893912e-02,  2.49348730e-02,\n",
       "        -7.62795880e-02, -3.98663245e-02,  1.15405638e-02,\n",
       "        -4.05879244e-02,  2.24313489e-03,  6.44910112e-02,\n",
       "         8.24962649e-03,  6.44921064e-02, -1.02085238e-02,\n",
       "         3.25866882e-03,  4.31257337e-02,  1.57518741e-02,\n",
       "        -2.39991378e-02,  8.38835016e-02,  3.93089764e-02,\n",
       "         5.94085976e-02, -5.19171879e-02, -3.03499065e-02,\n",
       "         6.63638860e-02, -4.26074862e-02, -2.22671963e-02,\n",
       "        -2.34304406e-02, -6.26924783e-02, -1.95838530e-02,\n",
       "        -3.68560813e-02,  6.59292117e-02, -8.68894532e-02,\n",
       "        -1.63895334e-03, -2.30136495e-02, -7.80494930e-03,\n",
       "         4.45403084e-02,  6.94903359e-02, -5.15521243e-02,\n",
       "        -5.72655201e-02, -8.46697688e-02, -2.70524044e-02,\n",
       "         6.40412420e-02,  4.94465530e-02, -2.22454164e-02,\n",
       "         5.00014462e-02,  5.48811108e-02, -1.51271618e-03,\n",
       "        -7.50172324e-03,  4.21359250e-03, -3.87189873e-02,\n",
       "         8.37722123e-02, -1.29833464e-02,  5.15913367e-02,\n",
       "         3.78623717e-02, -3.36331390e-02,  8.97380263e-02,\n",
       "        -1.18000535e-02, -2.79625412e-03, -2.86738062e-03,\n",
       "        -1.09309824e-02,  1.00343162e-02,  8.80487189e-02,\n",
       "        -1.21210944e-02, -6.23343065e-02, -6.53045475e-02,\n",
       "        -6.30548298e-02,  5.55445924e-02, -3.46706882e-02,\n",
       "         5.52202947e-02,  8.61001238e-02, -9.42295324e-03,\n",
       "         1.04102325e-02,  2.35415827e-02, -5.61574623e-02,\n",
       "        -2.84279641e-02,  3.62170488e-03,  5.01470231e-02,\n",
       "        -4.28044088e-02,  1.91854779e-02,  5.84354885e-02,\n",
       "        -5.50933070e-02,  1.92092974e-02,  7.01334178e-02,\n",
       "         3.62018943e-02, -8.89938138e-03,  2.65217237e-02,\n",
       "         6.94854856e-02,  1.57409459e-02,  8.89506713e-02,\n",
       "        -6.56562895e-02,  1.56482030e-02,  2.93978006e-02,\n",
       "        -7.19659850e-02, -3.71508487e-02, -6.41876459e-03,\n",
       "         2.66907103e-02,  2.80701127e-02,  7.67609403e-02,\n",
       "         4.32057977e-02,  7.79593736e-02,  5.05101718e-02,\n",
       "        -6.32141577e-03,  1.85516309e-02,  5.99349067e-02,\n",
       "         3.43307666e-02,  1.38421534e-02, -2.29649469e-02,\n",
       "         2.67172363e-02,  4.14035507e-02, -5.64998239e-02,\n",
       "        -9.40116197e-02,  2.79756412e-02,  4.94690165e-02,\n",
       "         2.96894629e-02, -8.02165046e-02, -1.23543469e-02,\n",
       "        -4.51301262e-02, -5.23940958e-02,  4.54925299e-02,\n",
       "        -6.78677438e-03,  4.93657477e-02, -4.67032976e-02,\n",
       "         5.86509593e-02, -2.08156854e-02,  2.41016578e-02,\n",
       "        -2.96050161e-02,  1.16462521e-02, -4.79350276e-02,\n",
       "        -1.71670169e-02,  5.69126084e-02,  1.07010640e-02,\n",
       "         3.31698693e-02,  5.36874905e-02,  5.16731013e-03,\n",
       "        -4.42796350e-02, -8.02591816e-02,  5.89276813e-02,\n",
       "        -9.26749967e-03,  4.72514667e-02, -6.51919469e-02,\n",
       "         6.18043579e-02,  4.45281453e-02, -9.07655247e-03,\n",
       "         5.31815849e-02, -7.84501731e-02, -2.81700063e-02,\n",
       "         1.23057584e-03,  2.08900850e-02,  4.35803719e-02,\n",
       "        -6.70595393e-02,  4.75105420e-02, -1.32799698e-02,\n",
       "         3.85218076e-02, -3.97112742e-02,  9.38208252e-02,\n",
       "         1.26294009e-02, -3.96141969e-02,  5.59523851e-02,\n",
       "         1.60658304e-02,  3.45526077e-02, -8.88671651e-02,\n",
       "        -4.03213203e-02, -2.54002362e-02]], dtype=float32)"
      ]
     },
     "execution_count": 12,
     "metadata": {},
     "output_type": "execute_result"
    }
   ],
   "source": [
    "sess.run(embedding,feed_dict={text:[\"talk to an agent\"]})"
   ]
  },
  {
   "cell_type": "code",
   "execution_count": 14,
   "metadata": {},
   "outputs": [],
   "source": [
    "use_output_path1= os.path.join(OUTPUT_PATH,'v1')"
   ]
  },
  {
   "cell_type": "code",
   "execution_count": 15,
   "metadata": {},
   "outputs": [
    {
     "data": {
      "text/plain": [
       "'/var/extra/users/jgeorge/tf2.0/USE_1.12/v1'"
      ]
     },
     "execution_count": 15,
     "metadata": {},
     "output_type": "execute_result"
    }
   ],
   "source": [
    "use_output_path1"
   ]
  },
  {
   "cell_type": "code",
   "execution_count": 16,
   "metadata": {},
   "outputs": [
    {
     "name": "stdout",
     "output_type": "stream",
     "text": [
      "WARNING:tensorflow:From /opt/custom/python/anaconda3/lib/python3.6/site-packages/tensorflow/python/saved_model/simple_save.py:85: calling SavedModelBuilder.add_meta_graph_and_variables (from tensorflow.python.saved_model.builder_impl) with legacy_init_op is deprecated and will be removed in a future version.\n",
      "Instructions for updating:\n",
      "Pass your op to the equivalent parameter main_op instead.\n",
      "INFO:tensorflow:Assets added to graph.\n",
      "INFO:tensorflow:No assets to write.\n",
      "INFO:tensorflow:SavedModel written to: /var/extra/users/jgeorge/tf2.0/USE_1.12/v1/saved_model.pb\n"
     ]
    }
   ],
   "source": [
    "tf.saved_model.simple_save(sess,use_output_path1,inputs={'input_text':text},outputs={'embedding':embedding},\n",
    "                           legacy_init_op=tf.tables_initializer())"
   ]
  },
  {
   "cell_type": "code",
   "execution_count": null,
   "metadata": {},
   "outputs": [],
   "source": [
    "with tf.Graph().as_default():\n",
    "  module = hub.Module(\"https://tfhub.dev/google/universal-sentence-encoder/2\")\n",
    "  text = tf.placeholder(tf.string, [None])\n",
    "  embedding = module(text)\n",
    "\n",
    "  init_op = tf.group([tf.global_variables_initializer(), \n",
    "  tf.tables_initializer()])\n",
    "  with tf.Session() as sess:\n",
    "  sess.run(init_op)\n",
    "    tf.saved_model.simple_save(\n",
    "    sess,\n",
    "    OUTPUT_PATH,\n",
    "    inputs = {\"text\": text},\n",
    "    outputs = {\"embedding\": embedding},\n",
    "    legacy_init_op = tf.tables_initializer()        \n",
    "   )"
   ]
  },
  {
   "cell_type": "code",
   "execution_count": 2,
   "metadata": {},
   "outputs": [],
   "source": [
    "import sys"
   ]
  },
  {
   "cell_type": "code",
   "execution_count": 3,
   "metadata": {},
   "outputs": [],
   "source": [
    "sys.path.extend([\"/var/extra/users/rsahay/Work/TF_SERVE_CHATBOT/\"])"
   ]
  },
  {
   "cell_type": "code",
   "execution_count": 4,
   "metadata": {},
   "outputs": [],
   "source": [
    "import os\n",
    "os.environ['TF_CPP_MIN_LOG_LEVEL']='2'\n",
    "import tensorflow as tf\n",
    "import json\n",
    "from transformer.transformer1 import Transformer\n"
   ]
  },
  {
   "cell_type": "code",
   "execution_count": 5,
   "metadata": {},
   "outputs": [],
   "source": [
    "# Context pre-processing\n",
    "tf.app.flags.DEFINE_string('agent_vocab_file', 'vocab_data/agent_dictionary_optus_08_07_2019.p', 'Path to decoder vocabulary')\n",
    "tf.app.flags.DEFINE_string('USE_embedding_dir', '/var/extra/users/praveen.r/projects/work/agent_reco/transformer/tf_hub_models/96e8f1d3d4d90ce86b2db128249eb8143a91db73/', 'Path to saved USE model')\n",
    "\n",
    "tf.app.flags.DEFINE_string('model_path', '/var/extra/users/rsahay/Work/Agent_Modelling/hist_avg_embed_context/model_final/transformer_chat_bot.ckpt-499200', 'Path to a specific model checkpoint.')\n",
    "tf.app.flags.DEFINE_integer('max_seq_length_enc',  20, 'Encoder maximum sequence length')\n",
    "\n",
    "# Runtime parameters\n",
    "tf.app.flags.DEFINE_boolean('allow_soft_placement', True, 'Allow device soft placement')\n",
    "tf.app.flags.DEFINE_boolean('log_device_placement', False, 'Log placement of ops on devices')\n",
    "\n",
    "tf.app.flags.DEFINE_integer('model_version', 1, 'version number of the model.')\n",
    "tf.app.flags.DEFINE_string('work_dir', './tmp', 'Working directory.')\n",
    "\n",
    "FLAGS = tf.app.flags.FLAGS\n"
   ]
  },
  {
   "cell_type": "code",
   "execution_count": 6,
   "metadata": {},
   "outputs": [
    {
     "ename": "AttributeError",
     "evalue": "module '__main__' has no attribute 'main'",
     "output_type": "error",
     "traceback": [
      "\u001b[0;31m---------------------------------------------------------------------------\u001b[0m",
      "\u001b[0;31mAttributeError\u001b[0m                            Traceback (most recent call last)",
      "\u001b[0;32m<ipython-input-6-d10a9cf14e41>\u001b[0m in \u001b[0;36m<module>\u001b[0;34m\u001b[0m\n\u001b[0;32m----> 1\u001b[0;31m \u001b[0mtf\u001b[0m\u001b[0;34m.\u001b[0m\u001b[0mapp\u001b[0m\u001b[0;34m.\u001b[0m\u001b[0mrun\u001b[0m\u001b[0;34m(\u001b[0m\u001b[0;34m)\u001b[0m\u001b[0;34m\u001b[0m\u001b[0;34m\u001b[0m\u001b[0m\n\u001b[0m",
      "\u001b[0;32m/opt/custom/python/anaconda3/lib/python3.6/site-packages/tensorflow/python/platform/app.py\u001b[0m in \u001b[0;36mrun\u001b[0;34m(main, argv)\u001b[0m\n\u001b[1;32m    119\u001b[0m   \u001b[0margv\u001b[0m \u001b[0;34m=\u001b[0m \u001b[0mflags\u001b[0m\u001b[0;34m.\u001b[0m\u001b[0mFLAGS\u001b[0m\u001b[0;34m(\u001b[0m\u001b[0m_sys\u001b[0m\u001b[0;34m.\u001b[0m\u001b[0margv\u001b[0m \u001b[0;32mif\u001b[0m \u001b[0margv\u001b[0m \u001b[0;32mis\u001b[0m \u001b[0;32mNone\u001b[0m \u001b[0;32melse\u001b[0m \u001b[0margv\u001b[0m\u001b[0;34m,\u001b[0m \u001b[0mknown_only\u001b[0m\u001b[0;34m=\u001b[0m\u001b[0;32mTrue\u001b[0m\u001b[0;34m)\u001b[0m\u001b[0;34m\u001b[0m\u001b[0;34m\u001b[0m\u001b[0m\n\u001b[1;32m    120\u001b[0m \u001b[0;34m\u001b[0m\u001b[0m\n\u001b[0;32m--> 121\u001b[0;31m   \u001b[0mmain\u001b[0m \u001b[0;34m=\u001b[0m \u001b[0mmain\u001b[0m \u001b[0;32mor\u001b[0m \u001b[0m_sys\u001b[0m\u001b[0;34m.\u001b[0m\u001b[0mmodules\u001b[0m\u001b[0;34m[\u001b[0m\u001b[0;34m'__main__'\u001b[0m\u001b[0;34m]\u001b[0m\u001b[0;34m.\u001b[0m\u001b[0mmain\u001b[0m\u001b[0;34m\u001b[0m\u001b[0;34m\u001b[0m\u001b[0m\n\u001b[0m\u001b[1;32m    122\u001b[0m \u001b[0;34m\u001b[0m\u001b[0m\n\u001b[1;32m    123\u001b[0m   \u001b[0;31m# Call the main function, passing through any arguments\u001b[0m\u001b[0;34m\u001b[0m\u001b[0;34m\u001b[0m\u001b[0;34m\u001b[0m\u001b[0m\n",
      "\u001b[0;31mAttributeError\u001b[0m: module '__main__' has no attribute 'main'"
     ]
    }
   ],
   "source": [
    "tf.app.run()"
   ]
  },
  {
   "cell_type": "code",
   "execution_count": 8,
   "metadata": {},
   "outputs": [
    {
     "data": {
      "text/plain": [
       "'/var/extra/users/rsahay/Work/Agent_Modelling/hist_avg_embed_context/model_final/transformer_chat_bot.ckpt-499200'"
      ]
     },
     "execution_count": 8,
     "metadata": {},
     "output_type": "execute_result"
    }
   ],
   "source": [
    "FLAGS.model_path"
   ]
  },
  {
   "cell_type": "code",
   "execution_count": 7,
   "metadata": {},
   "outputs": [
    {
     "data": {
      "text/plain": [
       "True"
      ]
     },
     "execution_count": 7,
     "metadata": {},
     "output_type": "execute_result"
    }
   ],
   "source": [
    "tf.train.checkpoint_exists(FLAGS.model_path)"
   ]
  },
  {
   "cell_type": "code",
   "execution_count": 8,
   "metadata": {},
   "outputs": [],
   "source": [
    "def load_config(FLAGS):\n",
    "\n",
    "    #config = util.unicode_to_utf8(\n",
    "    #    json.load(open('%s.json' % FLAGS.model_path, 'rb')))\n",
    "    config = json.load(open('%s.json' % FLAGS.model_path, 'r'))\n",
    "        # json.load(open('model/translate.ckpt-120.json', 'rb')))\n",
    "\n",
    "    # TO CHECK\n",
    "    # for key, value in FLAGS.__flags.items():\n",
    "        # config[key] = value\n",
    "\n",
    "    return config\n",
    "def load_model(session, config):\n",
    "\n",
    "    model = Transformer(config, 'decode')\n",
    "    if tf.train.checkpoint_exists(FLAGS.model_path):\n",
    "        print('Reloading model parameters..')\n",
    "        model.restore(session, FLAGS.model_path)\n",
    "    else:\n",
    "        raise ValueError(\n",
    "            'No such file:[{}]'.format(FLAGS.model_path))\n",
    "    return model\n"
   ]
  },
  {
   "cell_type": "code",
   "execution_count": 10,
   "metadata": {},
   "outputs": [],
   "source": [
    "config = load_config(FLAGS)\n"
   ]
  },
  {
   "cell_type": "code",
   "execution_count": 11,
   "metadata": {},
   "outputs": [],
   "source": [
    "# export_path = \"/var/extra/users/rsahay/Work/TF_SERVE_CHATBOT/tmp2\"\n",
    "export_path = \"/var/extra/users/jgeorge/Work/TF_SERVE_CHATBOT/tmp2/1\""
   ]
  },
  {
   "cell_type": "code",
   "execution_count": 39,
   "metadata": {},
   "outputs": [],
   "source": [
    "builder = tf.saved_model.builder.SavedModelBuilder(export_path)"
   ]
  },
  {
   "cell_type": "code",
   "execution_count": 12,
   "metadata": {},
   "outputs": [
    {
     "name": "stdout",
     "output_type": "stream",
     "text": [
      "building model..\n",
      "building encoder..\n"
     ]
    },
    {
     "name": "stderr",
     "output_type": "stream",
     "text": [
      "/opt/custom/python/anaconda3/lib/python3.6/site-packages/dask/config.py:168: YAMLLoadWarning: calling yaml.load() without Loader=... is deprecated, as the default Loader is unsafe. Please read https://msg.pyyaml.org/load for full details.\n",
      "  data = yaml.load(f.read()) or {}\n"
     ]
    },
    {
     "name": "stdout",
     "output_type": "stream",
     "text": [
      "building decoder..\n",
      "building decoder..\n",
      "building decoder..\n",
      "building decoder..\n",
      "building decoder..\n",
      "building decoder..\n",
      "building decoder..\n",
      "building decoder..\n",
      "building decoder..\n",
      "building decoder..\n",
      "building decoder..\n",
      "building decoder..\n",
      "building decoder..\n",
      "building decoder..\n",
      "building decoder..\n",
      "building decoder..\n",
      "building decoder..\n",
      "building decoder..\n",
      "building decoder..\n",
      "building decoder..\n",
      "building decoder..\n",
      "building decoder..\n",
      "building decoder..\n",
      "building decoder..\n",
      "building decoder..\n",
      "building decoder..\n",
      "building decoder..\n",
      "building decoder..\n",
      "building decoder..\n",
      "building decoder..\n",
      "building decoder..\n",
      "building decoder..\n",
      "building decoder..\n",
      "building decoder..\n",
      "building decoder..\n",
      "building decoder..\n",
      "building decoder..\n",
      "building decoder..\n",
      "building decoder..\n",
      "building decoder..\n",
      "building decoder..\n",
      "building decoder..\n",
      "building decoder..\n",
      "building decoder..\n",
      "building decoder..\n",
      "building decoder..\n",
      "building decoder..\n",
      "building decoder..\n",
      "building decoder..\n",
      "building decoder..\n",
      "building decoder..\n",
      "building decoder..\n",
      "building decoder..\n",
      "building decoder..\n",
      "building decoder..\n",
      "building decoder..\n",
      "building decoder..\n",
      "building decoder..\n",
      "building decoder..\n",
      "building decoder..\n",
      "building decoder..\n",
      "building decoder..\n",
      "building decoder..\n",
      "building decoder..\n",
      "building decoder..\n",
      "building decoder..\n",
      "building decoder..\n",
      "building decoder..\n",
      "building decoder..\n",
      "building decoder..\n",
      "building decoder..\n",
      "building decoder..\n",
      "building decoder..\n",
      "building decoder..\n",
      "building decoder..\n",
      "building decoder..\n",
      "building decoder..\n",
      "building decoder..\n",
      "building decoder..\n",
      "building decoder..\n",
      "building decoder..\n",
      "building decoder..\n",
      "building decoder..\n",
      "building decoder..\n",
      "building decoder..\n",
      "building decoder..\n",
      "building decoder..\n",
      "building decoder..\n",
      "building decoder..\n",
      "building decoder..\n",
      "building decoder..\n",
      "building decoder..\n",
      "building decoder..\n",
      "building decoder..\n",
      "building decoder..\n",
      "building decoder..\n",
      "building decoder..\n",
      "building decoder..\n",
      "building decoder..\n",
      "building decoder..\n",
      "building decoder..\n",
      "building decoder..\n",
      "building decoder..\n",
      "building decoder..\n",
      "building decoder..\n",
      "building decoder..\n",
      "building decoder..\n",
      "building decoder..\n",
      "building decoder..\n",
      "building decoder..\n",
      "building decoder..\n",
      "building decoder..\n",
      "building decoder..\n",
      "building decoder..\n",
      "building decoder..\n",
      "building decoder..\n",
      "building decoder..\n",
      "building decoder..\n",
      "building decoder..\n",
      "building decoder..\n",
      "building decoder..\n",
      "building decoder..\n",
      "building decoder..\n",
      "building decoder..\n",
      "building decoder..\n",
      "building decoder..\n",
      "building decoder..\n",
      "building decoder..\n",
      "building decoder..\n",
      "building decoder..\n",
      "building decoder..\n",
      "building decoder..\n",
      "building decoder..\n",
      "building decoder..\n",
      "building decoder..\n",
      "building decoder..\n",
      "building decoder..\n",
      "building decoder..\n",
      "building decoder..\n",
      "Reloading model parameters..\n",
      "INFO:tensorflow:Restoring parameters from /var/extra/users/rsahay/Work/Agent_Modelling/hist_avg_embed_context/model_final/transformer_chat_bot.ckpt-499200\n",
      "model restored from /var/extra/users/rsahay/Work/Agent_Modelling/hist_avg_embed_context/model_final/transformer_chat_bot.ckpt-499200\n"
     ]
    }
   ],
   "source": [
    "# tf.reset_default_graph()\n",
    "sess = tf.Session(config=tf.ConfigProto(allow_soft_placement=FLAGS.allow_soft_placement,\n",
    "log_device_placement=FLAGS.log_device_placement, gpu_options=tf.GPUOptions(allow_growth=True))) \n",
    "model = load_model(sess, config)\n",
    "sess.run([tf.tables_initializer()])\n",
    "export_path_base = FLAGS.work_dir\n",
    "#         export_path = os.path.join(\n",
    "#           tf.compat.as_bytes(export_path_base),\n",
    "#           tf.compat.as_bytes(str(FLAGS.model_version)))\n",
    "\n"
   ]
  },
  {
   "cell_type": "code",
   "execution_count": null,
   "metadata": {},
   "outputs": [],
   "source": [
    "export_path = \"/var/extra/users/jgeorge/Work/TF_SERVE_CHATBOT/tmp2/1\"\n",
    "print('Exporting trained model to', export_path)\n",
    "builder = tf.saved_model.builder.SavedModelBuilder(export_path)\n",
    "\n",
    "enc_inp_tensor = tf.saved_model.utils.build_tensor_info(model.encoder_inputs)\n",
    "crm_data_tensor = tf.saved_model.utils.build_tensor_info(model.crm_data)\n",
    "go_id_tensor =  tf.saved_model.utils.build_tensor_info(model.go_id_token)\n",
    "enc_atten_tensor = tf.saved_model.utils.build_tensor_info(model.enc_attention_length)\n",
    "dropout_tensor = tf.saved_model.utils.build_tensor_info(model.dropout_placeholder)\n",
    "\n",
    "pred_tensor = tf.saved_model.utils.build_tensor_info(model.predictions)\n",
    "\n",
    "prediction_signature = (\n",
    "    tf.saved_model.signature_def_utils.build_signature_def(\n",
    "        inputs={'enc_inputs': enc_inp_tensor, 'crm_data': crm_data_tensor, 'go_id_tensor': go_id_tensor, 'enc_atten_tensor': enc_atten_tensor, 'dropout_tensor': dropout_tensor},\n",
    "        outputs={'prediction': pred_tensor},\n",
    "        method_name=tf.saved_model.signature_constants.PREDICT_METHOD_NAME))\n",
    "\n",
    "legacy_init_op = tf.group(tf.tables_initializer(), name='legacy_init_op')\n",
    "builder.add_meta_graph_and_variables(\n",
    "    sess, [tf.saved_model.tag_constants.SERVING],\n",
    "    signature_def_map={\n",
    "        'prediction':\n",
    "            prediction_signature,\n",
    "    },\n",
    "    legacy_init_op=legacy_init_op, saver=model.saver)\n",
    "\n",
    "builder.save()\n",
    "\n",
    "loaded = tf.saved_model.load(sess= sess, export_dir = export_path, tags =None)\n",
    "\n",
    "print(list(loaded.signatures.keys()))\n",
    "\n",
    "\n",
    "print('Done exporting!')"
   ]
  },
  {
   "cell_type": "code",
   "execution_count": 15,
   "metadata": {},
   "outputs": [
    {
     "data": {
      "text/plain": [
       "<tensorflow.python.training.saver.Saver at 0x7fdb464642b0>"
      ]
     },
     "execution_count": 15,
     "metadata": {},
     "output_type": "execute_result"
    }
   ],
   "source": [
    "model.saver"
   ]
  },
  {
   "cell_type": "code",
   "execution_count": 26,
   "metadata": {},
   "outputs": [
    {
     "name": "stdout",
     "output_type": "stream",
     "text": [
      "model saved at /var/extra/users/jgeorge/Work/TF_SERVE_CHATBOT/tmp2/3\n"
     ]
    }
   ],
   "source": [
    "export_path3 = \"/var/extra/users/jgeorge/Work/TF_SERVE_CHATBOT/tmp2/3\"\n",
    "model.save(sess,export_path3)"
   ]
  },
  {
   "cell_type": "code",
   "execution_count": 17,
   "metadata": {},
   "outputs": [],
   "source": [
    "export_path2 = \"/var/extra/users/jgeorge/Work/TF_SERVE_CHATBOT/tmp2/2\""
   ]
  },
  {
   "cell_type": "code",
   "execution_count": null,
   "metadata": {},
   "outputs": [],
   "source": [
    "enc_inp_tensor = tf.saved_model.utils.build_tensor_info(model.encoder_inputs)\n",
    "crm_data_tensor = tf.saved_model.utils.build_tensor_info(model.crm_data)\n",
    "go_id_tensor =  tf.saved_model.utils.build_tensor_info(model.go_id_token)\n",
    "enc_atten_tensor = tf.saved_model.utils.build_tensor_info(model.enc_attention_length)\n",
    "dropout_tensor = tf.saved_model.utils.build_tensor_info(model.dropout_placeholder)\n",
    "\n",
    "pred_tensor = tf.saved_model.utils.build_tensor_info(model.predictions)"
   ]
  },
  {
   "cell_type": "code",
   "execution_count": 22,
   "metadata": {},
   "outputs": [],
   "source": [
    "inputs_dict={'enc_inputs': model.encoder_inputs, 'crm_data': model.crm_data, 'go_id_tensor': model.go_id_token, \n",
    "             'enc_atten_tensor': model.enc_attention_length, 'dropout_tensor': model.dropout_placeholder}\n",
    "outputs_dict={'prediction': model.predictions}"
   ]
  },
  {
   "cell_type": "code",
   "execution_count": 23,
   "metadata": {},
   "outputs": [
    {
     "name": "stdout",
     "output_type": "stream",
     "text": [
      "INFO:tensorflow:Assets added to graph.\n",
      "INFO:tensorflow:No assets to write.\n"
     ]
    },
    {
     "ename": "ValueError",
     "evalue": "Graph already contains one or more main ops under the collection saved_model_main_op.",
     "output_type": "error",
     "traceback": [
      "\u001b[0;31m---------------------------------------------------------------------------\u001b[0m",
      "\u001b[0;31mValueError\u001b[0m                                Traceback (most recent call last)",
      "\u001b[0;32m<ipython-input-23-4bb3d3ad1d8a>\u001b[0m in \u001b[0;36m<module>\u001b[0;34m\u001b[0m\n\u001b[1;32m      1\u001b[0m \u001b[0;34m\u001b[0m\u001b[0m\n\u001b[1;32m      2\u001b[0m tf.saved_model.simple_save(sess,export_path2,inputs=inputs_dict,outputs=outputs_dict,\n\u001b[0;32m----> 3\u001b[0;31m                            legacy_init_op=tf.tables_initializer())\n\u001b[0m",
      "\u001b[0;32m/opt/custom/python/anaconda3/lib/python3.6/site-packages/tensorflow/python/saved_model/simple_save.py\u001b[0m in \u001b[0;36msimple_save\u001b[0;34m(session, export_dir, inputs, outputs, legacy_init_op)\u001b[0m\n\u001b[1;32m     83\u001b[0m       \u001b[0massets_collection\u001b[0m\u001b[0;34m=\u001b[0m\u001b[0mops\u001b[0m\u001b[0;34m.\u001b[0m\u001b[0mget_collection\u001b[0m\u001b[0;34m(\u001b[0m\u001b[0mops\u001b[0m\u001b[0;34m.\u001b[0m\u001b[0mGraphKeys\u001b[0m\u001b[0;34m.\u001b[0m\u001b[0mASSET_FILEPATHS\u001b[0m\u001b[0;34m)\u001b[0m\u001b[0;34m,\u001b[0m\u001b[0;34m\u001b[0m\u001b[0;34m\u001b[0m\u001b[0m\n\u001b[1;32m     84\u001b[0m       \u001b[0mlegacy_init_op\u001b[0m\u001b[0;34m=\u001b[0m\u001b[0mlegacy_init_op\u001b[0m\u001b[0;34m,\u001b[0m\u001b[0;34m\u001b[0m\u001b[0;34m\u001b[0m\u001b[0m\n\u001b[0;32m---> 85\u001b[0;31m       clear_devices=True)\n\u001b[0m\u001b[1;32m     86\u001b[0m   \u001b[0mb\u001b[0m\u001b[0;34m.\u001b[0m\u001b[0msave\u001b[0m\u001b[0;34m(\u001b[0m\u001b[0;34m)\u001b[0m\u001b[0;34m\u001b[0m\u001b[0;34m\u001b[0m\u001b[0m\n",
      "\u001b[0;32m/opt/custom/python/anaconda3/lib/python3.6/site-packages/tensorflow/python/util/deprecation.py\u001b[0m in \u001b[0;36mnew_func\u001b[0;34m(*args, **kwargs)\u001b[0m\n\u001b[1;32m    486\u001b[0m                 \u001b[0;34m'in a future version'\u001b[0m \u001b[0;32mif\u001b[0m \u001b[0mdate\u001b[0m \u001b[0;32mis\u001b[0m \u001b[0;32mNone\u001b[0m \u001b[0;32melse\u001b[0m \u001b[0;34m(\u001b[0m\u001b[0;34m'after %s'\u001b[0m \u001b[0;34m%\u001b[0m \u001b[0mdate\u001b[0m\u001b[0;34m)\u001b[0m\u001b[0;34m,\u001b[0m\u001b[0;34m\u001b[0m\u001b[0;34m\u001b[0m\u001b[0m\n\u001b[1;32m    487\u001b[0m                 instructions)\n\u001b[0;32m--> 488\u001b[0;31m       \u001b[0;32mreturn\u001b[0m \u001b[0mfunc\u001b[0m\u001b[0;34m(\u001b[0m\u001b[0;34m*\u001b[0m\u001b[0margs\u001b[0m\u001b[0;34m,\u001b[0m \u001b[0;34m**\u001b[0m\u001b[0mkwargs\u001b[0m\u001b[0;34m)\u001b[0m\u001b[0;34m\u001b[0m\u001b[0;34m\u001b[0m\u001b[0m\n\u001b[0m\u001b[1;32m    489\u001b[0m     return tf_decorator.make_decorator(func, new_func, 'deprecated',\n\u001b[1;32m    490\u001b[0m                                        _add_deprecated_arg_notice_to_docstring(\n",
      "\u001b[0;32m/opt/custom/python/anaconda3/lib/python3.6/site-packages/tensorflow/python/saved_model/builder_impl.py\u001b[0m in \u001b[0;36madd_meta_graph_and_variables\u001b[0;34m(self, sess, tags, signature_def_map, assets_collection, legacy_init_op, clear_devices, main_op, strip_default_attrs, saver)\u001b[0m\n\u001b[1;32m    408\u001b[0m \u001b[0;34m\u001b[0m\u001b[0m\n\u001b[1;32m    409\u001b[0m     \u001b[0;31m# Add assets and ops\u001b[0m\u001b[0;34m\u001b[0m\u001b[0;34m\u001b[0m\u001b[0;34m\u001b[0m\u001b[0m\n\u001b[0;32m--> 410\u001b[0;31m     \u001b[0mself\u001b[0m\u001b[0;34m.\u001b[0m\u001b[0m_add_collections\u001b[0m\u001b[0;34m(\u001b[0m\u001b[0massets_collection\u001b[0m\u001b[0;34m,\u001b[0m \u001b[0mmain_op\u001b[0m\u001b[0;34m,\u001b[0m \u001b[0;32mNone\u001b[0m\u001b[0;34m)\u001b[0m\u001b[0;34m\u001b[0m\u001b[0;34m\u001b[0m\u001b[0m\n\u001b[0m\u001b[1;32m    411\u001b[0m \u001b[0;34m\u001b[0m\u001b[0m\n\u001b[1;32m    412\u001b[0m     \u001b[0msaved_model_utils\u001b[0m\u001b[0;34m.\u001b[0m\u001b[0mget_or_create_variables_dir\u001b[0m\u001b[0;34m(\u001b[0m\u001b[0mself\u001b[0m\u001b[0;34m.\u001b[0m\u001b[0m_export_dir\u001b[0m\u001b[0;34m)\u001b[0m\u001b[0;34m\u001b[0m\u001b[0;34m\u001b[0m\u001b[0m\n",
      "\u001b[0;32m/opt/custom/python/anaconda3/lib/python3.6/site-packages/tensorflow/python/saved_model/builder_impl.py\u001b[0m in \u001b[0;36m_add_collections\u001b[0;34m(self, assets_collection, main_op, train_op)\u001b[0m\n\u001b[1;32m    257\u001b[0m     \u001b[0mself\u001b[0m\u001b[0;34m.\u001b[0m\u001b[0m_save_and_write_assets\u001b[0m\u001b[0;34m(\u001b[0m\u001b[0massets_collection\u001b[0m\u001b[0;34m)\u001b[0m\u001b[0;34m\u001b[0m\u001b[0;34m\u001b[0m\u001b[0m\n\u001b[1;32m    258\u001b[0m \u001b[0;34m\u001b[0m\u001b[0m\n\u001b[0;32m--> 259\u001b[0;31m     \u001b[0mself\u001b[0m\u001b[0;34m.\u001b[0m\u001b[0m_maybe_add_main_op\u001b[0m\u001b[0;34m(\u001b[0m\u001b[0mmain_op\u001b[0m\u001b[0;34m)\u001b[0m\u001b[0;34m\u001b[0m\u001b[0;34m\u001b[0m\u001b[0m\n\u001b[0m\u001b[1;32m    260\u001b[0m \u001b[0;34m\u001b[0m\u001b[0m\n\u001b[1;32m    261\u001b[0m     \u001b[0mself\u001b[0m\u001b[0;34m.\u001b[0m\u001b[0m_add_train_op\u001b[0m\u001b[0;34m(\u001b[0m\u001b[0mtrain_op\u001b[0m\u001b[0;34m)\u001b[0m\u001b[0;34m\u001b[0m\u001b[0;34m\u001b[0m\u001b[0m\n",
      "\u001b[0;32m/opt/custom/python/anaconda3/lib/python3.6/site-packages/tensorflow/python/saved_model/builder_impl.py\u001b[0m in \u001b[0;36m_maybe_add_main_op\u001b[0;34m(self, main_op)\u001b[0m\n\u001b[1;32m    158\u001b[0m         raise ValueError(\n\u001b[1;32m    159\u001b[0m             \u001b[0;34m\"Graph already contains one or more main ops under the \"\u001b[0m\u001b[0;34m\u001b[0m\u001b[0;34m\u001b[0m\u001b[0m\n\u001b[0;32m--> 160\u001b[0;31m             \"collection {}.\".format(init_op_key))\n\u001b[0m\u001b[1;32m    161\u001b[0m \u001b[0;34m\u001b[0m\u001b[0m\n\u001b[1;32m    162\u001b[0m     \u001b[0mops\u001b[0m\u001b[0;34m.\u001b[0m\u001b[0madd_to_collection\u001b[0m\u001b[0;34m(\u001b[0m\u001b[0mconstants\u001b[0m\u001b[0;34m.\u001b[0m\u001b[0mMAIN_OP_KEY\u001b[0m\u001b[0;34m,\u001b[0m \u001b[0mmain_op\u001b[0m\u001b[0;34m)\u001b[0m\u001b[0;34m\u001b[0m\u001b[0;34m\u001b[0m\u001b[0m\n",
      "\u001b[0;31mValueError\u001b[0m: Graph already contains one or more main ops under the collection saved_model_main_op."
     ]
    }
   ],
   "source": [
    "\n",
    "tf.saved_model.simple_save(sess,export_path2,inputs=inputs_dict,outputs=outputs_dict,\n",
    "                           legacy_init_op=tf.tables_initializer())"
   ]
  },
  {
   "cell_type": "code",
   "execution_count": null,
   "metadata": {},
   "outputs": [],
   "source": []
  },
  {
   "cell_type": "code",
   "execution_count": null,
   "metadata": {},
   "outputs": [],
   "source": []
  },
  {
   "cell_type": "code",
   "execution_count": null,
   "metadata": {},
   "outputs": [],
   "source": []
  },
  {
   "cell_type": "code",
   "execution_count": null,
   "metadata": {},
   "outputs": [],
   "source": []
  }
 ],
 "metadata": {
  "kernelspec": {
   "display_name": "Python 3",
   "language": "python",
   "name": "python3"
  },
  "language_info": {
   "codemirror_mode": {
    "name": "ipython",
    "version": 3
   },
   "file_extension": ".py",
   "mimetype": "text/x-python",
   "name": "python",
   "nbconvert_exporter": "python",
   "pygments_lexer": "ipython3",
   "version": "3.6.8"
  }
 },
 "nbformat": 4,
 "nbformat_minor": 2
}
