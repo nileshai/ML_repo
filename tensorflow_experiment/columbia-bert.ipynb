{
 "cells": [
  {
   "cell_type": "code",
   "execution_count": 1,
   "metadata": {},
   "outputs": [
    {
     "name": "stdout",
     "output_type": "stream",
     "text": [
      "tensorflow version :  1.15.0\n",
      "tensorflow_hub version :  0.7.0\n"
     ]
    }
   ],
   "source": [
    "### Based on https://analyticsindiamag.com/step-by-step-guide-to-implement-multi-class-classification-with-bert-tensorflow/\n",
    "import tensorflow as tf\n",
    "import tensorflow_hub as hub\n",
    "from datetime import datetime\n",
    "from sklearn.model_selection import train_test_split\n",
    "import os\n",
    "import pandas as pd\n",
    "from sklearn.preprocessing import LabelEncoder\n",
    "print(\"tensorflow version : \", tf.__version__)\n",
    "print(\"tensorflow_hub version : \", hub.__version__)"
   ]
  },
  {
   "cell_type": "code",
   "execution_count": 2,
   "metadata": {},
   "outputs": [
    {
     "name": "stdout",
     "output_type": "stream",
     "text": [
      "WARNING:tensorflow:From /opt/custom/python/anaconda3/envs/tf1.15/lib/python3.7/site-packages/bert/optimization.py:87: The name tf.train.Optimizer is deprecated. Please use tf.compat.v1.train.Optimizer instead.\n",
      "\n"
     ]
    }
   ],
   "source": [
    "import bert\n",
    "from bert import run_classifier\n",
    "from bert import optimization\n",
    "from bert import tokenization"
   ]
  },
  {
   "cell_type": "code",
   "execution_count": 3,
   "metadata": {},
   "outputs": [
    {
     "name": "stdout",
     "output_type": "stream",
     "text": [
      "***** Model output directory: models/23Jan/ *****\n"
     ]
    }
   ],
   "source": [
    "OUTPUT_DIR ='models/23Jan/'\n",
    "#@markdown Whether or not to clear/delete the directory and create a new one\n",
    "DO_DELETE = False #@param {type:\"boolean\"}\n",
    "\n",
    "if DO_DELETE:\n",
    "  try:\n",
    "    tf.gfile.DeleteRecursively(OUTPUT_DIR)\n",
    "  except:\n",
    "    pass\n",
    "\n",
    "tf.gfile.MakeDirs(OUTPUT_DIR)\n",
    "print('***** Model output directory: {} *****'.format(OUTPUT_DIR))"
   ]
  },
  {
   "cell_type": "code",
   "execution_count": 4,
   "metadata": {},
   "outputs": [
    {
     "name": "stdout",
     "output_type": "stream",
     "text": [
      "Thu Jan 23 04:15:33 2020       \n",
      "+-----------------------------------------------------------------------------+\n",
      "| NVIDIA-SMI 430.40       Driver Version: 430.40       CUDA Version: 10.1     |\n",
      "|-------------------------------+----------------------+----------------------+\n",
      "| GPU  Name        Persistence-M| Bus-Id        Disp.A | Volatile Uncorr. ECC |\n",
      "| Fan  Temp  Perf  Pwr:Usage/Cap|         Memory-Usage | GPU-Util  Compute M. |\n",
      "|===============================+======================+======================|\n",
      "|   0  GeForce GTX 108...  Off  | 00000000:04:00.0 Off |                  N/A |\n",
      "| 21%   33C    P8     9W / 250W |  11072MiB / 11178MiB |      0%      Default |\n",
      "+-------------------------------+----------------------+----------------------+\n",
      "|   1  GeForce GTX 108...  Off  | 00000000:06:00.0 Off |                  N/A |\n",
      "| 21%   25C    P8     8W / 250W |   8618MiB / 11178MiB |      0%      Default |\n",
      "+-------------------------------+----------------------+----------------------+\n",
      "|   2  GeForce GTX 108...  Off  | 00000000:07:00.0 Off |                  N/A |\n",
      "| 21%   21C    P8     8W / 250W |    641MiB / 11178MiB |      0%      Default |\n",
      "+-------------------------------+----------------------+----------------------+\n",
      "|   3  GeForce GTX 108...  Off  | 00000000:08:00.0 Off |                  N/A |\n",
      "| 21%   22C    P8     8W / 250W |    378MiB / 11178MiB |      0%      Default |\n",
      "+-------------------------------+----------------------+----------------------+\n",
      "|   4  GeForce GTX 108...  Off  | 00000000:0C:00.0 Off |                  N/A |\n",
      "| 21%   22C    P8     9W / 250W |    149MiB / 11178MiB |      0%      Default |\n",
      "+-------------------------------+----------------------+----------------------+\n",
      "|   5  GeForce GTX 108...  Off  | 00000000:0D:00.0 Off |                  N/A |\n",
      "| 21%   23C    P8     8W / 250W |    149MiB / 11178MiB |      0%      Default |\n",
      "+-------------------------------+----------------------+----------------------+\n",
      "|   6  GeForce GTX 108...  Off  | 00000000:0E:00.0 Off |                  N/A |\n",
      "| 21%   19C    P8     8W / 250W |    151MiB / 11178MiB |      0%      Default |\n",
      "+-------------------------------+----------------------+----------------------+\n",
      "|   7  GeForce GTX 108...  Off  | 00000000:0F:00.0 Off |                  N/A |\n",
      "| 21%   21C    P8     9W / 250W |    151MiB / 11178MiB |      0%      Default |\n",
      "+-------------------------------+----------------------+----------------------+\n",
      "                                                                               \n",
      "+-----------------------------------------------------------------------------+\n",
      "| Processes:                                                       GPU Memory |\n",
      "|  GPU       PID   Type   Process name                             Usage      |\n",
      "|=============================================================================|\n",
      "|    0     24503      C   ...python/anaconda3/envs/tf1.15/bin/python 10885MiB |\n",
      "|    0     33827      C   /opt/custom/python/anaconda3/bin/python      175MiB |\n",
      "|    1     11615      C   ...python/anaconda3/envs/tf1.15/bin/python  8465MiB |\n",
      "|    1     24503      C   ...python/anaconda3/envs/tf1.15/bin/python   137MiB |\n",
      "|    2     24196      C   .../python/anaconda3/envs/tf2.0/bin/python   137MiB |\n",
      "|    2     24503      C   ...python/anaconda3/envs/tf1.15/bin/python   137MiB |\n",
      "|    2     38373      C   .../python/anaconda3/envs/tf2.0/bin/python   353MiB |\n",
      "|    3     20313      C   .../python/anaconda3/envs/tf2.0/bin/python   229MiB |\n",
      "|    3     24503      C   ...python/anaconda3/envs/tf1.15/bin/python   137MiB |\n",
      "|    4     24503      C   ...python/anaconda3/envs/tf1.15/bin/python   137MiB |\n",
      "|    5     24503      C   ...python/anaconda3/envs/tf1.15/bin/python   137MiB |\n",
      "|    6     24503      C   ...python/anaconda3/envs/tf1.15/bin/python   137MiB |\n",
      "|    7     24503      C   ...python/anaconda3/envs/tf1.15/bin/python   137MiB |\n",
      "+-----------------------------------------------------------------------------+\n"
     ]
    }
   ],
   "source": [
    "!nvidia-smi"
   ]
  },
  {
   "cell_type": "code",
   "execution_count": 5,
   "metadata": {},
   "outputs": [
    {
     "name": "stdout",
     "output_type": "stream",
     "text": [
      "[PhysicalDevice(name='/physical_device:GPU:4', device_type='GPU')]\n"
     ]
    }
   ],
   "source": [
    "gpus = tf.config.experimental.list_physical_devices('GPU')\n",
    "device_to_use = gpus[4]\n",
    "tf.config.experimental.set_memory_growth(device_to_use,True)\n",
    "tf.config.experimental.set_visible_devices(device_to_use, 'GPU')\n",
    "print(tf.config.experimental.get_visible_devices('GPU'))"
   ]
  },
  {
   "cell_type": "code",
   "execution_count": 6,
   "metadata": {},
   "outputs": [],
   "source": [
    "session_config = tf.ConfigProto(gpu_options=tf.GPUOptions(allow_growth=True,visible_device_list = '4'))"
   ]
  },
  {
   "cell_type": "code",
   "execution_count": 7,
   "metadata": {},
   "outputs": [],
   "source": [
    "os.environ[\"TFHUB_CACHE_DIR\"] = '/space/engineering/tfhub_modules'"
   ]
  },
  {
   "cell_type": "code",
   "execution_count": 8,
   "metadata": {},
   "outputs": [],
   "source": [
    "df = pd.read_csv('data/columbia.csv',sep=',',encoding='utf-8')"
   ]
  },
  {
   "cell_type": "code",
   "execution_count": 9,
   "metadata": {},
   "outputs": [],
   "source": [
    "df = df.reset_index(drop=True)"
   ]
  },
  {
   "cell_type": "code",
   "execution_count": 10,
   "metadata": {},
   "outputs": [
    {
     "data": {
      "text/html": [
       "<div>\n",
       "<style scoped>\n",
       "    .dataframe tbody tr th:only-of-type {\n",
       "        vertical-align: middle;\n",
       "    }\n",
       "\n",
       "    .dataframe tbody tr th {\n",
       "        vertical-align: top;\n",
       "    }\n",
       "\n",
       "    .dataframe thead th {\n",
       "        text-align: right;\n",
       "    }\n",
       "</style>\n",
       "<table border=\"1\" class=\"dataframe\">\n",
       "  <thead>\n",
       "    <tr style=\"text-align: right;\">\n",
       "      <th></th>\n",
       "      <th>Session_id</th>\n",
       "      <th>Free_Text</th>\n",
       "      <th>RU_Tag</th>\n",
       "    </tr>\n",
       "  </thead>\n",
       "  <tbody>\n",
       "    <tr>\n",
       "      <th>0</th>\n",
       "      <td>INT-sv1appis11-1539193816745-341861</td>\n",
       "      <td>The the Downpour II jacket being phased out or...</td>\n",
       "      <td>Shopping_Query</td>\n",
       "    </tr>\n",
       "    <tr>\n",
       "      <th>1</th>\n",
       "      <td>INT-sv1appis11-1539200026744-344366</td>\n",
       "      <td>hi this is chris ## chris who works here lol #...</td>\n",
       "      <td>None_None</td>\n",
       "    </tr>\n",
       "    <tr>\n",
       "      <th>2</th>\n",
       "      <td>INT-sv1appis11-1539201066821-344791</td>\n",
       "      <td>the Canuk Titanium omin-heat 3D outdry Ex Boot?</td>\n",
       "      <td>Shopping_Query</td>\n",
       "    </tr>\n",
       "    <tr>\n",
       "      <th>3</th>\n",
       "      <td>INT-sv1appis11-1539201218354-344847</td>\n",
       "      <td>Can you cal me XXXX-XXXX-74 ## Can you call me...</td>\n",
       "      <td>None_None</td>\n",
       "    </tr>\n",
       "    <tr>\n",
       "      <th>4</th>\n",
       "      <td>INT-sv1appis11-1539202397866-345288</td>\n",
       "      <td>Im looking for a light weight jacket for clim...</td>\n",
       "      <td>Shopping_Query</td>\n",
       "    </tr>\n",
       "  </tbody>\n",
       "</table>\n",
       "</div>"
      ],
      "text/plain": [
       "                            Session_id  \\\n",
       "0  INT-sv1appis11-1539193816745-341861   \n",
       "1  INT-sv1appis11-1539200026744-344366   \n",
       "2  INT-sv1appis11-1539201066821-344791   \n",
       "3  INT-sv1appis11-1539201218354-344847   \n",
       "4  INT-sv1appis11-1539202397866-345288   \n",
       "\n",
       "                                           Free_Text          RU_Tag  \n",
       "0  The the Downpour II jacket being phased out or...  Shopping_Query  \n",
       "1  hi this is chris ## chris who works here lol #...       None_None  \n",
       "2   the Canuk Titanium omin-heat 3D outdry Ex Boot?   Shopping_Query  \n",
       "3  Can you cal me XXXX-XXXX-74 ## Can you call me...       None_None  \n",
       "4   Im looking for a light weight jacket for clim...  Shopping_Query  "
      ]
     },
     "execution_count": 10,
     "metadata": {},
     "output_type": "execute_result"
    }
   ],
   "source": [
    "df.head(5)"
   ]
  },
  {
   "cell_type": "code",
   "execution_count": 11,
   "metadata": {},
   "outputs": [],
   "source": [
    "LABEL_COLUMN = 'RU_Tag'\n",
    "DATA_COLUMN = 'Free_Text'"
   ]
  },
  {
   "cell_type": "code",
   "execution_count": 12,
   "metadata": {},
   "outputs": [
    {
     "data": {
      "text/plain": [
       "LabelEncoder()"
      ]
     },
     "execution_count": 12,
     "metadata": {},
     "output_type": "execute_result"
    }
   ],
   "source": [
    "le = LabelEncoder()\n",
    "le.fit(df[LABEL_COLUMN].unique())"
   ]
  },
  {
   "cell_type": "code",
   "execution_count": 13,
   "metadata": {},
   "outputs": [],
   "source": [
    "y = df[LABEL_COLUMN]\n",
    "y = pd.Series(le.transform(y))"
   ]
  },
  {
   "cell_type": "code",
   "execution_count": 14,
   "metadata": {},
   "outputs": [],
   "source": [
    "X_train, X_test, y_train, y_test = train_test_split(df[DATA_COLUMN],y,train_size=0.8,random_state=2019)"
   ]
  },
  {
   "cell_type": "code",
   "execution_count": 15,
   "metadata": {},
   "outputs": [],
   "source": [
    "df_train = pd.DataFrame(X_train)\n",
    "df_train[LABEL_COLUMN] = y_train\n",
    "df_train#.astype({'ru_tag': 'int64'})\n",
    "df_test = pd.DataFrame(X_test)\n",
    "df_test[LABEL_COLUMN] = y_test"
   ]
  },
  {
   "cell_type": "code",
   "execution_count": 16,
   "metadata": {},
   "outputs": [],
   "source": [
    "labels = sorted(df[LABEL_COLUMN].unique())\n",
    "#labels_actual = sorted(df['ru_tag'].unique())\n",
    "label_list = range(len(labels))"
   ]
  },
  {
   "cell_type": "code",
   "execution_count": 17,
   "metadata": {},
   "outputs": [
    {
     "data": {
      "text/plain": [
       "65"
      ]
     },
     "execution_count": 17,
     "metadata": {},
     "output_type": "execute_result"
    }
   ],
   "source": [
    "len(labels)"
   ]
  },
  {
   "cell_type": "code",
   "execution_count": 18,
   "metadata": {},
   "outputs": [],
   "source": [
    "train_InputExamples = df_train.apply(lambda x: bert.run_classifier.InputExample(guid=None,\n",
    "                                                                   text_a = x[DATA_COLUMN], \n",
    "                                                                   text_b = None, \n",
    "                                                                   label = x[LABEL_COLUMN]), axis = 1)\n",
    "val_InputExamples = df_test.apply(lambda x: bert.run_classifier.InputExample(guid=None, \n",
    "                                                                   text_a = x[DATA_COLUMN], \n",
    "                                                                   text_b = None, \n",
    "                                                                   label = x[LABEL_COLUMN]), axis = 1)\n"
   ]
  },
  {
   "cell_type": "code",
   "execution_count": 19,
   "metadata": {},
   "outputs": [
    {
     "data": {
      "text/plain": [
       "'Do you have big and tall sizes?'"
      ]
     },
     "execution_count": 19,
     "metadata": {},
     "output_type": "execute_result"
    }
   ],
   "source": [
    "train_InputExamples.iloc[0].text_a"
   ]
  },
  {
   "cell_type": "code",
   "execution_count": 20,
   "metadata": {},
   "outputs": [
    {
     "name": "stdout",
     "output_type": "stream",
     "text": [
      "Row 0 - guid of training set :  None\n",
      "\n",
      "__________\n",
      "Row 0 - text_a of training set :  Do you have big and tall sizes?\n",
      "\n",
      "__________\n",
      "Row 0 - text_b of training set :  None\n",
      "\n",
      "__________\n",
      "Row 0 - label of training set :  42\n"
     ]
    }
   ],
   "source": [
    "print(\"Row 0 - guid of training set : \", train_InputExamples.iloc[0].guid)\n",
    "print(\"\\n__________\\nRow 0 - text_a of training set : \", train_InputExamples.iloc[0].text_a)\n",
    "print(\"\\n__________\\nRow 0 - text_b of training set : \", train_InputExamples.iloc[0].text_b)\n",
    "print(\"\\n__________\\nRow 0 - label of training set : \", train_InputExamples.iloc[0].label)"
   ]
  },
  {
   "cell_type": "code",
   "execution_count": 21,
   "metadata": {},
   "outputs": [
    {
     "name": "stdout",
     "output_type": "stream",
     "text": [
      "INFO:tensorflow:Saver not created because there are no variables in the graph to restore\n"
     ]
    },
    {
     "name": "stderr",
     "output_type": "stream",
     "text": [
      "INFO:tensorflow:Saver not created because there are no variables in the graph to restore\n"
     ]
    },
    {
     "name": "stdout",
     "output_type": "stream",
     "text": [
      "WARNING:tensorflow:From /opt/custom/python/anaconda3/envs/tf1.15/lib/python3.7/site-packages/bert/tokenization.py:125: The name tf.gfile.GFile is deprecated. Please use tf.io.gfile.GFile instead.\n",
      "\n"
     ]
    },
    {
     "name": "stderr",
     "output_type": "stream",
     "text": [
      "WARNING:tensorflow:From /opt/custom/python/anaconda3/envs/tf1.15/lib/python3.7/site-packages/bert/tokenization.py:125: The name tf.gfile.GFile is deprecated. Please use tf.io.gfile.GFile instead.\n",
      "\n"
     ]
    }
   ],
   "source": [
    "# This is a path to an uncased (all lowercase) version of BERT\n",
    "BERT_MODEL_HUB = \"https://tfhub.dev/google/bert_uncased_L-12_H-768_A-12/1\"\n",
    "#BERT_MODEL_HUB = \"https://tfhub.dev/google/bert_uncased_L-24_H-1024_A-16/1\"\n",
    "def create_tokenizer_from_hub_module():\n",
    "  \"\"\"Get the vocab file and casing info from the Hub module.\"\"\"\n",
    "  with tf.Graph().as_default():\n",
    "    bert_module = hub.Module(BERT_MODEL_HUB)\n",
    "    tokenization_info = bert_module(signature=\"tokenization_info\", as_dict=True)\n",
    "    with tf.Session(config = session_config) as sess:\n",
    "      vocab_file, do_lower_case = sess.run([tokenization_info[\"vocab_file\"],\n",
    "                                            tokenization_info[\"do_lower_case\"]])\n",
    "      \n",
    "  return bert.tokenization.FullTokenizer(\n",
    "      vocab_file=vocab_file, do_lower_case=do_lower_case)\n",
    "\n",
    "tokenizer = create_tokenizer_from_hub_module()"
   ]
  },
  {
   "cell_type": "code",
   "execution_count": 22,
   "metadata": {},
   "outputs": [
    {
     "name": "stdout",
     "output_type": "stream",
     "text": [
      "\n",
      "__________\n",
      "Row 0 - text_a of training set :  Do you have big and tall sizes?\n"
     ]
    }
   ],
   "source": [
    "print(\"\\n__________\\nRow 0 - text_a of training set : \", train_InputExamples.iloc[0].text_a)"
   ]
  },
  {
   "cell_type": "code",
   "execution_count": 23,
   "metadata": {
    "scrolled": true
   },
   "outputs": [
    {
     "data": {
      "text/plain": [
       "['what', 'is', 'this']"
      ]
     },
     "execution_count": 23,
     "metadata": {},
     "output_type": "execute_result"
    }
   ],
   "source": [
    "#Here is what the tokenised sample of the first training set observation looks like\n",
    "tokenizer.tokenize('what is this')"
   ]
  },
  {
   "cell_type": "code",
   "execution_count": 22,
   "metadata": {},
   "outputs": [
    {
     "name": "stdout",
     "output_type": "stream",
     "text": [
      "WARNING:tensorflow:From /opt/custom/python/anaconda3/envs/tf1.15/lib/python3.7/site-packages/bert/run_classifier.py:774: The name tf.logging.info is deprecated. Please use tf.compat.v1.logging.info instead.\n",
      "\n"
     ]
    },
    {
     "name": "stderr",
     "output_type": "stream",
     "text": [
      "WARNING:tensorflow:From /opt/custom/python/anaconda3/envs/tf1.15/lib/python3.7/site-packages/bert/run_classifier.py:774: The name tf.logging.info is deprecated. Please use tf.compat.v1.logging.info instead.\n",
      "\n"
     ]
    },
    {
     "name": "stdout",
     "output_type": "stream",
     "text": [
      "INFO:tensorflow:Writing example 0 of 12172\n"
     ]
    },
    {
     "name": "stderr",
     "output_type": "stream",
     "text": [
      "INFO:tensorflow:Writing example 0 of 12172\n"
     ]
    },
    {
     "name": "stdout",
     "output_type": "stream",
     "text": [
      "INFO:tensorflow:*** Example ***\n"
     ]
    },
    {
     "name": "stderr",
     "output_type": "stream",
     "text": [
      "INFO:tensorflow:*** Example ***\n"
     ]
    },
    {
     "name": "stdout",
     "output_type": "stream",
     "text": [
      "INFO:tensorflow:guid: None\n"
     ]
    },
    {
     "name": "stderr",
     "output_type": "stream",
     "text": [
      "INFO:tensorflow:guid: None\n"
     ]
    },
    {
     "name": "stdout",
     "output_type": "stream",
     "text": [
      "INFO:tensorflow:tokens: [CLS] do you have big and tall sizes ? [SEP]\n"
     ]
    },
    {
     "name": "stderr",
     "output_type": "stream",
     "text": [
      "INFO:tensorflow:tokens: [CLS] do you have big and tall sizes ? [SEP]\n"
     ]
    },
    {
     "name": "stdout",
     "output_type": "stream",
     "text": [
      "INFO:tensorflow:input_ids: 101 2079 2017 2031 2502 1998 4206 10826 1029 102 0 0 0 0 0 0 0 0 0 0 0 0 0 0 0 0 0 0 0 0 0 0 0 0 0 0 0 0 0 0 0 0 0 0 0 0 0 0 0 0\n"
     ]
    },
    {
     "name": "stderr",
     "output_type": "stream",
     "text": [
      "INFO:tensorflow:input_ids: 101 2079 2017 2031 2502 1998 4206 10826 1029 102 0 0 0 0 0 0 0 0 0 0 0 0 0 0 0 0 0 0 0 0 0 0 0 0 0 0 0 0 0 0 0 0 0 0 0 0 0 0 0 0\n"
     ]
    },
    {
     "name": "stdout",
     "output_type": "stream",
     "text": [
      "INFO:tensorflow:input_mask: 1 1 1 1 1 1 1 1 1 1 0 0 0 0 0 0 0 0 0 0 0 0 0 0 0 0 0 0 0 0 0 0 0 0 0 0 0 0 0 0 0 0 0 0 0 0 0 0 0 0\n"
     ]
    },
    {
     "name": "stderr",
     "output_type": "stream",
     "text": [
      "INFO:tensorflow:input_mask: 1 1 1 1 1 1 1 1 1 1 0 0 0 0 0 0 0 0 0 0 0 0 0 0 0 0 0 0 0 0 0 0 0 0 0 0 0 0 0 0 0 0 0 0 0 0 0 0 0 0\n"
     ]
    },
    {
     "name": "stdout",
     "output_type": "stream",
     "text": [
      "INFO:tensorflow:segment_ids: 0 0 0 0 0 0 0 0 0 0 0 0 0 0 0 0 0 0 0 0 0 0 0 0 0 0 0 0 0 0 0 0 0 0 0 0 0 0 0 0 0 0 0 0 0 0 0 0 0 0\n"
     ]
    },
    {
     "name": "stderr",
     "output_type": "stream",
     "text": [
      "INFO:tensorflow:segment_ids: 0 0 0 0 0 0 0 0 0 0 0 0 0 0 0 0 0 0 0 0 0 0 0 0 0 0 0 0 0 0 0 0 0 0 0 0 0 0 0 0 0 0 0 0 0 0 0 0 0 0\n"
     ]
    },
    {
     "name": "stdout",
     "output_type": "stream",
     "text": [
      "INFO:tensorflow:label: 42 (id = 42)\n"
     ]
    },
    {
     "name": "stderr",
     "output_type": "stream",
     "text": [
      "INFO:tensorflow:label: 42 (id = 42)\n"
     ]
    },
    {
     "name": "stdout",
     "output_type": "stream",
     "text": [
      "INFO:tensorflow:*** Example ***\n"
     ]
    },
    {
     "name": "stderr",
     "output_type": "stream",
     "text": [
      "INFO:tensorflow:*** Example ***\n"
     ]
    },
    {
     "name": "stdout",
     "output_type": "stream",
     "text": [
      "INFO:tensorflow:guid: None\n"
     ]
    },
    {
     "name": "stderr",
     "output_type": "stream",
     "text": [
      "INFO:tensorflow:guid: None\n"
     ]
    },
    {
     "name": "stdout",
     "output_type": "stream",
     "text": [
      "INFO:tensorflow:tokens: [CLS] style # 158 ##75 ##41 [SEP]\n"
     ]
    },
    {
     "name": "stderr",
     "output_type": "stream",
     "text": [
      "INFO:tensorflow:tokens: [CLS] style # 158 ##75 ##41 [SEP]\n"
     ]
    },
    {
     "name": "stdout",
     "output_type": "stream",
     "text": [
      "INFO:tensorflow:input_ids: 101 2806 1001 17696 23352 23632 102 0 0 0 0 0 0 0 0 0 0 0 0 0 0 0 0 0 0 0 0 0 0 0 0 0 0 0 0 0 0 0 0 0 0 0 0 0 0 0 0 0 0 0\n"
     ]
    },
    {
     "name": "stderr",
     "output_type": "stream",
     "text": [
      "INFO:tensorflow:input_ids: 101 2806 1001 17696 23352 23632 102 0 0 0 0 0 0 0 0 0 0 0 0 0 0 0 0 0 0 0 0 0 0 0 0 0 0 0 0 0 0 0 0 0 0 0 0 0 0 0 0 0 0 0\n"
     ]
    },
    {
     "name": "stdout",
     "output_type": "stream",
     "text": [
      "INFO:tensorflow:input_mask: 1 1 1 1 1 1 1 0 0 0 0 0 0 0 0 0 0 0 0 0 0 0 0 0 0 0 0 0 0 0 0 0 0 0 0 0 0 0 0 0 0 0 0 0 0 0 0 0 0 0\n"
     ]
    },
    {
     "name": "stderr",
     "output_type": "stream",
     "text": [
      "INFO:tensorflow:input_mask: 1 1 1 1 1 1 1 0 0 0 0 0 0 0 0 0 0 0 0 0 0 0 0 0 0 0 0 0 0 0 0 0 0 0 0 0 0 0 0 0 0 0 0 0 0 0 0 0 0 0\n"
     ]
    },
    {
     "name": "stdout",
     "output_type": "stream",
     "text": [
      "INFO:tensorflow:segment_ids: 0 0 0 0 0 0 0 0 0 0 0 0 0 0 0 0 0 0 0 0 0 0 0 0 0 0 0 0 0 0 0 0 0 0 0 0 0 0 0 0 0 0 0 0 0 0 0 0 0 0\n"
     ]
    },
    {
     "name": "stderr",
     "output_type": "stream",
     "text": [
      "INFO:tensorflow:segment_ids: 0 0 0 0 0 0 0 0 0 0 0 0 0 0 0 0 0 0 0 0 0 0 0 0 0 0 0 0 0 0 0 0 0 0 0 0 0 0 0 0 0 0 0 0 0 0 0 0 0 0\n"
     ]
    },
    {
     "name": "stdout",
     "output_type": "stream",
     "text": [
      "INFO:tensorflow:label: 58 (id = 58)\n"
     ]
    },
    {
     "name": "stderr",
     "output_type": "stream",
     "text": [
      "INFO:tensorflow:label: 58 (id = 58)\n"
     ]
    },
    {
     "name": "stdout",
     "output_type": "stream",
     "text": [
      "INFO:tensorflow:*** Example ***\n"
     ]
    },
    {
     "name": "stderr",
     "output_type": "stream",
     "text": [
      "INFO:tensorflow:*** Example ***\n"
     ]
    },
    {
     "name": "stdout",
     "output_type": "stream",
     "text": [
      "INFO:tensorflow:guid: None\n"
     ]
    },
    {
     "name": "stderr",
     "output_type": "stream",
     "text": [
      "INFO:tensorflow:guid: None\n"
     ]
    },
    {
     "name": "stdout",
     "output_type": "stream",
     "text": [
      "INFO:tensorflow:tokens: [CLS] i want to receive promotional reward certificate by mail [SEP]\n"
     ]
    },
    {
     "name": "stderr",
     "output_type": "stream",
     "text": [
      "INFO:tensorflow:tokens: [CLS] i want to receive promotional reward certificate by mail [SEP]\n"
     ]
    },
    {
     "name": "stdout",
     "output_type": "stream",
     "text": [
      "INFO:tensorflow:input_ids: 101 1045 2215 2000 4374 10319 10377 8196 2011 5653 102 0 0 0 0 0 0 0 0 0 0 0 0 0 0 0 0 0 0 0 0 0 0 0 0 0 0 0 0 0 0 0 0 0 0 0 0 0 0 0\n"
     ]
    },
    {
     "name": "stderr",
     "output_type": "stream",
     "text": [
      "INFO:tensorflow:input_ids: 101 1045 2215 2000 4374 10319 10377 8196 2011 5653 102 0 0 0 0 0 0 0 0 0 0 0 0 0 0 0 0 0 0 0 0 0 0 0 0 0 0 0 0 0 0 0 0 0 0 0 0 0 0 0\n"
     ]
    },
    {
     "name": "stdout",
     "output_type": "stream",
     "text": [
      "INFO:tensorflow:input_mask: 1 1 1 1 1 1 1 1 1 1 1 0 0 0 0 0 0 0 0 0 0 0 0 0 0 0 0 0 0 0 0 0 0 0 0 0 0 0 0 0 0 0 0 0 0 0 0 0 0 0\n"
     ]
    },
    {
     "name": "stderr",
     "output_type": "stream",
     "text": [
      "INFO:tensorflow:input_mask: 1 1 1 1 1 1 1 1 1 1 1 0 0 0 0 0 0 0 0 0 0 0 0 0 0 0 0 0 0 0 0 0 0 0 0 0 0 0 0 0 0 0 0 0 0 0 0 0 0 0\n"
     ]
    },
    {
     "name": "stdout",
     "output_type": "stream",
     "text": [
      "INFO:tensorflow:segment_ids: 0 0 0 0 0 0 0 0 0 0 0 0 0 0 0 0 0 0 0 0 0 0 0 0 0 0 0 0 0 0 0 0 0 0 0 0 0 0 0 0 0 0 0 0 0 0 0 0 0 0\n"
     ]
    },
    {
     "name": "stderr",
     "output_type": "stream",
     "text": [
      "INFO:tensorflow:segment_ids: 0 0 0 0 0 0 0 0 0 0 0 0 0 0 0 0 0 0 0 0 0 0 0 0 0 0 0 0 0 0 0 0 0 0 0 0 0 0 0 0 0 0 0 0 0 0 0 0 0 0\n"
     ]
    },
    {
     "name": "stdout",
     "output_type": "stream",
     "text": [
      "INFO:tensorflow:label: 20 (id = 20)\n"
     ]
    },
    {
     "name": "stderr",
     "output_type": "stream",
     "text": [
      "INFO:tensorflow:label: 20 (id = 20)\n"
     ]
    },
    {
     "name": "stdout",
     "output_type": "stream",
     "text": [
      "INFO:tensorflow:*** Example ***\n"
     ]
    },
    {
     "name": "stderr",
     "output_type": "stream",
     "text": [
      "INFO:tensorflow:*** Example ***\n"
     ]
    },
    {
     "name": "stdout",
     "output_type": "stream",
     "text": [
      "INFO:tensorflow:guid: None\n"
     ]
    },
    {
     "name": "stderr",
     "output_type": "stream",
     "text": [
      "INFO:tensorflow:guid: None\n"
     ]
    },
    {
     "name": "stdout",
     "output_type": "stream",
     "text": [
      "INFO:tensorflow:tokens: [CLS] is there a draws ##tri ##ng or anything to tighten the hood on the hills ##dale new park ##a ? [SEP]\n"
     ]
    },
    {
     "name": "stderr",
     "output_type": "stream",
     "text": [
      "INFO:tensorflow:tokens: [CLS] is there a draws ##tri ##ng or anything to tighten the hood on the hills ##dale new park ##a ? [SEP]\n"
     ]
    },
    {
     "name": "stdout",
     "output_type": "stream",
     "text": [
      "INFO:tensorflow:input_ids: 101 2003 2045 1037 9891 18886 3070 2030 2505 2000 21245 1996 7415 2006 1996 4564 5634 2047 2380 2050 1029 102 0 0 0 0 0 0 0 0 0 0 0 0 0 0 0 0 0 0 0 0 0 0 0 0 0 0 0 0\n"
     ]
    },
    {
     "name": "stderr",
     "output_type": "stream",
     "text": [
      "INFO:tensorflow:input_ids: 101 2003 2045 1037 9891 18886 3070 2030 2505 2000 21245 1996 7415 2006 1996 4564 5634 2047 2380 2050 1029 102 0 0 0 0 0 0 0 0 0 0 0 0 0 0 0 0 0 0 0 0 0 0 0 0 0 0 0 0\n"
     ]
    },
    {
     "name": "stdout",
     "output_type": "stream",
     "text": [
      "INFO:tensorflow:input_mask: 1 1 1 1 1 1 1 1 1 1 1 1 1 1 1 1 1 1 1 1 1 1 0 0 0 0 0 0 0 0 0 0 0 0 0 0 0 0 0 0 0 0 0 0 0 0 0 0 0 0\n"
     ]
    },
    {
     "name": "stderr",
     "output_type": "stream",
     "text": [
      "INFO:tensorflow:input_mask: 1 1 1 1 1 1 1 1 1 1 1 1 1 1 1 1 1 1 1 1 1 1 0 0 0 0 0 0 0 0 0 0 0 0 0 0 0 0 0 0 0 0 0 0 0 0 0 0 0 0\n"
     ]
    },
    {
     "name": "stdout",
     "output_type": "stream",
     "text": [
      "INFO:tensorflow:segment_ids: 0 0 0 0 0 0 0 0 0 0 0 0 0 0 0 0 0 0 0 0 0 0 0 0 0 0 0 0 0 0 0 0 0 0 0 0 0 0 0 0 0 0 0 0 0 0 0 0 0 0\n"
     ]
    },
    {
     "name": "stderr",
     "output_type": "stream",
     "text": [
      "INFO:tensorflow:segment_ids: 0 0 0 0 0 0 0 0 0 0 0 0 0 0 0 0 0 0 0 0 0 0 0 0 0 0 0 0 0 0 0 0 0 0 0 0 0 0 0 0 0 0 0 0 0 0 0 0 0 0\n"
     ]
    },
    {
     "name": "stdout",
     "output_type": "stream",
     "text": [
      "INFO:tensorflow:label: 42 (id = 42)\n"
     ]
    },
    {
     "name": "stderr",
     "output_type": "stream",
     "text": [
      "INFO:tensorflow:label: 42 (id = 42)\n"
     ]
    },
    {
     "name": "stdout",
     "output_type": "stream",
     "text": [
      "INFO:tensorflow:*** Example ***\n"
     ]
    },
    {
     "name": "stderr",
     "output_type": "stream",
     "text": [
      "INFO:tensorflow:*** Example ***\n"
     ]
    },
    {
     "name": "stdout",
     "output_type": "stream",
     "text": [
      "INFO:tensorflow:guid: None\n"
     ]
    },
    {
     "name": "stderr",
     "output_type": "stream",
     "text": [
      "INFO:tensorflow:guid: None\n"
     ]
    },
    {
     "name": "stdout",
     "output_type": "stream",
     "text": [
      "INFO:tensorflow:tokens: [CLS] hi , i am interested in the pi ##ls ##ner vest for women and noticed people said it runs large , does the updated version still run large ? # # okay thank you [SEP]\n"
     ]
    },
    {
     "name": "stderr",
     "output_type": "stream",
     "text": [
      "INFO:tensorflow:tokens: [CLS] hi , i am interested in the pi ##ls ##ner vest for women and noticed people said it runs large , does the updated version still run large ? # # okay thank you [SEP]\n"
     ]
    },
    {
     "name": "stdout",
     "output_type": "stream",
     "text": [
      "INFO:tensorflow:input_ids: 101 7632 1010 1045 2572 4699 1999 1996 14255 4877 3678 17447 2005 2308 1998 4384 2111 2056 2009 3216 2312 1010 2515 1996 7172 2544 2145 2448 2312 1029 1001 1001 3100 4067 2017 102 0 0 0 0 0 0 0 0 0 0 0 0 0 0\n"
     ]
    },
    {
     "name": "stderr",
     "output_type": "stream",
     "text": [
      "INFO:tensorflow:input_ids: 101 7632 1010 1045 2572 4699 1999 1996 14255 4877 3678 17447 2005 2308 1998 4384 2111 2056 2009 3216 2312 1010 2515 1996 7172 2544 2145 2448 2312 1029 1001 1001 3100 4067 2017 102 0 0 0 0 0 0 0 0 0 0 0 0 0 0\n"
     ]
    },
    {
     "name": "stdout",
     "output_type": "stream",
     "text": [
      "INFO:tensorflow:input_mask: 1 1 1 1 1 1 1 1 1 1 1 1 1 1 1 1 1 1 1 1 1 1 1 1 1 1 1 1 1 1 1 1 1 1 1 1 0 0 0 0 0 0 0 0 0 0 0 0 0 0\n"
     ]
    },
    {
     "name": "stderr",
     "output_type": "stream",
     "text": [
      "INFO:tensorflow:input_mask: 1 1 1 1 1 1 1 1 1 1 1 1 1 1 1 1 1 1 1 1 1 1 1 1 1 1 1 1 1 1 1 1 1 1 1 1 0 0 0 0 0 0 0 0 0 0 0 0 0 0\n"
     ]
    },
    {
     "name": "stdout",
     "output_type": "stream",
     "text": [
      "INFO:tensorflow:segment_ids: 0 0 0 0 0 0 0 0 0 0 0 0 0 0 0 0 0 0 0 0 0 0 0 0 0 0 0 0 0 0 0 0 0 0 0 0 0 0 0 0 0 0 0 0 0 0 0 0 0 0\n"
     ]
    },
    {
     "name": "stderr",
     "output_type": "stream",
     "text": [
      "INFO:tensorflow:segment_ids: 0 0 0 0 0 0 0 0 0 0 0 0 0 0 0 0 0 0 0 0 0 0 0 0 0 0 0 0 0 0 0 0 0 0 0 0 0 0 0 0 0 0 0 0 0 0 0 0 0 0\n"
     ]
    },
    {
     "name": "stdout",
     "output_type": "stream",
     "text": [
      "INFO:tensorflow:label: 42 (id = 42)\n"
     ]
    },
    {
     "name": "stderr",
     "output_type": "stream",
     "text": [
      "INFO:tensorflow:label: 42 (id = 42)\n"
     ]
    },
    {
     "name": "stdout",
     "output_type": "stream",
     "text": [
      "INFO:tensorflow:Writing example 10000 of 12172\n"
     ]
    },
    {
     "name": "stderr",
     "output_type": "stream",
     "text": [
      "INFO:tensorflow:Writing example 10000 of 12172\n"
     ]
    },
    {
     "name": "stdout",
     "output_type": "stream",
     "text": [
      "INFO:tensorflow:Writing example 0 of 3044\n"
     ]
    },
    {
     "name": "stderr",
     "output_type": "stream",
     "text": [
      "INFO:tensorflow:Writing example 0 of 3044\n"
     ]
    },
    {
     "name": "stdout",
     "output_type": "stream",
     "text": [
      "INFO:tensorflow:*** Example ***\n"
     ]
    },
    {
     "name": "stderr",
     "output_type": "stream",
     "text": [
      "INFO:tensorflow:*** Example ***\n"
     ]
    },
    {
     "name": "stdout",
     "output_type": "stream",
     "text": [
      "INFO:tensorflow:guid: None\n"
     ]
    },
    {
     "name": "stderr",
     "output_type": "stream",
     "text": [
      "INFO:tensorflow:guid: None\n"
     ]
    },
    {
     "name": "stdout",
     "output_type": "stream",
     "text": [
      "INFO:tensorflow:tokens: [CLS] un ##sol ##ici ##ted product ideas [SEP]\n"
     ]
    },
    {
     "name": "stderr",
     "output_type": "stream",
     "text": [
      "INFO:tensorflow:tokens: [CLS] un ##sol ##ici ##ted product ideas [SEP]\n"
     ]
    },
    {
     "name": "stdout",
     "output_type": "stream",
     "text": [
      "INFO:tensorflow:input_ids: 101 4895 19454 28775 3064 4031 4784 102 0 0 0 0 0 0 0 0 0 0 0 0 0 0 0 0 0 0 0 0 0 0 0 0 0 0 0 0 0 0 0 0 0 0 0 0 0 0 0 0 0 0\n"
     ]
    },
    {
     "name": "stderr",
     "output_type": "stream",
     "text": [
      "INFO:tensorflow:input_ids: 101 4895 19454 28775 3064 4031 4784 102 0 0 0 0 0 0 0 0 0 0 0 0 0 0 0 0 0 0 0 0 0 0 0 0 0 0 0 0 0 0 0 0 0 0 0 0 0 0 0 0 0 0\n"
     ]
    },
    {
     "name": "stdout",
     "output_type": "stream",
     "text": [
      "INFO:tensorflow:input_mask: 1 1 1 1 1 1 1 1 0 0 0 0 0 0 0 0 0 0 0 0 0 0 0 0 0 0 0 0 0 0 0 0 0 0 0 0 0 0 0 0 0 0 0 0 0 0 0 0 0 0\n"
     ]
    },
    {
     "name": "stderr",
     "output_type": "stream",
     "text": [
      "INFO:tensorflow:input_mask: 1 1 1 1 1 1 1 1 0 0 0 0 0 0 0 0 0 0 0 0 0 0 0 0 0 0 0 0 0 0 0 0 0 0 0 0 0 0 0 0 0 0 0 0 0 0 0 0 0 0\n"
     ]
    },
    {
     "name": "stdout",
     "output_type": "stream",
     "text": [
      "INFO:tensorflow:segment_ids: 0 0 0 0 0 0 0 0 0 0 0 0 0 0 0 0 0 0 0 0 0 0 0 0 0 0 0 0 0 0 0 0 0 0 0 0 0 0 0 0 0 0 0 0 0 0 0 0 0 0\n"
     ]
    },
    {
     "name": "stderr",
     "output_type": "stream",
     "text": [
      "INFO:tensorflow:segment_ids: 0 0 0 0 0 0 0 0 0 0 0 0 0 0 0 0 0 0 0 0 0 0 0 0 0 0 0 0 0 0 0 0 0 0 0 0 0 0 0 0 0 0 0 0 0 0 0 0 0 0\n"
     ]
    },
    {
     "name": "stdout",
     "output_type": "stream",
     "text": [
      "INFO:tensorflow:label: 41 (id = 41)\n"
     ]
    },
    {
     "name": "stderr",
     "output_type": "stream",
     "text": [
      "INFO:tensorflow:label: 41 (id = 41)\n"
     ]
    },
    {
     "name": "stdout",
     "output_type": "stream",
     "text": [
      "INFO:tensorflow:*** Example ***\n"
     ]
    },
    {
     "name": "stderr",
     "output_type": "stream",
     "text": [
      "INFO:tensorflow:*** Example ***\n"
     ]
    },
    {
     "name": "stdout",
     "output_type": "stream",
     "text": [
      "INFO:tensorflow:guid: None\n"
     ]
    },
    {
     "name": "stderr",
     "output_type": "stream",
     "text": [
      "INFO:tensorflow:guid: None\n"
     ]
    },
    {
     "name": "stdout",
     "output_type": "stream",
     "text": [
      "INFO:tensorflow:tokens: [CLS] info on how to earn point ? [SEP]\n"
     ]
    },
    {
     "name": "stderr",
     "output_type": "stream",
     "text": [
      "INFO:tensorflow:tokens: [CLS] info on how to earn point ? [SEP]\n"
     ]
    },
    {
     "name": "stdout",
     "output_type": "stream",
     "text": [
      "INFO:tensorflow:input_ids: 101 18558 2006 2129 2000 7796 2391 1029 102 0 0 0 0 0 0 0 0 0 0 0 0 0 0 0 0 0 0 0 0 0 0 0 0 0 0 0 0 0 0 0 0 0 0 0 0 0 0 0 0 0\n"
     ]
    },
    {
     "name": "stderr",
     "output_type": "stream",
     "text": [
      "INFO:tensorflow:input_ids: 101 18558 2006 2129 2000 7796 2391 1029 102 0 0 0 0 0 0 0 0 0 0 0 0 0 0 0 0 0 0 0 0 0 0 0 0 0 0 0 0 0 0 0 0 0 0 0 0 0 0 0 0 0\n"
     ]
    },
    {
     "name": "stdout",
     "output_type": "stream",
     "text": [
      "INFO:tensorflow:input_mask: 1 1 1 1 1 1 1 1 1 0 0 0 0 0 0 0 0 0 0 0 0 0 0 0 0 0 0 0 0 0 0 0 0 0 0 0 0 0 0 0 0 0 0 0 0 0 0 0 0 0\n"
     ]
    },
    {
     "name": "stderr",
     "output_type": "stream",
     "text": [
      "INFO:tensorflow:input_mask: 1 1 1 1 1 1 1 1 1 0 0 0 0 0 0 0 0 0 0 0 0 0 0 0 0 0 0 0 0 0 0 0 0 0 0 0 0 0 0 0 0 0 0 0 0 0 0 0 0 0\n"
     ]
    },
    {
     "name": "stdout",
     "output_type": "stream",
     "text": [
      "INFO:tensorflow:segment_ids: 0 0 0 0 0 0 0 0 0 0 0 0 0 0 0 0 0 0 0 0 0 0 0 0 0 0 0 0 0 0 0 0 0 0 0 0 0 0 0 0 0 0 0 0 0 0 0 0 0 0\n"
     ]
    },
    {
     "name": "stderr",
     "output_type": "stream",
     "text": [
      "INFO:tensorflow:segment_ids: 0 0 0 0 0 0 0 0 0 0 0 0 0 0 0 0 0 0 0 0 0 0 0 0 0 0 0 0 0 0 0 0 0 0 0 0 0 0 0 0 0 0 0 0 0 0 0 0 0 0\n"
     ]
    },
    {
     "name": "stdout",
     "output_type": "stream",
     "text": [
      "INFO:tensorflow:label: 18 (id = 18)\n"
     ]
    },
    {
     "name": "stderr",
     "output_type": "stream",
     "text": [
      "INFO:tensorflow:label: 18 (id = 18)\n"
     ]
    },
    {
     "name": "stdout",
     "output_type": "stream",
     "text": [
      "INFO:tensorflow:*** Example ***\n"
     ]
    },
    {
     "name": "stderr",
     "output_type": "stream",
     "text": [
      "INFO:tensorflow:*** Example ***\n"
     ]
    },
    {
     "name": "stdout",
     "output_type": "stream",
     "text": [
      "INFO:tensorflow:guid: None\n"
     ]
    },
    {
     "name": "stderr",
     "output_type": "stream",
     "text": [
      "INFO:tensorflow:guid: None\n"
     ]
    },
    {
     "name": "stdout",
     "output_type": "stream",
     "text": [
      "INFO:tensorflow:tokens: [CLS] how long do i have to use my points ? [SEP]\n"
     ]
    },
    {
     "name": "stderr",
     "output_type": "stream",
     "text": [
      "INFO:tensorflow:tokens: [CLS] how long do i have to use my points ? [SEP]\n"
     ]
    },
    {
     "name": "stdout",
     "output_type": "stream",
     "text": [
      "INFO:tensorflow:input_ids: 101 2129 2146 2079 1045 2031 2000 2224 2026 2685 1029 102 0 0 0 0 0 0 0 0 0 0 0 0 0 0 0 0 0 0 0 0 0 0 0 0 0 0 0 0 0 0 0 0 0 0 0 0 0 0\n"
     ]
    },
    {
     "name": "stderr",
     "output_type": "stream",
     "text": [
      "INFO:tensorflow:input_ids: 101 2129 2146 2079 1045 2031 2000 2224 2026 2685 1029 102 0 0 0 0 0 0 0 0 0 0 0 0 0 0 0 0 0 0 0 0 0 0 0 0 0 0 0 0 0 0 0 0 0 0 0 0 0 0\n"
     ]
    },
    {
     "name": "stdout",
     "output_type": "stream",
     "text": [
      "INFO:tensorflow:input_mask: 1 1 1 1 1 1 1 1 1 1 1 1 0 0 0 0 0 0 0 0 0 0 0 0 0 0 0 0 0 0 0 0 0 0 0 0 0 0 0 0 0 0 0 0 0 0 0 0 0 0\n"
     ]
    },
    {
     "name": "stderr",
     "output_type": "stream",
     "text": [
      "INFO:tensorflow:input_mask: 1 1 1 1 1 1 1 1 1 1 1 1 0 0 0 0 0 0 0 0 0 0 0 0 0 0 0 0 0 0 0 0 0 0 0 0 0 0 0 0 0 0 0 0 0 0 0 0 0 0\n"
     ]
    },
    {
     "name": "stdout",
     "output_type": "stream",
     "text": [
      "INFO:tensorflow:segment_ids: 0 0 0 0 0 0 0 0 0 0 0 0 0 0 0 0 0 0 0 0 0 0 0 0 0 0 0 0 0 0 0 0 0 0 0 0 0 0 0 0 0 0 0 0 0 0 0 0 0 0\n"
     ]
    },
    {
     "name": "stderr",
     "output_type": "stream",
     "text": [
      "INFO:tensorflow:segment_ids: 0 0 0 0 0 0 0 0 0 0 0 0 0 0 0 0 0 0 0 0 0 0 0 0 0 0 0 0 0 0 0 0 0 0 0 0 0 0 0 0 0 0 0 0 0 0 0 0 0 0\n"
     ]
    },
    {
     "name": "stdout",
     "output_type": "stream",
     "text": [
      "INFO:tensorflow:label: 24 (id = 24)\n"
     ]
    },
    {
     "name": "stderr",
     "output_type": "stream",
     "text": [
      "INFO:tensorflow:label: 24 (id = 24)\n"
     ]
    },
    {
     "name": "stdout",
     "output_type": "stream",
     "text": [
      "INFO:tensorflow:*** Example ***\n"
     ]
    },
    {
     "name": "stderr",
     "output_type": "stream",
     "text": [
      "INFO:tensorflow:*** Example ***\n"
     ]
    },
    {
     "name": "stdout",
     "output_type": "stream",
     "text": [
      "INFO:tensorflow:guid: None\n"
     ]
    },
    {
     "name": "stderr",
     "output_type": "stream",
     "text": [
      "INFO:tensorflow:guid: None\n"
     ]
    },
    {
     "name": "stdout",
     "output_type": "stream",
     "text": [
      "INFO:tensorflow:tokens: [CLS] representative [SEP]\n"
     ]
    },
    {
     "name": "stderr",
     "output_type": "stream",
     "text": [
      "INFO:tensorflow:tokens: [CLS] representative [SEP]\n"
     ]
    },
    {
     "name": "stdout",
     "output_type": "stream",
     "text": [
      "INFO:tensorflow:input_ids: 101 4387 102 0 0 0 0 0 0 0 0 0 0 0 0 0 0 0 0 0 0 0 0 0 0 0 0 0 0 0 0 0 0 0 0 0 0 0 0 0 0 0 0 0 0 0 0 0 0 0\n"
     ]
    },
    {
     "name": "stderr",
     "output_type": "stream",
     "text": [
      "INFO:tensorflow:input_ids: 101 4387 102 0 0 0 0 0 0 0 0 0 0 0 0 0 0 0 0 0 0 0 0 0 0 0 0 0 0 0 0 0 0 0 0 0 0 0 0 0 0 0 0 0 0 0 0 0 0 0\n"
     ]
    },
    {
     "name": "stdout",
     "output_type": "stream",
     "text": [
      "INFO:tensorflow:input_mask: 1 1 1 0 0 0 0 0 0 0 0 0 0 0 0 0 0 0 0 0 0 0 0 0 0 0 0 0 0 0 0 0 0 0 0 0 0 0 0 0 0 0 0 0 0 0 0 0 0 0\n"
     ]
    },
    {
     "name": "stderr",
     "output_type": "stream",
     "text": [
      "INFO:tensorflow:input_mask: 1 1 1 0 0 0 0 0 0 0 0 0 0 0 0 0 0 0 0 0 0 0 0 0 0 0 0 0 0 0 0 0 0 0 0 0 0 0 0 0 0 0 0 0 0 0 0 0 0 0\n"
     ]
    },
    {
     "name": "stdout",
     "output_type": "stream",
     "text": [
      "INFO:tensorflow:segment_ids: 0 0 0 0 0 0 0 0 0 0 0 0 0 0 0 0 0 0 0 0 0 0 0 0 0 0 0 0 0 0 0 0 0 0 0 0 0 0 0 0 0 0 0 0 0 0 0 0 0 0\n"
     ]
    },
    {
     "name": "stderr",
     "output_type": "stream",
     "text": [
      "INFO:tensorflow:segment_ids: 0 0 0 0 0 0 0 0 0 0 0 0 0 0 0 0 0 0 0 0 0 0 0 0 0 0 0 0 0 0 0 0 0 0 0 0 0 0 0 0 0 0 0 0 0 0 0 0 0 0\n"
     ]
    },
    {
     "name": "stdout",
     "output_type": "stream",
     "text": [
      "INFO:tensorflow:label: 44 (id = 44)\n"
     ]
    },
    {
     "name": "stderr",
     "output_type": "stream",
     "text": [
      "INFO:tensorflow:label: 44 (id = 44)\n"
     ]
    },
    {
     "name": "stdout",
     "output_type": "stream",
     "text": [
      "INFO:tensorflow:*** Example ***\n"
     ]
    },
    {
     "name": "stderr",
     "output_type": "stream",
     "text": [
      "INFO:tensorflow:*** Example ***\n"
     ]
    },
    {
     "name": "stdout",
     "output_type": "stream",
     "text": [
      "INFO:tensorflow:guid: None\n"
     ]
    },
    {
     "name": "stderr",
     "output_type": "stream",
     "text": [
      "INFO:tensorflow:guid: None\n"
     ]
    },
    {
     "name": "stdout",
     "output_type": "stream",
     "text": [
      "INFO:tensorflow:tokens: [CLS] hi , my name is faust ##o and i was wondering on men ##s fairbanks xx ##x mid shoe , if they will keep your feet warm ? [SEP]\n"
     ]
    },
    {
     "name": "stderr",
     "output_type": "stream",
     "text": [
      "INFO:tensorflow:tokens: [CLS] hi , my name is faust ##o and i was wondering on men ##s fairbanks xx ##x mid shoe , if they will keep your feet warm ? [SEP]\n"
     ]
    },
    {
     "name": "stdout",
     "output_type": "stream",
     "text": [
      "INFO:tensorflow:input_ids: 101 7632 1010 2026 2171 2003 24021 2080 1998 1045 2001 6603 2006 2273 2015 24502 22038 2595 3054 10818 1010 2065 2027 2097 2562 2115 2519 4010 1029 102 0 0 0 0 0 0 0 0 0 0 0 0 0 0 0 0 0 0 0 0\n"
     ]
    },
    {
     "name": "stderr",
     "output_type": "stream",
     "text": [
      "INFO:tensorflow:input_ids: 101 7632 1010 2026 2171 2003 24021 2080 1998 1045 2001 6603 2006 2273 2015 24502 22038 2595 3054 10818 1010 2065 2027 2097 2562 2115 2519 4010 1029 102 0 0 0 0 0 0 0 0 0 0 0 0 0 0 0 0 0 0 0 0\n"
     ]
    },
    {
     "name": "stdout",
     "output_type": "stream",
     "text": [
      "INFO:tensorflow:input_mask: 1 1 1 1 1 1 1 1 1 1 1 1 1 1 1 1 1 1 1 1 1 1 1 1 1 1 1 1 1 1 0 0 0 0 0 0 0 0 0 0 0 0 0 0 0 0 0 0 0 0\n"
     ]
    },
    {
     "name": "stderr",
     "output_type": "stream",
     "text": [
      "INFO:tensorflow:input_mask: 1 1 1 1 1 1 1 1 1 1 1 1 1 1 1 1 1 1 1 1 1 1 1 1 1 1 1 1 1 1 0 0 0 0 0 0 0 0 0 0 0 0 0 0 0 0 0 0 0 0\n"
     ]
    },
    {
     "name": "stdout",
     "output_type": "stream",
     "text": [
      "INFO:tensorflow:segment_ids: 0 0 0 0 0 0 0 0 0 0 0 0 0 0 0 0 0 0 0 0 0 0 0 0 0 0 0 0 0 0 0 0 0 0 0 0 0 0 0 0 0 0 0 0 0 0 0 0 0 0\n"
     ]
    },
    {
     "name": "stderr",
     "output_type": "stream",
     "text": [
      "INFO:tensorflow:segment_ids: 0 0 0 0 0 0 0 0 0 0 0 0 0 0 0 0 0 0 0 0 0 0 0 0 0 0 0 0 0 0 0 0 0 0 0 0 0 0 0 0 0 0 0 0 0 0 0 0 0 0\n"
     ]
    },
    {
     "name": "stdout",
     "output_type": "stream",
     "text": [
      "INFO:tensorflow:label: 42 (id = 42)\n"
     ]
    },
    {
     "name": "stderr",
     "output_type": "stream",
     "text": [
      "INFO:tensorflow:label: 42 (id = 42)\n"
     ]
    }
   ],
   "source": [
    "# We'll set sequences to be at most 20 tokens long.\n",
    "MAX_SEQ_LENGTH = 50\n",
    "# Convert our train and test features to InputFeatures that BERT understands.\n",
    "train_features = bert.run_classifier.convert_examples_to_features(train_InputExamples, label_list, MAX_SEQ_LENGTH, tokenizer)\n",
    "test_features = bert.run_classifier.convert_examples_to_features(val_InputExamples, label_list, MAX_SEQ_LENGTH, tokenizer)"
   ]
  },
  {
   "cell_type": "code",
   "execution_count": 34,
   "metadata": {},
   "outputs": [
    {
     "name": "stdout",
     "output_type": "stream",
     "text": [
      "Sentence :  Do you have big and tall sizes?\n",
      "------------------------------\n",
      "Tokens :  ['do', 'you', 'have', 'big', 'and', 'tall', 'sizes', '?']\n",
      "------------------------------\n",
      "Input IDs :  [101, 2079, 2017, 2031, 2502, 1998, 4206, 10826, 1029, 102, 0, 0, 0, 0, 0, 0, 0, 0, 0, 0, 0, 0, 0, 0, 0, 0, 0, 0, 0, 0, 0, 0, 0, 0, 0, 0, 0, 0, 0, 0, 0, 0, 0, 0, 0, 0, 0, 0, 0, 0]\n",
      "------------------------------\n",
      "Input Masks :  [1, 1, 1, 1, 1, 1, 1, 1, 1, 1, 0, 0, 0, 0, 0, 0, 0, 0, 0, 0, 0, 0, 0, 0, 0, 0, 0, 0, 0, 0, 0, 0, 0, 0, 0, 0, 0, 0, 0, 0, 0, 0, 0, 0, 0, 0, 0, 0, 0, 0]\n",
      "------------------------------\n",
      "Segment IDs :  [0, 0, 0, 0, 0, 0, 0, 0, 0, 0, 0, 0, 0, 0, 0, 0, 0, 0, 0, 0, 0, 0, 0, 0, 0, 0, 0, 0, 0, 0, 0, 0, 0, 0, 0, 0, 0, 0, 0, 0, 0, 0, 0, 0, 0, 0, 0, 0, 0, 0]\n"
     ]
    }
   ],
   "source": [
    "#Example on first observation in the training set\n",
    "print(\"Sentence : \", train_InputExamples.iloc[0].text_a)\n",
    "print(\"-\"*30)\n",
    "print(\"Tokens : \", tokenizer.tokenize(train_InputExamples.iloc[0].text_a))\n",
    "print(\"-\"*30)\n",
    "print(\"Input IDs : \", train_features[0].input_ids)\n",
    "print(\"-\"*30)\n",
    "print(\"Input Masks : \", train_features[0].input_mask)\n",
    "print(\"-\"*30)\n",
    "print(\"Segment IDs : \", train_features[0].segment_ids)"
   ]
  },
  {
   "cell_type": "code",
   "execution_count": 23,
   "metadata": {},
   "outputs": [],
   "source": [
    "def create_model(is_predicting, input_ids, input_mask, segment_ids, labels,\n",
    "                 num_labels):\n",
    "  \n",
    "  bert_module = hub.Module(\n",
    "      BERT_MODEL_HUB,\n",
    "      trainable=True)\n",
    "  bert_inputs = dict(\n",
    "      input_ids=input_ids,\n",
    "      input_mask=input_mask,\n",
    "      segment_ids=segment_ids)\n",
    "  bert_outputs = bert_module(\n",
    "      inputs=bert_inputs,\n",
    "      signature=\"tokens\",\n",
    "      as_dict=True)\n",
    "\n",
    "  # Use \"pooled_output\" for classification tasks on an entire sentence.\n",
    "  # Use \"sequence_outputs\" for token-level output.\n",
    "  output_layer = bert_outputs[\"pooled_output\"]\n",
    "\n",
    "  hidden_size = output_layer.shape[-1].value\n",
    "\n",
    "  # Create our own layer to tune for politeness data.\n",
    "  output_weights = tf.get_variable(\n",
    "      \"output_weights\", [num_labels, hidden_size],\n",
    "      initializer=tf.truncated_normal_initializer(stddev=0.02))\n",
    "\n",
    "  output_bias = tf.get_variable(\n",
    "      \"output_bias\", [num_labels], initializer=tf.zeros_initializer())\n",
    "\n",
    "  with tf.variable_scope(\"loss\"):\n",
    "\n",
    "    # Dropout helps prevent overfitting\n",
    "    output_layer = tf.nn.dropout(output_layer, keep_prob=0.9)\n",
    "\n",
    "    logits = tf.matmul(output_layer, output_weights, transpose_b=True)\n",
    "    logits = tf.nn.bias_add(logits, output_bias)\n",
    "    log_probs = tf.nn.log_softmax(logits, axis=-1)\n",
    "\n",
    "    # Convert labels into one-hot encoding\n",
    "    one_hot_labels = tf.one_hot(labels, depth=num_labels, dtype=tf.float32)\n",
    "\n",
    "    predicted_labels = tf.squeeze(tf.argmax(log_probs, axis=-1, output_type=tf.int32))\n",
    "    # If we're predicting, we want predicted labels and the probabiltiies.\n",
    "    if is_predicting:\n",
    "      return (predicted_labels, log_probs)\n",
    "\n",
    "    # If we're train/eval, compute loss between predicted and actual label\n",
    "    per_example_loss = -tf.reduce_sum(one_hot_labels * log_probs, axis=-1)\n",
    "    loss = tf.reduce_mean(per_example_loss)\n",
    "    return (loss, predicted_labels, log_probs)"
   ]
  },
  {
   "cell_type": "code",
   "execution_count": 24,
   "metadata": {},
   "outputs": [],
   "source": [
    "#A function that adapts our model to work for training, evaluation, and prediction.\n",
    "\n",
    "# model_fn_builder actually creates our model function\n",
    "# using the passed parameters for num_labels, learning_rate, etc.\n",
    "def model_fn_builder(num_labels, learning_rate, num_train_steps,\n",
    "                     num_warmup_steps):\n",
    "  \"\"\"Returns `model_fn` closure for TPUEstimator.\"\"\"\n",
    "  def model_fn(features, labels, mode, params):  # pylint: disable=unused-argument\n",
    "    \"\"\"The `model_fn` for TPUEstimator.\"\"\"\n",
    "\n",
    "    input_ids = features[\"input_ids\"]\n",
    "    input_mask = features[\"input_mask\"]\n",
    "    segment_ids = features[\"segment_ids\"]\n",
    "    label_ids = features[\"label_ids\"]\n",
    "\n",
    "    is_predicting = (mode == tf.estimator.ModeKeys.PREDICT)\n",
    "    \n",
    "    # TRAIN and EVAL\n",
    "    if not is_predicting:\n",
    "\n",
    "      (loss, predicted_labels, log_probs) = create_model(\n",
    "        is_predicting, input_ids, input_mask, segment_ids, label_ids, num_labels)\n",
    "\n",
    "      train_op = bert.optimization.create_optimizer(\n",
    "          loss, learning_rate, num_train_steps, num_warmup_steps, use_tpu=False)\n",
    "\n",
    "      # Calculate evaluation metrics. \n",
    "      def metric_fn(label_ids, predicted_labels):\n",
    "        accuracy = tf.metrics.accuracy(label_ids, predicted_labels)\n",
    "        true_pos = tf.metrics.true_positives(\n",
    "            label_ids,\n",
    "            predicted_labels)\n",
    "        true_neg = tf.metrics.true_negatives(\n",
    "            label_ids,\n",
    "            predicted_labels)   \n",
    "        false_pos = tf.metrics.false_positives(\n",
    "            label_ids,\n",
    "            predicted_labels)  \n",
    "        false_neg = tf.metrics.false_negatives(\n",
    "            label_ids,\n",
    "            predicted_labels)\n",
    "        \n",
    "        return {\n",
    "            \"eval_accuracy\": accuracy,\n",
    "            \"true_positives\": true_pos,\n",
    "            \"true_negatives\": true_neg,\n",
    "            \"false_positives\": false_pos,\n",
    "            \"false_negatives\": false_neg\n",
    "            }\n",
    "\n",
    "      eval_metrics = metric_fn(label_ids, predicted_labels)\n",
    "\n",
    "      if mode == tf.estimator.ModeKeys.TRAIN:\n",
    "        return tf.estimator.EstimatorSpec(mode=mode,\n",
    "          loss=loss,\n",
    "          train_op=train_op)\n",
    "      else:\n",
    "          return tf.estimator.EstimatorSpec(mode=mode,\n",
    "            loss=loss,\n",
    "            eval_metric_ops=eval_metrics)\n",
    "    else:\n",
    "      (predicted_labels, log_probs) = create_model(\n",
    "        is_predicting, input_ids, input_mask, segment_ids, label_ids, num_labels)\n",
    "\n",
    "      predictions = {\n",
    "          'probabilities': log_probs,\n",
    "          'labels': predicted_labels\n",
    "      }\n",
    "      return tf.estimator.EstimatorSpec(mode, predictions=predictions)\n",
    "\n",
    "  # Return the actual model function in the closure\n",
    "  return model_fn"
   ]
  },
  {
   "cell_type": "code",
   "execution_count": 25,
   "metadata": {},
   "outputs": [],
   "source": [
    "# Compute train and warmup steps from batch size\n",
    "# These hyperparameters are copied from this colab notebook (https://colab.sandbox.google.com/github/tensorflow/tpu/blob/master/tools/colab/bert_finetuning_with_cloud_tpus.ipynb)\n",
    "BATCH_SIZE = 35\n",
    "LEARNING_RATE = 2e-5\n",
    "NUM_TRAIN_EPOCHS = 3.0\n",
    "# Warmup is a period of time where the learning rate is small and gradually increases--usually helps training.\n",
    "WARMUP_PROPORTION = 0.1\n",
    "# Model configs\n",
    "SAVE_CHECKPOINTS_STEPS = 300\n",
    "SAVE_SUMMARY_STEPS = 100\n",
    "\n",
    "# Compute train and warmup steps from batch size\n",
    "num_train_steps = int(len(train_features) / BATCH_SIZE * NUM_TRAIN_EPOCHS)\n",
    "num_warmup_steps = int(num_train_steps * WARMUP_PROPORTION)\n",
    "\n",
    "# Specify output directory and number of checkpoint steps to save\n",
    "run_config = tf.estimator.RunConfig(\n",
    "    model_dir=OUTPUT_DIR,\n",
    "    save_summary_steps=SAVE_SUMMARY_STEPS,\n",
    "    save_checkpoints_steps=SAVE_CHECKPOINTS_STEPS,\n",
    "    session_config = session_config)\n",
    "\n"
   ]
  },
  {
   "cell_type": "code",
   "execution_count": 26,
   "metadata": {},
   "outputs": [
    {
     "name": "stdout",
     "output_type": "stream",
     "text": [
      "INFO:tensorflow:Using config: {'_model_dir': 'models/23Jan/', '_tf_random_seed': None, '_save_summary_steps': 100, '_save_checkpoints_steps': 300, '_save_checkpoints_secs': None, '_session_config': gpu_options {\n",
      "  allow_growth: true\n",
      "  visible_device_list: \"4\"\n",
      "}\n",
      ", '_keep_checkpoint_max': 5, '_keep_checkpoint_every_n_hours': 10000, '_log_step_count_steps': 100, '_train_distribute': None, '_device_fn': None, '_protocol': None, '_eval_distribute': None, '_experimental_distribute': None, '_experimental_max_worker_delay_secs': None, '_session_creation_timeout_secs': 7200, '_service': None, '_cluster_spec': <tensorflow.python.training.server_lib.ClusterSpec object at 0x7f14e021ab90>, '_task_type': 'worker', '_task_id': 0, '_global_id_in_cluster': 0, '_master': '', '_evaluation_master': '', '_is_chief': True, '_num_ps_replicas': 0, '_num_worker_replicas': 1}\n"
     ]
    },
    {
     "name": "stderr",
     "output_type": "stream",
     "text": [
      "INFO:tensorflow:Using config: {'_model_dir': 'models/23Jan/', '_tf_random_seed': None, '_save_summary_steps': 100, '_save_checkpoints_steps': 300, '_save_checkpoints_secs': None, '_session_config': gpu_options {\n",
      "  allow_growth: true\n",
      "  visible_device_list: \"4\"\n",
      "}\n",
      ", '_keep_checkpoint_max': 5, '_keep_checkpoint_every_n_hours': 10000, '_log_step_count_steps': 100, '_train_distribute': None, '_device_fn': None, '_protocol': None, '_eval_distribute': None, '_experimental_distribute': None, '_experimental_max_worker_delay_secs': None, '_session_creation_timeout_secs': 7200, '_service': None, '_cluster_spec': <tensorflow.python.training.server_lib.ClusterSpec object at 0x7f14e021ab90>, '_task_type': 'worker', '_task_id': 0, '_global_id_in_cluster': 0, '_master': '', '_evaluation_master': '', '_is_chief': True, '_num_ps_replicas': 0, '_num_worker_replicas': 1}\n"
     ]
    }
   ],
   "source": [
    "#Initializing the model and the estimator\n",
    "model_fn = model_fn_builder(\n",
    "  num_labels=len(label_list),\n",
    "  learning_rate=LEARNING_RATE,\n",
    "  num_train_steps=num_train_steps,\n",
    "  num_warmup_steps=num_warmup_steps)\n",
    "\n",
    "estimator = tf.estimator.Estimator(\n",
    "  model_fn=model_fn,\n",
    "  config=run_config,\n",
    "  params={\"batch_size\": BATCH_SIZE})"
   ]
  },
  {
   "cell_type": "code",
   "execution_count": 27,
   "metadata": {},
   "outputs": [],
   "source": [
    "# Create an input function for training. drop_remainder = True for using TPUs.\n",
    "train_input_fn = bert.run_classifier.input_fn_builder(\n",
    "    features=train_features,\n",
    "    seq_length=MAX_SEQ_LENGTH,\n",
    "    is_training=True,\n",
    "    drop_remainder=False)\n",
    "\n",
    "# Create an input function for validating. drop_remainder = True for using TPUs.\n",
    "val_input_fn = run_classifier.input_fn_builder(\n",
    "    features=test_features,\n",
    "    seq_length=MAX_SEQ_LENGTH,\n",
    "    is_training=False,\n",
    "    drop_remainder=False)"
   ]
  },
  {
   "cell_type": "code",
   "execution_count": 28,
   "metadata": {},
   "outputs": [
    {
     "data": {
      "text/plain": [
       "1043"
      ]
     },
     "execution_count": 28,
     "metadata": {},
     "output_type": "execute_result"
    }
   ],
   "source": [
    "num_train_steps"
   ]
  },
  {
   "cell_type": "code",
   "execution_count": 29,
   "metadata": {
    "scrolled": true
   },
   "outputs": [
    {
     "name": "stdout",
     "output_type": "stream",
     "text": [
      "Beginning Training!\n",
      "WARNING:tensorflow:From /opt/custom/python/anaconda3/envs/tf1.15/lib/python3.7/site-packages/tensorflow_core/python/training/training_util.py:236: Variable.initialized_value (from tensorflow.python.ops.variables) is deprecated and will be removed in a future version.\n",
      "Instructions for updating:\n",
      "Use Variable.read_value. Variables in 2.X are initialized automatically both in eager and graph (inside tf.defun) contexts.\n"
     ]
    },
    {
     "name": "stderr",
     "output_type": "stream",
     "text": [
      "WARNING:tensorflow:From /opt/custom/python/anaconda3/envs/tf1.15/lib/python3.7/site-packages/tensorflow_core/python/training/training_util.py:236: Variable.initialized_value (from tensorflow.python.ops.variables) is deprecated and will be removed in a future version.\n",
      "Instructions for updating:\n",
      "Use Variable.read_value. Variables in 2.X are initialized automatically both in eager and graph (inside tf.defun) contexts.\n"
     ]
    },
    {
     "name": "stdout",
     "output_type": "stream",
     "text": [
      "INFO:tensorflow:Calling model_fn.\n"
     ]
    },
    {
     "name": "stderr",
     "output_type": "stream",
     "text": [
      "INFO:tensorflow:Calling model_fn.\n"
     ]
    },
    {
     "name": "stdout",
     "output_type": "stream",
     "text": [
      "INFO:tensorflow:Saver not created because there are no variables in the graph to restore\n"
     ]
    },
    {
     "name": "stderr",
     "output_type": "stream",
     "text": [
      "INFO:tensorflow:Saver not created because there are no variables in the graph to restore\n"
     ]
    },
    {
     "name": "stdout",
     "output_type": "stream",
     "text": [
      "WARNING:tensorflow:From <ipython-input-23-bdfb628bf45b>:33: calling dropout (from tensorflow.python.ops.nn_ops) with keep_prob is deprecated and will be removed in a future version.\n",
      "Instructions for updating:\n",
      "Please use `rate` instead of `keep_prob`. Rate should be set to `rate = 1 - keep_prob`.\n"
     ]
    },
    {
     "name": "stderr",
     "output_type": "stream",
     "text": [
      "WARNING:tensorflow:From <ipython-input-23-bdfb628bf45b>:33: calling dropout (from tensorflow.python.ops.nn_ops) with keep_prob is deprecated and will be removed in a future version.\n",
      "Instructions for updating:\n",
      "Please use `rate` instead of `keep_prob`. Rate should be set to `rate = 1 - keep_prob`.\n"
     ]
    },
    {
     "name": "stdout",
     "output_type": "stream",
     "text": [
      "WARNING:tensorflow:From /opt/custom/python/anaconda3/envs/tf1.15/lib/python3.7/site-packages/bert/optimization.py:27: The name tf.train.get_or_create_global_step is deprecated. Please use tf.compat.v1.train.get_or_create_global_step instead.\n",
      "\n"
     ]
    },
    {
     "name": "stderr",
     "output_type": "stream",
     "text": [
      "WARNING:tensorflow:From /opt/custom/python/anaconda3/envs/tf1.15/lib/python3.7/site-packages/bert/optimization.py:27: The name tf.train.get_or_create_global_step is deprecated. Please use tf.compat.v1.train.get_or_create_global_step instead.\n",
      "\n"
     ]
    },
    {
     "name": "stdout",
     "output_type": "stream",
     "text": [
      "WARNING:tensorflow:From /opt/custom/python/anaconda3/envs/tf1.15/lib/python3.7/site-packages/bert/optimization.py:32: The name tf.train.polynomial_decay is deprecated. Please use tf.compat.v1.train.polynomial_decay instead.\n",
      "\n"
     ]
    },
    {
     "name": "stderr",
     "output_type": "stream",
     "text": [
      "WARNING:tensorflow:From /opt/custom/python/anaconda3/envs/tf1.15/lib/python3.7/site-packages/bert/optimization.py:32: The name tf.train.polynomial_decay is deprecated. Please use tf.compat.v1.train.polynomial_decay instead.\n",
      "\n"
     ]
    },
    {
     "name": "stdout",
     "output_type": "stream",
     "text": [
      "WARNING:tensorflow:From /opt/custom/python/anaconda3/envs/tf1.15/lib/python3.7/site-packages/bert/optimization.py:70: The name tf.trainable_variables is deprecated. Please use tf.compat.v1.trainable_variables instead.\n",
      "\n"
     ]
    },
    {
     "name": "stderr",
     "output_type": "stream",
     "text": [
      "WARNING:tensorflow:From /opt/custom/python/anaconda3/envs/tf1.15/lib/python3.7/site-packages/bert/optimization.py:70: The name tf.trainable_variables is deprecated. Please use tf.compat.v1.trainable_variables instead.\n",
      "\n"
     ]
    },
    {
     "name": "stdout",
     "output_type": "stream",
     "text": [
      "WARNING:tensorflow:From /opt/custom/python/anaconda3/envs/tf1.15/lib/python3.7/site-packages/tensorflow_core/python/ops/math_grad.py:1375: where (from tensorflow.python.ops.array_ops) is deprecated and will be removed in a future version.\n",
      "Instructions for updating:\n",
      "Use tf.where in 2.0, which has the same broadcast rule as np.where\n"
     ]
    },
    {
     "name": "stderr",
     "output_type": "stream",
     "text": [
      "WARNING:tensorflow:From /opt/custom/python/anaconda3/envs/tf1.15/lib/python3.7/site-packages/tensorflow_core/python/ops/math_grad.py:1375: where (from tensorflow.python.ops.array_ops) is deprecated and will be removed in a future version.\n",
      "Instructions for updating:\n",
      "Use tf.where in 2.0, which has the same broadcast rule as np.where\n",
      "/opt/custom/python/anaconda3/envs/tf1.15/lib/python3.7/site-packages/tensorflow_core/python/framework/indexed_slices.py:424: UserWarning: Converting sparse IndexedSlices to a dense Tensor of unknown shape. This may consume a large amount of memory.\n",
      "  \"Converting sparse IndexedSlices to a dense Tensor of unknown shape. \"\n"
     ]
    },
    {
     "name": "stdout",
     "output_type": "stream",
     "text": [
      "INFO:tensorflow:Done calling model_fn.\n"
     ]
    },
    {
     "name": "stderr",
     "output_type": "stream",
     "text": [
      "INFO:tensorflow:Done calling model_fn.\n"
     ]
    },
    {
     "name": "stdout",
     "output_type": "stream",
     "text": [
      "INFO:tensorflow:Create CheckpointSaverHook.\n"
     ]
    },
    {
     "name": "stderr",
     "output_type": "stream",
     "text": [
      "INFO:tensorflow:Create CheckpointSaverHook.\n"
     ]
    },
    {
     "name": "stdout",
     "output_type": "stream",
     "text": [
      "INFO:tensorflow:Graph was finalized.\n"
     ]
    },
    {
     "name": "stderr",
     "output_type": "stream",
     "text": [
      "INFO:tensorflow:Graph was finalized.\n"
     ]
    },
    {
     "name": "stdout",
     "output_type": "stream",
     "text": [
      "INFO:tensorflow:Running local_init_op.\n"
     ]
    },
    {
     "name": "stderr",
     "output_type": "stream",
     "text": [
      "INFO:tensorflow:Running local_init_op.\n"
     ]
    },
    {
     "name": "stdout",
     "output_type": "stream",
     "text": [
      "INFO:tensorflow:Done running local_init_op.\n"
     ]
    },
    {
     "name": "stderr",
     "output_type": "stream",
     "text": [
      "INFO:tensorflow:Done running local_init_op.\n"
     ]
    },
    {
     "name": "stdout",
     "output_type": "stream",
     "text": [
      "INFO:tensorflow:Saving checkpoints for 0 into models/23Jan/model.ckpt.\n"
     ]
    },
    {
     "name": "stderr",
     "output_type": "stream",
     "text": [
      "INFO:tensorflow:Saving checkpoints for 0 into models/23Jan/model.ckpt.\n"
     ]
    },
    {
     "name": "stdout",
     "output_type": "stream",
     "text": [
      "INFO:tensorflow:loss = 4.3103175, step = 0\n"
     ]
    },
    {
     "name": "stderr",
     "output_type": "stream",
     "text": [
      "INFO:tensorflow:loss = 4.3103175, step = 0\n"
     ]
    },
    {
     "name": "stdout",
     "output_type": "stream",
     "text": [
      "INFO:tensorflow:global_step/sec: 2.35453\n"
     ]
    },
    {
     "name": "stderr",
     "output_type": "stream",
     "text": [
      "INFO:tensorflow:global_step/sec: 2.35453\n"
     ]
    },
    {
     "name": "stdout",
     "output_type": "stream",
     "text": [
      "INFO:tensorflow:loss = 2.3797646, step = 100 (42.474 sec)\n"
     ]
    },
    {
     "name": "stderr",
     "output_type": "stream",
     "text": [
      "INFO:tensorflow:loss = 2.3797646, step = 100 (42.474 sec)\n"
     ]
    },
    {
     "name": "stdout",
     "output_type": "stream",
     "text": [
      "INFO:tensorflow:global_step/sec: 4.57026\n"
     ]
    },
    {
     "name": "stderr",
     "output_type": "stream",
     "text": [
      "INFO:tensorflow:global_step/sec: 4.57026\n"
     ]
    },
    {
     "name": "stdout",
     "output_type": "stream",
     "text": [
      "INFO:tensorflow:loss = 1.8320299, step = 200 (21.880 sec)\n"
     ]
    },
    {
     "name": "stderr",
     "output_type": "stream",
     "text": [
      "INFO:tensorflow:loss = 1.8320299, step = 200 (21.880 sec)\n"
     ]
    },
    {
     "name": "stdout",
     "output_type": "stream",
     "text": [
      "INFO:tensorflow:Saving checkpoints for 300 into models/23Jan/model.ckpt.\n"
     ]
    },
    {
     "name": "stderr",
     "output_type": "stream",
     "text": [
      "INFO:tensorflow:Saving checkpoints for 300 into models/23Jan/model.ckpt.\n"
     ]
    },
    {
     "name": "stdout",
     "output_type": "stream",
     "text": [
      "INFO:tensorflow:global_step/sec: 4.05193\n"
     ]
    },
    {
     "name": "stderr",
     "output_type": "stream",
     "text": [
      "INFO:tensorflow:global_step/sec: 4.05193\n"
     ]
    },
    {
     "name": "stdout",
     "output_type": "stream",
     "text": [
      "INFO:tensorflow:loss = 0.86904114, step = 300 (24.678 sec)\n"
     ]
    },
    {
     "name": "stderr",
     "output_type": "stream",
     "text": [
      "INFO:tensorflow:loss = 0.86904114, step = 300 (24.678 sec)\n"
     ]
    },
    {
     "name": "stdout",
     "output_type": "stream",
     "text": [
      "INFO:tensorflow:global_step/sec: 4.50907\n"
     ]
    },
    {
     "name": "stderr",
     "output_type": "stream",
     "text": [
      "INFO:tensorflow:global_step/sec: 4.50907\n"
     ]
    },
    {
     "name": "stdout",
     "output_type": "stream",
     "text": [
      "INFO:tensorflow:loss = 0.7683956, step = 400 (22.179 sec)\n"
     ]
    },
    {
     "name": "stderr",
     "output_type": "stream",
     "text": [
      "INFO:tensorflow:loss = 0.7683956, step = 400 (22.179 sec)\n"
     ]
    },
    {
     "name": "stdout",
     "output_type": "stream",
     "text": [
      "INFO:tensorflow:global_step/sec: 4.5074\n"
     ]
    },
    {
     "name": "stderr",
     "output_type": "stream",
     "text": [
      "INFO:tensorflow:global_step/sec: 4.5074\n"
     ]
    },
    {
     "name": "stdout",
     "output_type": "stream",
     "text": [
      "INFO:tensorflow:loss = 0.6517834, step = 500 (22.186 sec)\n"
     ]
    },
    {
     "name": "stderr",
     "output_type": "stream",
     "text": [
      "INFO:tensorflow:loss = 0.6517834, step = 500 (22.186 sec)\n"
     ]
    },
    {
     "name": "stdout",
     "output_type": "stream",
     "text": [
      "INFO:tensorflow:Saving checkpoints for 600 into models/23Jan/model.ckpt.\n"
     ]
    },
    {
     "name": "stderr",
     "output_type": "stream",
     "text": [
      "INFO:tensorflow:Saving checkpoints for 600 into models/23Jan/model.ckpt.\n"
     ]
    },
    {
     "name": "stdout",
     "output_type": "stream",
     "text": [
      "INFO:tensorflow:global_step/sec: 4.01392\n"
     ]
    },
    {
     "name": "stderr",
     "output_type": "stream",
     "text": [
      "INFO:tensorflow:global_step/sec: 4.01392\n"
     ]
    },
    {
     "name": "stdout",
     "output_type": "stream",
     "text": [
      "INFO:tensorflow:loss = 0.3536689, step = 600 (24.913 sec)\n"
     ]
    },
    {
     "name": "stderr",
     "output_type": "stream",
     "text": [
      "INFO:tensorflow:loss = 0.3536689, step = 600 (24.913 sec)\n"
     ]
    },
    {
     "name": "stdout",
     "output_type": "stream",
     "text": [
      "INFO:tensorflow:global_step/sec: 4.47661\n"
     ]
    },
    {
     "name": "stderr",
     "output_type": "stream",
     "text": [
      "INFO:tensorflow:global_step/sec: 4.47661\n"
     ]
    },
    {
     "name": "stdout",
     "output_type": "stream",
     "text": [
      "INFO:tensorflow:loss = 0.37958917, step = 700 (22.339 sec)\n"
     ]
    },
    {
     "name": "stderr",
     "output_type": "stream",
     "text": [
      "INFO:tensorflow:loss = 0.37958917, step = 700 (22.339 sec)\n"
     ]
    },
    {
     "name": "stdout",
     "output_type": "stream",
     "text": [
      "INFO:tensorflow:global_step/sec: 4.48048\n"
     ]
    },
    {
     "name": "stderr",
     "output_type": "stream",
     "text": [
      "INFO:tensorflow:global_step/sec: 4.48048\n"
     ]
    },
    {
     "name": "stdout",
     "output_type": "stream",
     "text": [
      "INFO:tensorflow:loss = 0.33890346, step = 800 (22.319 sec)\n"
     ]
    },
    {
     "name": "stderr",
     "output_type": "stream",
     "text": [
      "INFO:tensorflow:loss = 0.33890346, step = 800 (22.319 sec)\n"
     ]
    },
    {
     "name": "stdout",
     "output_type": "stream",
     "text": [
      "INFO:tensorflow:Saving checkpoints for 900 into models/23Jan/model.ckpt.\n"
     ]
    },
    {
     "name": "stderr",
     "output_type": "stream",
     "text": [
      "INFO:tensorflow:Saving checkpoints for 900 into models/23Jan/model.ckpt.\n"
     ]
    },
    {
     "name": "stdout",
     "output_type": "stream",
     "text": [
      "INFO:tensorflow:global_step/sec: 3.98481\n"
     ]
    },
    {
     "name": "stderr",
     "output_type": "stream",
     "text": [
      "INFO:tensorflow:global_step/sec: 3.98481\n"
     ]
    },
    {
     "name": "stdout",
     "output_type": "stream",
     "text": [
      "INFO:tensorflow:loss = 0.35582188, step = 900 (25.094 sec)\n"
     ]
    },
    {
     "name": "stderr",
     "output_type": "stream",
     "text": [
      "INFO:tensorflow:loss = 0.35582188, step = 900 (25.094 sec)\n"
     ]
    },
    {
     "name": "stdout",
     "output_type": "stream",
     "text": [
      "INFO:tensorflow:global_step/sec: 4.46238\n"
     ]
    },
    {
     "name": "stderr",
     "output_type": "stream",
     "text": [
      "INFO:tensorflow:global_step/sec: 4.46238\n"
     ]
    },
    {
     "name": "stdout",
     "output_type": "stream",
     "text": [
      "INFO:tensorflow:loss = 0.4440185, step = 1000 (22.411 sec)\n"
     ]
    },
    {
     "name": "stderr",
     "output_type": "stream",
     "text": [
      "INFO:tensorflow:loss = 0.4440185, step = 1000 (22.411 sec)\n"
     ]
    },
    {
     "name": "stdout",
     "output_type": "stream",
     "text": [
      "INFO:tensorflow:Saving checkpoints for 1043 into models/23Jan/model.ckpt.\n"
     ]
    },
    {
     "name": "stderr",
     "output_type": "stream",
     "text": [
      "INFO:tensorflow:Saving checkpoints for 1043 into models/23Jan/model.ckpt.\n"
     ]
    },
    {
     "name": "stdout",
     "output_type": "stream",
     "text": [
      "INFO:tensorflow:Loss for final step: 0.47913998.\n"
     ]
    },
    {
     "name": "stderr",
     "output_type": "stream",
     "text": [
      "INFO:tensorflow:Loss for final step: 0.47913998.\n"
     ]
    },
    {
     "name": "stdout",
     "output_type": "stream",
     "text": [
      "Training took time  0:05:09.611566\n"
     ]
    }
   ],
   "source": [
    "#Training the model\n",
    "print(f'Beginning Training!')\n",
    "current_time = datetime.now()\n",
    "estimator.train(input_fn=train_input_fn, max_steps=num_train_steps)\n",
    "print(\"Training took time \", datetime.now() - current_time)"
   ]
  },
  {
   "cell_type": "code",
   "execution_count": 30,
   "metadata": {},
   "outputs": [
    {
     "name": "stdout",
     "output_type": "stream",
     "text": [
      "INFO:tensorflow:Calling model_fn.\n"
     ]
    },
    {
     "name": "stderr",
     "output_type": "stream",
     "text": [
      "INFO:tensorflow:Calling model_fn.\n"
     ]
    },
    {
     "name": "stdout",
     "output_type": "stream",
     "text": [
      "INFO:tensorflow:Saver not created because there are no variables in the graph to restore\n"
     ]
    },
    {
     "name": "stderr",
     "output_type": "stream",
     "text": [
      "INFO:tensorflow:Saver not created because there are no variables in the graph to restore\n",
      "/opt/custom/python/anaconda3/envs/tf1.15/lib/python3.7/site-packages/tensorflow_core/python/framework/indexed_slices.py:424: UserWarning: Converting sparse IndexedSlices to a dense Tensor of unknown shape. This may consume a large amount of memory.\n",
      "  \"Converting sparse IndexedSlices to a dense Tensor of unknown shape. \"\n"
     ]
    },
    {
     "name": "stdout",
     "output_type": "stream",
     "text": [
      "INFO:tensorflow:Done calling model_fn.\n"
     ]
    },
    {
     "name": "stderr",
     "output_type": "stream",
     "text": [
      "INFO:tensorflow:Done calling model_fn.\n"
     ]
    },
    {
     "name": "stdout",
     "output_type": "stream",
     "text": [
      "INFO:tensorflow:Starting evaluation at 2020-01-23T04:26:15Z\n"
     ]
    },
    {
     "name": "stderr",
     "output_type": "stream",
     "text": [
      "INFO:tensorflow:Starting evaluation at 2020-01-23T04:26:15Z\n"
     ]
    },
    {
     "name": "stdout",
     "output_type": "stream",
     "text": [
      "INFO:tensorflow:Graph was finalized.\n"
     ]
    },
    {
     "name": "stderr",
     "output_type": "stream",
     "text": [
      "INFO:tensorflow:Graph was finalized.\n"
     ]
    },
    {
     "name": "stdout",
     "output_type": "stream",
     "text": [
      "INFO:tensorflow:Restoring parameters from models/23Jan/model.ckpt-1043\n"
     ]
    },
    {
     "name": "stderr",
     "output_type": "stream",
     "text": [
      "INFO:tensorflow:Restoring parameters from models/23Jan/model.ckpt-1043\n"
     ]
    },
    {
     "name": "stdout",
     "output_type": "stream",
     "text": [
      "INFO:tensorflow:Running local_init_op.\n"
     ]
    },
    {
     "name": "stderr",
     "output_type": "stream",
     "text": [
      "INFO:tensorflow:Running local_init_op.\n"
     ]
    },
    {
     "name": "stdout",
     "output_type": "stream",
     "text": [
      "INFO:tensorflow:Done running local_init_op.\n"
     ]
    },
    {
     "name": "stderr",
     "output_type": "stream",
     "text": [
      "INFO:tensorflow:Done running local_init_op.\n"
     ]
    },
    {
     "name": "stdout",
     "output_type": "stream",
     "text": [
      "INFO:tensorflow:Finished evaluation at 2020-01-23-04:26:28\n"
     ]
    },
    {
     "name": "stderr",
     "output_type": "stream",
     "text": [
      "INFO:tensorflow:Finished evaluation at 2020-01-23-04:26:28\n"
     ]
    },
    {
     "name": "stdout",
     "output_type": "stream",
     "text": [
      "INFO:tensorflow:Saving dict for global step 1043: eval_accuracy = 0.8653088, false_negatives = 0.0, false_positives = 3.0, global_step = 1043, loss = 0.6206377, true_negatives = 0.0, true_positives = 3041.0\n"
     ]
    },
    {
     "name": "stderr",
     "output_type": "stream",
     "text": [
      "INFO:tensorflow:Saving dict for global step 1043: eval_accuracy = 0.8653088, false_negatives = 0.0, false_positives = 3.0, global_step = 1043, loss = 0.6206377, true_negatives = 0.0, true_positives = 3041.0\n"
     ]
    },
    {
     "name": "stdout",
     "output_type": "stream",
     "text": [
      "INFO:tensorflow:Saving 'checkpoint_path' summary for global step 1043: models/23Jan/model.ckpt-1043\n"
     ]
    },
    {
     "name": "stderr",
     "output_type": "stream",
     "text": [
      "INFO:tensorflow:Saving 'checkpoint_path' summary for global step 1043: models/23Jan/model.ckpt-1043\n"
     ]
    },
    {
     "data": {
      "text/plain": [
       "{'eval_accuracy': 0.8653088,\n",
       " 'false_negatives': 0.0,\n",
       " 'false_positives': 3.0,\n",
       " 'loss': 0.6206377,\n",
       " 'true_negatives': 0.0,\n",
       " 'true_positives': 3041.0,\n",
       " 'global_step': 1043}"
      ]
     },
     "execution_count": 30,
     "metadata": {},
     "output_type": "execute_result"
    }
   ],
   "source": [
    "#Evaluating the model with Validation set\n",
    "estimator.evaluate(input_fn=val_input_fn, steps=None)"
   ]
  },
  {
   "cell_type": "code",
   "execution_count": 31,
   "metadata": {},
   "outputs": [],
   "source": [
    "# A method to get predictions\n",
    "def getPrediction(in_sentences):\n",
    "  #A list to map the actual labels to the predictions\n",
    "  labels = sorted(df[LABEL_COLUMN].unique())\n",
    "\n",
    "  #Transforming the test data into BERT accepted form\n",
    "  input_examples = [run_classifier.InputExample(guid=\"\", text_a = x, text_b = None, label = 0) for x in in_sentences] \n",
    "  \n",
    "  #Creating input features for Test data\n",
    "  input_features = run_classifier.convert_examples_to_features(input_examples, label_list, MAX_SEQ_LENGTH, tokenizer)\n",
    "\n",
    "  #Predicting the classes \n",
    "  predict_input_fn = run_classifier.input_fn_builder(features=input_features, seq_length=MAX_SEQ_LENGTH, is_training=False, drop_remainder=False)\n",
    "  predictions = estimator.predict(predict_input_fn)\n",
    "  return [(sentence, prediction['probabilities'],prediction['labels'], labels[prediction['labels']]) for sentence, prediction in zip(in_sentences, predictions)]\n"
   ]
  },
  {
   "cell_type": "code",
   "execution_count": 32,
   "metadata": {},
   "outputs": [],
   "source": [
    "test_data = pd.read_csv('data/val.csv',sep=',',encoding='utf-8')"
   ]
  },
  {
   "cell_type": "code",
   "execution_count": 33,
   "metadata": {},
   "outputs": [
    {
     "data": {
      "text/html": [
       "<div>\n",
       "<style scoped>\n",
       "    .dataframe tbody tr th:only-of-type {\n",
       "        vertical-align: middle;\n",
       "    }\n",
       "\n",
       "    .dataframe tbody tr th {\n",
       "        vertical-align: top;\n",
       "    }\n",
       "\n",
       "    .dataframe thead th {\n",
       "        text-align: right;\n",
       "    }\n",
       "</style>\n",
       "<table border=\"1\" class=\"dataframe\">\n",
       "  <thead>\n",
       "    <tr style=\"text-align: right;\">\n",
       "      <th></th>\n",
       "      <th>Session_id</th>\n",
       "      <th>Free_Text</th>\n",
       "      <th>RU_Tag</th>\n",
       "    </tr>\n",
       "  </thead>\n",
       "  <tbody>\n",
       "    <tr>\n",
       "      <th>0</th>\n",
       "      <td>SyntData09NOV523</td>\n",
       "      <td>I want to buy a boy's rain jacket</td>\n",
       "      <td>Shopping_Query</td>\n",
       "    </tr>\n",
       "    <tr>\n",
       "      <th>1</th>\n",
       "      <td>SyntData52553</td>\n",
       "      <td>oh yes</td>\n",
       "      <td>Yes_Give</td>\n",
       "    </tr>\n",
       "    <tr>\n",
       "      <th>2</th>\n",
       "      <td>INT-va1appis15-1540083928550-176076</td>\n",
       "      <td>I see a price of XXX.98 but checkout says its ...</td>\n",
       "      <td>Columbia_Others</td>\n",
       "    </tr>\n",
       "    <tr>\n",
       "      <th>3</th>\n",
       "      <td>SyntData53658</td>\n",
       "      <td>Do you ship to Oregon?</td>\n",
       "      <td>Shipping_Where</td>\n",
       "    </tr>\n",
       "    <tr>\n",
       "      <th>4</th>\n",
       "      <td>SyntData54286</td>\n",
       "      <td>I have a gift card i want to use @ 29.93 ## ye...</td>\n",
       "      <td>GiftCard_Query</td>\n",
       "    </tr>\n",
       "  </tbody>\n",
       "</table>\n",
       "</div>"
      ],
      "text/plain": [
       "                            Session_id  \\\n",
       "0                     SyntData09NOV523   \n",
       "1                        SyntData52553   \n",
       "2  INT-va1appis15-1540083928550-176076   \n",
       "3                        SyntData53658   \n",
       "4                        SyntData54286   \n",
       "\n",
       "                                           Free_Text           RU_Tag  \n",
       "0                 I want to buy a boy's rain jacket    Shopping_Query  \n",
       "1                                             oh yes         Yes_Give  \n",
       "2  I see a price of XXX.98 but checkout says its ...  Columbia_Others  \n",
       "3                             Do you ship to Oregon?   Shipping_Where  \n",
       "4  I have a gift card i want to use @ 29.93 ## ye...   GiftCard_Query  "
      ]
     },
     "execution_count": 33,
     "metadata": {},
     "output_type": "execute_result"
    }
   ],
   "source": [
    "test_data.head(5)"
   ]
  },
  {
   "cell_type": "code",
   "execution_count": 34,
   "metadata": {},
   "outputs": [],
   "source": [
    "test_sentences = test_data[DATA_COLUMN]"
   ]
  },
  {
   "cell_type": "code",
   "execution_count": 35,
   "metadata": {},
   "outputs": [
    {
     "name": "stdout",
     "output_type": "stream",
     "text": [
      "INFO:tensorflow:Writing example 0 of 3044\n"
     ]
    },
    {
     "name": "stderr",
     "output_type": "stream",
     "text": [
      "INFO:tensorflow:Writing example 0 of 3044\n"
     ]
    },
    {
     "name": "stdout",
     "output_type": "stream",
     "text": [
      "INFO:tensorflow:*** Example ***\n"
     ]
    },
    {
     "name": "stderr",
     "output_type": "stream",
     "text": [
      "INFO:tensorflow:*** Example ***\n"
     ]
    },
    {
     "name": "stdout",
     "output_type": "stream",
     "text": [
      "INFO:tensorflow:guid: \n"
     ]
    },
    {
     "name": "stderr",
     "output_type": "stream",
     "text": [
      "INFO:tensorflow:guid: \n"
     ]
    },
    {
     "name": "stdout",
     "output_type": "stream",
     "text": [
      "INFO:tensorflow:tokens: [CLS] i want to buy a boy ' s rain jacket [SEP]\n"
     ]
    },
    {
     "name": "stderr",
     "output_type": "stream",
     "text": [
      "INFO:tensorflow:tokens: [CLS] i want to buy a boy ' s rain jacket [SEP]\n"
     ]
    },
    {
     "name": "stdout",
     "output_type": "stream",
     "text": [
      "INFO:tensorflow:input_ids: 101 1045 2215 2000 4965 1037 2879 1005 1055 4542 6598 102 0 0 0 0 0 0 0 0 0 0 0 0 0 0 0 0 0 0 0 0 0 0 0 0 0 0 0 0 0 0 0 0 0 0 0 0 0 0\n"
     ]
    },
    {
     "name": "stderr",
     "output_type": "stream",
     "text": [
      "INFO:tensorflow:input_ids: 101 1045 2215 2000 4965 1037 2879 1005 1055 4542 6598 102 0 0 0 0 0 0 0 0 0 0 0 0 0 0 0 0 0 0 0 0 0 0 0 0 0 0 0 0 0 0 0 0 0 0 0 0 0 0\n"
     ]
    },
    {
     "name": "stdout",
     "output_type": "stream",
     "text": [
      "INFO:tensorflow:input_mask: 1 1 1 1 1 1 1 1 1 1 1 1 0 0 0 0 0 0 0 0 0 0 0 0 0 0 0 0 0 0 0 0 0 0 0 0 0 0 0 0 0 0 0 0 0 0 0 0 0 0\n"
     ]
    },
    {
     "name": "stderr",
     "output_type": "stream",
     "text": [
      "INFO:tensorflow:input_mask: 1 1 1 1 1 1 1 1 1 1 1 1 0 0 0 0 0 0 0 0 0 0 0 0 0 0 0 0 0 0 0 0 0 0 0 0 0 0 0 0 0 0 0 0 0 0 0 0 0 0\n"
     ]
    },
    {
     "name": "stdout",
     "output_type": "stream",
     "text": [
      "INFO:tensorflow:segment_ids: 0 0 0 0 0 0 0 0 0 0 0 0 0 0 0 0 0 0 0 0 0 0 0 0 0 0 0 0 0 0 0 0 0 0 0 0 0 0 0 0 0 0 0 0 0 0 0 0 0 0\n"
     ]
    },
    {
     "name": "stderr",
     "output_type": "stream",
     "text": [
      "INFO:tensorflow:segment_ids: 0 0 0 0 0 0 0 0 0 0 0 0 0 0 0 0 0 0 0 0 0 0 0 0 0 0 0 0 0 0 0 0 0 0 0 0 0 0 0 0 0 0 0 0 0 0 0 0 0 0\n"
     ]
    },
    {
     "name": "stdout",
     "output_type": "stream",
     "text": [
      "INFO:tensorflow:label: 0 (id = 0)\n"
     ]
    },
    {
     "name": "stderr",
     "output_type": "stream",
     "text": [
      "INFO:tensorflow:label: 0 (id = 0)\n"
     ]
    },
    {
     "name": "stdout",
     "output_type": "stream",
     "text": [
      "INFO:tensorflow:*** Example ***\n"
     ]
    },
    {
     "name": "stderr",
     "output_type": "stream",
     "text": [
      "INFO:tensorflow:*** Example ***\n"
     ]
    },
    {
     "name": "stdout",
     "output_type": "stream",
     "text": [
      "INFO:tensorflow:guid: \n"
     ]
    },
    {
     "name": "stderr",
     "output_type": "stream",
     "text": [
      "INFO:tensorflow:guid: \n"
     ]
    },
    {
     "name": "stdout",
     "output_type": "stream",
     "text": [
      "INFO:tensorflow:tokens: [CLS] oh yes [SEP]\n"
     ]
    },
    {
     "name": "stderr",
     "output_type": "stream",
     "text": [
      "INFO:tensorflow:tokens: [CLS] oh yes [SEP]\n"
     ]
    },
    {
     "name": "stdout",
     "output_type": "stream",
     "text": [
      "INFO:tensorflow:input_ids: 101 2821 2748 102 0 0 0 0 0 0 0 0 0 0 0 0 0 0 0 0 0 0 0 0 0 0 0 0 0 0 0 0 0 0 0 0 0 0 0 0 0 0 0 0 0 0 0 0 0 0\n"
     ]
    },
    {
     "name": "stderr",
     "output_type": "stream",
     "text": [
      "INFO:tensorflow:input_ids: 101 2821 2748 102 0 0 0 0 0 0 0 0 0 0 0 0 0 0 0 0 0 0 0 0 0 0 0 0 0 0 0 0 0 0 0 0 0 0 0 0 0 0 0 0 0 0 0 0 0 0\n"
     ]
    },
    {
     "name": "stdout",
     "output_type": "stream",
     "text": [
      "INFO:tensorflow:input_mask: 1 1 1 1 0 0 0 0 0 0 0 0 0 0 0 0 0 0 0 0 0 0 0 0 0 0 0 0 0 0 0 0 0 0 0 0 0 0 0 0 0 0 0 0 0 0 0 0 0 0\n"
     ]
    },
    {
     "name": "stderr",
     "output_type": "stream",
     "text": [
      "INFO:tensorflow:input_mask: 1 1 1 1 0 0 0 0 0 0 0 0 0 0 0 0 0 0 0 0 0 0 0 0 0 0 0 0 0 0 0 0 0 0 0 0 0 0 0 0 0 0 0 0 0 0 0 0 0 0\n"
     ]
    },
    {
     "name": "stdout",
     "output_type": "stream",
     "text": [
      "INFO:tensorflow:segment_ids: 0 0 0 0 0 0 0 0 0 0 0 0 0 0 0 0 0 0 0 0 0 0 0 0 0 0 0 0 0 0 0 0 0 0 0 0 0 0 0 0 0 0 0 0 0 0 0 0 0 0\n"
     ]
    },
    {
     "name": "stderr",
     "output_type": "stream",
     "text": [
      "INFO:tensorflow:segment_ids: 0 0 0 0 0 0 0 0 0 0 0 0 0 0 0 0 0 0 0 0 0 0 0 0 0 0 0 0 0 0 0 0 0 0 0 0 0 0 0 0 0 0 0 0 0 0 0 0 0 0\n"
     ]
    },
    {
     "name": "stdout",
     "output_type": "stream",
     "text": [
      "INFO:tensorflow:label: 0 (id = 0)\n"
     ]
    },
    {
     "name": "stderr",
     "output_type": "stream",
     "text": [
      "INFO:tensorflow:label: 0 (id = 0)\n"
     ]
    },
    {
     "name": "stdout",
     "output_type": "stream",
     "text": [
      "INFO:tensorflow:*** Example ***\n"
     ]
    },
    {
     "name": "stderr",
     "output_type": "stream",
     "text": [
      "INFO:tensorflow:*** Example ***\n"
     ]
    },
    {
     "name": "stdout",
     "output_type": "stream",
     "text": [
      "INFO:tensorflow:guid: \n"
     ]
    },
    {
     "name": "stderr",
     "output_type": "stream",
     "text": [
      "INFO:tensorflow:guid: \n"
     ]
    },
    {
     "name": "stdout",
     "output_type": "stream",
     "text": [
      "INFO:tensorflow:tokens: [CLS] i see a price of xx ##x . 98 but check ##out says its xx ##x . 00 # # women ##s ghost whisper ##er hooded down jacket in smith rock color # # okay , thanks [SEP]\n"
     ]
    },
    {
     "name": "stderr",
     "output_type": "stream",
     "text": [
      "INFO:tensorflow:tokens: [CLS] i see a price of xx ##x . 98 but check ##out says its xx ##x . 00 # # women ##s ghost whisper ##er hooded down jacket in smith rock color # # okay , thanks [SEP]\n"
     ]
    },
    {
     "name": "stdout",
     "output_type": "stream",
     "text": [
      "INFO:tensorflow:input_ids: 101 1045 2156 1037 3976 1997 22038 2595 1012 5818 2021 4638 5833 2758 2049 22038 2595 1012 4002 1001 1001 2308 2015 5745 7204 2121 21592 2091 6598 1999 3044 2600 3609 1001 1001 3100 1010 4283 102 0 0 0 0 0 0 0 0 0 0 0\n"
     ]
    },
    {
     "name": "stderr",
     "output_type": "stream",
     "text": [
      "INFO:tensorflow:input_ids: 101 1045 2156 1037 3976 1997 22038 2595 1012 5818 2021 4638 5833 2758 2049 22038 2595 1012 4002 1001 1001 2308 2015 5745 7204 2121 21592 2091 6598 1999 3044 2600 3609 1001 1001 3100 1010 4283 102 0 0 0 0 0 0 0 0 0 0 0\n"
     ]
    },
    {
     "name": "stdout",
     "output_type": "stream",
     "text": [
      "INFO:tensorflow:input_mask: 1 1 1 1 1 1 1 1 1 1 1 1 1 1 1 1 1 1 1 1 1 1 1 1 1 1 1 1 1 1 1 1 1 1 1 1 1 1 1 0 0 0 0 0 0 0 0 0 0 0\n"
     ]
    },
    {
     "name": "stderr",
     "output_type": "stream",
     "text": [
      "INFO:tensorflow:input_mask: 1 1 1 1 1 1 1 1 1 1 1 1 1 1 1 1 1 1 1 1 1 1 1 1 1 1 1 1 1 1 1 1 1 1 1 1 1 1 1 0 0 0 0 0 0 0 0 0 0 0\n"
     ]
    },
    {
     "name": "stdout",
     "output_type": "stream",
     "text": [
      "INFO:tensorflow:segment_ids: 0 0 0 0 0 0 0 0 0 0 0 0 0 0 0 0 0 0 0 0 0 0 0 0 0 0 0 0 0 0 0 0 0 0 0 0 0 0 0 0 0 0 0 0 0 0 0 0 0 0\n"
     ]
    },
    {
     "name": "stderr",
     "output_type": "stream",
     "text": [
      "INFO:tensorflow:segment_ids: 0 0 0 0 0 0 0 0 0 0 0 0 0 0 0 0 0 0 0 0 0 0 0 0 0 0 0 0 0 0 0 0 0 0 0 0 0 0 0 0 0 0 0 0 0 0 0 0 0 0\n"
     ]
    },
    {
     "name": "stdout",
     "output_type": "stream",
     "text": [
      "INFO:tensorflow:label: 0 (id = 0)\n"
     ]
    },
    {
     "name": "stderr",
     "output_type": "stream",
     "text": [
      "INFO:tensorflow:label: 0 (id = 0)\n"
     ]
    },
    {
     "name": "stdout",
     "output_type": "stream",
     "text": [
      "INFO:tensorflow:*** Example ***\n"
     ]
    },
    {
     "name": "stderr",
     "output_type": "stream",
     "text": [
      "INFO:tensorflow:*** Example ***\n"
     ]
    },
    {
     "name": "stdout",
     "output_type": "stream",
     "text": [
      "INFO:tensorflow:guid: \n"
     ]
    },
    {
     "name": "stderr",
     "output_type": "stream",
     "text": [
      "INFO:tensorflow:guid: \n"
     ]
    },
    {
     "name": "stdout",
     "output_type": "stream",
     "text": [
      "INFO:tensorflow:tokens: [CLS] do you ship to oregon ? [SEP]\n"
     ]
    },
    {
     "name": "stderr",
     "output_type": "stream",
     "text": [
      "INFO:tensorflow:tokens: [CLS] do you ship to oregon ? [SEP]\n"
     ]
    },
    {
     "name": "stdout",
     "output_type": "stream",
     "text": [
      "INFO:tensorflow:input_ids: 101 2079 2017 2911 2000 5392 1029 102 0 0 0 0 0 0 0 0 0 0 0 0 0 0 0 0 0 0 0 0 0 0 0 0 0 0 0 0 0 0 0 0 0 0 0 0 0 0 0 0 0 0\n"
     ]
    },
    {
     "name": "stderr",
     "output_type": "stream",
     "text": [
      "INFO:tensorflow:input_ids: 101 2079 2017 2911 2000 5392 1029 102 0 0 0 0 0 0 0 0 0 0 0 0 0 0 0 0 0 0 0 0 0 0 0 0 0 0 0 0 0 0 0 0 0 0 0 0 0 0 0 0 0 0\n"
     ]
    },
    {
     "name": "stdout",
     "output_type": "stream",
     "text": [
      "INFO:tensorflow:input_mask: 1 1 1 1 1 1 1 1 0 0 0 0 0 0 0 0 0 0 0 0 0 0 0 0 0 0 0 0 0 0 0 0 0 0 0 0 0 0 0 0 0 0 0 0 0 0 0 0 0 0\n"
     ]
    },
    {
     "name": "stderr",
     "output_type": "stream",
     "text": [
      "INFO:tensorflow:input_mask: 1 1 1 1 1 1 1 1 0 0 0 0 0 0 0 0 0 0 0 0 0 0 0 0 0 0 0 0 0 0 0 0 0 0 0 0 0 0 0 0 0 0 0 0 0 0 0 0 0 0\n"
     ]
    },
    {
     "name": "stdout",
     "output_type": "stream",
     "text": [
      "INFO:tensorflow:segment_ids: 0 0 0 0 0 0 0 0 0 0 0 0 0 0 0 0 0 0 0 0 0 0 0 0 0 0 0 0 0 0 0 0 0 0 0 0 0 0 0 0 0 0 0 0 0 0 0 0 0 0\n"
     ]
    },
    {
     "name": "stderr",
     "output_type": "stream",
     "text": [
      "INFO:tensorflow:segment_ids: 0 0 0 0 0 0 0 0 0 0 0 0 0 0 0 0 0 0 0 0 0 0 0 0 0 0 0 0 0 0 0 0 0 0 0 0 0 0 0 0 0 0 0 0 0 0 0 0 0 0\n"
     ]
    },
    {
     "name": "stdout",
     "output_type": "stream",
     "text": [
      "INFO:tensorflow:label: 0 (id = 0)\n"
     ]
    },
    {
     "name": "stderr",
     "output_type": "stream",
     "text": [
      "INFO:tensorflow:label: 0 (id = 0)\n"
     ]
    },
    {
     "name": "stdout",
     "output_type": "stream",
     "text": [
      "INFO:tensorflow:*** Example ***\n"
     ]
    },
    {
     "name": "stderr",
     "output_type": "stream",
     "text": [
      "INFO:tensorflow:*** Example ***\n"
     ]
    },
    {
     "name": "stdout",
     "output_type": "stream",
     "text": [
      "INFO:tensorflow:guid: \n"
     ]
    },
    {
     "name": "stderr",
     "output_type": "stream",
     "text": [
      "INFO:tensorflow:guid: \n"
     ]
    },
    {
     "name": "stdout",
     "output_type": "stream",
     "text": [
      "INFO:tensorflow:tokens: [CLS] i have a gift card i want to use @ 29 . 93 # # yes # # actually its a merchandise credit card [SEP]\n"
     ]
    },
    {
     "name": "stderr",
     "output_type": "stream",
     "text": [
      "INFO:tensorflow:tokens: [CLS] i have a gift card i want to use @ 29 . 93 # # yes # # actually its a merchandise credit card [SEP]\n"
     ]
    },
    {
     "name": "stdout",
     "output_type": "stream",
     "text": [
      "INFO:tensorflow:input_ids: 101 1045 2031 1037 5592 4003 1045 2215 2000 2224 1030 2756 1012 6109 1001 1001 2748 1001 1001 2941 2049 1037 16359 4923 4003 102 0 0 0 0 0 0 0 0 0 0 0 0 0 0 0 0 0 0 0 0 0 0 0 0\n"
     ]
    },
    {
     "name": "stderr",
     "output_type": "stream",
     "text": [
      "INFO:tensorflow:input_ids: 101 1045 2031 1037 5592 4003 1045 2215 2000 2224 1030 2756 1012 6109 1001 1001 2748 1001 1001 2941 2049 1037 16359 4923 4003 102 0 0 0 0 0 0 0 0 0 0 0 0 0 0 0 0 0 0 0 0 0 0 0 0\n"
     ]
    },
    {
     "name": "stdout",
     "output_type": "stream",
     "text": [
      "INFO:tensorflow:input_mask: 1 1 1 1 1 1 1 1 1 1 1 1 1 1 1 1 1 1 1 1 1 1 1 1 1 1 0 0 0 0 0 0 0 0 0 0 0 0 0 0 0 0 0 0 0 0 0 0 0 0\n"
     ]
    },
    {
     "name": "stderr",
     "output_type": "stream",
     "text": [
      "INFO:tensorflow:input_mask: 1 1 1 1 1 1 1 1 1 1 1 1 1 1 1 1 1 1 1 1 1 1 1 1 1 1 0 0 0 0 0 0 0 0 0 0 0 0 0 0 0 0 0 0 0 0 0 0 0 0\n"
     ]
    },
    {
     "name": "stdout",
     "output_type": "stream",
     "text": [
      "INFO:tensorflow:segment_ids: 0 0 0 0 0 0 0 0 0 0 0 0 0 0 0 0 0 0 0 0 0 0 0 0 0 0 0 0 0 0 0 0 0 0 0 0 0 0 0 0 0 0 0 0 0 0 0 0 0 0\n"
     ]
    },
    {
     "name": "stderr",
     "output_type": "stream",
     "text": [
      "INFO:tensorflow:segment_ids: 0 0 0 0 0 0 0 0 0 0 0 0 0 0 0 0 0 0 0 0 0 0 0 0 0 0 0 0 0 0 0 0 0 0 0 0 0 0 0 0 0 0 0 0 0 0 0 0 0 0\n"
     ]
    },
    {
     "name": "stdout",
     "output_type": "stream",
     "text": [
      "INFO:tensorflow:label: 0 (id = 0)\n"
     ]
    },
    {
     "name": "stderr",
     "output_type": "stream",
     "text": [
      "INFO:tensorflow:label: 0 (id = 0)\n"
     ]
    },
    {
     "name": "stdout",
     "output_type": "stream",
     "text": [
      "INFO:tensorflow:Calling model_fn.\n"
     ]
    },
    {
     "name": "stderr",
     "output_type": "stream",
     "text": [
      "INFO:tensorflow:Calling model_fn.\n"
     ]
    },
    {
     "name": "stdout",
     "output_type": "stream",
     "text": [
      "INFO:tensorflow:Saver not created because there are no variables in the graph to restore\n"
     ]
    },
    {
     "name": "stderr",
     "output_type": "stream",
     "text": [
      "INFO:tensorflow:Saver not created because there are no variables in the graph to restore\n"
     ]
    },
    {
     "name": "stdout",
     "output_type": "stream",
     "text": [
      "INFO:tensorflow:Done calling model_fn.\n"
     ]
    },
    {
     "name": "stderr",
     "output_type": "stream",
     "text": [
      "INFO:tensorflow:Done calling model_fn.\n"
     ]
    },
    {
     "name": "stdout",
     "output_type": "stream",
     "text": [
      "INFO:tensorflow:Graph was finalized.\n"
     ]
    },
    {
     "name": "stderr",
     "output_type": "stream",
     "text": [
      "INFO:tensorflow:Graph was finalized.\n"
     ]
    },
    {
     "name": "stdout",
     "output_type": "stream",
     "text": [
      "INFO:tensorflow:Restoring parameters from models/23Jan/model.ckpt-1043\n"
     ]
    },
    {
     "name": "stderr",
     "output_type": "stream",
     "text": [
      "INFO:tensorflow:Restoring parameters from models/23Jan/model.ckpt-1043\n"
     ]
    },
    {
     "name": "stdout",
     "output_type": "stream",
     "text": [
      "INFO:tensorflow:Running local_init_op.\n"
     ]
    },
    {
     "name": "stderr",
     "output_type": "stream",
     "text": [
      "INFO:tensorflow:Running local_init_op.\n"
     ]
    },
    {
     "name": "stdout",
     "output_type": "stream",
     "text": [
      "INFO:tensorflow:Done running local_init_op.\n"
     ]
    },
    {
     "name": "stderr",
     "output_type": "stream",
     "text": [
      "INFO:tensorflow:Done running local_init_op.\n"
     ]
    }
   ],
   "source": [
    "predictions = getPrediction(test_sentences)"
   ]
  },
  {
   "cell_type": "code",
   "execution_count": 36,
   "metadata": {},
   "outputs": [
    {
     "name": "stdout",
     "output_type": "stream",
     "text": [
      "(\"I want to buy a boy's rain jacket \", array([ -8.426598  ,  -8.875916  ,  -8.344848  ,  -8.676337  ,\n",
      "        -8.843563  ,  -7.4173913 ,  -7.7748833 ,  -8.798188  ,\n",
      "        -6.824803  ,  -8.318573  ,  -7.7107415 , -10.045474  ,\n",
      "        -8.527266  ,  -8.469207  ,  -6.955068  ,  -8.657051  ,\n",
      "        -8.760571  ,  -7.915339  ,  -8.043224  ,  -9.230104  ,\n",
      "        -8.525097  ,  -8.602346  ,  -9.500961  ,  -9.606273  ,\n",
      "        -8.007634  ,  -9.539378  ,  -9.119832  ,  -9.485687  ,\n",
      "        -8.054887  ,  -9.394083  ,  -9.117561  ,  -9.154424  ,\n",
      "        -8.892512  ,  -9.095255  ,  -8.655472  ,  -9.201636  ,\n",
      "        -9.055048  ,  -8.286728  ,  -8.55259   ,  -8.72656   ,\n",
      "        -8.668051  ,  -7.648604  ,  -6.92419   ,  -8.39826   ,\n",
      "        -8.598908  ,  -8.417799  ,  -8.527708  ,  -8.579185  ,\n",
      "        -8.375906  ,  -8.538064  ,  -8.447292  , -10.223145  ,\n",
      "        -8.610137  ,  -8.726426  ,  -0.01595645,  -9.217963  ,\n",
      "        -8.712474  ,  -6.975457  ,  -8.144048  ,  -7.9879856 ,\n",
      "        -8.371111  ,  -8.451006  ,  -8.290005  ,  -8.769439  ,\n",
      "        -9.037794  ], dtype=float32), 54, 'Shopping_Query')\n",
      "('oh yes', array([-5.9599957 , -5.6626954 , -5.6704583 , -5.6469197 , -5.968022  ,\n",
      "       -5.5179706 , -6.0096893 , -5.923509  , -7.4929504 , -6.6041274 ,\n",
      "       -6.6875076 , -7.285926  , -4.766339  , -5.9876537 , -6.5829067 ,\n",
      "       -6.0047154 , -5.7408805 , -6.066026  , -5.642248  , -5.041499  ,\n",
      "       -6.3505006 , -5.747046  , -7.5729194 , -6.14865   , -6.012622  ,\n",
      "       -4.9284897 , -5.2212934 , -5.492047  , -7.1872964 , -6.158041  ,\n",
      "       -5.531536  , -3.8267944 , -4.16486   , -4.6212306 , -5.606643  ,\n",
      "       -5.766548  , -6.6780877 , -7.228402  , -6.004376  , -5.65905   ,\n",
      "       -6.4905357 , -5.110189  , -6.6917176 , -6.619871  , -6.5239143 ,\n",
      "       -6.3354607 , -6.5023766 , -5.984027  , -6.7910233 , -5.667612  ,\n",
      "       -6.217734  , -6.2386675 , -6.730153  , -6.2029653 , -7.204958  ,\n",
      "       -6.240168  , -6.1980762 , -6.9822717 , -5.499471  , -6.066197  ,\n",
      "       -6.6945047 , -6.237959  , -6.635891  , -5.9356933 , -0.22670956],\n",
      "      dtype=float32), 64, 'Yes_Give')\n",
      "('I see a price of XXX.98 but checkout says its XXX.00 ## Womens ghost whisperer hooded down jacket in smith rock color ## okay, thanks', array([-8.025062  , -7.608562  , -8.256777  , -7.8113394 , -8.920544  ,\n",
      "       -8.158299  , -6.4810224 , -8.837422  , -0.07006706, -7.3207655 ,\n",
      "       -5.9190865 , -4.441733  , -7.4738793 , -8.579204  , -7.950278  ,\n",
      "       -8.808569  , -8.390453  , -9.434073  , -8.6640415 , -9.200926  ,\n",
      "       -8.93505   , -8.762354  , -8.08779   , -7.990318  , -9.103712  ,\n",
      "       -9.475476  , -8.705298  , -9.019428  , -6.4986453 , -7.6099243 ,\n",
      "       -9.631295  , -7.8999267 , -7.432452  , -5.8842688 , -7.974391  ,\n",
      "       -6.736666  , -8.2034    , -6.7353735 , -8.079843  , -6.161077  ,\n",
      "       -6.271999  , -7.6965413 , -4.86711   , -6.387519  , -7.127289  ,\n",
      "       -8.724213  , -6.863314  , -7.7924595 , -5.9520326 , -8.28392   ,\n",
      "       -8.09459   , -8.012107  , -7.499809  , -8.545621  , -6.006081  ,\n",
      "       -7.995718  , -5.2419734 , -5.8811984 , -6.108734  , -8.0192175 ,\n",
      "       -7.701017  , -9.460806  , -6.330917  , -8.483392  , -8.78354   ],\n",
      "      dtype=float32), 8, 'Columbia_Others')\n",
      "('Do you ship to Oregon?', array([-6.714223  , -5.59239   , -6.79707   , -6.852387  , -6.0594606 ,\n",
      "       -6.8935084 , -6.761865  , -6.8663635 , -7.442994  , -5.373202  ,\n",
      "       -6.421994  , -6.912813  , -6.072949  , -6.432189  , -6.1279287 ,\n",
      "       -6.405453  , -6.122129  , -6.4035263 , -6.103024  , -6.665513  ,\n",
      "       -5.24383   , -6.6410494 , -6.0217485 , -6.415319  , -6.3996162 ,\n",
      "       -6.7510514 , -6.294431  , -6.308513  , -7.138617  , -6.9030313 ,\n",
      "       -6.737153  , -6.3195925 , -7.7218237 , -5.6165924 , -7.3441195 ,\n",
      "       -7.8452773 , -5.512571  , -6.148245  , -6.8703814 , -7.0145435 ,\n",
      "       -6.6823473 , -6.511846  , -8.114544  , -5.7417903 , -7.0628037 ,\n",
      "       -7.2422166 , -7.327073  , -6.0432444 , -7.1257534 , -5.7363825 ,\n",
      "       -6.3227496 , -3.2891607 , -5.7953086 , -0.15665835, -6.652379  ,\n",
      "       -6.268641  , -6.3241057 , -5.866566  , -7.2380695 , -6.8847466 ,\n",
      "       -6.5440383 , -6.061617  , -6.9188023 , -6.713771  , -6.376078  ],\n",
      "      dtype=float32), 53, 'Shipping_Where')\n",
      "('I have a gift card i want to use @ 29.93 ## yes ## actually its a merchandise credit card', array([-7.320073  , -7.1745443 , -7.263846  , -8.636022  , -7.464144  ,\n",
      "       -7.2408147 , -6.9251747 , -7.7195106 , -5.7728515 , -8.602637  ,\n",
      "       -7.0142884 , -5.5304337 , -7.6850247 , -7.378904  , -5.887972  ,\n",
      "       -8.07094   , -7.2802596 , -6.973907  , -6.311284  , -6.430214  ,\n",
      "       -5.838497  , -7.0138206 , -5.6554656 , -7.4287763 , -7.009601  ,\n",
      "       -7.4026966 , -8.158779  , -6.7407002 , -0.07969661, -6.1767263 ,\n",
      "       -6.7877812 , -9.062985  , -7.412113  , -6.714716  , -6.4393144 ,\n",
      "       -6.837776  , -6.1067686 , -5.961033  , -7.4843764 , -8.669416  ,\n",
      "       -8.204674  , -7.1471114 , -6.522765  , -5.380746  , -9.6553755 ,\n",
      "       -6.0084133 , -7.523898  , -7.890153  , -6.6941457 , -7.688211  ,\n",
      "       -7.084964  , -6.2454557 , -6.506121  , -7.24296   , -6.028122  ,\n",
      "       -6.0449686 , -6.9115667 , -6.512229  , -7.1916504 , -7.435138  ,\n",
      "       -6.294721  , -8.051154  , -6.575795  , -8.025247  , -8.393469  ],\n",
      "      dtype=float32), 28, 'GiftCard_Query')\n"
     ]
    }
   ],
   "source": [
    "for i in range(5):\n",
    "    print(predictions[i])"
   ]
  },
  {
   "cell_type": "code",
   "execution_count": 37,
   "metadata": {},
   "outputs": [],
   "source": [
    "enc_labels = []\n",
    "act_labels = []\n",
    "for i in range(len(predictions)):\n",
    "  enc_labels.append(predictions[i][2])\n",
    "  act_labels.append(predictions[i][3])"
   ]
  },
  {
   "cell_type": "code",
   "execution_count": 38,
   "metadata": {},
   "outputs": [],
   "source": [
    "pd.DataFrame(enc_labels, columns = ['RU_Tag']).to_excel('data/result.xlsx', index = False)"
   ]
  },
  {
   "cell_type": "code",
   "execution_count": 42,
   "metadata": {},
   "outputs": [
    {
     "name": "stdout",
     "output_type": "stream",
     "text": [
      "INFO:tensorflow:Writing example 0 of 27\n"
     ]
    },
    {
     "name": "stderr",
     "output_type": "stream",
     "text": [
      "INFO:tensorflow:Writing example 0 of 27\n"
     ]
    },
    {
     "name": "stdout",
     "output_type": "stream",
     "text": [
      "INFO:tensorflow:*** Example ***\n"
     ]
    },
    {
     "name": "stderr",
     "output_type": "stream",
     "text": [
      "INFO:tensorflow:*** Example ***\n"
     ]
    },
    {
     "name": "stdout",
     "output_type": "stream",
     "text": [
      "INFO:tensorflow:guid: \n"
     ]
    },
    {
     "name": "stderr",
     "output_type": "stream",
     "text": [
      "INFO:tensorflow:guid: \n"
     ]
    },
    {
     "name": "stdout",
     "output_type": "stream",
     "text": [
      "INFO:tensorflow:tokens: [CLS] it says valid from 1 / 1 / 20 - 3 / 1 / 29 [SEP]\n"
     ]
    },
    {
     "name": "stderr",
     "output_type": "stream",
     "text": [
      "INFO:tensorflow:tokens: [CLS] it says valid from 1 / 1 / 20 - 3 / 1 / 29 [SEP]\n"
     ]
    },
    {
     "name": "stdout",
     "output_type": "stream",
     "text": [
      "INFO:tensorflow:input_ids: 101 2009 2758 9398 2013 1015 1013 1015 1013 2322 1011 1017 1013 1015 1013 2756 102 0 0 0 0 0 0 0 0 0 0 0 0 0 0 0 0 0 0 0 0 0 0 0 0 0 0 0 0 0 0 0 0 0\n"
     ]
    },
    {
     "name": "stderr",
     "output_type": "stream",
     "text": [
      "INFO:tensorflow:input_ids: 101 2009 2758 9398 2013 1015 1013 1015 1013 2322 1011 1017 1013 1015 1013 2756 102 0 0 0 0 0 0 0 0 0 0 0 0 0 0 0 0 0 0 0 0 0 0 0 0 0 0 0 0 0 0 0 0 0\n"
     ]
    },
    {
     "name": "stdout",
     "output_type": "stream",
     "text": [
      "INFO:tensorflow:input_mask: 1 1 1 1 1 1 1 1 1 1 1 1 1 1 1 1 1 0 0 0 0 0 0 0 0 0 0 0 0 0 0 0 0 0 0 0 0 0 0 0 0 0 0 0 0 0 0 0 0 0\n"
     ]
    },
    {
     "name": "stderr",
     "output_type": "stream",
     "text": [
      "INFO:tensorflow:input_mask: 1 1 1 1 1 1 1 1 1 1 1 1 1 1 1 1 1 0 0 0 0 0 0 0 0 0 0 0 0 0 0 0 0 0 0 0 0 0 0 0 0 0 0 0 0 0 0 0 0 0\n"
     ]
    },
    {
     "name": "stdout",
     "output_type": "stream",
     "text": [
      "INFO:tensorflow:segment_ids: 0 0 0 0 0 0 0 0 0 0 0 0 0 0 0 0 0 0 0 0 0 0 0 0 0 0 0 0 0 0 0 0 0 0 0 0 0 0 0 0 0 0 0 0 0 0 0 0 0 0\n"
     ]
    },
    {
     "name": "stderr",
     "output_type": "stream",
     "text": [
      "INFO:tensorflow:segment_ids: 0 0 0 0 0 0 0 0 0 0 0 0 0 0 0 0 0 0 0 0 0 0 0 0 0 0 0 0 0 0 0 0 0 0 0 0 0 0 0 0 0 0 0 0 0 0 0 0 0 0\n"
     ]
    },
    {
     "name": "stdout",
     "output_type": "stream",
     "text": [
      "INFO:tensorflow:label: 0 (id = 0)\n"
     ]
    },
    {
     "name": "stderr",
     "output_type": "stream",
     "text": [
      "INFO:tensorflow:label: 0 (id = 0)\n"
     ]
    },
    {
     "name": "stdout",
     "output_type": "stream",
     "text": [
      "INFO:tensorflow:*** Example ***\n"
     ]
    },
    {
     "name": "stderr",
     "output_type": "stream",
     "text": [
      "INFO:tensorflow:*** Example ***\n"
     ]
    },
    {
     "name": "stdout",
     "output_type": "stream",
     "text": [
      "INFO:tensorflow:guid: \n"
     ]
    },
    {
     "name": "stderr",
     "output_type": "stream",
     "text": [
      "INFO:tensorflow:guid: \n"
     ]
    },
    {
     "name": "stdout",
     "output_type": "stream",
     "text": [
      "INFO:tensorflow:tokens: [CLS] are you hiring [SEP]\n"
     ]
    },
    {
     "name": "stderr",
     "output_type": "stream",
     "text": [
      "INFO:tensorflow:tokens: [CLS] are you hiring [SEP]\n"
     ]
    },
    {
     "name": "stdout",
     "output_type": "stream",
     "text": [
      "INFO:tensorflow:input_ids: 101 2024 2017 14763 102 0 0 0 0 0 0 0 0 0 0 0 0 0 0 0 0 0 0 0 0 0 0 0 0 0 0 0 0 0 0 0 0 0 0 0 0 0 0 0 0 0 0 0 0 0\n"
     ]
    },
    {
     "name": "stderr",
     "output_type": "stream",
     "text": [
      "INFO:tensorflow:input_ids: 101 2024 2017 14763 102 0 0 0 0 0 0 0 0 0 0 0 0 0 0 0 0 0 0 0 0 0 0 0 0 0 0 0 0 0 0 0 0 0 0 0 0 0 0 0 0 0 0 0 0 0\n"
     ]
    },
    {
     "name": "stdout",
     "output_type": "stream",
     "text": [
      "INFO:tensorflow:input_mask: 1 1 1 1 1 0 0 0 0 0 0 0 0 0 0 0 0 0 0 0 0 0 0 0 0 0 0 0 0 0 0 0 0 0 0 0 0 0 0 0 0 0 0 0 0 0 0 0 0 0\n"
     ]
    },
    {
     "name": "stderr",
     "output_type": "stream",
     "text": [
      "INFO:tensorflow:input_mask: 1 1 1 1 1 0 0 0 0 0 0 0 0 0 0 0 0 0 0 0 0 0 0 0 0 0 0 0 0 0 0 0 0 0 0 0 0 0 0 0 0 0 0 0 0 0 0 0 0 0\n"
     ]
    },
    {
     "name": "stdout",
     "output_type": "stream",
     "text": [
      "INFO:tensorflow:segment_ids: 0 0 0 0 0 0 0 0 0 0 0 0 0 0 0 0 0 0 0 0 0 0 0 0 0 0 0 0 0 0 0 0 0 0 0 0 0 0 0 0 0 0 0 0 0 0 0 0 0 0\n"
     ]
    },
    {
     "name": "stderr",
     "output_type": "stream",
     "text": [
      "INFO:tensorflow:segment_ids: 0 0 0 0 0 0 0 0 0 0 0 0 0 0 0 0 0 0 0 0 0 0 0 0 0 0 0 0 0 0 0 0 0 0 0 0 0 0 0 0 0 0 0 0 0 0 0 0 0 0\n"
     ]
    },
    {
     "name": "stdout",
     "output_type": "stream",
     "text": [
      "INFO:tensorflow:label: 0 (id = 0)\n"
     ]
    },
    {
     "name": "stderr",
     "output_type": "stream",
     "text": [
      "INFO:tensorflow:label: 0 (id = 0)\n"
     ]
    },
    {
     "name": "stdout",
     "output_type": "stream",
     "text": [
      "INFO:tensorflow:*** Example ***\n"
     ]
    },
    {
     "name": "stderr",
     "output_type": "stream",
     "text": [
      "INFO:tensorflow:*** Example ***\n"
     ]
    },
    {
     "name": "stdout",
     "output_type": "stream",
     "text": [
      "INFO:tensorflow:guid: \n"
     ]
    },
    {
     "name": "stderr",
     "output_type": "stream",
     "text": [
      "INFO:tensorflow:guid: \n"
     ]
    },
    {
     "name": "stdout",
     "output_type": "stream",
     "text": [
      "INFO:tensorflow:tokens: [CLS] are you a robot ? [SEP]\n"
     ]
    },
    {
     "name": "stderr",
     "output_type": "stream",
     "text": [
      "INFO:tensorflow:tokens: [CLS] are you a robot ? [SEP]\n"
     ]
    },
    {
     "name": "stdout",
     "output_type": "stream",
     "text": [
      "INFO:tensorflow:input_ids: 101 2024 2017 1037 8957 1029 102 0 0 0 0 0 0 0 0 0 0 0 0 0 0 0 0 0 0 0 0 0 0 0 0 0 0 0 0 0 0 0 0 0 0 0 0 0 0 0 0 0 0 0\n"
     ]
    },
    {
     "name": "stderr",
     "output_type": "stream",
     "text": [
      "INFO:tensorflow:input_ids: 101 2024 2017 1037 8957 1029 102 0 0 0 0 0 0 0 0 0 0 0 0 0 0 0 0 0 0 0 0 0 0 0 0 0 0 0 0 0 0 0 0 0 0 0 0 0 0 0 0 0 0 0\n"
     ]
    },
    {
     "name": "stdout",
     "output_type": "stream",
     "text": [
      "INFO:tensorflow:input_mask: 1 1 1 1 1 1 1 0 0 0 0 0 0 0 0 0 0 0 0 0 0 0 0 0 0 0 0 0 0 0 0 0 0 0 0 0 0 0 0 0 0 0 0 0 0 0 0 0 0 0\n"
     ]
    },
    {
     "name": "stderr",
     "output_type": "stream",
     "text": [
      "INFO:tensorflow:input_mask: 1 1 1 1 1 1 1 0 0 0 0 0 0 0 0 0 0 0 0 0 0 0 0 0 0 0 0 0 0 0 0 0 0 0 0 0 0 0 0 0 0 0 0 0 0 0 0 0 0 0\n"
     ]
    },
    {
     "name": "stdout",
     "output_type": "stream",
     "text": [
      "INFO:tensorflow:segment_ids: 0 0 0 0 0 0 0 0 0 0 0 0 0 0 0 0 0 0 0 0 0 0 0 0 0 0 0 0 0 0 0 0 0 0 0 0 0 0 0 0 0 0 0 0 0 0 0 0 0 0\n"
     ]
    },
    {
     "name": "stderr",
     "output_type": "stream",
     "text": [
      "INFO:tensorflow:segment_ids: 0 0 0 0 0 0 0 0 0 0 0 0 0 0 0 0 0 0 0 0 0 0 0 0 0 0 0 0 0 0 0 0 0 0 0 0 0 0 0 0 0 0 0 0 0 0 0 0 0 0\n"
     ]
    },
    {
     "name": "stdout",
     "output_type": "stream",
     "text": [
      "INFO:tensorflow:label: 0 (id = 0)\n"
     ]
    },
    {
     "name": "stderr",
     "output_type": "stream",
     "text": [
      "INFO:tensorflow:label: 0 (id = 0)\n"
     ]
    },
    {
     "name": "stdout",
     "output_type": "stream",
     "text": [
      "INFO:tensorflow:*** Example ***\n"
     ]
    },
    {
     "name": "stderr",
     "output_type": "stream",
     "text": [
      "INFO:tensorflow:*** Example ***\n"
     ]
    },
    {
     "name": "stdout",
     "output_type": "stream",
     "text": [
      "INFO:tensorflow:guid: \n"
     ]
    },
    {
     "name": "stderr",
     "output_type": "stream",
     "text": [
      "INFO:tensorflow:guid: \n"
     ]
    },
    {
     "name": "stdout",
     "output_type": "stream",
     "text": [
      "INFO:tensorflow:tokens: [CLS] cook for me [SEP]\n"
     ]
    },
    {
     "name": "stderr",
     "output_type": "stream",
     "text": [
      "INFO:tensorflow:tokens: [CLS] cook for me [SEP]\n"
     ]
    },
    {
     "name": "stdout",
     "output_type": "stream",
     "text": [
      "INFO:tensorflow:input_ids: 101 5660 2005 2033 102 0 0 0 0 0 0 0 0 0 0 0 0 0 0 0 0 0 0 0 0 0 0 0 0 0 0 0 0 0 0 0 0 0 0 0 0 0 0 0 0 0 0 0 0 0\n"
     ]
    },
    {
     "name": "stderr",
     "output_type": "stream",
     "text": [
      "INFO:tensorflow:input_ids: 101 5660 2005 2033 102 0 0 0 0 0 0 0 0 0 0 0 0 0 0 0 0 0 0 0 0 0 0 0 0 0 0 0 0 0 0 0 0 0 0 0 0 0 0 0 0 0 0 0 0 0\n"
     ]
    },
    {
     "name": "stdout",
     "output_type": "stream",
     "text": [
      "INFO:tensorflow:input_mask: 1 1 1 1 1 0 0 0 0 0 0 0 0 0 0 0 0 0 0 0 0 0 0 0 0 0 0 0 0 0 0 0 0 0 0 0 0 0 0 0 0 0 0 0 0 0 0 0 0 0\n"
     ]
    },
    {
     "name": "stderr",
     "output_type": "stream",
     "text": [
      "INFO:tensorflow:input_mask: 1 1 1 1 1 0 0 0 0 0 0 0 0 0 0 0 0 0 0 0 0 0 0 0 0 0 0 0 0 0 0 0 0 0 0 0 0 0 0 0 0 0 0 0 0 0 0 0 0 0\n"
     ]
    },
    {
     "name": "stdout",
     "output_type": "stream",
     "text": [
      "INFO:tensorflow:segment_ids: 0 0 0 0 0 0 0 0 0 0 0 0 0 0 0 0 0 0 0 0 0 0 0 0 0 0 0 0 0 0 0 0 0 0 0 0 0 0 0 0 0 0 0 0 0 0 0 0 0 0\n"
     ]
    },
    {
     "name": "stderr",
     "output_type": "stream",
     "text": [
      "INFO:tensorflow:segment_ids: 0 0 0 0 0 0 0 0 0 0 0 0 0 0 0 0 0 0 0 0 0 0 0 0 0 0 0 0 0 0 0 0 0 0 0 0 0 0 0 0 0 0 0 0 0 0 0 0 0 0\n"
     ]
    },
    {
     "name": "stdout",
     "output_type": "stream",
     "text": [
      "INFO:tensorflow:label: 0 (id = 0)\n"
     ]
    },
    {
     "name": "stderr",
     "output_type": "stream",
     "text": [
      "INFO:tensorflow:label: 0 (id = 0)\n"
     ]
    },
    {
     "name": "stdout",
     "output_type": "stream",
     "text": [
      "INFO:tensorflow:*** Example ***\n"
     ]
    },
    {
     "name": "stderr",
     "output_type": "stream",
     "text": [
      "INFO:tensorflow:*** Example ***\n"
     ]
    },
    {
     "name": "stdout",
     "output_type": "stream",
     "text": [
      "INFO:tensorflow:guid: \n"
     ]
    },
    {
     "name": "stderr",
     "output_type": "stream",
     "text": [
      "INFO:tensorflow:guid: \n"
     ]
    },
    {
     "name": "stdout",
     "output_type": "stream",
     "text": [
      "INFO:tensorflow:tokens: [CLS] are you a human ? [SEP]\n"
     ]
    },
    {
     "name": "stderr",
     "output_type": "stream",
     "text": [
      "INFO:tensorflow:tokens: [CLS] are you a human ? [SEP]\n"
     ]
    },
    {
     "name": "stdout",
     "output_type": "stream",
     "text": [
      "INFO:tensorflow:input_ids: 101 2024 2017 1037 2529 1029 102 0 0 0 0 0 0 0 0 0 0 0 0 0 0 0 0 0 0 0 0 0 0 0 0 0 0 0 0 0 0 0 0 0 0 0 0 0 0 0 0 0 0 0\n"
     ]
    },
    {
     "name": "stderr",
     "output_type": "stream",
     "text": [
      "INFO:tensorflow:input_ids: 101 2024 2017 1037 2529 1029 102 0 0 0 0 0 0 0 0 0 0 0 0 0 0 0 0 0 0 0 0 0 0 0 0 0 0 0 0 0 0 0 0 0 0 0 0 0 0 0 0 0 0 0\n"
     ]
    },
    {
     "name": "stdout",
     "output_type": "stream",
     "text": [
      "INFO:tensorflow:input_mask: 1 1 1 1 1 1 1 0 0 0 0 0 0 0 0 0 0 0 0 0 0 0 0 0 0 0 0 0 0 0 0 0 0 0 0 0 0 0 0 0 0 0 0 0 0 0 0 0 0 0\n"
     ]
    },
    {
     "name": "stderr",
     "output_type": "stream",
     "text": [
      "INFO:tensorflow:input_mask: 1 1 1 1 1 1 1 0 0 0 0 0 0 0 0 0 0 0 0 0 0 0 0 0 0 0 0 0 0 0 0 0 0 0 0 0 0 0 0 0 0 0 0 0 0 0 0 0 0 0\n"
     ]
    },
    {
     "name": "stdout",
     "output_type": "stream",
     "text": [
      "INFO:tensorflow:segment_ids: 0 0 0 0 0 0 0 0 0 0 0 0 0 0 0 0 0 0 0 0 0 0 0 0 0 0 0 0 0 0 0 0 0 0 0 0 0 0 0 0 0 0 0 0 0 0 0 0 0 0\n"
     ]
    },
    {
     "name": "stderr",
     "output_type": "stream",
     "text": [
      "INFO:tensorflow:segment_ids: 0 0 0 0 0 0 0 0 0 0 0 0 0 0 0 0 0 0 0 0 0 0 0 0 0 0 0 0 0 0 0 0 0 0 0 0 0 0 0 0 0 0 0 0 0 0 0 0 0 0\n"
     ]
    },
    {
     "name": "stdout",
     "output_type": "stream",
     "text": [
      "INFO:tensorflow:label: 0 (id = 0)\n"
     ]
    },
    {
     "name": "stderr",
     "output_type": "stream",
     "text": [
      "INFO:tensorflow:label: 0 (id = 0)\n"
     ]
    },
    {
     "name": "stdout",
     "output_type": "stream",
     "text": [
      "INFO:tensorflow:Calling model_fn.\n"
     ]
    },
    {
     "name": "stderr",
     "output_type": "stream",
     "text": [
      "INFO:tensorflow:Calling model_fn.\n"
     ]
    },
    {
     "name": "stdout",
     "output_type": "stream",
     "text": [
      "INFO:tensorflow:Saver not created because there are no variables in the graph to restore\n"
     ]
    },
    {
     "name": "stderr",
     "output_type": "stream",
     "text": [
      "INFO:tensorflow:Saver not created because there are no variables in the graph to restore\n"
     ]
    },
    {
     "name": "stdout",
     "output_type": "stream",
     "text": [
      "INFO:tensorflow:Done calling model_fn.\n"
     ]
    },
    {
     "name": "stderr",
     "output_type": "stream",
     "text": [
      "INFO:tensorflow:Done calling model_fn.\n"
     ]
    },
    {
     "name": "stdout",
     "output_type": "stream",
     "text": [
      "INFO:tensorflow:Graph was finalized.\n"
     ]
    },
    {
     "name": "stderr",
     "output_type": "stream",
     "text": [
      "INFO:tensorflow:Graph was finalized.\n"
     ]
    },
    {
     "name": "stdout",
     "output_type": "stream",
     "text": [
      "INFO:tensorflow:Restoring parameters from models/23Jan/model.ckpt-1043\n"
     ]
    },
    {
     "name": "stderr",
     "output_type": "stream",
     "text": [
      "INFO:tensorflow:Restoring parameters from models/23Jan/model.ckpt-1043\n"
     ]
    },
    {
     "name": "stdout",
     "output_type": "stream",
     "text": [
      "INFO:tensorflow:Running local_init_op.\n"
     ]
    },
    {
     "name": "stderr",
     "output_type": "stream",
     "text": [
      "INFO:tensorflow:Running local_init_op.\n"
     ]
    },
    {
     "name": "stdout",
     "output_type": "stream",
     "text": [
      "INFO:tensorflow:Done running local_init_op.\n"
     ]
    },
    {
     "name": "stderr",
     "output_type": "stream",
     "text": [
      "INFO:tensorflow:Done running local_init_op.\n"
     ]
    }
   ],
   "source": [
    "#Classifying random sentences\n",
    "tests = getPrediction(['It says valid from 1/1/20 - 3/1/29',\n",
    "                       'are you hiring',\n",
    "                       'are you a robot?',\n",
    "                       'cook for me',\n",
    "                       'are you a human?',\n",
    "                       'Can I marry you?',\n",
    "                       'I will marry you',\n",
    "                       'can you get married',\n",
    "                       'marry me',\n",
    "                       'i want to marry you',\n",
    "                       'let\\'s get married',\n",
    "                       'Do you fart?',\n",
    "                       'do you laugh?',\n",
    "                       'do you cry?',\n",
    "                       'do you have any emotion?',\n",
    "                       'Do you believe in God?',\n",
    "                       'which God do you believe in?',\n",
    "                       'do you have faith in God?',\n",
    "                       'you\\'re the best bot!',\n",
    "                       'Wow!',\n",
    "                       'awesome!',\n",
    "                       'cancel dish movie pack',\n",
    "                       'you rock!',\n",
    "                       'How can I get the Big Ten Network to watch college football',\n",
    "                       'it says order not present',\n",
    "                       'it says it ends today',\n",
    "                       'will it be available today'\n",
    "                       ])"
   ]
  },
  {
   "cell_type": "code",
   "execution_count": 43,
   "metadata": {},
   "outputs": [
    {
     "data": {
      "text/plain": [
       "[('It says valid from 1/1/20 - 3/1/29',\n",
       "  array([-6.854724 , -6.3881845, -7.0446844, -6.7011795, -6.6448917,\n",
       "         -7.096636 , -5.775078 , -6.8049297, -0.5552032, -5.744276 ,\n",
       "         -5.332964 , -2.2974882, -5.7406063, -6.6633577, -6.9970818,\n",
       "         -6.363598 , -7.101962 , -6.617673 , -7.811839 , -7.355669 ,\n",
       "         -6.230256 , -6.8130875, -5.402692 , -5.1103725, -6.7406797,\n",
       "         -7.290662 , -6.290531 , -6.8612976, -5.1601057, -5.220106 ,\n",
       "         -6.3910093, -6.359108 , -6.262042 , -4.385978 , -6.673172 ,\n",
       "         -5.4117947, -7.0340223, -5.0941668, -6.508065 , -5.5013313,\n",
       "         -5.3045645, -6.2901306, -2.9872444, -4.5052814, -5.758812 ,\n",
       "         -6.24566  , -4.251865 , -5.024065 , -3.9980986, -5.7346563,\n",
       "         -6.80023  , -5.4844856, -6.5512295, -6.4327145, -5.9007206,\n",
       "         -6.7391777, -2.9439507, -3.810323 , -4.7167664, -6.39499  ,\n",
       "         -5.821184 , -7.1892233, -4.490123 , -7.2826796, -6.612893 ],\n",
       "        dtype=float32),\n",
       "  8,\n",
       "  'Columbia_Others'),\n",
       " ('are you hiring',\n",
       "  array([-5.982083 , -6.1779904, -6.9668884, -5.729611 , -6.647323 ,\n",
       "         -5.581717 , -5.7485986, -7.1333838, -0.282082 , -4.429443 ,\n",
       "         -4.080852 , -4.4529686, -5.26669  , -7.0688047, -5.880687 ,\n",
       "         -7.6292768, -6.510684 , -8.171266 , -7.0874524, -7.532232 ,\n",
       "         -8.587565 , -7.510944 , -7.3994956, -7.235893 , -7.938933 ,\n",
       "         -7.6946464, -7.336197 , -7.9034367, -6.790712 , -6.5771   ,\n",
       "         -7.8700223, -5.6924186, -5.3159876, -2.5571487, -6.214145 ,\n",
       "         -5.849421 , -6.281654 , -5.2779093, -6.1547227, -5.4957075,\n",
       "         -5.132798 , -6.2872267, -5.160595 , -6.2006426, -5.0672197,\n",
       "         -7.4821644, -6.5195417, -6.887687 , -6.03692  , -6.777203 ,\n",
       "         -6.7492843, -6.498169 , -5.3526545, -6.389761 , -5.3588905,\n",
       "         -5.952732 , -5.123553 , -5.83834  , -5.6917644, -7.022308 ,\n",
       "         -7.188752 , -8.06485  , -6.1430173, -6.6555023, -6.2539334],\n",
       "        dtype=float32),\n",
       "  8,\n",
       "  'Columbia_Others'),\n",
       " ('are you a robot?',\n",
       "  array([-8.253325  , -7.6712537 , -8.887364  , -8.855601  , -7.88798   ,\n",
       "         -8.01663   , -8.1358    , -8.460704  , -5.741178  , -6.9279213 ,\n",
       "         -9.038072  , -6.9381866 , -6.974894  , -8.879108  , -7.1107545 ,\n",
       "         -9.1510515 , -8.853676  , -9.044695  , -8.637457  , -8.703041  ,\n",
       "         -8.572469  , -8.80075   , -8.743341  , -8.785286  , -8.793532  ,\n",
       "         -8.129552  , -8.941602  , -8.143274  , -7.945711  , -8.1474695 ,\n",
       "         -7.9942527 , -6.334439  , -6.537271  , -0.03200651, -7.0693603 ,\n",
       "         -7.79064   , -8.575055  , -7.6494823 , -7.223446  , -8.969577  ,\n",
       "         -8.567054  , -8.066279  , -7.528846  , -6.836822  , -7.0796194 ,\n",
       "         -8.8110075 , -8.446494  , -8.134583  , -8.44618   , -8.269213  ,\n",
       "         -8.016008  , -6.8254237 , -7.9208326 , -7.5849533 , -8.321827  ,\n",
       "         -6.050452  , -7.322489  , -8.117505  , -8.04979   , -8.367275  ,\n",
       "         -7.751999  , -8.418123  , -8.5645685 , -8.10138   , -6.672565  ],\n",
       "        dtype=float32),\n",
       "  33,\n",
       "  'None_None'),\n",
       " ('cook for me',\n",
       "  array([-5.524292 , -5.1744823, -5.3824987, -6.2800636, -5.179202 ,\n",
       "         -5.2694597, -5.8757925, -5.230914 , -6.0808496, -5.222376 ,\n",
       "         -7.3884726, -6.313586 , -5.226513 , -5.1461477, -3.7306752,\n",
       "         -6.2900286, -6.0503845, -5.5917225, -5.226125 , -5.846472 ,\n",
       "         -4.904114 , -6.012121 , -6.1126633, -7.3221445, -5.2742662,\n",
       "         -5.488058 , -6.225645 , -4.9596024, -5.638791 , -6.1048193,\n",
       "         -5.393709 , -5.004861 , -5.1676006, -1.9511588, -4.589757 ,\n",
       "         -5.842641 , -4.785877 , -6.0220222, -5.0413475, -6.741823 ,\n",
       "         -7.2970295, -5.445921 , -6.474352 , -5.372382 , -5.493142 ,\n",
       "         -5.4165764, -7.882635 , -6.9818544, -7.68966  , -6.9342604,\n",
       "         -5.7267056, -4.857813 , -4.72727  , -5.3123064, -5.5743113,\n",
       "         -0.5029247, -6.2555323, -6.244238 , -6.437207 , -6.329361 ,\n",
       "         -5.988101 , -5.729436 , -6.8708124, -5.7535915, -5.7740374],\n",
       "        dtype=float32),\n",
       "  55,\n",
       "  'Social_Other'),\n",
       " ('are you a human?',\n",
       "  array([-8.364398  , -7.820149  , -8.83607   , -8.897841  , -8.106494  ,\n",
       "         -8.229352  , -8.368756  , -8.66244   , -5.5812364 , -7.0897355 ,\n",
       "         -9.313369  , -7.036777  , -7.2291794 , -8.737297  , -7.269419  ,\n",
       "         -9.238727  , -9.065538  , -9.500146  , -8.998138  , -8.851962  ,\n",
       "         -9.1358    , -8.890241  , -9.031805  , -8.949323  , -9.134463  ,\n",
       "         -8.378997  , -9.020531  , -8.732977  , -8.338463  , -8.481976  ,\n",
       "         -8.690387  , -6.1053348 , -6.374451  , -0.02863778, -7.442889  ,\n",
       "         -7.7947655 , -9.385253  , -7.9527903 , -7.5623684 , -8.799961  ,\n",
       "         -8.60622   , -7.9135327 , -8.007822  , -7.563779  , -6.7969594 ,\n",
       "         -8.872181  , -8.311259  , -8.317587  , -8.955814  , -8.126981  ,\n",
       "         -8.357036  , -7.1721773 , -8.123754  , -7.61905   , -8.315362  ,\n",
       "         -6.2856097 , -7.437468  , -8.300874  , -8.1502905 , -8.579534  ,\n",
       "         -8.004095  , -8.760469  , -8.603484  , -8.382622  , -6.7421246 ],\n",
       "        dtype=float32),\n",
       "  33,\n",
       "  'None_None'),\n",
       " ('Can I marry you?',\n",
       "  array([-5.5297422 , -5.2085505 , -5.6618767 , -6.3336935 , -5.106065  ,\n",
       "         -6.0618305 , -5.68682   , -6.037429  , -5.364416  , -5.441922  ,\n",
       "         -6.5878553 , -5.986744  , -4.873252  , -5.471834  , -4.7499485 ,\n",
       "         -6.442012  , -6.0828657 , -6.0795918 , -5.3748465 , -5.567647  ,\n",
       "         -5.0166864 , -6.0814342 , -6.0795717 , -6.736599  , -5.566329  ,\n",
       "         -5.446146  , -5.9386215 , -4.8621664 , -4.975377  , -5.812229  ,\n",
       "         -5.3257113 , -4.7617006 , -4.9363594 , -1.0451901 , -4.764917  ,\n",
       "         -6.049965  , -4.6815715 , -5.9285517 , -5.2519655 , -6.3541107 ,\n",
       "         -7.3502083 , -5.3504    , -6.448081  , -4.743498  , -6.5745983 ,\n",
       "         -5.4545164 , -7.526845  , -6.747546  , -6.8613005 , -6.7514696 ,\n",
       "         -5.6298275 , -3.902405  , -5.000311  , -5.232189  , -6.5381594 ,\n",
       "         -0.95079684, -5.6914425 , -6.441145  , -5.823621  , -6.1603565 ,\n",
       "         -5.810484  , -5.8911304 , -6.3816376 , -6.195733  , -4.4415665 ],\n",
       "        dtype=float32),\n",
       "  55,\n",
       "  'Social_Other'),\n",
       " ('I will marry you',\n",
       "  array([-6.768026  , -6.136296  , -7.2101555 , -7.7606044 , -6.529986  ,\n",
       "         -6.9634295 , -6.801491  , -7.2019415 , -5.715578  , -6.5906744 ,\n",
       "         -8.018983  , -6.579342  , -5.7531214 , -6.893826  , -5.6959305 ,\n",
       "         -7.5207562 , -7.2012854 , -7.6705174 , -6.689295  , -6.776656  ,\n",
       "         -6.7380414 , -7.340481  , -7.357037  , -7.909494  , -7.1384773 ,\n",
       "         -6.8574595 , -7.5929084 , -6.2491045 , -5.8394675 , -6.895575  ,\n",
       "         -6.8438406 , -5.5522532 , -5.5093627 , -0.17701575, -5.804736  ,\n",
       "         -6.5158005 , -6.471632  , -6.422783  , -6.116164  , -8.164272  ,\n",
       "         -8.163646  , -6.6175165 , -6.8110647 , -5.9022474 , -7.396559  ,\n",
       "         -6.6583796 , -8.187695  , -7.2620893 , -7.958865  , -7.223613  ,\n",
       "         -6.949631  , -5.343152  , -6.0270243 , -6.5489817 , -6.7604456 ,\n",
       "         -2.6037169 , -6.725662  , -7.0715857 , -6.7511897 , -7.031283  ,\n",
       "         -6.6348615 , -7.1548758 , -7.6067147 , -7.1276107 , -5.6316624 ],\n",
       "        dtype=float32),\n",
       "  33,\n",
       "  'None_None'),\n",
       " ('can you get married',\n",
       "  array([-7.4433007 , -7.0986342 , -8.032088  , -8.525196  , -7.5064874 ,\n",
       "         -7.52756   , -7.598623  , -8.231017  , -5.093733  , -6.73442   ,\n",
       "         -8.337101  , -6.4976645 , -6.347878  , -8.032322  , -6.861534  ,\n",
       "         -8.788929  , -8.035339  , -8.605396  , -7.753786  , -8.008667  ,\n",
       "         -7.9013367 , -8.334553  , -8.168658  , -8.722526  , -8.360237  ,\n",
       "         -7.6848044 , -8.400757  , -7.495611  , -7.3961554 , -7.5607877 ,\n",
       "         -7.5090294 , -6.1609583 , -6.048759  , -0.05722433, -6.579334  ,\n",
       "         -7.4541883 , -7.839989  , -7.1846867 , -6.964926  , -8.396916  ,\n",
       "         -8.563855  , -7.3959346 , -7.053492  , -6.75234   , -7.2653418 ,\n",
       "         -8.060547  , -8.687337  , -8.158552  , -8.852823  , -8.035401  ,\n",
       "         -7.5360165 , -6.4322824 , -7.204953  , -7.1291957 , -7.6365395 ,\n",
       "         -4.5790367 , -7.3668346 , -7.777594  , -7.5065947 , -8.246256  ,\n",
       "         -7.6293583 , -8.248747  , -8.52713   , -8.078337  , -5.838149  ],\n",
       "        dtype=float32),\n",
       "  33,\n",
       "  'None_None'),\n",
       " ('marry me',\n",
       "  array([-5.8245406 , -5.504334  , -6.134258  , -6.755908  , -5.5563054 ,\n",
       "         -6.4652915 , -6.191594  , -6.057847  , -6.001046  , -5.6768155 ,\n",
       "         -7.6253943 , -6.249673  , -5.3787994 , -5.5855865 , -5.0460663 ,\n",
       "         -6.75962   , -6.368098  , -6.4247155 , -5.927776  , -6.027136  ,\n",
       "         -5.2690887 , -6.698204  , -6.226245  , -7.003788  , -5.9818316 ,\n",
       "         -5.852223  , -6.6411695 , -5.516375  , -5.1826906 , -6.0435305 ,\n",
       "         -5.5669003 , -5.0300307 , -5.2292924 , -0.92038095, -5.2476673 ,\n",
       "         -6.391098  , -5.293425  , -6.069077  , -5.7358994 , -7.115154  ,\n",
       "         -7.642369  , -6.114249  , -6.4866548 , -5.043982  , -6.5418644 ,\n",
       "         -5.8143024 , -7.7709312 , -6.8381004 , -7.5826936 , -7.1636505 ,\n",
       "         -6.163955  , -4.625271  , -5.5090823 , -5.467768  , -6.712843  ,\n",
       "         -0.84740627, -5.890655  , -6.3381023 , -6.40921   , -6.7297883 ,\n",
       "         -6.255631  , -6.3883677 , -7.0951023 , -6.3307433 , -5.2203903 ],\n",
       "        dtype=float32),\n",
       "  55,\n",
       "  'Social_Other'),\n",
       " ('i want to marry you',\n",
       "  array([-6.4452276 , -6.0109353 , -6.5230656 , -7.3069787 , -6.2453256 ,\n",
       "         -6.8503146 , -6.7485657 , -6.968824  , -5.5347996 , -6.339934  ,\n",
       "         -7.6339755 , -6.3807406 , -5.3214793 , -6.478468  , -5.3131375 ,\n",
       "         -7.623419  , -6.9534817 , -7.2261996 , -6.063525  , -6.578254  ,\n",
       "         -6.140257  , -7.292245  , -7.122492  , -7.719901  , -6.793442  ,\n",
       "         -6.514609  , -7.2710133 , -6.204896  , -5.5050783 , -6.6034765 ,\n",
       "         -6.368507  , -5.486982  , -5.3520064 , -0.22290748, -5.3476315 ,\n",
       "         -6.6276264 , -6.173944  , -6.452978  , -5.7568073 , -7.6356688 ,\n",
       "         -8.148018  , -5.9951396 , -6.887513  , -5.598574  , -6.987938  ,\n",
       "         -6.652079  , -7.768137  , -7.2889385 , -7.7355523 , -7.227559  ,\n",
       "         -6.607604  , -4.8751397 , -5.9190435 , -6.212495  , -6.1357784 ,\n",
       "         -2.510802  , -6.449381  , -6.7302136 , -6.3860755 , -6.972121  ,\n",
       "         -6.5968714 , -6.9820395 , -7.710427  , -6.845552  , -5.058439  ],\n",
       "        dtype=float32),\n",
       "  33,\n",
       "  'None_None'),\n",
       " (\"let's get married\",\n",
       "  array([-7.4136004 , -6.952835  , -7.637435  , -8.289919  , -7.33759   ,\n",
       "         -6.883407  , -7.2572503 , -7.804799  , -5.631951  , -6.6624517 ,\n",
       "         -8.41755   , -6.630375  , -6.4637723 , -7.7548137 , -6.3740773 ,\n",
       "         -8.444429  , -7.5777774 , -7.902949  , -7.460071  , -7.647141  ,\n",
       "         -7.276437  , -7.8486104 , -7.872373  , -8.325569  , -8.019783  ,\n",
       "         -7.122141  , -8.161755  , -6.75852   , -6.852836  , -7.382115  ,\n",
       "         -7.625796  , -5.5355225 , -5.7176504 , -0.07094236, -6.3184233 ,\n",
       "         -7.1209817 , -7.3734756 , -6.8523564 , -6.8345375 , -8.12118   ,\n",
       "         -8.278603  , -7.3111267 , -7.0629015 , -6.5196695 , -6.846622  ,\n",
       "         -7.645831  , -8.326676  , -7.937769  , -8.3469095 , -7.547616  ,\n",
       "         -7.3951883 , -5.990728  , -7.176086  , -6.6499276 , -7.3788505 ,\n",
       "         -4.6077557 , -6.896607  , -7.690565  , -7.3191295 , -7.6204553 ,\n",
       "         -7.074921  , -7.5586977 , -7.82815   , -7.3227077 , -5.3329625 ],\n",
       "        dtype=float32),\n",
       "  33,\n",
       "  'None_None'),\n",
       " ('Do you fart?',\n",
       "  array([-5.8554106 , -5.927629  , -6.14062   , -6.6724634 , -5.571533  ,\n",
       "         -6.5010104 , -6.774153  , -6.1252294 , -6.6321692 , -6.7179394 ,\n",
       "         -7.8086524 , -6.9672284 , -6.1270366 , -5.754568  , -5.225824  ,\n",
       "         -6.6536007 , -6.5600467 , -6.224483  , -5.6756268 , -5.7366023 ,\n",
       "         -5.5233665 , -6.548912  , -6.1963253 , -7.597937  , -5.6265507 ,\n",
       "         -5.759303  , -6.2676167 , -5.578754  , -5.217256  , -5.891457  ,\n",
       "         -5.803642  , -6.217391  , -5.939062  , -3.4301589 , -5.1656427 ,\n",
       "         -6.3274274 , -5.362078  , -6.8184156 , -6.10304   , -7.604706  ,\n",
       "         -7.797998  , -6.4571357 , -7.264628  , -5.6324525 , -7.5416727 ,\n",
       "         -5.9905324 , -8.420966  , -7.684967  , -8.078978  , -7.736116  ,\n",
       "         -6.385766  , -5.367261  , -5.8656335 , -6.2183714 , -6.9111958 ,\n",
       "         -0.17707786, -6.7258773 , -7.1199746 , -6.7965984 , -6.6575866 ,\n",
       "         -6.324628  , -6.6054616 , -7.5540833 , -6.463715  , -6.4327607 ],\n",
       "        dtype=float32),\n",
       "  55,\n",
       "  'Social_Other'),\n",
       " ('do you laugh?',\n",
       "  array([-5.839935 , -5.6911297, -5.8818574, -6.5357146, -5.3762884,\n",
       "         -6.355354 , -7.0519495, -5.8987365, -7.609978 , -6.601081 ,\n",
       "         -7.595398 , -6.821408 , -6.028926 , -5.572437 , -4.93564  ,\n",
       "         -6.3937693, -6.3400526, -5.7130275, -5.075564 , -5.4528522,\n",
       "         -5.190837 , -6.3014383, -5.844941 , -7.1489034, -5.4415855,\n",
       "         -5.312892 , -6.2715936, -5.22718  , -5.335629 , -5.987544 ,\n",
       "         -5.4862795, -6.1996584, -5.867354 , -3.98808  , -5.21578  ,\n",
       "         -6.540877 , -4.984538 , -6.8624725, -6.06096  , -7.4475465,\n",
       "         -7.553751 , -6.5810947, -7.373928 , -5.4847913, -7.799074 ,\n",
       "         -5.5849986, -8.652278 , -7.808285 , -8.095837 , -7.7767835,\n",
       "         -6.1754956, -4.930959 , -5.8002295, -6.108905 , -7.0208774,\n",
       "         -0.190923 , -6.9798365, -7.2620416, -6.9256215, -6.717631 ,\n",
       "         -6.244364 , -6.2775793, -7.2624   , -6.4924645, -6.44155  ],\n",
       "        dtype=float32),\n",
       "  55,\n",
       "  'Social_Other'),\n",
       " ('do you cry?',\n",
       "  array([-6.000112 , -6.0391   , -5.9764466, -6.642859 , -5.424208 ,\n",
       "         -6.551335 , -6.7252183, -6.1063495, -7.5106783, -6.537944 ,\n",
       "         -7.798315 , -6.918104 , -6.3335166, -5.6298323, -5.1734047,\n",
       "         -6.671261 , -6.427635 , -5.943579 , -5.473076 , -5.770382 ,\n",
       "         -5.312729 , -6.2903953, -5.9288354, -7.5661564, -5.6622005,\n",
       "         -5.410162 , -6.4465227, -5.323266 , -5.329898 , -6.0721703,\n",
       "         -5.99012  , -6.3177824, -6.1475325, -4.0108523, -5.330202 ,\n",
       "         -6.6055465, -4.8471546, -7.001732 , -6.0934052, -7.341381 ,\n",
       "         -7.7028885, -6.6589036, -7.3356457, -5.71015  , -7.6338797,\n",
       "         -5.7967696, -8.698701 , -7.746746 , -7.9241195, -7.8266754,\n",
       "         -6.4992967, -5.2009096, -5.8645163, -6.154682 , -6.9047   ,\n",
       "         -0.1672127, -6.8675423, -7.3212943, -6.8415585, -6.685604 ,\n",
       "         -6.18401  , -6.4075675, -7.099005 , -6.4689674, -6.769388 ],\n",
       "        dtype=float32),\n",
       "  55,\n",
       "  'Social_Other'),\n",
       " ('do you have any emotion?',\n",
       "  array([-5.9471083 , -6.2895284 , -6.135425  , -6.703614  , -5.725145  ,\n",
       "         -6.3835607 , -6.7356224 , -6.245829  , -6.9823337 , -6.727718  ,\n",
       "         -7.5876155 , -7.023927  , -6.4689918 , -5.701039  , -5.047993  ,\n",
       "         -6.8214245 , -6.4970717 , -5.9216795 , -5.446146  , -5.607296  ,\n",
       "         -5.6554856 , -6.5909753 , -6.0289626 , -7.4532576 , -5.754226  ,\n",
       "         -5.627637  , -6.4769125 , -5.569068  , -5.1308093 , -6.0614223 ,\n",
       "         -5.791522  , -6.7772923 , -6.154883  , -3.9852571 , -5.286756  ,\n",
       "         -6.3864746 , -5.1578984 , -7.021529  , -6.363255  , -7.7517886 ,\n",
       "         -7.789462  , -6.563016  , -7.25073   , -5.7695575 , -7.734225  ,\n",
       "         -5.798645  , -8.672837  , -8.067619  , -8.0116005 , -7.936791  ,\n",
       "         -6.5536337 , -5.7078185 , -5.9941406 , -6.5397964 , -6.699106  ,\n",
       "         -0.15507545, -6.810015  , -7.061293  , -6.8474383 , -6.6698694 ,\n",
       "         -6.141437  , -6.525388  , -7.409373  , -6.693662  , -6.9311566 ],\n",
       "        dtype=float32),\n",
       "  55,\n",
       "  'Social_Other'),\n",
       " ('Do you believe in God?',\n",
       "  array([-5.3459787 , -5.1898513 , -5.982057  , -6.5197678 , -5.441207  ,\n",
       "         -6.168105  , -5.932542  , -6.1917477 , -4.1670747 , -5.317818  ,\n",
       "         -6.85093   , -4.787859  , -5.0731587 , -5.650719  , -4.804506  ,\n",
       "         -6.7463217 , -6.140296  , -6.109084  , -5.3957734 , -5.4110065 ,\n",
       "         -5.039389  , -6.236787  , -5.8626404 , -6.7841144 , -5.5753613 ,\n",
       "         -6.0219607 , -6.3162465 , -5.4675813 , -4.313461  , -5.6668987 ,\n",
       "         -5.3335476 , -5.748498  , -5.083161  , -1.2270925 , -4.325     ,\n",
       "         -5.3252797 , -5.1692452 , -5.643854  , -5.0846243 , -6.807336  ,\n",
       "         -6.774824  , -5.2623777 , -5.9160185 , -4.187035  , -6.667228  ,\n",
       "         -5.3184195 , -7.3781996 , -6.6683307 , -7.191224  , -7.1437607 ,\n",
       "         -5.9831443 , -4.2137566 , -5.5211525 , -5.75972   , -6.087241  ,\n",
       "         -0.80623454, -5.7247276 , -5.6515174 , -5.98021   , -6.4536066 ,\n",
       "         -5.847054  , -6.7084136 , -6.955017  , -6.37033   , -5.5243907 ],\n",
       "        dtype=float32),\n",
       "  55,\n",
       "  'Social_Other'),\n",
       " ('which God do you believe in?',\n",
       "  array([-5.525845  , -5.217142  , -6.180271  , -6.8868127 , -5.699679  ,\n",
       "         -6.6765013 , -6.006003  , -6.381792  , -2.5679104 , -4.780075  ,\n",
       "         -5.9096036 , -3.7021155 , -4.919567  , -5.875851  , -5.4620037 ,\n",
       "         -6.7382812 , -6.439665  , -6.042548  , -5.8921447 , -5.677579  ,\n",
       "         -5.1266127 , -6.5714264 , -5.721382  , -6.2483025 , -6.228011  ,\n",
       "         -6.5911164 , -6.502459  , -5.922745  , -3.6408677 , -5.77007   ,\n",
       "         -5.479441  , -5.764353  , -5.1100125 , -0.64407724, -4.2340107 ,\n",
       "         -5.624602  , -5.82802   , -5.2571325 , -4.987431  , -6.697513  ,\n",
       "         -6.4865513 , -5.4098673 , -5.0712166 , -3.1732209 , -6.0435762 ,\n",
       "         -5.618365  , -6.542078  , -6.4980245 , -6.5215616 , -6.4344625 ,\n",
       "         -5.7849364 , -4.160764  , -5.626245  , -5.6855307 , -5.760053  ,\n",
       "         -2.359674  , -5.094468  , -4.6330066 , -5.6305103 , -6.521468  ,\n",
       "         -6.143248  , -6.7978606 , -7.254183  , -6.756877  , -5.8555536 ],\n",
       "        dtype=float32),\n",
       "  33,\n",
       "  'None_None'),\n",
       " ('do you have faith in God?',\n",
       "  array([-4.8604884 , -5.163847  , -5.355678  , -6.227051  , -4.8669734 ,\n",
       "         -6.2597246 , -5.425831  , -5.6596875 , -4.476779  , -5.125706  ,\n",
       "         -5.975375  , -4.411122  , -5.0159726 , -5.1937847 , -4.8899207 ,\n",
       "         -5.946821  , -5.336877  , -5.433223  , -4.954986  , -4.8212333 ,\n",
       "         -4.173332  , -5.951581  , -5.002709  , -6.0259647 , -5.149506  ,\n",
       "         -5.168489  , -5.374409  , -5.2080984 , -3.665642  , -5.014161  ,\n",
       "         -4.456449  , -6.047172  , -4.9436398 , -2.4509752 , -4.108202  ,\n",
       "         -5.5504227 , -4.4362755 , -5.1936784 , -4.993045  , -6.2615376 ,\n",
       "         -6.4580336 , -5.182874  , -5.7218065 , -3.5816276 , -6.738318  ,\n",
       "         -4.9220567 , -6.9122496 , -6.184518  , -6.53463   , -6.7785726 ,\n",
       "         -5.475569  , -3.649232  , -5.2273192 , -5.2419634 , -5.6946254 ,\n",
       "         -0.64710426, -5.171938  , -4.935689  , -5.83711   , -6.1757345 ,\n",
       "         -5.7420044 , -6.392707  , -6.7945185 , -6.4224634 , -5.683724  ],\n",
       "        dtype=float32),\n",
       "  55,\n",
       "  'Social_Other'),\n",
       " (\"you're the best bot!\",\n",
       "  array([-7.2801785, -6.988016 , -7.816325 , -8.151838 , -7.244569 ,\n",
       "         -7.8581624, -7.2743907, -7.828631 , -3.7475665, -6.2770333,\n",
       "         -7.6476083, -6.1651745, -6.1011343, -7.784465 , -6.743085 ,\n",
       "         -8.295989 , -7.820886 , -8.447618 , -8.087717 , -8.133344 ,\n",
       "         -7.74989  , -8.047562 , -8.231495 , -8.014506 , -8.396477 ,\n",
       "         -8.404599 , -8.289987 , -7.996954 , -7.6543026, -7.4097695,\n",
       "         -7.766265 , -6.1891894, -5.831402 , -0.0819601, -6.528432 ,\n",
       "         -7.154736 , -8.424806 , -6.7295275, -6.8538933, -7.9765706,\n",
       "         -7.4261193, -7.135994 , -6.835325 , -6.163362 , -5.6980777,\n",
       "         -8.275662 , -7.498075 , -6.8434367, -7.7978244, -7.1366196,\n",
       "         -7.324568 , -6.5627694, -7.0957313, -6.672671 , -6.0371556,\n",
       "         -6.1876745, -6.900513 , -6.827028 , -7.2654004, -8.146007 ,\n",
       "         -7.593733 , -8.031657 , -8.123679 , -7.576976 , -5.9512267],\n",
       "        dtype=float32),\n",
       "  33,\n",
       "  'None_None'),\n",
       " ('Wow!',\n",
       "  array([-8.022866  , -7.831232  , -8.385806  , -9.117404  , -7.8502393 ,\n",
       "         -7.4821177 , -7.9389715 , -8.413636  , -6.136554  , -7.419102  ,\n",
       "         -8.599371  , -6.870168  , -6.8753777 , -8.591     , -7.320813  ,\n",
       "         -8.89211   , -8.447534  , -8.747899  , -8.481563  , -8.356859  ,\n",
       "         -8.189761  , -8.410455  , -8.549085  , -8.571157  , -8.862695  ,\n",
       "         -7.908388  , -8.548369  , -7.9086833 , -7.6832666 , -8.042271  ,\n",
       "         -8.014798  , -6.180675  , -6.0967197 , -0.03617966, -6.792624  ,\n",
       "         -7.685342  , -8.42329   , -7.6313357 , -7.436611  , -8.427356  ,\n",
       "         -8.543683  , -7.7512174 , -7.3768883 , -7.055559  , -6.7740474 ,\n",
       "         -8.375795  , -8.374156  , -7.8250465 , -8.506801  , -8.108476  ,\n",
       "         -8.141799  , -6.785996  , -7.576332  , -7.4659424 , -7.972996  ,\n",
       "         -6.0438337 , -7.380972  , -8.052973  , -8.303032  , -8.4335985 ,\n",
       "         -7.731991  , -8.260065  , -8.413724  , -8.089242  , -5.7550163 ],\n",
       "        dtype=float32),\n",
       "  33,\n",
       "  'None_None'),\n",
       " ('awesome!',\n",
       "  array([-8.066962 , -7.682526 , -8.303027 , -8.6689415, -7.92696  ,\n",
       "         -7.5208445, -7.952836 , -8.303403 , -5.363098 , -7.04099  ,\n",
       "         -8.788948 , -7.0114565, -6.691424 , -8.664811 , -7.1675544,\n",
       "         -9.011745 , -8.308961 , -9.012868 , -8.496524 , -8.286252 ,\n",
       "         -8.565999 , -8.47117  , -8.334952 , -8.599585 , -8.93538  ,\n",
       "         -8.132675 , -8.683698 , -7.8941097, -7.9727316, -8.07583  ,\n",
       "         -7.973758 , -6.0585995, -6.0174828, -0.0377834, -6.9635377,\n",
       "         -7.571108 , -8.6144285, -7.870603 , -7.548273 , -8.47207  ,\n",
       "         -8.128292 , -7.8465834, -7.4580626, -7.42019  , -6.9892435,\n",
       "         -8.608505 , -8.305176 , -8.147336 , -8.63485  , -7.9183035,\n",
       "         -8.147465 , -7.2188673, -7.70914  , -7.528928 , -7.748335 ,\n",
       "         -6.3600817, -7.2564535, -8.010954 , -7.93901  , -8.242395 ,\n",
       "         -7.730764 , -8.367838 , -8.357844 , -8.156946 , -5.730262 ],\n",
       "        dtype=float32),\n",
       "  33,\n",
       "  'None_None'),\n",
       " ('cancel dish movie pack',\n",
       "  array([-6.854166  , -7.0057654 , -7.536993  , -6.921275  , -7.4394736 ,\n",
       "         -6.445738  , -6.7794895 , -6.3747    , -3.5671957 , -7.2575502 ,\n",
       "         -6.786246  , -4.478521  , -7.0956306 , -7.3807383 , -6.839212  ,\n",
       "         -7.1338325 , -7.452083  , -7.7263374 , -6.895636  , -6.295156  ,\n",
       "         -8.000754  , -6.996885  , -6.7854385 , -5.4455714 , -6.77235   ,\n",
       "         -7.1674795 , -6.801691  , -7.342723  , -5.9323034 , -5.0251403 ,\n",
       "         -6.80753   , -6.651712  , -5.0730686 , -5.5638485 , -7.0188007 ,\n",
       "         -0.14360984, -6.497841  , -5.365303  , -7.1416273 , -6.77464   ,\n",
       "         -5.940553  , -6.2576466 , -5.7537317 , -6.8697944 , -6.2884793 ,\n",
       "         -6.875058  , -6.4863763 , -6.234411  , -6.382698  , -7.355382  ,\n",
       "         -7.390258  , -6.7785187 , -7.4432306 , -7.762804  , -7.1325827 ,\n",
       "         -6.3241615 , -5.541848  , -7.029789  , -6.3955917 , -7.3450413 ,\n",
       "         -7.1242394 , -7.9073944 , -5.876849  , -7.722228  , -6.7237816 ],\n",
       "        dtype=float32),\n",
       "  35,\n",
       "  'Order_Cancellation'),\n",
       " ('you rock!',\n",
       "  array([-8.10758   , -7.5788817 , -8.22905   , -8.771346  , -7.9033723 ,\n",
       "         -7.5521064 , -7.8813796 , -8.426039  , -5.91848   , -7.364994  ,\n",
       "         -8.511522  , -7.1642585 , -7.0348334 , -8.478607  , -6.5747585 ,\n",
       "         -8.884239  , -8.271642  , -8.691908  , -8.204488  , -8.343301  ,\n",
       "         -8.271501  , -8.361285  , -8.765488  , -8.802694  , -8.896633  ,\n",
       "         -7.779946  , -8.681497  , -7.908452  , -7.6332836 , -7.885491  ,\n",
       "         -8.368744  , -6.318063  , -6.569236  , -0.03609825, -7.155136  ,\n",
       "         -7.829645  , -8.401361  , -7.6353517 , -7.6474056 , -8.946998  ,\n",
       "         -9.04637   , -7.8540697 , -7.377047  , -7.0969567 , -7.3529525 ,\n",
       "         -8.475656  , -8.726799  , -8.361506  , -8.714197  , -8.253931  ,\n",
       "         -7.859263  , -6.841623  , -7.644476  , -7.4431973 , -7.4778767 ,\n",
       "         -5.388632  , -7.810507  , -8.183791  , -7.8916554 , -8.184151  ,\n",
       "         -7.7616363 , -8.17316   , -8.591252  , -7.9930444 , -6.055706  ],\n",
       "        dtype=float32),\n",
       "  33,\n",
       "  'None_None'),\n",
       " ('How can I get the Big Ten Network to watch college football',\n",
       "  array([-5.163248 , -5.207261 , -5.4894285, -5.4170876, -5.523306 ,\n",
       "         -5.1326284, -4.4542127, -5.7416973, -1.4479537, -3.4386246,\n",
       "         -3.2427573, -4.794493 , -4.6419916, -5.6415033, -5.1921477,\n",
       "         -5.6617975, -5.694358 , -5.724553 , -5.644104 , -6.734785 ,\n",
       "         -5.612012 , -5.7886696, -6.2143965, -5.9333487, -5.9254637,\n",
       "         -6.656129 , -5.823098 , -6.591751 , -5.783683 , -6.018708 ,\n",
       "         -7.090582 , -5.6833487, -5.3379593, -3.8844411, -5.3778505,\n",
       "         -6.2126694, -5.7426767, -4.862507 , -5.124099 , -4.247759 ,\n",
       "         -4.1400905, -4.683652 , -4.651438 , -4.502594 , -4.3759623,\n",
       "         -6.288684 , -5.181455 , -5.4022503, -5.1161585, -5.1176224,\n",
       "         -4.8451843, -5.7227917, -4.1770096, -4.544615 , -1.2032201,\n",
       "         -5.7651987, -5.169141 , -3.059626 , -4.7050686, -5.0483937,\n",
       "         -5.2987947, -5.486947 , -5.166279 , -4.9767294, -6.099165 ],\n",
       "        dtype=float32),\n",
       "  54,\n",
       "  'Shopping_Query'),\n",
       " ('it says order not present',\n",
       "  array([-6.4039283 , -6.0312757 , -7.156284  , -6.1659017 , -6.6772285 ,\n",
       "         -7.3332596 , -5.916011  , -7.1730165 , -2.0717251 , -5.7042847 ,\n",
       "         -5.855654  , -5.0837097 , -5.573681  , -7.0678515 , -7.5686603 ,\n",
       "         -7.654615  , -7.0984907 , -8.07348   , -7.43035   , -6.8446674 ,\n",
       "         -7.7236342 , -7.85533   , -7.5516987 , -6.123018  , -7.252062  ,\n",
       "         -8.354169  , -7.6628084 , -7.5235267 , -6.192751  , -6.3255877 ,\n",
       "         -7.6005006 , -6.705481  , -6.3426223 , -4.6435623 , -7.0959115 ,\n",
       "         -3.9438312 , -4.559378  , -0.30532426, -6.278513  , -6.787658  ,\n",
       "         -7.0266914 , -6.1898727 , -5.753863  , -6.6338253 , -6.2992477 ,\n",
       "         -6.8520575 , -6.2454977 , -5.881999  , -5.5693626 , -6.1215105 ,\n",
       "         -6.793763  , -6.681992  , -5.84787   , -6.5467253 , -6.107028  ,\n",
       "         -6.9428906 , -6.288209  , -6.53249   , -5.3924623 , -6.3227453 ,\n",
       "         -6.5920286 , -6.5835605 , -5.895046  , -6.7585254 , -7.386131  ],\n",
       "        dtype=float32),\n",
       "  37,\n",
       "  'Order_Status'),\n",
       " ('it says it ends today',\n",
       "  array([-6.707483 , -5.8741026, -6.595485 , -6.0587554, -6.5449085,\n",
       "         -5.629575 , -5.9009   , -6.6479115, -1.1223626, -5.465244 ,\n",
       "         -6.3411   , -4.2709236, -5.258015 , -6.6889753, -5.7191505,\n",
       "         -7.2173114, -7.188653 , -7.686949 , -7.0754366, -6.7289553,\n",
       "         -8.176657 , -7.003787 , -7.5021305, -6.288987 , -7.073215 ,\n",
       "         -6.937583 , -7.012909 , -6.7999215, -6.293061 , -6.325815 ,\n",
       "         -7.3323393, -4.2437634, -4.392472 , -0.7403012, -6.07915  ,\n",
       "         -4.3237743, -6.375026 , -5.673561 , -5.81294  , -5.5361915,\n",
       "         -5.4544907, -5.9201274, -5.218952 , -5.934068 , -5.174894 ,\n",
       "         -6.582328 , -6.032477 , -6.4794407, -6.3979044, -6.420575 ,\n",
       "         -6.6550756, -5.88502  , -5.959529 , -6.329053 , -6.2298574,\n",
       "         -4.9320045, -4.594418 , -6.1215777, -5.175941 , -6.8191085,\n",
       "         -6.625886 , -7.556422 , -5.939808 , -6.6752896, -4.679166 ],\n",
       "        dtype=float32),\n",
       "  33,\n",
       "  'None_None'),\n",
       " ('will it be available today',\n",
       "  array([-6.2965508, -6.49071  , -6.7182226, -5.9904337, -6.333821 ,\n",
       "         -6.5613494, -4.8627043, -6.657859 , -1.4340922, -4.376118 ,\n",
       "         -5.7827525, -5.185688 , -5.8717537, -6.0787115, -5.8939614,\n",
       "         -6.8391743, -7.351752 , -7.5908103, -8.026442 , -8.035398 ,\n",
       "         -7.484385 , -6.8377905, -6.8904233, -6.1991215, -7.019003 ,\n",
       "         -7.5429397, -6.524286 , -7.450979 , -6.7145185, -7.9329257,\n",
       "         -6.5750437, -4.289103 , -4.9512486, -3.4932852, -5.8556805,\n",
       "         -4.662764 , -6.2081704, -5.852645 , -5.713995 , -4.881461 ,\n",
       "         -3.853158 , -5.1246405, -3.8574462, -4.9474745, -2.8725066,\n",
       "         -6.645943 , -3.8842769, -4.9507685, -4.735652 , -6.5884657,\n",
       "         -6.6486692, -5.223593 , -5.406153 , -5.436276 , -6.0120625,\n",
       "         -6.099009 , -0.9047438, -3.9332213, -4.965704 , -6.7118607,\n",
       "         -6.558738 , -7.7076106, -4.738726 , -6.712072 , -5.400018 ],\n",
       "        dtype=float32),\n",
       "  56,\n",
       "  'Stock_Info')]"
      ]
     },
     "execution_count": 43,
     "metadata": {},
     "output_type": "execute_result"
    }
   ],
   "source": [
    "tests"
   ]
  },
  {
   "cell_type": "code",
   "execution_count": null,
   "metadata": {},
   "outputs": [],
   "source": []
  }
 ],
 "metadata": {
  "kernelspec": {
   "display_name": "Python 3.7 - tensorflow 1.15 (tf1.15)",
   "language": "python",
   "name": "tf1.15"
  },
  "language_info": {
   "codemirror_mode": {
    "name": "ipython",
    "version": 3
   },
   "file_extension": ".py",
   "mimetype": "text/x-python",
   "name": "python",
   "nbconvert_exporter": "python",
   "pygments_lexer": "ipython3",
   "version": "3.7.5"
  }
 },
 "nbformat": 4,
 "nbformat_minor": 2
}
