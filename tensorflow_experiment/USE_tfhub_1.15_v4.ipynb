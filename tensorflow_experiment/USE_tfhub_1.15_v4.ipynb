{
 "cells": [
  {
   "cell_type": "code",
   "execution_count": 1,
   "metadata": {},
   "outputs": [],
   "source": [
    "import tensorflow as tf\n",
    "import tensorflow_hub as hub\n",
    "\n",
    "import os\n"
   ]
  },
  {
   "cell_type": "code",
   "execution_count": 2,
   "metadata": {},
   "outputs": [
    {
     "data": {
      "text/plain": [
       "'1.15.0'"
      ]
     },
     "execution_count": 2,
     "metadata": {},
     "output_type": "execute_result"
    }
   ],
   "source": [
    "tf.__version__"
   ]
  },
  {
   "cell_type": "code",
   "execution_count": 3,
   "metadata": {},
   "outputs": [],
   "source": [
    "os.environ[\"TFHUB_CACHE_DIR\"] = '/space/engineering/tfhub_modules'"
   ]
  },
  {
   "cell_type": "raw",
   "metadata": {},
   "source": [
    "os.environ[\"CUDA_VISIBLE_DEVICES\"] = \"-1\""
   ]
  },
  {
   "cell_type": "code",
   "execution_count": 4,
   "metadata": {},
   "outputs": [
    {
     "data": {
      "text/plain": [
       "[PhysicalDevice(name='/physical_device:GPU:0', device_type='GPU'),\n",
       " PhysicalDevice(name='/physical_device:GPU:1', device_type='GPU'),\n",
       " PhysicalDevice(name='/physical_device:GPU:2', device_type='GPU'),\n",
       " PhysicalDevice(name='/physical_device:GPU:3', device_type='GPU'),\n",
       " PhysicalDevice(name='/physical_device:GPU:4', device_type='GPU'),\n",
       " PhysicalDevice(name='/physical_device:GPU:5', device_type='GPU'),\n",
       " PhysicalDevice(name='/physical_device:GPU:6', device_type='GPU'),\n",
       " PhysicalDevice(name='/physical_device:GPU:7', device_type='GPU')]"
      ]
     },
     "execution_count": 4,
     "metadata": {},
     "output_type": "execute_result"
    }
   ],
   "source": [
    "tf.config.experimental.list_physical_devices('GPU')"
   ]
  },
  {
   "cell_type": "code",
   "execution_count": 5,
   "metadata": {},
   "outputs": [
    {
     "ename": "IndexError",
     "evalue": "list index out of range",
     "output_type": "error",
     "traceback": [
      "\u001b[0;31m---------------------------------------------------------------------------\u001b[0m",
      "\u001b[0;31mIndexError\u001b[0m                                Traceback (most recent call last)",
      "\u001b[0;32m<ipython-input-5-4e030382a6dd>\u001b[0m in \u001b[0;36m<module>\u001b[0;34m\u001b[0m\n\u001b[1;32m      1\u001b[0m \u001b[0;31m##restricting no of gpus\u001b[0m\u001b[0;34m\u001b[0m\u001b[0;34m\u001b[0m\u001b[0;34m\u001b[0m\u001b[0m\n\u001b[1;32m      2\u001b[0m \u001b[0mgpus\u001b[0m \u001b[0;34m=\u001b[0m \u001b[0mtf\u001b[0m\u001b[0;34m.\u001b[0m\u001b[0mconfig\u001b[0m\u001b[0;34m.\u001b[0m\u001b[0mexperimental\u001b[0m\u001b[0;34m.\u001b[0m\u001b[0mlist_physical_devices\u001b[0m\u001b[0;34m(\u001b[0m\u001b[0;34m'GPU'\u001b[0m\u001b[0;34m)\u001b[0m\u001b[0;34m\u001b[0m\u001b[0;34m\u001b[0m\u001b[0m\n\u001b[0;32m----> 3\u001b[0;31m \u001b[0mdevice_to_use\u001b[0m \u001b[0;34m=\u001b[0m \u001b[0mgpus\u001b[0m\u001b[0;34m[\u001b[0m\u001b[0;36m2\u001b[0m\u001b[0;34m]\u001b[0m\u001b[0;34m\u001b[0m\u001b[0;34m\u001b[0m\u001b[0m\n\u001b[0m\u001b[1;32m      4\u001b[0m \u001b[0mtf\u001b[0m\u001b[0;34m.\u001b[0m\u001b[0mconfig\u001b[0m\u001b[0;34m.\u001b[0m\u001b[0mexperimental\u001b[0m\u001b[0;34m.\u001b[0m\u001b[0mset_memory_growth\u001b[0m\u001b[0;34m(\u001b[0m\u001b[0mdevice_to_use\u001b[0m\u001b[0;34m,\u001b[0m\u001b[0;32mTrue\u001b[0m\u001b[0;34m)\u001b[0m\u001b[0;34m\u001b[0m\u001b[0;34m\u001b[0m\u001b[0m\n\u001b[1;32m      5\u001b[0m \u001b[0mtf\u001b[0m\u001b[0;34m.\u001b[0m\u001b[0mconfig\u001b[0m\u001b[0;34m.\u001b[0m\u001b[0mexperimental\u001b[0m\u001b[0;34m.\u001b[0m\u001b[0mset_visible_devices\u001b[0m\u001b[0;34m(\u001b[0m\u001b[0mdevice_to_use\u001b[0m\u001b[0;34m,\u001b[0m \u001b[0;34m'GPU'\u001b[0m\u001b[0;34m)\u001b[0m\u001b[0;34m\u001b[0m\u001b[0;34m\u001b[0m\u001b[0m\n",
      "\u001b[0;31mIndexError\u001b[0m: list index out of range"
     ]
    }
   ],
   "source": [
    "##restricting no of gpus\n",
    "gpus = tf.config.experimental.list_physical_devices('GPU')\n",
    "device_to_use = gpus[2]\n",
    "tf.config.experimental.set_memory_growth(device_to_use,True)\n",
    "tf.config.experimental.set_visible_devices(device_to_use, 'GPU')\n",
    "print(tf.config.experimental.get_visible_devices('GPU'))"
   ]
  },
  {
   "cell_type": "raw",
   "metadata": {},
   "source": [
    "config = tf.ConfigProto(gpu_options=tf.GPUOptions(allow_growth=True,visible_device_list = ''))\n",
    "\n",
    "sess = tf.Session(config = config)"
   ]
  },
  {
   "cell_type": "code",
   "execution_count": null,
   "metadata": {},
   "outputs": [],
   "source": [
    "sess = tf.Session()"
   ]
  },
  {
   "cell_type": "code",
   "execution_count": null,
   "metadata": {},
   "outputs": [],
   "source": [
    "OUTPUT_PATH=\"/var/extra/users/jgeorge/tf2.0/USE_1.12\""
   ]
  },
  {
   "cell_type": "code",
   "execution_count": null,
   "metadata": {},
   "outputs": [],
   "source": [
    "# module = hub.Module(\"https://tfhub.dev/google/universal-sentence-encoder/3\")\n",
    "# module = hub.load(\"https://tfhub.dev/google/universal-sentence-encoder/2\")\n",
    "module = hub.load(\"https://tfhub.dev/google/universal-sentence-encoder/4\")\n"
   ]
  },
  {
   "cell_type": "code",
   "execution_count": 8,
   "metadata": {},
   "outputs": [],
   "source": [
    "text = tf.placeholder(tf.string, [None],name='input_text')\n",
    "embedding = module(text)"
   ]
  },
  {
   "cell_type": "code",
   "execution_count": 9,
   "metadata": {},
   "outputs": [
    {
     "data": {
      "text/plain": [
       "<tf.Tensor 'StatefulPartitionedCall_1:0' shape=(?, 512) dtype=float32>"
      ]
     },
     "execution_count": 9,
     "metadata": {},
     "output_type": "execute_result"
    }
   ],
   "source": [
    "embedding"
   ]
  },
  {
   "cell_type": "raw",
   "metadata": {},
   "source": [
    "embeddings = module([\n",
    "    \"The quick brown fox jumps over the lazy dog.\",\n",
    "    \"I am a sentence for which I would like to get its embedding\"])\n"
   ]
  },
  {
   "cell_type": "raw",
   "metadata": {},
   "source": [
    "embedding1 = module([\"talk to an representative\"])"
   ]
  },
  {
   "cell_type": "raw",
   "metadata": {},
   "source": [
    "embedding"
   ]
  },
  {
   "cell_type": "code",
   "execution_count": 20,
   "metadata": {},
   "outputs": [
    {
     "data": {
      "text/plain": [
       "{'outputs': <tf.Tensor 'StatefulPartitionedCall_1:0' shape=(?, 512) dtype=float32>}"
      ]
     },
     "execution_count": 20,
     "metadata": {},
     "output_type": "execute_result"
    }
   ],
   "source": [
    "embedding1"
   ]
  },
  {
   "cell_type": "code",
   "execution_count": 17,
   "metadata": {},
   "outputs": [],
   "source": [
    "text1 = tf.placeholder(tf.string,None)\n",
    "embedding1 = module(text1)"
   ]
  },
  {
   "cell_type": "code",
   "execution_count": 18,
   "metadata": {},
   "outputs": [],
   "source": [
    "text2 = tf.placeholder(tf.string,None)\n",
    "embedding2 = module(text2)"
   ]
  },
  {
   "cell_type": "code",
   "execution_count": 29,
   "metadata": {},
   "outputs": [],
   "source": [
    "normalize_t1 = tf.nn.l2_normalize(embedding1['outputs'],1) "
   ]
  },
  {
   "cell_type": "code",
   "execution_count": 26,
   "metadata": {},
   "outputs": [],
   "source": [
    "mod1 = tf.reduce_sum(normalize_t1)"
   ]
  },
  {
   "cell_type": "code",
   "execution_count": 27,
   "metadata": {},
   "outputs": [
    {
     "data": {
      "text/plain": [
       "14.0"
      ]
     },
     "execution_count": 27,
     "metadata": {},
     "output_type": "execute_result"
    }
   ],
   "source": [
    "sess.run(mod1,feed_dict={text1:[\"talk to an me\"]})"
   ]
  },
  {
   "cell_type": "code",
   "execution_count": 28,
   "metadata": {},
   "outputs": [],
   "source": [
    "normalize_t2 = tf.nn.l2_normalize(embedding2['outputs'],1) "
   ]
  },
  {
   "cell_type": "code",
   "execution_count": 30,
   "metadata": {},
   "outputs": [],
   "source": [
    "# https://stackoverflow.com/questions/43357732/how-to-calculate-the-cosine-similarity-between-two-tensors\n",
    "similarity = tf.reduce_sum(tf.multiply(normalize_t1,normalize_t2))"
   ]
  },
  {
   "cell_type": "code",
   "execution_count": 11,
   "metadata": {},
   "outputs": [],
   "source": [
    "init_op = tf.group([tf.global_variables_initializer(), \n",
    "tf.tables_initializer()])"
   ]
  },
  {
   "cell_type": "code",
   "execution_count": 12,
   "metadata": {},
   "outputs": [],
   "source": [
    "sess.run(init_op)"
   ]
  },
  {
   "cell_type": "code",
   "execution_count": 11,
   "metadata": {},
   "outputs": [],
   "source": [
    "text = tf.placeholder(tf.string, [None],name='input_text')"
   ]
  },
  {
   "cell_type": "code",
   "execution_count": 12,
   "metadata": {},
   "outputs": [],
   "source": [
    "out = table.lookup(text)"
   ]
  },
  {
   "cell_type": "code",
   "execution_count": 15,
   "metadata": {},
   "outputs": [
    {
     "data": {
      "text/plain": [
       "array([10, 20])"
      ]
     },
     "execution_count": 15,
     "metadata": {},
     "output_type": "execute_result"
    }
   ],
   "source": [
    "sess.run(out,feed_dict={text:[\"hi\",\"jithin\"]})"
   ]
  },
  {
   "cell_type": "code",
   "execution_count": 12,
   "metadata": {},
   "outputs": [
    {
     "ename": "NameError",
     "evalue": "name 'similarity' is not defined",
     "output_type": "error",
     "traceback": [
      "\u001b[0;31m---------------------------------------------------------------------------\u001b[0m",
      "\u001b[0;31mNameError\u001b[0m                                 Traceback (most recent call last)",
      "\u001b[0;32m<ipython-input-12-2c14c65b55fe>\u001b[0m in \u001b[0;36m<module>\u001b[0;34m\u001b[0m\n\u001b[0;32m----> 1\u001b[0;31m \u001b[0msess\u001b[0m\u001b[0;34m.\u001b[0m\u001b[0mrun\u001b[0m\u001b[0;34m(\u001b[0m\u001b[0msimilarity\u001b[0m\u001b[0;34m,\u001b[0m\u001b[0mfeed_dict\u001b[0m\u001b[0;34m=\u001b[0m\u001b[0;34m{\u001b[0m\u001b[0mtext1\u001b[0m\u001b[0;34m:\u001b[0m\u001b[0;34m[\u001b[0m\u001b[0;34m\"i'm happy\"\u001b[0m\u001b[0;34m]\u001b[0m\u001b[0;34m,\u001b[0m\u001b[0mtext2\u001b[0m\u001b[0;34m:\u001b[0m\u001b[0;34m[\u001b[0m\u001b[0;34m\"i'm really happy\"\u001b[0m\u001b[0;34m]\u001b[0m\u001b[0;34m}\u001b[0m\u001b[0;34m)\u001b[0m\u001b[0;34m\u001b[0m\u001b[0;34m\u001b[0m\u001b[0m\n\u001b[0m",
      "\u001b[0;31mNameError\u001b[0m: name 'similarity' is not defined"
     ]
    }
   ],
   "source": [
    "sess.run(similarity,feed_dict={text1:[\"i'm happy\"],text2:[\"i'm really happy\"]})"
   ]
  },
  {
   "cell_type": "code",
   "execution_count": 13,
   "metadata": {},
   "outputs": [
    {
     "data": {
      "text/plain": [
       "array([[-0.0184637 ,  0.02816093,  0.01502087, -0.01649855, -0.02229876,\n",
       "         0.0524969 ,  0.03402024, -0.05397699,  0.0667899 , -0.09230083,\n",
       "         0.03241351,  0.0007832 , -0.04019167, -0.07603742, -0.03195332,\n",
       "        -0.01395486,  0.07368201, -0.08286472,  0.07401373,  0.00804914,\n",
       "         0.06548316, -0.04035164, -0.06720957, -0.00848694, -0.03288894,\n",
       "        -0.02840544,  0.04211769, -0.01885627, -0.06920393, -0.00404403,\n",
       "         0.01898727, -0.00143004, -0.03565284, -0.0569273 , -0.08713967,\n",
       "        -0.07422521,  0.01339162, -0.02594681,  0.0620571 ,  0.0314952 ,\n",
       "        -0.01955959, -0.02536147,  0.04986947, -0.04721038,  0.01460353,\n",
       "         0.01280836, -0.04113268, -0.02070803,  0.05462147,  0.04117401,\n",
       "         0.03595525,  0.04621538,  0.03964256, -0.01542626, -0.03179169,\n",
       "        -0.04439698,  0.06551597,  0.02267537, -0.06543159, -0.02568971,\n",
       "        -0.04549519, -0.01429778, -0.05377541, -0.06305341,  0.01023576,\n",
       "        -0.05804834,  0.00962639, -0.02002573,  0.02135145, -0.00103056,\n",
       "        -0.02376905, -0.00769254,  0.03483408,  0.0113311 , -0.05083333,\n",
       "        -0.09161716, -0.04258146,  0.08168431,  0.05744119, -0.09793231,\n",
       "         0.05936435, -0.01651429, -0.0517116 ,  0.05001679, -0.01129068,\n",
       "         0.02731815, -0.00819342, -0.01049383, -0.01754241,  0.03264064,\n",
       "        -0.03354891, -0.00335466, -0.03410626,  0.03167453, -0.01319259,\n",
       "         0.00029774,  0.04592486,  0.06358925, -0.04368548, -0.03625531,\n",
       "         0.04216396, -0.02347599, -0.00990928,  0.01255899, -0.04819295,\n",
       "         0.03159045, -0.00545171,  0.06867854, -0.01357379,  0.0282197 ,\n",
       "         0.04931169,  0.03513432, -0.02153225,  0.0032405 ,  0.06683664,\n",
       "         0.0188938 , -0.01683698, -0.01455448,  0.00195947,  0.00939915,\n",
       "        -0.04642183, -0.01568212,  0.04922471, -0.04135768,  0.02528654,\n",
       "         0.05521609,  0.01840162, -0.00499404,  0.08103702,  0.00749443,\n",
       "        -0.04589839, -0.0556556 , -0.0421115 ,  0.02491036,  0.00692098,\n",
       "        -0.03807945, -0.09051549, -0.02117788,  0.05917376,  0.03570982,\n",
       "        -0.04842464, -0.01625347,  0.04814245, -0.04548969, -0.02893689,\n",
       "        -0.054301  , -0.03121228, -0.01157753,  0.05186509,  0.02784338,\n",
       "         0.04187275, -0.00073729, -0.02612719,  0.04265725,  0.07856873,\n",
       "        -0.04513384, -0.00097296, -0.07813327,  0.00317556,  0.05663372,\n",
       "         0.02692612,  0.00034399, -0.01202696, -0.02825995,  0.02989869,\n",
       "         0.02752659, -0.01944106,  0.04512646, -0.06570823, -0.04519181,\n",
       "         0.04184565,  0.02063663,  0.01687719,  0.034927  , -0.03672667,\n",
       "         0.05959135,  0.07386392,  0.00053686, -0.00544452,  0.011302  ,\n",
       "        -0.06410491, -0.01855121,  0.03863559,  0.04469024,  0.07402595,\n",
       "        -0.0606827 ,  0.05163991,  0.00350114, -0.06468338,  0.05276284,\n",
       "        -0.02182047, -0.03658347, -0.01266368, -0.03460706,  0.06032276,\n",
       "         0.06193626,  0.02143991, -0.0681125 ,  0.01025281,  0.01716599,\n",
       "         0.02959709, -0.04579508, -0.00882813, -0.00607783,  0.02051046,\n",
       "         0.05208319, -0.05154831, -0.00206566, -0.07618637, -0.06496858,\n",
       "        -0.05231952,  0.02773442, -0.00595865,  0.07538148, -0.01235586,\n",
       "         0.0116663 , -0.02950631,  0.03586096, -0.00589143, -0.03287923,\n",
       "        -0.00157477,  0.02221478, -0.07476237, -0.02809654,  0.03918904,\n",
       "        -0.00682713, -0.00293591, -0.02013594,  0.0307478 ,  0.00527842,\n",
       "        -0.01676739,  0.04365777,  0.06636985,  0.09078456,  0.04780057,\n",
       "         0.03492548,  0.03764241, -0.04156163,  0.00741839,  0.0751117 ,\n",
       "        -0.03528708, -0.01150561,  0.02491928, -0.06123398,  0.05672823,\n",
       "        -0.02899284, -0.02898341,  0.05680271, -0.00757869,  0.0365031 ,\n",
       "         0.04842219,  0.00539855, -0.04247734,  0.0852854 , -0.00858298,\n",
       "        -0.03024055,  0.02291337, -0.00059117,  0.00381149, -0.0884438 ,\n",
       "         0.02479459,  0.03273951,  0.01042855,  0.05556642, -0.03747366,\n",
       "         0.06960894, -0.02909813, -0.04435975,  0.0701531 ,  0.01040432,\n",
       "         0.08756511, -0.06148161,  0.03384462,  0.00444335, -0.03399687,\n",
       "        -0.04604653, -0.09468783, -0.07261188, -0.01727349, -0.00928189,\n",
       "        -0.07843687,  0.04044357, -0.05878276,  0.03835666,  0.0512352 ,\n",
       "        -0.0733416 ,  0.0288788 ,  0.00432257,  0.05946723, -0.0494188 ,\n",
       "        -0.03144751, -0.05817162, -0.0279685 , -0.06757385,  0.09754737,\n",
       "         0.02810157, -0.04653798, -0.00267449,  0.0220987 ,  0.00215384,\n",
       "        -0.07762782, -0.01494986,  0.00623958, -0.03147571,  0.0291172 ,\n",
       "         0.04277553, -0.04212156, -0.07764439,  0.00439589,  0.01922297,\n",
       "         0.05992583,  0.08846864,  0.07535771, -0.05853965,  0.07034815,\n",
       "         0.02935855,  0.00653646, -0.02117074, -0.03054726,  0.03109922,\n",
       "        -0.01338105,  0.05518419, -0.01691916, -0.05843593, -0.05957129,\n",
       "        -0.04703375,  0.01299004, -0.08095782, -0.00156843, -0.0491726 ,\n",
       "         0.05049252, -0.04445941, -0.02710013,  0.06671314,  0.01050557,\n",
       "         0.05189097, -0.07539449,  0.08357069,  0.02135083,  0.07545762,\n",
       "         0.05948716,  0.00759726, -0.00920884,  0.00031203,  0.04347473,\n",
       "        -0.00455969,  0.04364109, -0.02002164, -0.02263443,  0.00455295,\n",
       "        -0.00208206,  0.07103053, -0.09386883,  0.00994583, -0.06885237,\n",
       "        -0.06057209, -0.09245883, -0.02245664,  0.02163118, -0.07806909,\n",
       "        -0.01141547,  0.03046403,  0.04679983,  0.07832701, -0.0236373 ,\n",
       "        -0.03615839,  0.03624701, -0.00307333, -0.06744996,  0.02678825,\n",
       "         0.02489618, -0.02787899, -0.0443038 ,  0.01853063,  0.05081669,\n",
       "         0.02386983, -0.01186361, -0.0066131 ,  0.01168407, -0.05384691,\n",
       "        -0.07272969, -0.00735384, -0.06563146, -0.01814711, -0.01578605,\n",
       "        -0.05084503,  0.00049085, -0.01083068, -0.0471973 ,  0.04121943,\n",
       "        -0.00334408, -0.03980786,  0.07088632,  0.02281995,  0.05533424,\n",
       "        -0.02438421,  0.00996292,  0.00229858, -0.02385514,  0.08105974,\n",
       "         0.01491797, -0.04254039,  0.05348366, -0.0270048 ,  0.05209294,\n",
       "        -0.05522924,  0.04304241, -0.03157732,  0.03045696, -0.00488406,\n",
       "         0.04403362, -0.01581208, -0.06262862, -0.03047366,  0.05756246,\n",
       "         0.0420921 ,  0.07333115, -0.00745126, -0.02219575, -0.03997487,\n",
       "        -0.01030677,  0.00439459, -0.06574645,  0.00271648,  0.02621727,\n",
       "        -0.02502993, -0.05805098,  0.06324599,  0.0521879 , -0.0570161 ,\n",
       "        -0.02520538,  0.03997667, -0.0409862 , -0.06378605, -0.07282533,\n",
       "        -0.03734614, -0.04893548,  0.04966384,  0.05234338,  0.02165261,\n",
       "        -0.03699326,  0.02208796, -0.04471584,  0.05167294,  0.07129999,\n",
       "        -0.04233551,  0.02912907,  0.0555903 ,  0.05002858,  0.02504651,\n",
       "        -0.04091335, -0.06499592,  0.03910731, -0.05446394,  0.02825291,\n",
       "        -0.00748141, -0.00739079, -0.07213922,  0.02230529, -0.03679398,\n",
       "        -0.02412969, -0.02650829,  0.05449681, -0.09595247,  0.01272998,\n",
       "         0.02107455, -0.01985453,  0.07207996, -0.05610085,  0.05292667,\n",
       "         0.02397343,  0.00457216, -0.0164014 , -0.05781761, -0.04204308,\n",
       "        -0.02748962, -0.0266269 ,  0.02857232, -0.05253915,  0.05288934,\n",
       "        -0.00377876, -0.01529076,  0.01059537,  0.00153111,  0.07728767,\n",
       "         0.05987017,  0.03875321,  0.0307986 ,  0.05424792,  0.02141216,\n",
       "         0.00474399,  0.01241853,  0.04636105,  0.07597769,  0.07186855,\n",
       "         0.07723499, -0.03766187,  0.07362239,  0.05907405,  0.00326928,\n",
       "         0.03583918,  0.00345402,  0.0142093 , -0.0610735 ,  0.05768037,\n",
       "        -0.0235153 ,  0.03808405,  0.05503549, -0.01247967,  0.04231165,\n",
       "         0.08523129,  0.02062597]], dtype=float32)"
      ]
     },
     "execution_count": 13,
     "metadata": {},
     "output_type": "execute_result"
    }
   ],
   "source": [
    "sess.run(embedding,feed_dict={text:[\"talk to an agent\"]})"
   ]
  },
  {
   "cell_type": "code",
   "execution_count": 13,
   "metadata": {},
   "outputs": [],
   "source": [
    "use_output_path1= os.path.join(OUTPUT_PATH,'v3')"
   ]
  },
  {
   "cell_type": "code",
   "execution_count": 14,
   "metadata": {},
   "outputs": [
    {
     "data": {
      "text/plain": [
       "'/var/extra/users/jgeorge/tf2.0/USE_1.12/v3'"
      ]
     },
     "execution_count": 14,
     "metadata": {},
     "output_type": "execute_result"
    }
   ],
   "source": [
    "use_output_path1"
   ]
  },
  {
   "cell_type": "code",
   "execution_count": 16,
   "metadata": {},
   "outputs": [
    {
     "data": {
      "text/plain": [
       "<tf.Tensor 'Placeholder:0' shape=(?,) dtype=string>"
      ]
     },
     "execution_count": 16,
     "metadata": {},
     "output_type": "execute_result"
    }
   ],
   "source": [
    "text"
   ]
  },
  {
   "cell_type": "code",
   "execution_count": 17,
   "metadata": {},
   "outputs": [
    {
     "data": {
      "text/plain": [
       "{'outputs': <tf.Tensor 'StatefulPartitionedCall:0' shape=(?, 512) dtype=float32>}"
      ]
     },
     "execution_count": 17,
     "metadata": {},
     "output_type": "execute_result"
    }
   ],
   "source": [
    "embedding"
   ]
  },
  {
   "cell_type": "code",
   "execution_count": 15,
   "metadata": {},
   "outputs": [
    {
     "name": "stdout",
     "output_type": "stream",
     "text": [
      "WARNING:tensorflow:From <ipython-input-15-e700a8aa59cb>:2: simple_save (from tensorflow.python.saved_model.simple_save) is deprecated and will be removed in a future version.\n",
      "Instructions for updating:\n",
      "This function will only be available through the v1 compatibility library as tf.compat.v1.saved_model.simple_save.\n"
     ]
    },
    {
     "name": "stderr",
     "output_type": "stream",
     "text": [
      "WARNING:tensorflow:From <ipython-input-15-e700a8aa59cb>:2: simple_save (from tensorflow.python.saved_model.simple_save) is deprecated and will be removed in a future version.\n",
      "Instructions for updating:\n",
      "This function will only be available through the v1 compatibility library as tf.compat.v1.saved_model.simple_save.\n"
     ]
    },
    {
     "name": "stdout",
     "output_type": "stream",
     "text": [
      "WARNING:tensorflow:From /opt/custom/python/anaconda3/envs/tf1.15/lib/python3.7/site-packages/tensorflow_core/python/saved_model/signature_def_utils_impl.py:201: build_tensor_info (from tensorflow.python.saved_model.utils_impl) is deprecated and will be removed in a future version.\n",
      "Instructions for updating:\n",
      "This function will only be available through the v1 compatibility library as tf.compat.v1.saved_model.utils.build_tensor_info or tf.compat.v1.saved_model.build_tensor_info.\n"
     ]
    },
    {
     "name": "stderr",
     "output_type": "stream",
     "text": [
      "WARNING:tensorflow:From /opt/custom/python/anaconda3/envs/tf1.15/lib/python3.7/site-packages/tensorflow_core/python/saved_model/signature_def_utils_impl.py:201: build_tensor_info (from tensorflow.python.saved_model.utils_impl) is deprecated and will be removed in a future version.\n",
      "Instructions for updating:\n",
      "This function will only be available through the v1 compatibility library as tf.compat.v1.saved_model.utils.build_tensor_info or tf.compat.v1.saved_model.build_tensor_info.\n"
     ]
    },
    {
     "name": "stdout",
     "output_type": "stream",
     "text": [
      "INFO:tensorflow:Assets added to graph.\n"
     ]
    },
    {
     "name": "stderr",
     "output_type": "stream",
     "text": [
      "INFO:tensorflow:Assets added to graph.\n"
     ]
    },
    {
     "name": "stdout",
     "output_type": "stream",
     "text": [
      "INFO:tensorflow:No assets to write.\n"
     ]
    },
    {
     "name": "stderr",
     "output_type": "stream",
     "text": [
      "INFO:tensorflow:No assets to write.\n"
     ]
    },
    {
     "name": "stdout",
     "output_type": "stream",
     "text": [
      "WARNING:tensorflow:Issue encountered when serializing variables.\n",
      "Type is unsupported, or the types of the items don't match field type in CollectionDef. Note this is a warning and probably safe to ignore.\n",
      "'list' object has no attribute 'name'\n"
     ]
    },
    {
     "name": "stderr",
     "output_type": "stream",
     "text": [
      "WARNING:tensorflow:Issue encountered when serializing variables.\n",
      "Type is unsupported, or the types of the items don't match field type in CollectionDef. Note this is a warning and probably safe to ignore.\n",
      "'list' object has no attribute 'name'\n"
     ]
    },
    {
     "name": "stdout",
     "output_type": "stream",
     "text": [
      "INFO:tensorflow:SavedModel written to: /var/extra/users/jgeorge/tf2.0/USE_1.12/v3/saved_model.pb\n"
     ]
    },
    {
     "name": "stderr",
     "output_type": "stream",
     "text": [
      "INFO:tensorflow:SavedModel written to: /var/extra/users/jgeorge/tf2.0/USE_1.12/v3/saved_model.pb\n"
     ]
    }
   ],
   "source": [
    "tf.saved_model.simple_save(sess,use_output_path1,inputs={'input_text':text},outputs={'embedding':embedding},\n",
    "                           legacy_init_op=tf.tables_initializer())"
   ]
  },
  {
   "cell_type": "code",
   "execution_count": 16,
   "metadata": {},
   "outputs": [],
   "source": [
    "builder = tf.saved_model.builder.SavedModelBuilder(use_output_path1)"
   ]
  },
  {
   "cell_type": "code",
   "execution_count": 28,
   "metadata": {},
   "outputs": [
    {
     "data": {
      "text/plain": [
       "name: \"StatefulPartitionedCall:0\"\n",
       "dtype: DT_FLOAT\n",
       "tensor_shape {\n",
       "  dim {\n",
       "    size: -1\n",
       "  }\n",
       "  dim {\n",
       "    size: 512\n",
       "  }\n",
       "}"
      ]
     },
     "execution_count": 28,
     "metadata": {},
     "output_type": "execute_result"
    }
   ],
   "source": [
    "tf.saved_model.build_tensor_info(embedding['outputs'])"
   ]
  },
  {
   "cell_type": "code",
   "execution_count": 17,
   "metadata": {},
   "outputs": [
    {
     "name": "stdout",
     "output_type": "stream",
     "text": [
      "WARNING:tensorflow:From /opt/custom/python/anaconda3/envs/tf1.15/lib/python3.7/site-packages/tensorflow_core/python/saved_model/signature_def_utils_impl.py:201: build_tensor_info (from tensorflow.python.saved_model.utils_impl) is deprecated and will be removed in a future version.\n",
      "Instructions for updating:\n",
      "This function will only be available through the v1 compatibility library as tf.compat.v1.saved_model.utils.build_tensor_info or tf.compat.v1.saved_model.build_tensor_info.\n"
     ]
    },
    {
     "name": "stderr",
     "output_type": "stream",
     "text": [
      "WARNING:tensorflow:From /opt/custom/python/anaconda3/envs/tf1.15/lib/python3.7/site-packages/tensorflow_core/python/saved_model/signature_def_utils_impl.py:201: build_tensor_info (from tensorflow.python.saved_model.utils_impl) is deprecated and will be removed in a future version.\n",
      "Instructions for updating:\n",
      "This function will only be available through the v1 compatibility library as tf.compat.v1.saved_model.utils.build_tensor_info or tf.compat.v1.saved_model.build_tensor_info.\n"
     ]
    }
   ],
   "source": [
    "prediction_signature = tf.saved_model.predict_signature_def(inputs={'input_text':text},outputs={'embedding':embedding['outputs']})"
   ]
  },
  {
   "cell_type": "code",
   "execution_count": 18,
   "metadata": {},
   "outputs": [
    {
     "data": {
      "text/plain": [
       "inputs {\n",
       "  key: \"input_text\"\n",
       "  value {\n",
       "    name: \"input_text:0\"\n",
       "    dtype: DT_STRING\n",
       "    tensor_shape {\n",
       "      dim {\n",
       "        size: -1\n",
       "      }\n",
       "    }\n",
       "  }\n",
       "}\n",
       "outputs {\n",
       "  key: \"embedding\"\n",
       "  value {\n",
       "    name: \"StatefulPartitionedCall:0\"\n",
       "    dtype: DT_FLOAT\n",
       "    tensor_shape {\n",
       "      dim {\n",
       "        size: -1\n",
       "      }\n",
       "      dim {\n",
       "        size: 512\n",
       "      }\n",
       "    }\n",
       "  }\n",
       "}\n",
       "method_name: \"tensorflow/serving/predict\""
      ]
     },
     "execution_count": 18,
     "metadata": {},
     "output_type": "execute_result"
    }
   ],
   "source": [
    "prediction_signature"
   ]
  },
  {
   "cell_type": "code",
   "execution_count": 18,
   "metadata": {},
   "outputs": [
    {
     "data": {
      "text/plain": [
       "'serving_default'"
      ]
     },
     "execution_count": 18,
     "metadata": {},
     "output_type": "execute_result"
    }
   ],
   "source": [
    "tf.saved_model.signature_constants.DEFAULT_SERVING_SIGNATURE_DEF_KEY"
   ]
  },
  {
   "cell_type": "code",
   "execution_count": 22,
   "metadata": {},
   "outputs": [
    {
     "data": {
      "text/plain": [
       "'serve'"
      ]
     },
     "execution_count": 22,
     "metadata": {},
     "output_type": "execute_result"
    }
   ],
   "source": [
    "tf.saved_model.tag_constants.SERVING"
   ]
  },
  {
   "cell_type": "code",
   "execution_count": 23,
   "metadata": {},
   "outputs": [],
   "source": [
    "EMBEDDING_SIG_DEF_KEY='embedding'"
   ]
  },
  {
   "cell_type": "code",
   "execution_count": 29,
   "metadata": {},
   "outputs": [
    {
     "name": "stdout",
     "output_type": "stream",
     "text": [
      "INFO:tensorflow:No assets to save.\n"
     ]
    },
    {
     "name": "stderr",
     "output_type": "stream",
     "text": [
      "INFO:tensorflow:No assets to save.\n"
     ]
    },
    {
     "name": "stdout",
     "output_type": "stream",
     "text": [
      "INFO:tensorflow:No assets to write.\n"
     ]
    },
    {
     "name": "stderr",
     "output_type": "stream",
     "text": [
      "INFO:tensorflow:No assets to write.\n"
     ]
    },
    {
     "name": "stdout",
     "output_type": "stream",
     "text": [
      "WARNING:tensorflow:Issue encountered when serializing variables.\n",
      "Type is unsupported, or the types of the items don't match field type in CollectionDef. Note this is a warning and probably safe to ignore.\n",
      "'list' object has no attribute 'name'\n"
     ]
    },
    {
     "name": "stderr",
     "output_type": "stream",
     "text": [
      "WARNING:tensorflow:Issue encountered when serializing variables.\n",
      "Type is unsupported, or the types of the items don't match field type in CollectionDef. Note this is a warning and probably safe to ignore.\n",
      "'list' object has no attribute 'name'\n"
     ]
    }
   ],
   "source": [
    "builder.add_meta_graph_and_variables(sess,tags=[tf.saved_model.tag_constants.SERVING],\n",
    "                                     signature_def_map={tf.saved_model.DEFAULT_SERVING_SIGNATURE_DEF_KEY:prediction_signature,\n",
    "                                                       EMBEDDING_SIG_DEF_KEY:prediction_signature},\n",
    "                                     main_op=tf.group([tf.tables_initializer()]))"
   ]
  },
  {
   "cell_type": "code",
   "execution_count": 30,
   "metadata": {},
   "outputs": [
    {
     "name": "stdout",
     "output_type": "stream",
     "text": [
      "INFO:tensorflow:SavedModel written to: /var/extra/users/jgeorge/tf2.0/USE_1.12/v3/saved_model.pb\n"
     ]
    },
    {
     "name": "stderr",
     "output_type": "stream",
     "text": [
      "INFO:tensorflow:SavedModel written to: /var/extra/users/jgeorge/tf2.0/USE_1.12/v3/saved_model.pb\n"
     ]
    },
    {
     "data": {
      "text/plain": [
       "b'/var/extra/users/jgeorge/tf2.0/USE_1.12/v3/saved_model.pb'"
      ]
     },
     "execution_count": 30,
     "metadata": {},
     "output_type": "execute_result"
    }
   ],
   "source": [
    "builder.save()"
   ]
  },
  {
   "cell_type": "code",
   "execution_count": null,
   "metadata": {},
   "outputs": [],
   "source": []
  }
 ],
 "metadata": {
  "kernelspec": {
   "display_name": "Python 3.7 - tensorflow 1.15 (tf1.15)",
   "language": "python",
   "name": "tf1.15"
  },
  "language_info": {
   "codemirror_mode": {
    "name": "ipython",
    "version": 3
   },
   "file_extension": ".py",
   "mimetype": "text/x-python",
   "name": "python",
   "nbconvert_exporter": "python",
   "pygments_lexer": "ipython3",
   "version": "3.7.5"
  }
 },
 "nbformat": 4,
 "nbformat_minor": 2
}
