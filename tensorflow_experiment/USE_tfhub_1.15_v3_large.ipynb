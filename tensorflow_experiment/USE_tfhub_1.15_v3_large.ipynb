{
 "cells": [
  {
   "cell_type": "code",
   "execution_count": 1,
   "metadata": {},
   "outputs": [],
   "source": [
    "import tensorflow as tf\n",
    "import tensorflow_hub as hub\n",
    "\n",
    "import os\n"
   ]
  },
  {
   "cell_type": "code",
   "execution_count": 25,
   "metadata": {},
   "outputs": [
    {
     "data": {
      "text/plain": [
       "'1.15.0'"
      ]
     },
     "execution_count": 25,
     "metadata": {},
     "output_type": "execute_result"
    }
   ],
   "source": [
    "tf.__version__"
   ]
  },
  {
   "cell_type": "code",
   "execution_count": 22,
   "metadata": {},
   "outputs": [
    {
     "data": {
      "text/plain": [
       "'0.7.0'"
      ]
     },
     "execution_count": 22,
     "metadata": {},
     "output_type": "execute_result"
    }
   ],
   "source": [
    "hub.__version__"
   ]
  },
  {
   "cell_type": "markdown",
   "metadata": {},
   "source": [
    "#### Defining cache directory for tf hub"
   ]
  },
  {
   "cell_type": "code",
   "execution_count": 3,
   "metadata": {},
   "outputs": [],
   "source": [
    "os.environ[\"TFHUB_CACHE_DIR\"] = '/space/engineering/tfhub_modules'\n",
    "\n",
    "OUTPUT_PATH=\"/var/extra/users/jgeorge/tf2.0/USE/large\"\n",
    "use_output_path= os.path.join(OUTPUT_PATH,'v3')"
   ]
  },
  {
   "cell_type": "code",
   "execution_count": 4,
   "metadata": {
    "scrolled": true
   },
   "outputs": [],
   "source": [
    "embed_module = hub.Module(\"https://tfhub.dev/google/universal-sentence-encoder-large/3\")\n",
    "# module = hub.load(\"https://tfhub.dev/google/universal-sentence-encoder-large/5\")\n"
   ]
  },
  {
   "cell_type": "code",
   "execution_count": 5,
   "metadata": {},
   "outputs": [
    {
     "name": "stdout",
     "output_type": "stream",
     "text": [
      "[PhysicalDevice(name='/physical_device:GPU:2', device_type='GPU')]\n"
     ]
    }
   ],
   "source": [
    "##restricting no of gpus\n",
    "gpus = tf.config.experimental.list_physical_devices('GPU')\n",
    "if len(gpus)>0:\n",
    "    device_to_use = gpus[2]\n",
    "    tf.config.experimental.set_memory_growth(device_to_use,True)\n",
    "    tf.config.experimental.set_visible_devices(device_to_use, 'GPU')\n",
    "    print(tf.config.experimental.get_visible_devices('GPU'))"
   ]
  },
  {
   "cell_type": "code",
   "execution_count": 6,
   "metadata": {},
   "outputs": [],
   "source": [
    "sess = tf.Session()"
   ]
  },
  {
   "cell_type": "code",
   "execution_count": 7,
   "metadata": {},
   "outputs": [
    {
     "name": "stdout",
     "output_type": "stream",
     "text": [
      "INFO:tensorflow:Saver not created because there are no variables in the graph to restore\n"
     ]
    },
    {
     "name": "stderr",
     "output_type": "stream",
     "text": [
      "INFO:tensorflow:Saver not created because there are no variables in the graph to restore\n"
     ]
    },
    {
     "name": "stdout",
     "output_type": "stream",
     "text": [
      "INFO:tensorflow:Saver not created because there are no variables in the graph to restore\n"
     ]
    },
    {
     "name": "stderr",
     "output_type": "stream",
     "text": [
      "INFO:tensorflow:Saver not created because there are no variables in the graph to restore\n"
     ]
    }
   ],
   "source": [
    "text1 = tf.placeholder(tf.string,shape=(None),name=\"input_text1\")\n",
    "text2 = tf.placeholder(tf.string,shape=(None),name=\"input_text2\")\n",
    "embedding1 = embed_module(text1)\n",
    "embedding2 = embed_module(text2)"
   ]
  },
  {
   "cell_type": "code",
   "execution_count": 8,
   "metadata": {},
   "outputs": [],
   "source": [
    "normalize_t1 = tf.nn.l2_normalize(embedding1,axis=-1) \n",
    "normalize_t2 = tf.nn.l2_normalize(embedding2,axis=-1) "
   ]
  },
  {
   "cell_type": "code",
   "execution_count": 9,
   "metadata": {},
   "outputs": [],
   "source": [
    "# https://stackoverflow.com/questions/43357732/how-to-calculate-the-cosine-similarity-between-two-tensors\n",
    "# certain values where slightly above 1 (1+1e-5), clipping it a 1\n",
    "similarity = tf.clip_by_value(\n",
    "    tf.reduce_sum(tf.multiply(normalize_t1,normalize_t2),axis=-1),\n",
    "    clip_value_min=0, clip_value_max=1,name='cosine_similarity')\n"
   ]
  },
  {
   "cell_type": "code",
   "execution_count": 10,
   "metadata": {},
   "outputs": [],
   "source": [
    "init_op = tf.group([tf.global_variables_initializer(), \n",
    "tf.tables_initializer()])"
   ]
  },
  {
   "cell_type": "code",
   "execution_count": 11,
   "metadata": {},
   "outputs": [],
   "source": [
    "sess.run(init_op)"
   ]
  },
  {
   "cell_type": "markdown",
   "metadata": {},
   "source": [
    "### various functions this model would support"
   ]
  },
  {
   "cell_type": "markdown",
   "metadata": {},
   "source": [
    "Running with equal no of inputs for both arguments"
   ]
  },
  {
   "cell_type": "code",
   "execution_count": 12,
   "metadata": {},
   "outputs": [
    {
     "data": {
      "text/plain": [
       "array([1.       , 0.7762475], dtype=float32)"
      ]
     },
     "execution_count": 12,
     "metadata": {},
     "output_type": "execute_result"
    }
   ],
   "source": [
    "sess.run(similarity,feed_dict={text1:[\"talk to agent\",\"talk to representative\"],text2:[\"talk to agent\",\"talk to rep\"]})"
   ]
  },
  {
   "cell_type": "markdown",
   "metadata": {},
   "source": [
    "Running with single input as 1st argument & multiple inputs for 2nd argument"
   ]
  },
  {
   "cell_type": "code",
   "execution_count": 13,
   "metadata": {},
   "outputs": [
    {
     "data": {
      "text/plain": [
       "array([1.       , 0.6674439], dtype=float32)"
      ]
     },
     "execution_count": 13,
     "metadata": {},
     "output_type": "execute_result"
    }
   ],
   "source": [
    "sess.run(similarity,feed_dict={text1:[\"talk to agent\"],text2:[\"talk to agent\",\"talk to rep\"]})"
   ]
  },
  {
   "cell_type": "markdown",
   "metadata": {},
   "source": [
    "Fetching the embedding"
   ]
  },
  {
   "cell_type": "code",
   "execution_count": 14,
   "metadata": {
    "scrolled": true
   },
   "outputs": [
    {
     "data": {
      "text/plain": [
       "array([[-3.80791053e-02,  2.50815903e-03, -9.76895727e-03,\n",
       "        -6.32836437e-03, -6.88123703e-02,  5.86753264e-02,\n",
       "        -5.80106676e-02,  1.19542992e-02, -4.40222919e-02,\n",
       "        -6.84329262e-03,  2.51274072e-02, -2.81585604e-02,\n",
       "         1.76772084e-02, -6.33776486e-02,  5.12930416e-02,\n",
       "        -1.04572112e-02,  5.23131853e-03,  7.27704391e-02,\n",
       "        -7.18747824e-02, -4.40347604e-02,  6.81014219e-03,\n",
       "         2.03395505e-02,  1.81480851e-02,  4.99802548e-03,\n",
       "         9.23127905e-02, -8.59296322e-03, -6.34736046e-02,\n",
       "        -2.11174972e-02, -3.86463925e-02, -2.34054048e-02,\n",
       "        -5.40573001e-02, -2.32361332e-02, -2.56250240e-02,\n",
       "         5.02044484e-02, -2.73906421e-02, -5.36784902e-02,\n",
       "         5.40216565e-02,  8.37131068e-02, -5.94174303e-02,\n",
       "         3.37379649e-02, -3.53883021e-02, -4.74682339e-02,\n",
       "        -2.07184926e-02, -4.76788469e-02,  6.27262741e-02,\n",
       "         1.15935411e-02,  4.12412174e-02,  6.94981869e-03,\n",
       "         4.64623347e-02,  6.58587366e-02,  6.01422563e-02,\n",
       "         5.89629309e-03, -3.99716850e-03,  5.32404967e-02,\n",
       "        -6.54397085e-02,  1.88131519e-02, -5.88318845e-03,\n",
       "         5.96061125e-02,  1.03739637e-03, -2.68381964e-02,\n",
       "        -9.05444100e-03,  3.29144709e-02, -2.48033274e-02,\n",
       "         2.95901727e-02,  2.21819407e-03,  4.24399264e-02,\n",
       "        -1.62013751e-02, -3.14779609e-04,  3.01883817e-02,\n",
       "         3.23987305e-02,  2.89744660e-02, -3.48664969e-02,\n",
       "         4.61576395e-02, -3.73901753e-03, -2.92302184e-02,\n",
       "         2.47876495e-02, -1.20791998e-02,  5.18908799e-02,\n",
       "        -1.31738442e-03,  4.71146889e-02, -4.82550375e-02,\n",
       "        -1.09293923e-01, -6.13139980e-02, -8.29194486e-02,\n",
       "        -6.51556673e-03,  3.24346609e-02,  4.34754528e-02,\n",
       "         7.88029283e-02,  8.32623914e-02,  1.53281344e-02,\n",
       "         1.37737039e-02,  5.29992441e-03, -9.12773702e-03,\n",
       "         2.46612281e-02,  7.79028833e-02,  5.66264093e-02,\n",
       "        -7.39485249e-02, -4.87378687e-02, -2.29835454e-02,\n",
       "        -5.85322529e-02, -1.70074534e-02,  4.82298881e-02,\n",
       "         4.79811989e-03,  2.03352589e-02,  2.80126408e-02,\n",
       "        -3.37829739e-02,  7.83325434e-02,  2.51875501e-02,\n",
       "         8.40385184e-02, -3.35189216e-02,  7.04999343e-02,\n",
       "         3.17990556e-02,  2.16326546e-02,  4.07871902e-02,\n",
       "        -8.47860146e-03,  8.83339867e-02,  3.54878120e-02,\n",
       "        -1.56675503e-02,  3.44239362e-02,  8.69634270e-04,\n",
       "         2.79273205e-02, -2.22899038e-02,  4.29501757e-02,\n",
       "         3.98834907e-02,  3.41296545e-03,  4.43808511e-02,\n",
       "        -5.29966317e-02, -6.96378574e-02,  6.97903335e-02,\n",
       "         5.26671782e-02,  1.00968508e-02,  9.84346122e-02,\n",
       "        -8.45450759e-02, -3.14937234e-02, -1.65779199e-02,\n",
       "        -2.76046619e-02, -4.06809188e-02,  6.26989901e-02,\n",
       "        -2.42099818e-02,  1.30524179e-02, -3.93263437e-02,\n",
       "         2.97867600e-02,  1.16265453e-02, -3.47946994e-02,\n",
       "         5.67268506e-02,  6.75120801e-02,  8.11030529e-03,\n",
       "         3.30366939e-02, -8.11854843e-04, -1.19940937e-03,\n",
       "        -8.61353502e-02,  3.10066920e-02, -1.21508241e-02,\n",
       "        -3.60195339e-02, -1.11579094e-02, -2.71248836e-02,\n",
       "        -6.32911921e-02,  4.48847152e-02, -7.15057773e-04,\n",
       "        -5.32308370e-02,  2.29191147e-02,  2.79723853e-02,\n",
       "        -2.71376725e-02, -2.74982546e-02, -3.93806808e-02,\n",
       "        -4.26112078e-02, -5.84123731e-02,  3.24780052e-03,\n",
       "        -2.31577531e-02, -5.59357740e-02, -1.55110110e-03,\n",
       "        -4.83507477e-03, -2.56104786e-02, -2.21054405e-02,\n",
       "         6.09245040e-02, -4.39758338e-02, -2.09994912e-02,\n",
       "         6.67498559e-02,  5.08639663e-02,  4.31500152e-02,\n",
       "        -1.70720313e-02,  3.42138554e-03,  7.09030703e-02,\n",
       "        -2.06334759e-02, -4.55885716e-02, -4.77500074e-02,\n",
       "        -8.49431530e-02,  2.40349527e-02,  9.83737037e-03,\n",
       "        -3.61171365e-02, -7.46373385e-02, -3.07150669e-02,\n",
       "        -8.46722573e-02,  2.77926284e-03,  2.32584998e-02,\n",
       "         3.32023092e-02,  3.38804610e-02,  4.60660718e-02,\n",
       "        -1.02417059e-02,  6.99719116e-02, -2.24300101e-03,\n",
       "         4.78300750e-02, -7.81999622e-03, -2.73431279e-02,\n",
       "         2.76804864e-02, -6.11860156e-02,  2.57314350e-02,\n",
       "        -5.47475852e-02,  2.83383857e-02, -1.00961035e-04,\n",
       "         7.61972591e-02,  5.68405865e-03,  2.36300640e-02,\n",
       "         4.53454927e-02, -3.25372815e-02,  7.67837930e-03,\n",
       "         1.30271148e-02, -1.16475695e-03,  2.38885004e-02,\n",
       "         4.77750264e-02, -4.98850713e-04, -1.30200893e-01,\n",
       "         1.75457466e-02,  6.65075034e-02,  7.38009531e-03,\n",
       "        -6.66434616e-02, -3.29432636e-02, -4.22152206e-02,\n",
       "         1.39877805e-02,  4.24709767e-02,  3.54751348e-02,\n",
       "         3.35716866e-02, -1.87871717e-02, -3.76946107e-02,\n",
       "         4.10364047e-02,  3.64366770e-02,  5.62869608e-02,\n",
       "         1.25838043e-02, -9.87448823e-03, -4.97838408e-02,\n",
       "         2.23118365e-02,  1.73071530e-02, -5.39986379e-02,\n",
       "         2.64843237e-02, -4.62305956e-02, -2.73230355e-02,\n",
       "         7.58556649e-02,  1.88418943e-02,  4.92485687e-02,\n",
       "        -8.48990108e-04,  6.64428398e-02,  5.89851812e-02,\n",
       "        -1.64473951e-02,  7.10914582e-02,  2.57910136e-02,\n",
       "        -1.07411835e-02,  3.50803547e-02, -1.42962890e-04,\n",
       "         2.32554041e-02,  1.58606339e-02,  1.82524789e-02,\n",
       "        -9.41187888e-02, -2.37266440e-02,  5.86613566e-02,\n",
       "         4.28738669e-02,  2.41158139e-02, -2.06028260e-02,\n",
       "        -7.10069109e-03,  2.19214577e-02,  3.89055945e-02,\n",
       "        -1.60728619e-02,  7.02120410e-03, -8.88440609e-02,\n",
       "        -3.98954675e-02,  6.71970844e-02,  5.42058274e-02,\n",
       "        -2.44778413e-02,  1.92056000e-02,  6.96625968e-04,\n",
       "         5.39830960e-02, -2.10010540e-02,  1.96216851e-02,\n",
       "        -1.00400448e-01, -2.24216450e-02,  3.31562012e-03,\n",
       "         1.60029046e-02, -1.30250072e-02,  4.99084704e-02,\n",
       "         3.20052095e-02, -2.98933424e-02,  2.85229739e-03,\n",
       "         6.89914525e-02,  1.02683298e-01,  6.37553725e-03,\n",
       "        -5.75524494e-02, -5.14331460e-02,  4.06996273e-02,\n",
       "         9.27110314e-02, -8.90451223e-02,  7.06159836e-03,\n",
       "        -2.12961342e-02, -5.60810678e-02,  4.14414071e-02,\n",
       "         1.10350922e-02,  8.81979764e-02, -4.39436622e-02,\n",
       "        -1.28140533e-02, -3.35206799e-02, -1.98378805e-02,\n",
       "         4.44028117e-02,  4.30054516e-02, -1.91437299e-04,\n",
       "        -4.66001704e-02,  5.75650930e-02, -4.29364070e-02,\n",
       "        -4.25959639e-02, -1.43423704e-02,  2.31268387e-02,\n",
       "         1.87841188e-02, -9.65923592e-02,  2.65005939e-02,\n",
       "        -1.67755503e-03,  3.28141116e-02, -2.29437463e-03,\n",
       "         2.89549609e-03,  7.22821429e-02,  1.14180975e-01,\n",
       "        -4.09020297e-02, -6.25359938e-02, -1.46963066e-04,\n",
       "        -2.00496353e-02,  6.57827482e-02, -2.61296071e-02,\n",
       "         6.81918189e-02, -7.66198784e-02, -1.52000347e-02,\n",
       "        -3.61071974e-02, -6.08304664e-02, -6.37418590e-03,\n",
       "         2.24713404e-02,  1.83708072e-02,  8.21103603e-02,\n",
       "         5.61582893e-02,  3.46350707e-02,  4.42401171e-02,\n",
       "         3.65041569e-02,  4.33803536e-02, -1.07672019e-02,\n",
       "         5.94099984e-03, -2.29158346e-02, -2.55166329e-02,\n",
       "         1.15321502e-02, -3.54419313e-02,  1.19751152e-02,\n",
       "         1.84259880e-02, -2.56552361e-02, -3.21548693e-02,\n",
       "         4.47292477e-02, -3.22013046e-03,  4.06546658e-03,\n",
       "        -1.27151655e-02,  2.61655301e-02,  1.34065095e-02,\n",
       "        -1.54013727e-02,  4.37141918e-02, -4.95406473e-03,\n",
       "         6.34506717e-02, -8.58598799e-02,  1.84386026e-03,\n",
       "        -2.04894207e-02, -3.92524600e-02, -8.69496092e-02,\n",
       "         4.10023257e-02, -2.61934921e-02,  1.82071533e-02,\n",
       "        -3.99924144e-02,  4.25206497e-02, -2.25280994e-03,\n",
       "        -1.88336819e-02, -3.04611661e-02,  2.65271813e-02,\n",
       "        -6.93758950e-02, -4.47125845e-02,  1.85251106e-02,\n",
       "        -3.28305885e-02,  2.92475298e-02,  3.06373052e-02,\n",
       "        -6.66157901e-02, -4.76574749e-02, -5.14859036e-02,\n",
       "        -2.54754387e-02, -5.46736978e-02, -5.38965389e-02,\n",
       "         5.26693724e-02, -6.00774512e-02, -1.92329232e-02,\n",
       "        -2.61998605e-02, -8.81559700e-02,  5.42811528e-02,\n",
       "         7.12143332e-02, -7.04709813e-02,  4.43373807e-02,\n",
       "         1.48359807e-02,  4.71764356e-02, -4.53933701e-02,\n",
       "         5.00617921e-02,  2.52208188e-02, -1.20292902e-02,\n",
       "         4.25042361e-02, -1.31791215e-02,  3.11076292e-03,\n",
       "         3.63171063e-02,  3.66832167e-02, -4.45533544e-02,\n",
       "        -5.48616201e-02,  1.75040718e-02,  2.59050839e-02,\n",
       "        -2.20102575e-02,  6.08910844e-02,  2.36434154e-02,\n",
       "        -2.63094660e-02,  1.18064582e-02, -3.70510481e-02,\n",
       "        -1.39738591e-02,  1.02075323e-01, -3.61314118e-02,\n",
       "         5.70036992e-02,  3.67741138e-02,  1.04506940e-01,\n",
       "        -4.42373008e-02,  1.18111670e-02,  6.80887699e-02,\n",
       "        -4.33108024e-02,  5.85543104e-02,  2.25417241e-02,\n",
       "        -6.16057776e-02,  7.46156871e-02, -9.30203125e-02,\n",
       "        -3.53751928e-02, -3.01590655e-04,  8.33962783e-02,\n",
       "        -7.56353214e-02, -4.11858084e-03,  4.75538820e-02,\n",
       "         5.54024912e-02, -4.50130217e-02, -1.90897274e-03,\n",
       "         1.81455761e-02, -2.48948876e-02, -5.40214069e-02,\n",
       "        -4.92497906e-02,  7.11405464e-03, -5.09522371e-02,\n",
       "         2.66549028e-02,  1.23007745e-02,  3.83267440e-02,\n",
       "        -2.53826994e-02,  1.14068063e-02,  3.81300859e-02,\n",
       "        -6.53051957e-02,  2.57352553e-02,  1.79227609e-02,\n",
       "        -3.08910720e-02,  4.26357090e-02,  6.23799562e-02,\n",
       "         4.35549878e-02,  6.30626902e-02,  4.30709086e-02,\n",
       "         3.55756283e-02,  4.43863831e-02, -5.69955818e-02,\n",
       "         5.52167706e-02,  5.46940081e-02,  6.11635223e-02,\n",
       "        -2.94158738e-02, -5.28260209e-02,  3.68960425e-02,\n",
       "         3.99027672e-03,  3.25048976e-02,  9.44171567e-03,\n",
       "         8.53511598e-03, -3.97574604e-02, -5.17028235e-02,\n",
       "         4.33526635e-02, -6.76613376e-02,  6.32978380e-02,\n",
       "         1.64771862e-02, -2.84119565e-02,  6.63557127e-02,\n",
       "         4.25399430e-02, -7.88545012e-02,  3.91312828e-03,\n",
       "         3.47127877e-02, -5.27346283e-02, -3.33803557e-02,\n",
       "         5.78842871e-03, -3.30931470e-02,  7.13358745e-02,\n",
       "        -8.44610631e-02, -7.25971460e-02,  1.78285502e-02,\n",
       "        -1.81733947e-02, -1.85094476e-02, -5.17315008e-02,\n",
       "        -1.40986713e-02,  4.60101068e-02,  3.24330330e-02,\n",
       "        -4.12468538e-02,  1.86147867e-03,  2.15685405e-02,\n",
       "        -3.56786326e-02,  6.30967133e-03]], dtype=float32)"
      ]
     },
     "execution_count": 14,
     "metadata": {},
     "output_type": "execute_result"
    }
   ],
   "source": [
    "sess.run(embedding1,feed_dict={text1:[\"talk to an agent\"]})"
   ]
  },
  {
   "cell_type": "raw",
   "metadata": {},
   "source": [
    "#if you only needed to save 1 signature you can use simple save method\n",
    "tf.saved_model.simple_save(sess,use_output_path1,inputs={'input_text':text},outputs={'embedding':embedding1},\n",
    "                           legacy_init_op=tf.tables_initializer())"
   ]
  },
  {
   "cell_type": "raw",
   "metadata": {},
   "source": [
    "# depending upon version of USE it could even return a dictionary\n",
    "tf.saved_model.simple_save(sess,use_output_path1,inputs={'input_text':text},outputs={'embedding':embedding['outputs']},\n",
    "                           legacy_init_op=tf.tables_initializer())"
   ]
  },
  {
   "cell_type": "code",
   "execution_count": 15,
   "metadata": {},
   "outputs": [],
   "source": [
    "builder = tf.saved_model.builder.SavedModelBuilder(use_output_path)"
   ]
  },
  {
   "cell_type": "markdown",
   "metadata": {},
   "source": [
    "### Signature defs\n",
    "keeping 2 signatures-   \n",
    "1) for returning just the embedding   \n",
    "2) for cosine similarity"
   ]
  },
  {
   "cell_type": "code",
   "execution_count": 16,
   "metadata": {},
   "outputs": [
    {
     "name": "stdout",
     "output_type": "stream",
     "text": [
      "WARNING:tensorflow:From /opt/custom/python/anaconda3/envs/tf1.15/lib/python3.7/site-packages/tensorflow_core/python/saved_model/signature_def_utils_impl.py:201: build_tensor_info (from tensorflow.python.saved_model.utils_impl) is deprecated and will be removed in a future version.\n",
      "Instructions for updating:\n",
      "This function will only be available through the v1 compatibility library as tf.compat.v1.saved_model.utils.build_tensor_info or tf.compat.v1.saved_model.build_tensor_info.\n"
     ]
    },
    {
     "name": "stderr",
     "output_type": "stream",
     "text": [
      "WARNING:tensorflow:From /opt/custom/python/anaconda3/envs/tf1.15/lib/python3.7/site-packages/tensorflow_core/python/saved_model/signature_def_utils_impl.py:201: build_tensor_info (from tensorflow.python.saved_model.utils_impl) is deprecated and will be removed in a future version.\n",
      "Instructions for updating:\n",
      "This function will only be available through the v1 compatibility library as tf.compat.v1.saved_model.utils.build_tensor_info or tf.compat.v1.saved_model.build_tensor_info.\n"
     ]
    }
   ],
   "source": [
    "\n",
    "embedding_signature = tf.saved_model.predict_signature_def(inputs={'input_text':text1},\n",
    "                                                           outputs={'embedding':embedding1})\n",
    "similarity_signature = tf.saved_model.predict_signature_def(inputs={'input_text1':text1,'input_text2':text2},\n",
    "                                                            outputs={'similarity':similarity})"
   ]
  },
  {
   "cell_type": "code",
   "execution_count": 17,
   "metadata": {
    "scrolled": true
   },
   "outputs": [
    {
     "data": {
      "text/plain": [
       "inputs {\n",
       "  key: \"input_text\"\n",
       "  value {\n",
       "    name: \"input_text1:0\"\n",
       "    dtype: DT_STRING\n",
       "    tensor_shape {\n",
       "      unknown_rank: true\n",
       "    }\n",
       "  }\n",
       "}\n",
       "outputs {\n",
       "  key: \"embedding\"\n",
       "  value {\n",
       "    name: \"module_apply_default/Encoder_en/hidden_layers/l2_normalize:0\"\n",
       "    dtype: DT_FLOAT\n",
       "    tensor_shape {\n",
       "      dim {\n",
       "        size: -1\n",
       "      }\n",
       "      dim {\n",
       "        size: 512\n",
       "      }\n",
       "    }\n",
       "  }\n",
       "}\n",
       "method_name: \"tensorflow/serving/predict\""
      ]
     },
     "execution_count": 17,
     "metadata": {},
     "output_type": "execute_result"
    }
   ],
   "source": [
    "embedding_signature"
   ]
  },
  {
   "cell_type": "code",
   "execution_count": 18,
   "metadata": {
    "scrolled": true
   },
   "outputs": [
    {
     "data": {
      "text/plain": [
       "inputs {\n",
       "  key: \"input_text1\"\n",
       "  value {\n",
       "    name: \"input_text1:0\"\n",
       "    dtype: DT_STRING\n",
       "    tensor_shape {\n",
       "      unknown_rank: true\n",
       "    }\n",
       "  }\n",
       "}\n",
       "inputs {\n",
       "  key: \"input_text2\"\n",
       "  value {\n",
       "    name: \"input_text2:0\"\n",
       "    dtype: DT_STRING\n",
       "    tensor_shape {\n",
       "      unknown_rank: true\n",
       "    }\n",
       "  }\n",
       "}\n",
       "outputs {\n",
       "  key: \"similarity\"\n",
       "  value {\n",
       "    name: \"cosine_similarity:0\"\n",
       "    dtype: DT_FLOAT\n",
       "    tensor_shape {\n",
       "      dim {\n",
       "        size: -1\n",
       "      }\n",
       "    }\n",
       "  }\n",
       "}\n",
       "method_name: \"tensorflow/serving/predict\""
      ]
     },
     "execution_count": 18,
     "metadata": {},
     "output_type": "execute_result"
    }
   ],
   "source": [
    "similarity_signature"
   ]
  },
  {
   "cell_type": "code",
   "execution_count": 19,
   "metadata": {},
   "outputs": [],
   "source": [
    "EMBEDDING_SIG_DEF_KEY='embedding'\n",
    "SIMILARITY_SIG_DEF_KEY='similarity'"
   ]
  },
  {
   "cell_type": "markdown",
   "metadata": {},
   "source": [
    "Keeping serving default as embedding signature itself"
   ]
  },
  {
   "cell_type": "code",
   "execution_count": 20,
   "metadata": {},
   "outputs": [
    {
     "name": "stdout",
     "output_type": "stream",
     "text": [
      "INFO:tensorflow:No assets to save.\n"
     ]
    },
    {
     "name": "stderr",
     "output_type": "stream",
     "text": [
      "INFO:tensorflow:No assets to save.\n"
     ]
    },
    {
     "name": "stdout",
     "output_type": "stream",
     "text": [
      "INFO:tensorflow:No assets to write.\n"
     ]
    },
    {
     "name": "stderr",
     "output_type": "stream",
     "text": [
      "INFO:tensorflow:No assets to write.\n"
     ]
    },
    {
     "name": "stdout",
     "output_type": "stream",
     "text": [
      "INFO:tensorflow:SavedModel written to: /var/extra/users/jgeorge/tf2.0/USE/large/v3/saved_model.pb\n"
     ]
    },
    {
     "name": "stderr",
     "output_type": "stream",
     "text": [
      "INFO:tensorflow:SavedModel written to: /var/extra/users/jgeorge/tf2.0/USE/large/v3/saved_model.pb\n"
     ]
    },
    {
     "data": {
      "text/plain": [
       "b'/var/extra/users/jgeorge/tf2.0/USE/large/v3/saved_model.pb'"
      ]
     },
     "execution_count": 20,
     "metadata": {},
     "output_type": "execute_result"
    }
   ],
   "source": [
    "builder.add_meta_graph_and_variables(sess,tags=[tf.saved_model.tag_constants.SERVING],\n",
    "                                     signature_def_map={\n",
    "                                         tf.saved_model.DEFAULT_SERVING_SIGNATURE_DEF_KEY:embedding_signature,\n",
    "                                                       EMBEDDING_SIG_DEF_KEY:embedding_signature,\n",
    "                                                       SIMILARITY_SIG_DEF_KEY:similarity_signature},\n",
    "                                     main_op=tf.group([tf.tables_initializer()]))\n",
    "builder.save()"
   ]
  },
  {
   "cell_type": "code",
   "execution_count": 21,
   "metadata": {
    "scrolled": true
   },
   "outputs": [],
   "source": [
    "# instead of passing the variable to create the signature definition we can use this for passing tensorinfo, no longer required \n",
    "# tf.saved_model.build_tensor_info(embedding1)"
   ]
  },
  {
   "cell_type": "code",
   "execution_count": null,
   "metadata": {},
   "outputs": [],
   "source": []
  }
 ],
 "metadata": {
  "kernelspec": {
   "display_name": "Python 3.7 - tensorflow 1.15 (tf1.15)",
   "language": "python",
   "name": "tf1.15"
  },
  "language_info": {
   "codemirror_mode": {
    "name": "ipython",
    "version": 3
   },
   "file_extension": ".py",
   "mimetype": "text/x-python",
   "name": "python",
   "nbconvert_exporter": "python",
   "pygments_lexer": "ipython3",
   "version": "3.7.5"
  }
 },
 "nbformat": 4,
 "nbformat_minor": 4
}
